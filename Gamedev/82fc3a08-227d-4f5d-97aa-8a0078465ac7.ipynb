{
 "cells": [
  {
   "cell_type": "markdown",
   "metadata": {},
   "source": [
    "# Анализ рынка видеоигр и выявление критериев успешности продукта\n",
    "\n",
    "Из открытых источников доступны исторические данные о продажах игр, оценки пользователей и экспертов, жанры и платформы (например, Xbox или PlayStation). Вам нужно выявить определяющие успешность игры закономерности. Это позволит сделать ставку на потенциально популярный продукт и спланировать рекламные кампании.\n",
    "\n",
    "Перед вами данные до 2016 года. Представим, что сейчас декабрь 2016 г., и вы планируете кампанию на 2017-й. Нужно отработать принцип работы с данными. Неважно, прогнозируете ли вы продажи на 2017 год по данным 2016-го или же 2027-й — по данным 2026 года.\n",
    "\n",
    "В наборе данных попадается аббревиатура ESRB (Entertainment Software Rating Board) — это ассоциация, определяющая возрастной рейтинг компьютерных игр. ESRB оценивает игровой контент и присваивает ему подходящую возрастную категорию, например, «Для взрослых», «Для детей младшего возраста» или «Для подростков»."
   ]
  },
  {
   "cell_type": "code",
   "execution_count": 1,
   "metadata": {},
   "outputs": [],
   "source": [
    "import pandas as pd\n",
    "import numpy as np\n",
    "import matplotlib.pyplot as plt\n",
    "from scipy import stats as st"
   ]
  },
  {
   "cell_type": "code",
   "execution_count": 2,
   "metadata": {},
   "outputs": [],
   "source": [
    "data = pd.read_csv('***')"
   ]
  },
  {
   "cell_type": "markdown",
   "metadata": {},
   "source": [
    "### Общая информация"
   ]
  },
  {
   "cell_type": "code",
   "execution_count": 3,
   "metadata": {},
   "outputs": [
    {
     "data": {
      "text/html": [
       "<div>\n",
       "<style scoped>\n",
       "    .dataframe tbody tr th:only-of-type {\n",
       "        vertical-align: middle;\n",
       "    }\n",
       "\n",
       "    .dataframe tbody tr th {\n",
       "        vertical-align: top;\n",
       "    }\n",
       "\n",
       "    .dataframe thead th {\n",
       "        text-align: right;\n",
       "    }\n",
       "</style>\n",
       "<table border=\"1\" class=\"dataframe\">\n",
       "  <thead>\n",
       "    <tr style=\"text-align: right;\">\n",
       "      <th></th>\n",
       "      <th>Name</th>\n",
       "      <th>Platform</th>\n",
       "      <th>Year_of_Release</th>\n",
       "      <th>Genre</th>\n",
       "      <th>NA_sales</th>\n",
       "      <th>EU_sales</th>\n",
       "      <th>JP_sales</th>\n",
       "      <th>Other_sales</th>\n",
       "      <th>Critic_Score</th>\n",
       "      <th>User_Score</th>\n",
       "      <th>Rating</th>\n",
       "    </tr>\n",
       "  </thead>\n",
       "  <tbody>\n",
       "    <tr>\n",
       "      <th>0</th>\n",
       "      <td>Wii Sports</td>\n",
       "      <td>Wii</td>\n",
       "      <td>2006.0</td>\n",
       "      <td>Sports</td>\n",
       "      <td>41.36</td>\n",
       "      <td>28.96</td>\n",
       "      <td>3.77</td>\n",
       "      <td>8.45</td>\n",
       "      <td>76.0</td>\n",
       "      <td>8</td>\n",
       "      <td>E</td>\n",
       "    </tr>\n",
       "    <tr>\n",
       "      <th>1</th>\n",
       "      <td>Super Mario Bros.</td>\n",
       "      <td>NES</td>\n",
       "      <td>1985.0</td>\n",
       "      <td>Platform</td>\n",
       "      <td>29.08</td>\n",
       "      <td>3.58</td>\n",
       "      <td>6.81</td>\n",
       "      <td>0.77</td>\n",
       "      <td>NaN</td>\n",
       "      <td>NaN</td>\n",
       "      <td>NaN</td>\n",
       "    </tr>\n",
       "    <tr>\n",
       "      <th>2</th>\n",
       "      <td>Mario Kart Wii</td>\n",
       "      <td>Wii</td>\n",
       "      <td>2008.0</td>\n",
       "      <td>Racing</td>\n",
       "      <td>15.68</td>\n",
       "      <td>12.76</td>\n",
       "      <td>3.79</td>\n",
       "      <td>3.29</td>\n",
       "      <td>82.0</td>\n",
       "      <td>8.3</td>\n",
       "      <td>E</td>\n",
       "    </tr>\n",
       "    <tr>\n",
       "      <th>3</th>\n",
       "      <td>Wii Sports Resort</td>\n",
       "      <td>Wii</td>\n",
       "      <td>2009.0</td>\n",
       "      <td>Sports</td>\n",
       "      <td>15.61</td>\n",
       "      <td>10.93</td>\n",
       "      <td>3.28</td>\n",
       "      <td>2.95</td>\n",
       "      <td>80.0</td>\n",
       "      <td>8</td>\n",
       "      <td>E</td>\n",
       "    </tr>\n",
       "    <tr>\n",
       "      <th>4</th>\n",
       "      <td>Pokemon Red/Pokemon Blue</td>\n",
       "      <td>GB</td>\n",
       "      <td>1996.0</td>\n",
       "      <td>Role-Playing</td>\n",
       "      <td>11.27</td>\n",
       "      <td>8.89</td>\n",
       "      <td>10.22</td>\n",
       "      <td>1.00</td>\n",
       "      <td>NaN</td>\n",
       "      <td>NaN</td>\n",
       "      <td>NaN</td>\n",
       "    </tr>\n",
       "    <tr>\n",
       "      <th>5</th>\n",
       "      <td>Tetris</td>\n",
       "      <td>GB</td>\n",
       "      <td>1989.0</td>\n",
       "      <td>Puzzle</td>\n",
       "      <td>23.20</td>\n",
       "      <td>2.26</td>\n",
       "      <td>4.22</td>\n",
       "      <td>0.58</td>\n",
       "      <td>NaN</td>\n",
       "      <td>NaN</td>\n",
       "      <td>NaN</td>\n",
       "    </tr>\n",
       "    <tr>\n",
       "      <th>6</th>\n",
       "      <td>New Super Mario Bros.</td>\n",
       "      <td>DS</td>\n",
       "      <td>2006.0</td>\n",
       "      <td>Platform</td>\n",
       "      <td>11.28</td>\n",
       "      <td>9.14</td>\n",
       "      <td>6.50</td>\n",
       "      <td>2.88</td>\n",
       "      <td>89.0</td>\n",
       "      <td>8.5</td>\n",
       "      <td>E</td>\n",
       "    </tr>\n",
       "    <tr>\n",
       "      <th>7</th>\n",
       "      <td>Wii Play</td>\n",
       "      <td>Wii</td>\n",
       "      <td>2006.0</td>\n",
       "      <td>Misc</td>\n",
       "      <td>13.96</td>\n",
       "      <td>9.18</td>\n",
       "      <td>2.93</td>\n",
       "      <td>2.84</td>\n",
       "      <td>58.0</td>\n",
       "      <td>6.6</td>\n",
       "      <td>E</td>\n",
       "    </tr>\n",
       "    <tr>\n",
       "      <th>8</th>\n",
       "      <td>New Super Mario Bros. Wii</td>\n",
       "      <td>Wii</td>\n",
       "      <td>2009.0</td>\n",
       "      <td>Platform</td>\n",
       "      <td>14.44</td>\n",
       "      <td>6.94</td>\n",
       "      <td>4.70</td>\n",
       "      <td>2.24</td>\n",
       "      <td>87.0</td>\n",
       "      <td>8.4</td>\n",
       "      <td>E</td>\n",
       "    </tr>\n",
       "    <tr>\n",
       "      <th>9</th>\n",
       "      <td>Duck Hunt</td>\n",
       "      <td>NES</td>\n",
       "      <td>1984.0</td>\n",
       "      <td>Shooter</td>\n",
       "      <td>26.93</td>\n",
       "      <td>0.63</td>\n",
       "      <td>0.28</td>\n",
       "      <td>0.47</td>\n",
       "      <td>NaN</td>\n",
       "      <td>NaN</td>\n",
       "      <td>NaN</td>\n",
       "    </tr>\n",
       "  </tbody>\n",
       "</table>\n",
       "</div>"
      ],
      "text/plain": [
       "                        Name Platform  Year_of_Release         Genre  \\\n",
       "0                 Wii Sports      Wii           2006.0        Sports   \n",
       "1          Super Mario Bros.      NES           1985.0      Platform   \n",
       "2             Mario Kart Wii      Wii           2008.0        Racing   \n",
       "3          Wii Sports Resort      Wii           2009.0        Sports   \n",
       "4   Pokemon Red/Pokemon Blue       GB           1996.0  Role-Playing   \n",
       "5                     Tetris       GB           1989.0        Puzzle   \n",
       "6      New Super Mario Bros.       DS           2006.0      Platform   \n",
       "7                   Wii Play      Wii           2006.0          Misc   \n",
       "8  New Super Mario Bros. Wii      Wii           2009.0      Platform   \n",
       "9                  Duck Hunt      NES           1984.0       Shooter   \n",
       "\n",
       "   NA_sales  EU_sales  JP_sales  Other_sales  Critic_Score User_Score Rating  \n",
       "0     41.36     28.96      3.77         8.45          76.0          8      E  \n",
       "1     29.08      3.58      6.81         0.77           NaN        NaN    NaN  \n",
       "2     15.68     12.76      3.79         3.29          82.0        8.3      E  \n",
       "3     15.61     10.93      3.28         2.95          80.0          8      E  \n",
       "4     11.27      8.89     10.22         1.00           NaN        NaN    NaN  \n",
       "5     23.20      2.26      4.22         0.58           NaN        NaN    NaN  \n",
       "6     11.28      9.14      6.50         2.88          89.0        8.5      E  \n",
       "7     13.96      9.18      2.93         2.84          58.0        6.6      E  \n",
       "8     14.44      6.94      4.70         2.24          87.0        8.4      E  \n",
       "9     26.93      0.63      0.28         0.47           NaN        NaN    NaN  "
      ]
     },
     "execution_count": 3,
     "metadata": {},
     "output_type": "execute_result"
    }
   ],
   "source": [
    "data.head(10)"
   ]
  },
  {
   "cell_type": "code",
   "execution_count": 4,
   "metadata": {},
   "outputs": [
    {
     "name": "stdout",
     "output_type": "stream",
     "text": [
      "<class 'pandas.core.frame.DataFrame'>\n",
      "RangeIndex: 16715 entries, 0 to 16714\n",
      "Data columns (total 11 columns):\n",
      " #   Column           Non-Null Count  Dtype  \n",
      "---  ------           --------------  -----  \n",
      " 0   Name             16713 non-null  object \n",
      " 1   Platform         16715 non-null  object \n",
      " 2   Year_of_Release  16446 non-null  float64\n",
      " 3   Genre            16713 non-null  object \n",
      " 4   NA_sales         16715 non-null  float64\n",
      " 5   EU_sales         16715 non-null  float64\n",
      " 6   JP_sales         16715 non-null  float64\n",
      " 7   Other_sales      16715 non-null  float64\n",
      " 8   Critic_Score     8137 non-null   float64\n",
      " 9   User_Score       10014 non-null  object \n",
      " 10  Rating           9949 non-null   object \n",
      "dtypes: float64(6), object(5)\n",
      "memory usage: 1.4+ MB\n"
     ]
    }
   ],
   "source": [
    "data.info()"
   ]
  },
  {
   "cell_type": "markdown",
   "metadata": {},
   "source": [
    "**Описание и выявленные проблемы в данных**\n",
    "\n",
    "Датафрейм содержит 16715 строк в 11-и столбцах. Типы данных: *float*, *object*.\n",
    "\n",
    "Существенные пропуски имеются в столбцах: *Year_of_Release*, *Critic_Score*, *User_Score*, *Rating*.\n",
    "<br>\n",
    "Некорректный тип данных присутствует в столбцах: *Year_of_Release*, *User_Score*."
   ]
  },
  {
   "cell_type": "markdown",
   "metadata": {},
   "source": [
    "### Предобработка данных"
   ]
  },
  {
   "cell_type": "markdown",
   "metadata": {},
   "source": [
    "#### Тип данных"
   ]
  },
  {
   "cell_type": "code",
   "execution_count": 5,
   "metadata": {},
   "outputs": [],
   "source": [
    "# Приводим названия столбцов к нижнему регистру\n",
    "data.columns = data.columns.str.lower()"
   ]
  },
  {
   "cell_type": "markdown",
   "metadata": {},
   "source": [
    "Год выпуска продукта является основополагающим параметром для формирования выборки за актуальный период. Поэтому если год выпуска не указан, то такие продукты можно отбросить (объем отброшенного не должен превышать 10% от общего объема данных)"
   ]
  },
  {
   "cell_type": "code",
   "execution_count": 6,
   "metadata": {},
   "outputs": [
    {
     "data": {
      "text/plain": [
       "0.9839066706551002"
      ]
     },
     "execution_count": 6,
     "metadata": {},
     "output_type": "execute_result"
    }
   ],
   "source": [
    "new_data = data.dropna(subset=['year_of_release'])\n",
    "new_data.shape[0] / data.shape[0]"
   ]
  },
  {
   "cell_type": "code",
   "execution_count": 7,
   "metadata": {},
   "outputs": [
    {
     "data": {
      "text/plain": [
       "na_sales    0.013436\n",
       "eu_sales    0.010088\n",
       "jp_sales    0.005164\n",
       "dtype: float64"
      ]
     },
     "execution_count": 7,
     "metadata": {},
     "output_type": "execute_result"
    }
   ],
   "source": [
    "data.query('year_of_release.isna()')[['na_sales', 'eu_sales', 'jp_sales']].sum() / \\\n",
    "data[['na_sales', 'eu_sales', 'jp_sales']].sum()"
   ]
  },
  {
   "cell_type": "code",
   "execution_count": 8,
   "metadata": {},
   "outputs": [],
   "source": [
    "# Отброшено менее 2% данных\n",
    "# Отброшено менее 3% общего объема продаж\n",
    "# Перезаписываем основной датафрейм\n",
    "data = new_data"
   ]
  },
  {
   "cell_type": "code",
   "execution_count": 9,
   "metadata": {},
   "outputs": [],
   "source": [
    "# Приводим год выпуска к общепринятому целочисленному типу\n",
    "data['year_of_release'] = data['year_of_release'].astype('int')"
   ]
  },
  {
   "cell_type": "code",
   "execution_count": 10,
   "metadata": {},
   "outputs": [
    {
     "data": {
      "text/plain": [
       "array(['8', nan, '8.3', '8.5', '6.6', '8.4', '8.6', '7.7', '6.3', '7.4',\n",
       "       '8.2', '9', '7.9', '8.1', '8.7', '7.1', '3.4', '5.3', '4.8', '3.2',\n",
       "       '8.9', '6.4', '7.8', '7.5', '2.6', '7.2', '9.2', '7', '7.3', '4.3',\n",
       "       '7.6', '5.7', '5', '9.1', '6.5', 'tbd', '8.8', '6.9', '9.4', '6.8',\n",
       "       '6.1', '6.7', '5.4', '4', '4.9', '4.5', '9.3', '6.2', '4.2', '6',\n",
       "       '3.7', '4.1', '5.8', '5.6', '5.5', '4.4', '4.6', '5.9', '3.9',\n",
       "       '3.1', '2.9', '5.2', '3.3', '4.7', '5.1', '3.5', '2.5', '1.9', '3',\n",
       "       '2.7', '2.2', '2', '9.5', '2.1', '3.6', '2.8', '1.8', '3.8', '0',\n",
       "       '1.6', '9.6', '2.4', '1.7', '1.1', '0.3', '1.5', '0.7', '1.2',\n",
       "       '2.3', '0.5', '1.3', '0.2', '0.6', '1.4', '0.9', '1', '9.7'],\n",
       "      dtype=object)"
      ]
     },
     "execution_count": 10,
     "metadata": {},
     "output_type": "execute_result"
    }
   ],
   "source": [
    "data['user_score'].unique()"
   ]
  },
  {
   "cell_type": "markdown",
   "metadata": {},
   "source": [
    "В столбце *user_score* присутствуют значения 'tbd' типа *object*. Преобразование типа данных в столбце целесообразно провести после преобразования указанных значений."
   ]
  },
  {
   "cell_type": "markdown",
   "metadata": {},
   "source": [
    "#### Работа с пропусками"
   ]
  },
  {
   "cell_type": "code",
   "execution_count": 13,
   "metadata": {},
   "outputs": [
    {
     "data": {
      "text/html": [
       "<div>\n",
       "<style scoped>\n",
       "    .dataframe tbody tr th:only-of-type {\n",
       "        vertical-align: middle;\n",
       "    }\n",
       "\n",
       "    .dataframe tbody tr th {\n",
       "        vertical-align: top;\n",
       "    }\n",
       "\n",
       "    .dataframe thead th {\n",
       "        text-align: right;\n",
       "    }\n",
       "</style>\n",
       "<table border=\"1\" class=\"dataframe\">\n",
       "  <thead>\n",
       "    <tr style=\"text-align: right;\">\n",
       "      <th></th>\n",
       "      <th>name</th>\n",
       "      <th>platform</th>\n",
       "      <th>year_of_release</th>\n",
       "      <th>genre</th>\n",
       "      <th>na_sales</th>\n",
       "      <th>eu_sales</th>\n",
       "      <th>jp_sales</th>\n",
       "      <th>other_sales</th>\n",
       "      <th>critic_score</th>\n",
       "      <th>user_score</th>\n",
       "      <th>rating</th>\n",
       "    </tr>\n",
       "  </thead>\n",
       "  <tbody>\n",
       "    <tr>\n",
       "      <th>659</th>\n",
       "      <td>NaN</td>\n",
       "      <td>GEN</td>\n",
       "      <td>1993</td>\n",
       "      <td>NaN</td>\n",
       "      <td>1.78</td>\n",
       "      <td>0.53</td>\n",
       "      <td>0.00</td>\n",
       "      <td>0.08</td>\n",
       "      <td>NaN</td>\n",
       "      <td>NaN</td>\n",
       "      <td>NaN</td>\n",
       "    </tr>\n",
       "    <tr>\n",
       "      <th>14244</th>\n",
       "      <td>NaN</td>\n",
       "      <td>GEN</td>\n",
       "      <td>1993</td>\n",
       "      <td>NaN</td>\n",
       "      <td>0.00</td>\n",
       "      <td>0.00</td>\n",
       "      <td>0.03</td>\n",
       "      <td>0.00</td>\n",
       "      <td>NaN</td>\n",
       "      <td>NaN</td>\n",
       "      <td>NaN</td>\n",
       "    </tr>\n",
       "  </tbody>\n",
       "</table>\n",
       "</div>"
      ],
      "text/plain": [
       "      name platform  year_of_release genre  na_sales  eu_sales  jp_sales  \\\n",
       "659    NaN      GEN             1993   NaN      1.78      0.53      0.00   \n",
       "14244  NaN      GEN             1993   NaN      0.00      0.00      0.03   \n",
       "\n",
       "       other_sales  critic_score user_score rating  \n",
       "659           0.08           NaN        NaN    NaN  \n",
       "14244         0.00           NaN        NaN    NaN  "
      ]
     },
     "execution_count": 13,
     "metadata": {},
     "output_type": "execute_result"
    }
   ],
   "source": [
    "# Ищем и по возможности удаляем строки без указания имени и жанра продукта\n",
    "data.loc[data['name'].isna()]"
   ]
  },
  {
   "cell_type": "code",
   "execution_count": 14,
   "metadata": {},
   "outputs": [],
   "source": [
    "data = data.dropna(subset=['name'])"
   ]
  },
  {
   "cell_type": "markdown",
   "metadata": {},
   "source": [
    "**Возможные причины возникновения пропусков**\n",
    "\n",
    "Существенные пропуски присутствуют в столбцах: *critic_score*, *user_score*, *rating*. Пропуски могли возникнуть по причине того, что оценки критиков и пользователей могли не формироваться по части продуктов, не имеющих достаточных объемов продаж либо не имеющих инструментов сбора отзывов. В столбце *user_score* присутствуют значения 'tbd', наиболее вероятно, означающие что отзыв находится в процессе формирования (еще не готов). Данные значения можно изменить на 'nan'."
   ]
  },
  {
   "cell_type": "code",
   "execution_count": 15,
   "metadata": {},
   "outputs": [],
   "source": [
    "# Заменяем значения 'tbd' на 'nan'\n",
    "data = data.replace({'user_score': {'tbd': np.NaN}})"
   ]
  },
  {
   "cell_type": "code",
   "execution_count": 16,
   "metadata": {},
   "outputs": [],
   "source": [
    "# Приводим тип данных в столбце 'user_score' к 'float'\n",
    "data['user_score'] = data['user_score'].astype('float')"
   ]
  },
  {
   "cell_type": "markdown",
   "metadata": {},
   "source": [
    "**Заполнение пропусков**\n",
    "\n",
    "В столбцах *critic_score* и *user_score* имеются пропуски. Посмотрим целессобразно ли заполнить их медианными значениями."
   ]
  },
  {
   "cell_type": "code",
   "execution_count": 17,
   "metadata": {},
   "outputs": [],
   "source": [
    "# Добавляем столбец с общей суммой продаж по всем регионам\n",
    "data['total_sales'] = data[['na_sales', 'eu_sales', 'jp_sales', 'other_sales']].sum(axis=1)"
   ]
  },
  {
   "cell_type": "code",
   "execution_count": 18,
   "metadata": {},
   "outputs": [
    {
     "data": {
      "text/html": [
       "<div>\n",
       "<style scoped>\n",
       "    .dataframe tbody tr th:only-of-type {\n",
       "        vertical-align: middle;\n",
       "    }\n",
       "\n",
       "    .dataframe tbody tr th {\n",
       "        vertical-align: top;\n",
       "    }\n",
       "\n",
       "    .dataframe thead th {\n",
       "        text-align: right;\n",
       "    }\n",
       "</style>\n",
       "<table border=\"1\" class=\"dataframe\">\n",
       "  <thead>\n",
       "    <tr style=\"text-align: right;\">\n",
       "      <th></th>\n",
       "      <th>name</th>\n",
       "      <th>platform</th>\n",
       "      <th>year_of_release</th>\n",
       "      <th>genre</th>\n",
       "      <th>na_sales</th>\n",
       "      <th>eu_sales</th>\n",
       "      <th>jp_sales</th>\n",
       "      <th>other_sales</th>\n",
       "      <th>critic_score</th>\n",
       "      <th>user_score</th>\n",
       "      <th>rating</th>\n",
       "      <th>total_sales</th>\n",
       "    </tr>\n",
       "  </thead>\n",
       "  <tbody>\n",
       "    <tr>\n",
       "      <th>0</th>\n",
       "      <td>Wii Sports</td>\n",
       "      <td>Wii</td>\n",
       "      <td>2006</td>\n",
       "      <td>Sports</td>\n",
       "      <td>41.36</td>\n",
       "      <td>28.96</td>\n",
       "      <td>3.77</td>\n",
       "      <td>8.45</td>\n",
       "      <td>76.0</td>\n",
       "      <td>8.0</td>\n",
       "      <td>E</td>\n",
       "      <td>82.54</td>\n",
       "    </tr>\n",
       "    <tr>\n",
       "      <th>1</th>\n",
       "      <td>Super Mario Bros.</td>\n",
       "      <td>NES</td>\n",
       "      <td>1985</td>\n",
       "      <td>Platform</td>\n",
       "      <td>29.08</td>\n",
       "      <td>3.58</td>\n",
       "      <td>6.81</td>\n",
       "      <td>0.77</td>\n",
       "      <td>NaN</td>\n",
       "      <td>NaN</td>\n",
       "      <td>NaN</td>\n",
       "      <td>40.24</td>\n",
       "    </tr>\n",
       "    <tr>\n",
       "      <th>2</th>\n",
       "      <td>Mario Kart Wii</td>\n",
       "      <td>Wii</td>\n",
       "      <td>2008</td>\n",
       "      <td>Racing</td>\n",
       "      <td>15.68</td>\n",
       "      <td>12.76</td>\n",
       "      <td>3.79</td>\n",
       "      <td>3.29</td>\n",
       "      <td>82.0</td>\n",
       "      <td>8.3</td>\n",
       "      <td>E</td>\n",
       "      <td>35.52</td>\n",
       "    </tr>\n",
       "    <tr>\n",
       "      <th>3</th>\n",
       "      <td>Wii Sports Resort</td>\n",
       "      <td>Wii</td>\n",
       "      <td>2009</td>\n",
       "      <td>Sports</td>\n",
       "      <td>15.61</td>\n",
       "      <td>10.93</td>\n",
       "      <td>3.28</td>\n",
       "      <td>2.95</td>\n",
       "      <td>80.0</td>\n",
       "      <td>8.0</td>\n",
       "      <td>E</td>\n",
       "      <td>32.77</td>\n",
       "    </tr>\n",
       "    <tr>\n",
       "      <th>4</th>\n",
       "      <td>Pokemon Red/Pokemon Blue</td>\n",
       "      <td>GB</td>\n",
       "      <td>1996</td>\n",
       "      <td>Role-Playing</td>\n",
       "      <td>11.27</td>\n",
       "      <td>8.89</td>\n",
       "      <td>10.22</td>\n",
       "      <td>1.00</td>\n",
       "      <td>NaN</td>\n",
       "      <td>NaN</td>\n",
       "      <td>NaN</td>\n",
       "      <td>31.38</td>\n",
       "    </tr>\n",
       "    <tr>\n",
       "      <th>...</th>\n",
       "      <td>...</td>\n",
       "      <td>...</td>\n",
       "      <td>...</td>\n",
       "      <td>...</td>\n",
       "      <td>...</td>\n",
       "      <td>...</td>\n",
       "      <td>...</td>\n",
       "      <td>...</td>\n",
       "      <td>...</td>\n",
       "      <td>...</td>\n",
       "      <td>...</td>\n",
       "      <td>...</td>\n",
       "    </tr>\n",
       "    <tr>\n",
       "      <th>16710</th>\n",
       "      <td>Samurai Warriors: Sanada Maru</td>\n",
       "      <td>PS3</td>\n",
       "      <td>2016</td>\n",
       "      <td>Action</td>\n",
       "      <td>0.00</td>\n",
       "      <td>0.00</td>\n",
       "      <td>0.01</td>\n",
       "      <td>0.00</td>\n",
       "      <td>NaN</td>\n",
       "      <td>NaN</td>\n",
       "      <td>NaN</td>\n",
       "      <td>0.01</td>\n",
       "    </tr>\n",
       "    <tr>\n",
       "      <th>16711</th>\n",
       "      <td>LMA Manager 2007</td>\n",
       "      <td>X360</td>\n",
       "      <td>2006</td>\n",
       "      <td>Sports</td>\n",
       "      <td>0.00</td>\n",
       "      <td>0.01</td>\n",
       "      <td>0.00</td>\n",
       "      <td>0.00</td>\n",
       "      <td>NaN</td>\n",
       "      <td>NaN</td>\n",
       "      <td>NaN</td>\n",
       "      <td>0.01</td>\n",
       "    </tr>\n",
       "    <tr>\n",
       "      <th>16712</th>\n",
       "      <td>Haitaka no Psychedelica</td>\n",
       "      <td>PSV</td>\n",
       "      <td>2016</td>\n",
       "      <td>Adventure</td>\n",
       "      <td>0.00</td>\n",
       "      <td>0.00</td>\n",
       "      <td>0.01</td>\n",
       "      <td>0.00</td>\n",
       "      <td>NaN</td>\n",
       "      <td>NaN</td>\n",
       "      <td>NaN</td>\n",
       "      <td>0.01</td>\n",
       "    </tr>\n",
       "    <tr>\n",
       "      <th>16713</th>\n",
       "      <td>Spirits &amp; Spells</td>\n",
       "      <td>GBA</td>\n",
       "      <td>2003</td>\n",
       "      <td>Platform</td>\n",
       "      <td>0.01</td>\n",
       "      <td>0.00</td>\n",
       "      <td>0.00</td>\n",
       "      <td>0.00</td>\n",
       "      <td>NaN</td>\n",
       "      <td>NaN</td>\n",
       "      <td>NaN</td>\n",
       "      <td>0.01</td>\n",
       "    </tr>\n",
       "    <tr>\n",
       "      <th>16714</th>\n",
       "      <td>Winning Post 8 2016</td>\n",
       "      <td>PSV</td>\n",
       "      <td>2016</td>\n",
       "      <td>Simulation</td>\n",
       "      <td>0.00</td>\n",
       "      <td>0.00</td>\n",
       "      <td>0.01</td>\n",
       "      <td>0.00</td>\n",
       "      <td>NaN</td>\n",
       "      <td>NaN</td>\n",
       "      <td>NaN</td>\n",
       "      <td>0.01</td>\n",
       "    </tr>\n",
       "  </tbody>\n",
       "</table>\n",
       "<p>16444 rows × 12 columns</p>\n",
       "</div>"
      ],
      "text/plain": [
       "                                name platform  year_of_release         genre  \\\n",
       "0                         Wii Sports      Wii             2006        Sports   \n",
       "1                  Super Mario Bros.      NES             1985      Platform   \n",
       "2                     Mario Kart Wii      Wii             2008        Racing   \n",
       "3                  Wii Sports Resort      Wii             2009        Sports   \n",
       "4           Pokemon Red/Pokemon Blue       GB             1996  Role-Playing   \n",
       "...                              ...      ...              ...           ...   \n",
       "16710  Samurai Warriors: Sanada Maru      PS3             2016        Action   \n",
       "16711               LMA Manager 2007     X360             2006        Sports   \n",
       "16712        Haitaka no Psychedelica      PSV             2016     Adventure   \n",
       "16713               Spirits & Spells      GBA             2003      Platform   \n",
       "16714            Winning Post 8 2016      PSV             2016    Simulation   \n",
       "\n",
       "       na_sales  eu_sales  jp_sales  other_sales  critic_score  user_score  \\\n",
       "0         41.36     28.96      3.77         8.45          76.0         8.0   \n",
       "1         29.08      3.58      6.81         0.77           NaN         NaN   \n",
       "2         15.68     12.76      3.79         3.29          82.0         8.3   \n",
       "3         15.61     10.93      3.28         2.95          80.0         8.0   \n",
       "4         11.27      8.89     10.22         1.00           NaN         NaN   \n",
       "...         ...       ...       ...          ...           ...         ...   \n",
       "16710      0.00      0.00      0.01         0.00           NaN         NaN   \n",
       "16711      0.00      0.01      0.00         0.00           NaN         NaN   \n",
       "16712      0.00      0.00      0.01         0.00           NaN         NaN   \n",
       "16713      0.01      0.00      0.00         0.00           NaN         NaN   \n",
       "16714      0.00      0.00      0.01         0.00           NaN         NaN   \n",
       "\n",
       "      rating  total_sales  \n",
       "0          E        82.54  \n",
       "1        NaN        40.24  \n",
       "2          E        35.52  \n",
       "3          E        32.77  \n",
       "4        NaN        31.38  \n",
       "...      ...          ...  \n",
       "16710    NaN         0.01  \n",
       "16711    NaN         0.01  \n",
       "16712    NaN         0.01  \n",
       "16713    NaN         0.01  \n",
       "16714    NaN         0.01  \n",
       "\n",
       "[16444 rows x 12 columns]"
      ]
     },
     "execution_count": 18,
     "metadata": {},
     "output_type": "execute_result"
    }
   ],
   "source": [
    "data"
   ]
  },
  {
   "cell_type": "code",
   "execution_count": 19,
   "metadata": {},
   "outputs": [
    {
     "data": {
      "text/plain": [
       "71.0"
      ]
     },
     "execution_count": 19,
     "metadata": {},
     "output_type": "execute_result"
    }
   ],
   "source": [
    "data['critic_score'].median()"
   ]
  },
  {
   "cell_type": "code",
   "execution_count": 20,
   "metadata": {},
   "outputs": [
    {
     "data": {
      "text/plain": [
       "7.5"
      ]
     },
     "execution_count": 20,
     "metadata": {},
     "output_type": "execute_result"
    }
   ],
   "source": [
    "data['user_score'].median()"
   ]
  },
  {
   "cell_type": "markdown",
   "metadata": {},
   "source": [
    "Анализируя представленные данные, можно сделать вывод, что значения оценок критиков и оценок пользователей не зависят от других факторов (например от объема продаж), поэтому нельзя заполнить пропуски в этих столбцах достаточно точными значениями. Кроме того заполнение пропусков в этих столбцах медианными значениями приведет к тому, что оценки получат продукты, продажи которых ничтожно малы и скорее всего такие оценки будут существенно завышенными для этих продуктов.\n",
    "\n",
    "(Можно заполнить пропуски в возрастных рейтингах по преобладающим значениям рейтингов в различных жанрах.) - заменяем на:\n",
    "<br>\n",
    "Пропуски в возрастных рейтингах могли возникнуть по естественным причинам (территориальная ограниченность распространения данного рейтинга), поэтому заполним их значением \"неизвестный рейтинг\"."
   ]
  },
  {
   "cell_type": "code",
   "execution_count": 23,
   "metadata": {},
   "outputs": [],
   "source": [
    "data['rating'].fillna('неизвестный рейтинг', inplace=True)"
   ]
  },
  {
   "cell_type": "code",
   "execution_count": 24,
   "metadata": {
    "scrolled": true
   },
   "outputs": [
    {
     "name": "stdout",
     "output_type": "stream",
     "text": [
      "<class 'pandas.core.frame.DataFrame'>\n",
      "Int64Index: 16444 entries, 0 to 16714\n",
      "Data columns (total 12 columns):\n",
      " #   Column           Non-Null Count  Dtype  \n",
      "---  ------           --------------  -----  \n",
      " 0   name             16444 non-null  object \n",
      " 1   platform         16444 non-null  object \n",
      " 2   year_of_release  16444 non-null  int64  \n",
      " 3   genre            16444 non-null  object \n",
      " 4   na_sales         16444 non-null  float64\n",
      " 5   eu_sales         16444 non-null  float64\n",
      " 6   jp_sales         16444 non-null  float64\n",
      " 7   other_sales      16444 non-null  float64\n",
      " 8   critic_score     7983 non-null   float64\n",
      " 9   user_score       7463 non-null   float64\n",
      " 10  rating           16444 non-null  object \n",
      " 11  total_sales      16444 non-null  float64\n",
      "dtypes: float64(7), int64(1), object(4)\n",
      "memory usage: 1.6+ MB\n"
     ]
    }
   ],
   "source": [
    "# Проверяем результат\n",
    "data.info()"
   ]
  },
  {
   "cell_type": "code",
   "execution_count": 25,
   "metadata": {},
   "outputs": [
    {
     "data": {
      "text/plain": [
       "0"
      ]
     },
     "execution_count": 25,
     "metadata": {},
     "output_type": "execute_result"
    }
   ],
   "source": [
    "# Проверяем датасет на наличие полных дублей\n",
    "data.duplicated().sum()"
   ]
  },
  {
   "cell_type": "code",
   "execution_count": 26,
   "metadata": {
    "scrolled": false
   },
   "outputs": [
    {
     "data": {
      "text/html": [
       "<div>\n",
       "<style scoped>\n",
       "    .dataframe tbody tr th:only-of-type {\n",
       "        vertical-align: middle;\n",
       "    }\n",
       "\n",
       "    .dataframe tbody tr th {\n",
       "        vertical-align: top;\n",
       "    }\n",
       "\n",
       "    .dataframe thead th {\n",
       "        text-align: right;\n",
       "    }\n",
       "</style>\n",
       "<table border=\"1\" class=\"dataframe\">\n",
       "  <thead>\n",
       "    <tr style=\"text-align: right;\">\n",
       "      <th></th>\n",
       "      <th>name</th>\n",
       "      <th>platform</th>\n",
       "      <th>year_of_release</th>\n",
       "      <th>genre</th>\n",
       "      <th>na_sales</th>\n",
       "      <th>eu_sales</th>\n",
       "      <th>jp_sales</th>\n",
       "      <th>other_sales</th>\n",
       "      <th>critic_score</th>\n",
       "      <th>user_score</th>\n",
       "      <th>rating</th>\n",
       "      <th>total_sales</th>\n",
       "    </tr>\n",
       "  </thead>\n",
       "  <tbody>\n",
       "    <tr>\n",
       "      <th>604</th>\n",
       "      <td>Madden NFL 13</td>\n",
       "      <td>PS3</td>\n",
       "      <td>2012</td>\n",
       "      <td>Sports</td>\n",
       "      <td>2.11</td>\n",
       "      <td>0.22</td>\n",
       "      <td>0.0</td>\n",
       "      <td>0.23</td>\n",
       "      <td>83.0</td>\n",
       "      <td>5.5</td>\n",
       "      <td>E</td>\n",
       "      <td>2.56</td>\n",
       "    </tr>\n",
       "    <tr>\n",
       "      <th>16230</th>\n",
       "      <td>Madden NFL 13</td>\n",
       "      <td>PS3</td>\n",
       "      <td>2012</td>\n",
       "      <td>Sports</td>\n",
       "      <td>0.00</td>\n",
       "      <td>0.01</td>\n",
       "      <td>0.0</td>\n",
       "      <td>0.00</td>\n",
       "      <td>83.0</td>\n",
       "      <td>5.5</td>\n",
       "      <td>E</td>\n",
       "      <td>0.01</td>\n",
       "    </tr>\n",
       "  </tbody>\n",
       "</table>\n",
       "</div>"
      ],
      "text/plain": [
       "                name platform  year_of_release   genre  na_sales  eu_sales  \\\n",
       "604    Madden NFL 13      PS3             2012  Sports      2.11      0.22   \n",
       "16230  Madden NFL 13      PS3             2012  Sports      0.00      0.01   \n",
       "\n",
       "       jp_sales  other_sales  critic_score  user_score rating  total_sales  \n",
       "604         0.0         0.23          83.0         5.5      E         2.56  \n",
       "16230       0.0         0.00          83.0         5.5      E         0.01  "
      ]
     },
     "execution_count": 26,
     "metadata": {},
     "output_type": "execute_result"
    }
   ],
   "source": [
    "# Поиск дубликатов по значениям в отдельных столбцах\n",
    "data.query('(name + platform + year_of_release.astype(\"str\")).str.lower().duplicated(keep=False)')"
   ]
  },
  {
   "cell_type": "code",
   "execution_count": 27,
   "metadata": {},
   "outputs": [],
   "source": [
    "# Удалим дубликат, найденный на предыдущем шаге\n",
    "i = data.query('(name + platform + year_of_release.astype(\"str\")).str.lower().duplicated()').index\n",
    "data.drop(index=i, inplace=True)"
   ]
  },
  {
   "cell_type": "markdown",
   "metadata": {},
   "source": [
    "### Исследовательский анализ данных"
   ]
  },
  {
   "cell_type": "markdown",
   "metadata": {},
   "source": [
    "#### Анализ продаж игр по годам"
   ]
  },
  {
   "cell_type": "code",
   "execution_count": 28,
   "metadata": {},
   "outputs": [
    {
     "data": {
      "image/png": "[encoded data removed]",
      "text/plain": [
       "<Figure size 720x360 with 1 Axes>"
      ]
     },
     "metadata": {
      "needs_background": "light"
     },
     "output_type": "display_data"
    }
   ],
   "source": [
    "pd.pivot_table(\n",
    "    data, index='year_of_release',\n",
    "    values='name',\n",
    "    aggfunc='count'\n",
    ").plot(kind='bar', figsize=(10, 5), grid=True)\n",
    "plt.xlabel('Год')\n",
    "plt.ylabel('Количество игр')\n",
    "plt.title('Выпуск игр по годам')\n",
    "plt.show()"
   ]
  },
  {
   "cell_type": "markdown",
   "metadata": {},
   "source": [
    "Выпуски игр сопоставимые с текущими начались с 1995 года. Данные до 1995 года для текущего исследования не важны. "
   ]
  },
  {
   "cell_type": "code",
   "execution_count": 29,
   "metadata": {},
   "outputs": [
    {
     "data": {
      "text/html": [
       "<div>\n",
       "<style scoped>\n",
       "    .dataframe tbody tr th:only-of-type {\n",
       "        vertical-align: middle;\n",
       "    }\n",
       "\n",
       "    .dataframe tbody tr th {\n",
       "        vertical-align: top;\n",
       "    }\n",
       "\n",
       "    .dataframe thead th {\n",
       "        text-align: right;\n",
       "    }\n",
       "</style>\n",
       "<table border=\"1\" class=\"dataframe\">\n",
       "  <thead>\n",
       "    <tr style=\"text-align: right;\">\n",
       "      <th></th>\n",
       "      <th>platform</th>\n",
       "      <th>total_sales</th>\n",
       "    </tr>\n",
       "  </thead>\n",
       "  <tbody>\n",
       "    <tr>\n",
       "      <th>0</th>\n",
       "      <td>PS2</td>\n",
       "      <td>1233.56</td>\n",
       "    </tr>\n",
       "    <tr>\n",
       "      <th>1</th>\n",
       "      <td>X360</td>\n",
       "      <td>961.24</td>\n",
       "    </tr>\n",
       "    <tr>\n",
       "      <th>2</th>\n",
       "      <td>PS3</td>\n",
       "      <td>931.33</td>\n",
       "    </tr>\n",
       "    <tr>\n",
       "      <th>3</th>\n",
       "      <td>Wii</td>\n",
       "      <td>891.18</td>\n",
       "    </tr>\n",
       "    <tr>\n",
       "      <th>4</th>\n",
       "      <td>DS</td>\n",
       "      <td>802.78</td>\n",
       "    </tr>\n",
       "    <tr>\n",
       "      <th>5</th>\n",
       "      <td>PS</td>\n",
       "      <td>727.58</td>\n",
       "    </tr>\n",
       "    <tr>\n",
       "      <th>6</th>\n",
       "      <td>PS4</td>\n",
       "      <td>314.14</td>\n",
       "    </tr>\n",
       "    <tr>\n",
       "      <th>7</th>\n",
       "      <td>GBA</td>\n",
       "      <td>312.88</td>\n",
       "    </tr>\n",
       "    <tr>\n",
       "      <th>8</th>\n",
       "      <td>PSP</td>\n",
       "      <td>289.53</td>\n",
       "    </tr>\n",
       "    <tr>\n",
       "      <th>9</th>\n",
       "      <td>3DS</td>\n",
       "      <td>257.81</td>\n",
       "    </tr>\n",
       "    <tr>\n",
       "      <th>10</th>\n",
       "      <td>PC</td>\n",
       "      <td>255.76</td>\n",
       "    </tr>\n",
       "    <tr>\n",
       "      <th>11</th>\n",
       "      <td>GB</td>\n",
       "      <td>254.43</td>\n",
       "    </tr>\n",
       "    <tr>\n",
       "      <th>12</th>\n",
       "      <td>XB</td>\n",
       "      <td>251.57</td>\n",
       "    </tr>\n",
       "    <tr>\n",
       "      <th>13</th>\n",
       "      <td>NES</td>\n",
       "      <td>251.05</td>\n",
       "    </tr>\n",
       "    <tr>\n",
       "      <th>14</th>\n",
       "      <td>N64</td>\n",
       "      <td>218.01</td>\n",
       "    </tr>\n",
       "    <tr>\n",
       "      <th>15</th>\n",
       "      <td>SNES</td>\n",
       "      <td>200.04</td>\n",
       "    </tr>\n",
       "    <tr>\n",
       "      <th>16</th>\n",
       "      <td>GC</td>\n",
       "      <td>196.73</td>\n",
       "    </tr>\n",
       "    <tr>\n",
       "      <th>17</th>\n",
       "      <td>XOne</td>\n",
       "      <td>159.32</td>\n",
       "    </tr>\n",
       "    <tr>\n",
       "      <th>18</th>\n",
       "      <td>2600</td>\n",
       "      <td>86.48</td>\n",
       "    </tr>\n",
       "    <tr>\n",
       "      <th>19</th>\n",
       "      <td>WiiU</td>\n",
       "      <td>82.19</td>\n",
       "    </tr>\n",
       "    <tr>\n",
       "      <th>20</th>\n",
       "      <td>PSV</td>\n",
       "      <td>53.81</td>\n",
       "    </tr>\n",
       "    <tr>\n",
       "      <th>21</th>\n",
       "      <td>SAT</td>\n",
       "      <td>33.59</td>\n",
       "    </tr>\n",
       "    <tr>\n",
       "      <th>22</th>\n",
       "      <td>GEN</td>\n",
       "      <td>28.35</td>\n",
       "    </tr>\n",
       "    <tr>\n",
       "      <th>23</th>\n",
       "      <td>DC</td>\n",
       "      <td>15.95</td>\n",
       "    </tr>\n",
       "    <tr>\n",
       "      <th>24</th>\n",
       "      <td>SCD</td>\n",
       "      <td>1.86</td>\n",
       "    </tr>\n",
       "    <tr>\n",
       "      <th>25</th>\n",
       "      <td>NG</td>\n",
       "      <td>1.44</td>\n",
       "    </tr>\n",
       "    <tr>\n",
       "      <th>26</th>\n",
       "      <td>WS</td>\n",
       "      <td>1.42</td>\n",
       "    </tr>\n",
       "    <tr>\n",
       "      <th>27</th>\n",
       "      <td>TG16</td>\n",
       "      <td>0.16</td>\n",
       "    </tr>\n",
       "    <tr>\n",
       "      <th>28</th>\n",
       "      <td>3DO</td>\n",
       "      <td>0.10</td>\n",
       "    </tr>\n",
       "    <tr>\n",
       "      <th>29</th>\n",
       "      <td>GG</td>\n",
       "      <td>0.04</td>\n",
       "    </tr>\n",
       "    <tr>\n",
       "      <th>30</th>\n",
       "      <td>PCFX</td>\n",
       "      <td>0.03</td>\n",
       "    </tr>\n",
       "  </tbody>\n",
       "</table>\n",
       "</div>"
      ],
      "text/plain": [
       "   platform  total_sales\n",
       "0       PS2      1233.56\n",
       "1      X360       961.24\n",
       "2       PS3       931.33\n",
       "3       Wii       891.18\n",
       "4        DS       802.78\n",
       "5        PS       727.58\n",
       "6       PS4       314.14\n",
       "7       GBA       312.88\n",
       "8       PSP       289.53\n",
       "9       3DS       257.81\n",
       "10       PC       255.76\n",
       "11       GB       254.43\n",
       "12       XB       251.57\n",
       "13      NES       251.05\n",
       "14      N64       218.01\n",
       "15     SNES       200.04\n",
       "16       GC       196.73\n",
       "17     XOne       159.32\n",
       "18     2600        86.48\n",
       "19     WiiU        82.19\n",
       "20      PSV        53.81\n",
       "21      SAT        33.59\n",
       "22      GEN        28.35\n",
       "23       DC        15.95\n",
       "24      SCD         1.86\n",
       "25       NG         1.44\n",
       "26       WS         1.42\n",
       "27     TG16         0.16\n",
       "28      3DO         0.10\n",
       "29       GG         0.04\n",
       "30     PCFX         0.03"
      ]
     },
     "execution_count": 29,
     "metadata": {},
     "output_type": "execute_result"
    }
   ],
   "source": [
    "# Определяем суммарные продажи по платформам\n",
    "platform_total_sales = (\n",
    "    pd\n",
    "    .pivot_table(data, index=['platform'], values='total_sales', aggfunc='sum')\n",
    "    .sort_values(by='total_sales', ascending=False)\n",
    ").reset_index()\n",
    "platform_total_sales"
   ]
  },
  {
   "cell_type": "markdown",
   "metadata": {},
   "source": [
    "#### Изменение продаж игр по топовым платформам по годам"
   ]
  },
  {
   "cell_type": "code",
   "execution_count": 30,
   "metadata": {
    "scrolled": false
   },
   "outputs": [
    {
     "data": {
      "image/png": "[encoded data removed]",
      "text/plain": [
       "<Figure size 432x288 with 1 Axes>"
      ]
     },
     "metadata": {
      "needs_background": "light"
     },
     "output_type": "display_data"
    },
    {
     "data": {
      "image/png": "[encoded data removed]",
      "text/plain": [
       "<Figure size 432x288 with 1 Axes>"
      ]
     },
     "metadata": {
      "needs_background": "light"
     },
     "output_type": "display_data"
    },
    {
     "data": {
      "image/png": "[encoded data removed]",
      "text/plain": [
       "<Figure size 432x288 with 1 Axes>"
      ]
     },
     "metadata": {
      "needs_background": "light"
     },
     "output_type": "display_data"
    },
    {
     "data": {
      "image/png": "[encoded data removed]",
      "text/plain": [
       "<Figure size 432x288 with 1 Axes>"
      ]
     },
     "metadata": {
      "needs_background": "light"
     },
     "output_type": "display_data"
    },
    {
     "data": {
      "image/png": "[encoded data removed]",
      "text/plain": [
       "<Figure size 432x288 with 1 Axes>"
      ]
     },
     "metadata": {
      "needs_background": "light"
     },
     "output_type": "display_data"
    },
    {
     "data": {
      "image/png": "[encoded data removed]",
      "text/plain": [
       "<Figure size 432x288 with 1 Axes>"
      ]
     },
     "metadata": {
      "needs_background": "light"
     },
     "output_type": "display_data"
    }
   ],
   "source": [
    "top_platforms = []\n",
    "for value in platform_total_sales['platform'].head(6):\n",
    "    pd.pivot_table(\n",
    "        data.query('platform == @value'),\n",
    "        index='year_of_release',\n",
    "        values='total_sales',\n",
    "        aggfunc='sum'\n",
    "    ).plot(kind='bar')\n",
    "    plt.xlabel('Год')\n",
    "    plt.ylabel('Продажи, в млн. копий')\n",
    "    plt.title(f'Распределение продаж платформы {value} по годам')\n",
    "    top_platforms.append(value)"
   ]
  },
  {
   "cell_type": "code",
   "execution_count": 31,
   "metadata": {
    "scrolled": true
   },
   "outputs": [
    {
     "data": {
      "text/html": [
       "<div>\n",
       "<style scoped>\n",
       "    .dataframe tbody tr th:only-of-type {\n",
       "        vertical-align: middle;\n",
       "    }\n",
       "\n",
       "    .dataframe tbody tr th {\n",
       "        vertical-align: top;\n",
       "    }\n",
       "\n",
       "    .dataframe thead th {\n",
       "        text-align: right;\n",
       "    }\n",
       "</style>\n",
       "<table border=\"1\" class=\"dataframe\">\n",
       "  <thead>\n",
       "    <tr style=\"text-align: right;\">\n",
       "      <th></th>\n",
       "      <th>name</th>\n",
       "      <th>platform</th>\n",
       "      <th>year_of_release</th>\n",
       "      <th>genre</th>\n",
       "      <th>na_sales</th>\n",
       "      <th>eu_sales</th>\n",
       "      <th>jp_sales</th>\n",
       "      <th>other_sales</th>\n",
       "      <th>critic_score</th>\n",
       "      <th>user_score</th>\n",
       "      <th>rating</th>\n",
       "      <th>total_sales</th>\n",
       "    </tr>\n",
       "  </thead>\n",
       "  <tbody>\n",
       "    <tr>\n",
       "      <th>15957</th>\n",
       "      <td>Strongest Tokyo University Shogi DS</td>\n",
       "      <td>DS</td>\n",
       "      <td>1985</td>\n",
       "      <td>Action</td>\n",
       "      <td>0.0</td>\n",
       "      <td>0.0</td>\n",
       "      <td>0.02</td>\n",
       "      <td>0.0</td>\n",
       "      <td>NaN</td>\n",
       "      <td>NaN</td>\n",
       "      <td>неизвестный рейтинг</td>\n",
       "      <td>0.02</td>\n",
       "    </tr>\n",
       "  </tbody>\n",
       "</table>\n",
       "</div>"
      ],
      "text/plain": [
       "                                      name platform  year_of_release   genre  \\\n",
       "15957  Strongest Tokyo University Shogi DS       DS             1985  Action   \n",
       "\n",
       "       na_sales  eu_sales  jp_sales  other_sales  critic_score  user_score  \\\n",
       "15957       0.0       0.0      0.02          0.0           NaN         NaN   \n",
       "\n",
       "                    rating  total_sales  \n",
       "15957  неизвестный рейтинг         0.02  "
      ]
     },
     "execution_count": 31,
     "metadata": {},
     "output_type": "execute_result"
    }
   ],
   "source": [
    "# Ищем и удаляем аномалию (так как платформа появилась в 2004 году)\n",
    "data.query('(platform == \"DS\") & (year_of_release == 1985)')"
   ]
  },
  {
   "cell_type": "code",
   "execution_count": 32,
   "metadata": {},
   "outputs": [],
   "source": [
    "i = data.query('(platform == \"DS\") & (year_of_release == 1985)').index\n",
    "data.drop(index=i, inplace=True)"
   ]
  },
  {
   "cell_type": "code",
   "execution_count": 33,
   "metadata": {},
   "outputs": [
    {
     "data": {
      "image/png": "[encoded data removed]",
      "text/plain": [
       "<Figure size 720x360 with 1 Axes>"
      ]
     },
     "metadata": {
      "needs_background": "light"
     },
     "output_type": "display_data"
    }
   ],
   "source": [
    "pd.pivot_table(\n",
    "    data.query('platform in @top_platforms'),\n",
    "    index='year_of_release',\n",
    "    columns='platform',\n",
    "    values='total_sales',\n",
    "    aggfunc='sum'\n",
    ").plot(figsize=(10, 5))\n",
    "plt.xlabel('Год')\n",
    "plt.ylabel('Продажи, в млн. копий')\n",
    "plt.title(f'Распределение продаж топовых платформ по годам')\n",
    "plt.show()"
   ]
  },
  {
   "cell_type": "markdown",
   "metadata": {},
   "source": [
    "По результатам анализа 6-и наиболее продаваемых платформ можно сделать вывод, что \"жизненный цикл\" платформы составляет примерно 10 лет. Пик продаж в среднем приходится на середину этого срока - 5 лет. Частота появления новых платформ неоднородна. В 95-2005 годах новые \"топовые\" платформы появлялись с частотой примерно 1 раз в 5 лет. А в 2005 году в интервале 1 - 2 года появилось сразу 4 новые \"топовые\" платформы.\n",
    "\n",
    "Нужно отметить, что к 2016 г. все лидеры продаж находятся на последней стадии \"жизненного цикла\" или уже завершили его.\n",
    "\n",
    "В качестве **актуального периода** для прогноза на 2017 год возьмем последние **2 года** (2015 г. и 2016 г.)"
   ]
  },
  {
   "cell_type": "markdown",
   "metadata": {},
   "source": [
    "\n",
    "\n",
    "#### Распределение продаж по платформам за актуальный период"
   ]
  },
  {
   "cell_type": "code",
   "execution_count": 34,
   "metadata": {},
   "outputs": [],
   "source": [
    "# Сохраняем исходный (текущий) датафрейм в переменную\n",
    "df = data\n",
    "# Перезаписываем рабочую переменную датафреймом за установленный актуальный период\n",
    "data = data.query('2015 <= year_of_release <= 2016')"
   ]
  },
  {
   "cell_type": "code",
   "execution_count": 35,
   "metadata": {},
   "outputs": [
    {
     "data": {
      "image/png": "[encoded data removed]",
      "text/plain": [
       "<Figure size 720x504 with 1 Axes>"
      ]
     },
     "metadata": {
      "needs_background": "light"
     },
     "output_type": "display_data"
    }
   ],
   "source": [
    "pd.pivot_table(\n",
    "    data,\n",
    "    index='year_of_release',\n",
    "    columns='platform',\n",
    "    values='total_sales',\n",
    "    aggfunc='sum'\n",
    ").plot(figsize=(10, 7), linewidth=3)\n",
    "plt.xlabel('Год')\n",
    "plt.ylabel('Продажи, в млн. копий')\n",
    "plt.title('Распределение продаж всех платформ за 2015 - 2016 гг.')\n",
    "plt.show()"
   ]
  },
  {
   "cell_type": "markdown",
   "metadata": {},
   "source": [
    "С учетом изложенного выше анализа можно определить наиболее перспективные платформы: **PS4**, **XOne** (эти платформы являются продолжением платформ - исторических лидеров продаж). Их срок возникновения составляет 3 года и они находятся на стадии роста (спад продаж в 2016 г. - общая тенденция). Немного отстает от лидеров но тоже является перспективной платформа **3DS**. Платформа **WiiU** может быть интересна тем, что начала \"жизненный цикл\" в 2012 году и к 2017 году должна выйти на свои пиковые показатели.\n",
    "\n",
    "Стоит дополнить перечень перспективных платформ играми для **PC**. Так как эта платформа имеет практически неограниченный \"жизненный цикл\"."
   ]
  },
  {
   "cell_type": "markdown",
   "metadata": {},
   "source": [
    "#### Анализ потенциально прибыльных платформ"
   ]
  },
  {
   "cell_type": "code",
   "execution_count": 36,
   "metadata": {},
   "outputs": [],
   "source": [
    "# Создаем список потенциально прибыльных платформ\n",
    "top_profit_platforms = ['PS4', 'XOne', '3DS', 'WiiU', 'PC']"
   ]
  },
  {
   "cell_type": "code",
   "execution_count": 37,
   "metadata": {},
   "outputs": [
    {
     "data": {
      "image/png": "[encoded data removed]",
      "text/plain": [
       "<Figure size 720x504 with 1 Axes>"
      ]
     },
     "metadata": {
      "needs_background": "light"
     },
     "output_type": "display_data"
    }
   ],
   "source": [
    "# Строим \"ящик с усами\" по продажам топовых платформ\n",
    "pd.pivot_table(\n",
    "    data, #.query('platform in @top_profit_platforms')\n",
    "    index='name',\n",
    "    columns='platform',\n",
    "    values='total_sales',\n",
    "    aggfunc='sum'\n",
    ").plot(kind='box', figsize=(10, 7))\n",
    "plt.ylim(0, 1.5)\n",
    "plt.xlabel('Платформа')\n",
    "plt.ylabel('Продажи, в млн. копий')\n",
    "plt.title('Диаграммы размаха продаж игр по платформам')\n",
    "plt.show()"
   ]
  },
  {
   "cell_type": "code",
   "execution_count": 38,
   "metadata": {
    "scrolled": false
   },
   "outputs": [
    {
     "data": {
      "image/png": "[encoded data removed]",
      "text/plain": [
       "<Figure size 720x504 with 1 Axes>"
      ]
     },
     "metadata": {
      "needs_background": "light"
     },
     "output_type": "display_data"
    }
   ],
   "source": [
    "# То же самое без ограничения интервала по оси 'y'\n",
    "pd.pivot_table(\n",
    "    data, #.query('platform in @top_profit_platforms'),\n",
    "    index='name',\n",
    "    columns='platform',\n",
    "    values='total_sales',\n",
    "    aggfunc='sum'\n",
    ").plot(kind='box', figsize=(10, 7))\n",
    "plt.xlabel('Платформа')\n",
    "plt.ylabel('Продажи, в млн. копий')\n",
    "plt.title('Диаграммы размаха продаж игр по платформам')\n",
    "plt.show()"
   ]
  },
  {
   "cell_type": "markdown",
   "metadata": {},
   "source": [
    "Наблюдается смещение 3-ей квартили и \"усов\" в сторону увеличения объема продаж. Также отклонение объемов продаж игр, находящееся за пределами \"усов\", на порядок отличается от значений внутри \"ящика\". Это свидетельствует о большом разбросе в объемах продаж игр (есть очень популярные игры и есть основная масса игр с умеренной попуряностью)."
   ]
  },
  {
   "cell_type": "markdown",
   "metadata": {},
   "source": [
    "#### Определение взаимосвязей объемов продаж и отзывов критиков и пользователей"
   ]
  },
  {
   "cell_type": "code",
   "execution_count": 39,
   "metadata": {
    "scrolled": false
   },
   "outputs": [
    {
     "data": {
      "image/png": "[encoded data removed]",
      "text/plain": [
       "<Figure size 864x864 with 9 Axes>"
      ]
     },
     "metadata": {
      "needs_background": "light"
     },
     "output_type": "display_data"
    }
   ],
   "source": [
    "# Построение матрицы диаграмм рассеяния для объемов продаж и оценок критиков и пользователей\n",
    "pd.plotting.scatter_matrix(\n",
    "    df.query('platform == \"PS2\"')[['critic_score', 'user_score', 'total_sales']],\n",
    "    figsize=(12, 12),\n",
    "    alpha=0.3\n",
    ");"
   ]
  },
  {
   "cell_type": "code",
   "execution_count": 40,
   "metadata": {},
   "outputs": [
    {
     "data": {
      "image/png": "[encoded data removed]",
      "text/plain": [
       "<Figure size 432x288 with 1 Axes>"
      ]
     },
     "metadata": {
      "needs_background": "light"
     },
     "output_type": "display_data"
    }
   ],
   "source": [
    "(\n",
    "    df\n",
    "    .query('platform == \"PS2\"')\n",
    "    .plot(x='total_sales', y='critic_score', kind='scatter', alpha=0.3)\n",
    ")\n",
    "plt.xlim(0, 4)\n",
    "plt.title('Диаграммы рассеяния отзывов критиков к объемам продаж игр на платформе \"PS2\"')\n",
    "plt.show()"
   ]
  },
  {
   "cell_type": "code",
   "execution_count": 41,
   "metadata": {
    "scrolled": true
   },
   "outputs": [
    {
     "data": {
      "image/png": "[encoded data removed]",
      "text/plain": [
       "<Figure size 432x288 with 1 Axes>"
      ]
     },
     "metadata": {
      "needs_background": "light"
     },
     "output_type": "display_data"
    }
   ],
   "source": [
    "(\n",
    "    df\n",
    "    .query('platform == \"PS2\"')\n",
    "    .plot(x='total_sales', y='user_score', kind='scatter', alpha=0.3)\n",
    ")\n",
    "plt.xlim(0, 4)\n",
    "plt.title('Диаграммы рассеяния отзывов пользователей к объемам продаж игр на платформе \"PS2\"')\n",
    "plt.show()"
   ]
  },
  {
   "cell_type": "code",
   "execution_count": 42,
   "metadata": {
    "scrolled": true
   },
   "outputs": [
    {
     "data": {
      "text/html": [
       "<div>\n",
       "<style scoped>\n",
       "    .dataframe tbody tr th:only-of-type {\n",
       "        vertical-align: middle;\n",
       "    }\n",
       "\n",
       "    .dataframe tbody tr th {\n",
       "        vertical-align: top;\n",
       "    }\n",
       "\n",
       "    .dataframe thead th {\n",
       "        text-align: right;\n",
       "    }\n",
       "</style>\n",
       "<table border=\"1\" class=\"dataframe\">\n",
       "  <thead>\n",
       "    <tr style=\"text-align: right;\">\n",
       "      <th></th>\n",
       "      <th>critic_score</th>\n",
       "      <th>user_score</th>\n",
       "      <th>total_sales</th>\n",
       "    </tr>\n",
       "  </thead>\n",
       "  <tbody>\n",
       "    <tr>\n",
       "      <th>critic_score</th>\n",
       "      <td>1.000000</td>\n",
       "      <td>0.565841</td>\n",
       "      <td>0.392536</td>\n",
       "    </tr>\n",
       "    <tr>\n",
       "      <th>user_score</th>\n",
       "      <td>0.565841</td>\n",
       "      <td>1.000000</td>\n",
       "      <td>0.175055</td>\n",
       "    </tr>\n",
       "    <tr>\n",
       "      <th>total_sales</th>\n",
       "      <td>0.392536</td>\n",
       "      <td>0.175055</td>\n",
       "      <td>1.000000</td>\n",
       "    </tr>\n",
       "  </tbody>\n",
       "</table>\n",
       "</div>"
      ],
      "text/plain": [
       "              critic_score  user_score  total_sales\n",
       "critic_score      1.000000    0.565841     0.392536\n",
       "user_score        0.565841    1.000000     0.175055\n",
       "total_sales       0.392536    0.175055     1.000000"
      ]
     },
     "execution_count": 42,
     "metadata": {},
     "output_type": "execute_result"
    }
   ],
   "source": [
    "# Построение матрицы корреляции для объемок продаж и оценок критиков и пользователей (платформа \"PS2\")\n",
    "df.query('platform == \"PS2\"')[['critic_score', 'user_score', 'total_sales']].corr()"
   ]
  },
  {
   "cell_type": "code",
   "execution_count": 43,
   "metadata": {
    "scrolled": true
   },
   "outputs": [
    {
     "data": {
      "text/html": [
       "<div>\n",
       "<style scoped>\n",
       "    .dataframe tbody tr th:only-of-type {\n",
       "        vertical-align: middle;\n",
       "    }\n",
       "\n",
       "    .dataframe tbody tr th {\n",
       "        vertical-align: top;\n",
       "    }\n",
       "\n",
       "    .dataframe thead th {\n",
       "        text-align: right;\n",
       "    }\n",
       "</style>\n",
       "<table border=\"1\" class=\"dataframe\">\n",
       "  <thead>\n",
       "    <tr style=\"text-align: right;\">\n",
       "      <th></th>\n",
       "      <th>critic_score</th>\n",
       "      <th>user_score</th>\n",
       "      <th>total_sales</th>\n",
       "    </tr>\n",
       "  </thead>\n",
       "  <tbody>\n",
       "    <tr>\n",
       "      <th>critic_score</th>\n",
       "      <td>1.000000</td>\n",
       "      <td>0.579920</td>\n",
       "      <td>0.245414</td>\n",
       "    </tr>\n",
       "    <tr>\n",
       "      <th>user_score</th>\n",
       "      <td>0.579920</td>\n",
       "      <td>1.000000</td>\n",
       "      <td>0.087935</td>\n",
       "    </tr>\n",
       "    <tr>\n",
       "      <th>total_sales</th>\n",
       "      <td>0.245414</td>\n",
       "      <td>0.087935</td>\n",
       "      <td>1.000000</td>\n",
       "    </tr>\n",
       "  </tbody>\n",
       "</table>\n",
       "</div>"
      ],
      "text/plain": [
       "              critic_score  user_score  total_sales\n",
       "critic_score      1.000000    0.579920     0.245414\n",
       "user_score        0.579920    1.000000     0.087935\n",
       "total_sales       0.245414    0.087935     1.000000"
      ]
     },
     "execution_count": 43,
     "metadata": {},
     "output_type": "execute_result"
    }
   ],
   "source": [
    "# То же самое по всем платформам\n",
    "df[['critic_score', 'user_score', 'total_sales']].corr()"
   ]
  },
  {
   "cell_type": "code",
   "execution_count": 44,
   "metadata": {},
   "outputs": [
    {
     "data": {
      "text/html": [
       "<div>\n",
       "<style scoped>\n",
       "    .dataframe tbody tr th:only-of-type {\n",
       "        vertical-align: middle;\n",
       "    }\n",
       "\n",
       "    .dataframe tbody tr th {\n",
       "        vertical-align: top;\n",
       "    }\n",
       "\n",
       "    .dataframe thead th {\n",
       "        text-align: right;\n",
       "    }\n",
       "</style>\n",
       "<table border=\"1\" class=\"dataframe\">\n",
       "  <thead>\n",
       "    <tr style=\"text-align: right;\">\n",
       "      <th></th>\n",
       "      <th>critic_score</th>\n",
       "      <th>user_score</th>\n",
       "      <th>total_sales</th>\n",
       "    </tr>\n",
       "  </thead>\n",
       "  <tbody>\n",
       "    <tr>\n",
       "      <th>critic_score</th>\n",
       "      <td>1.000000</td>\n",
       "      <td>0.557654</td>\n",
       "      <td>0.406568</td>\n",
       "    </tr>\n",
       "    <tr>\n",
       "      <th>user_score</th>\n",
       "      <td>0.557654</td>\n",
       "      <td>1.000000</td>\n",
       "      <td>-0.031957</td>\n",
       "    </tr>\n",
       "    <tr>\n",
       "      <th>total_sales</th>\n",
       "      <td>0.406568</td>\n",
       "      <td>-0.031957</td>\n",
       "      <td>1.000000</td>\n",
       "    </tr>\n",
       "  </tbody>\n",
       "</table>\n",
       "</div>"
      ],
      "text/plain": [
       "              critic_score  user_score  total_sales\n",
       "critic_score      1.000000    0.557654     0.406568\n",
       "user_score        0.557654    1.000000    -0.031957\n",
       "total_sales       0.406568   -0.031957     1.000000"
      ]
     },
     "execution_count": 44,
     "metadata": {},
     "output_type": "execute_result"
    }
   ],
   "source": [
    "# То же самое по современной платформе (платформа \"PS4\")\n",
    "df.query('platform == \"PS4\"')[['critic_score', 'user_score', 'total_sales']].corr()"
   ]
  },
  {
   "cell_type": "markdown",
   "metadata": {},
   "source": [
    "Зависимость между продажами игр на платформе \"PS2\" (лидер продаж) и оценками критиков невысокая, а между продажами игр и оценками пользователей - низкая.\n",
    "<br>\n",
    "По продажам по всем платформам в целом имеется еще более выраженная тенденция в сторону снижения зависимостей.\n",
    "\n",
    "Из анализа диаграмм рассеяния можно сделать **вывод:**\n",
    "<br>\n",
    "достаточно **много игр с высокой оценкой критиков и слабой выручкой**."
   ]
  },
  {
   "cell_type": "markdown",
   "metadata": {},
   "source": [
    "#### Анализ влияния жанров на объем продаж"
   ]
  },
  {
   "cell_type": "code",
   "execution_count": 45,
   "metadata": {},
   "outputs": [
    {
     "data": {
      "text/html": [
       "<div>\n",
       "<style scoped>\n",
       "    .dataframe tbody tr th:only-of-type {\n",
       "        vertical-align: middle;\n",
       "    }\n",
       "\n",
       "    .dataframe tbody tr th {\n",
       "        vertical-align: top;\n",
       "    }\n",
       "\n",
       "    .dataframe thead th {\n",
       "        text-align: right;\n",
       "    }\n",
       "</style>\n",
       "<table border=\"1\" class=\"dataframe\">\n",
       "  <thead>\n",
       "    <tr style=\"text-align: right;\">\n",
       "      <th></th>\n",
       "      <th>count</th>\n",
       "      <th>sum</th>\n",
       "      <th>mean</th>\n",
       "      <th>median</th>\n",
       "    </tr>\n",
       "    <tr>\n",
       "      <th>genre</th>\n",
       "      <th></th>\n",
       "      <th></th>\n",
       "      <th></th>\n",
       "      <th></th>\n",
       "    </tr>\n",
       "  </thead>\n",
       "  <tbody>\n",
       "    <tr>\n",
       "      <th>Shooter</th>\n",
       "      <td>81</td>\n",
       "      <td>105.73</td>\n",
       "      <td>1.31</td>\n",
       "      <td>0.38</td>\n",
       "    </tr>\n",
       "    <tr>\n",
       "      <th>Action</th>\n",
       "      <td>431</td>\n",
       "      <td>102.13</td>\n",
       "      <td>0.24</td>\n",
       "      <td>0.06</td>\n",
       "    </tr>\n",
       "    <tr>\n",
       "      <th>Sports</th>\n",
       "      <td>107</td>\n",
       "      <td>64.33</td>\n",
       "      <td>0.60</td>\n",
       "      <td>0.12</td>\n",
       "    </tr>\n",
       "    <tr>\n",
       "      <th>Role-Playing</th>\n",
       "      <td>132</td>\n",
       "      <td>55.82</td>\n",
       "      <td>0.42</td>\n",
       "      <td>0.12</td>\n",
       "    </tr>\n",
       "    <tr>\n",
       "      <th>Misc</th>\n",
       "      <td>71</td>\n",
       "      <td>14.17</td>\n",
       "      <td>0.20</td>\n",
       "      <td>0.06</td>\n",
       "    </tr>\n",
       "    <tr>\n",
       "      <th>Fighting</th>\n",
       "      <td>37</td>\n",
       "      <td>12.37</td>\n",
       "      <td>0.33</td>\n",
       "      <td>0.09</td>\n",
       "    </tr>\n",
       "    <tr>\n",
       "      <th>Adventure</th>\n",
       "      <td>110</td>\n",
       "      <td>11.98</td>\n",
       "      <td>0.11</td>\n",
       "      <td>0.03</td>\n",
       "    </tr>\n",
       "    <tr>\n",
       "      <th>Racing</th>\n",
       "      <td>42</td>\n",
       "      <td>10.86</td>\n",
       "      <td>0.26</td>\n",
       "      <td>0.06</td>\n",
       "    </tr>\n",
       "    <tr>\n",
       "      <th>Platform</th>\n",
       "      <td>28</td>\n",
       "      <td>9.28</td>\n",
       "      <td>0.33</td>\n",
       "      <td>0.10</td>\n",
       "    </tr>\n",
       "    <tr>\n",
       "      <th>Simulation</th>\n",
       "      <td>33</td>\n",
       "      <td>7.55</td>\n",
       "      <td>0.23</td>\n",
       "      <td>0.10</td>\n",
       "    </tr>\n",
       "    <tr>\n",
       "      <th>Strategy</th>\n",
       "      <td>29</td>\n",
       "      <td>2.98</td>\n",
       "      <td>0.10</td>\n",
       "      <td>0.05</td>\n",
       "    </tr>\n",
       "    <tr>\n",
       "      <th>Puzzle</th>\n",
       "      <td>7</td>\n",
       "      <td>0.72</td>\n",
       "      <td>0.10</td>\n",
       "      <td>0.03</td>\n",
       "    </tr>\n",
       "  </tbody>\n",
       "</table>\n",
       "</div>"
      ],
      "text/plain": [
       "              count     sum  mean  median\n",
       "genre                                    \n",
       "Shooter          81  105.73  1.31    0.38\n",
       "Action          431  102.13  0.24    0.06\n",
       "Sports          107   64.33  0.60    0.12\n",
       "Role-Playing    132   55.82  0.42    0.12\n",
       "Misc             71   14.17  0.20    0.06\n",
       "Fighting         37   12.37  0.33    0.09\n",
       "Adventure       110   11.98  0.11    0.03\n",
       "Racing           42   10.86  0.26    0.06\n",
       "Platform         28    9.28  0.33    0.10\n",
       "Simulation       33    7.55  0.23    0.10\n",
       "Strategy         29    2.98  0.10    0.05\n",
       "Puzzle            7    0.72  0.10    0.03"
      ]
     },
     "execution_count": 45,
     "metadata": {},
     "output_type": "execute_result"
    }
   ],
   "source": [
    "# Расчет количества игр, объема продаж, среднего и медианного значений в разбивке по жанрам  \n",
    "genre_stat = (\n",
    "    data\n",
    "    .groupby('genre')['total_sales']\n",
    "    .agg(['count', 'sum', 'mean', 'median'])\n",
    "    .round(2)\n",
    "    .sort_values('sum', ascending=False)\n",
    ")\n",
    "genre_stat"
   ]
  },
  {
   "cell_type": "code",
   "execution_count": 46,
   "metadata": {
    "scrolled": false
   },
   "outputs": [
    {
     "data": {
      "image/png": "[encoded data removed]",
      "text/plain": [
       "<Figure size 1080x504 with 1 Axes>"
      ]
     },
     "metadata": {
      "needs_background": "light"
     },
     "output_type": "display_data"
    }
   ],
   "source": [
    "pd.pivot_table(\n",
    "    data,\n",
    "    index='name',\n",
    "    columns='genre',\n",
    "    values='total_sales',\n",
    "    aggfunc='sum'\n",
    ").plot(kind='box', figsize=(15, 7))\n",
    "plt.xlabel('Жанр')\n",
    "plt.ylabel('Продажи, в млн. копий')\n",
    "plt.title('Диаграммы размаха продаж игр по жанрам')\n",
    "plt.show()"
   ]
  },
  {
   "cell_type": "code",
   "execution_count": 47,
   "metadata": {},
   "outputs": [
    {
     "data": {
      "image/png": "[encoded data removed]",
      "text/plain": [
       "<Figure size 1080x504 with 1 Axes>"
      ]
     },
     "metadata": {
      "needs_background": "light"
     },
     "output_type": "display_data"
    }
   ],
   "source": [
    "pd.pivot_table(\n",
    "    data,\n",
    "    index='name',\n",
    "    columns='genre',\n",
    "    values='total_sales',\n",
    "    aggfunc='sum'\n",
    ").plot(kind='box', figsize=(15, 7))\n",
    "plt.ylim(0, 7.5)\n",
    "plt.xlabel('Жарн')\n",
    "plt.ylabel('Продажи, в млн. копий')\n",
    "plt.title('Диаграммы размаха продаж игр по жанрам')\n",
    "plt.show()"
   ]
  },
  {
   "cell_type": "markdown",
   "metadata": {},
   "source": [
    "По медианным значениям и размаху квантилей **наилучшие показатели продаж** у жанров (в порядке убывания): **\"Шутер\"** (лидирует с большим отрывом), **\"Спорт\"**, \"Гонки\".\n",
    "<br>\n",
    "У жанра \"Экшен\" наблюдается большое количество выбросов с высокими объемами продаж.\n",
    "<br>\n",
    "По абсолютному значению наибольший объем продаж у жанров: \"Шутер\", \"Экшен\", \"Спорт\". Наименьший объем продаж у жанра \"Паззл\".\n",
    "<br>\n",
    "Таким образом жанры \"Шутер\" и \"Спорт\" являются лидерами по всем указанным параметрам."
   ]
  },
  {
   "cell_type": "markdown",
   "metadata": {},
   "source": [
    "### \"Портрет\" пользователя каждого региона"
   ]
  },
  {
   "cell_type": "code",
   "execution_count": 48,
   "metadata": {
    "scrolled": false
   },
   "outputs": [
    {
     "name": "stdout",
     "output_type": "stream",
     "text": [
      "Топ 5 популярных игровых платформ США (по объемам продаж)\n",
      "        count    sum  mean  median\n",
      "PS4       301  63.86  0.21    0.03\n",
      "XOne      167  50.30  0.30    0.08\n",
      "3DS       132  10.31  0.08    0.00\n",
      "WiiU       42   8.86  0.21    0.10\n",
      "X360       48   8.05  0.17    0.06\n",
      "Другие    418  10.41  0.02    0.00\n",
      "\n",
      "\n",
      "Топ 5 популярных игровых платформ Европы (по объемам продаж)\n",
      "        count    sum  mean  median\n",
      "PS4       301  83.54  0.28    0.05\n",
      "XOne      167  28.10  0.17    0.05\n",
      "PC        104   9.10  0.09    0.04\n",
      "3DS       132   7.39  0.06    0.00\n",
      "PS3       111   7.30  0.07    0.00\n",
      "Другие    293  12.51  0.04    0.00\n",
      "\n",
      "\n",
      "Топ 5 популярных игровых платформ Японии (по объемам продаж)\n",
      "        count    sum  mean  median\n",
      "3DS       132  23.55  0.18    0.05\n",
      "PS4       301  12.05  0.04    0.01\n",
      "PSV       195   8.41  0.04    0.03\n",
      "PS3       111   4.97  0.04    0.02\n",
      "WiiU       42   4.12  0.10    0.01\n",
      "Другие    327   0.30  0.00    0.00\n",
      "\n",
      "\n"
     ]
    },
    {
     "data": {
      "image/png": "[encoded data removed]",
      "text/plain": [
       "<Figure size 864x324 with 3 Axes>"
      ]
     },
     "metadata": {
      "needs_background": "light"
     },
     "output_type": "display_data"
    }
   ],
   "source": [
    "# Расчет количества игр, объема продаж, среднего и медианного значений\\\n",
    "# в разбивке по платформам и регионам\n",
    "counter = 0\n",
    "for k in ['na_sales', 'eu_sales', 'jp_sales']:\n",
    "    counter += 1\n",
    "    platform_stats_reg = (\n",
    "        data\n",
    "        .groupby('platform')[k]\n",
    "        .agg(['count', 'sum', 'mean', 'median'])\n",
    "        .round(2)\n",
    "        .sort_values('sum', ascending=False)\n",
    "    ).head()\n",
    "    other = data[~data['platform'].isin(platform_stats_reg.index)]\n",
    "    other = other.assign(other = 'Другие')\n",
    "    other = (\n",
    "        other\n",
    "        .groupby('other')[k]\n",
    "        .agg(['count', 'sum', 'mean', 'median'])\n",
    "        .round(2)      \n",
    "    )\n",
    "    platform_stats_reg = platform_stats_reg.append(other)\n",
    "    \n",
    "    if k == 'na_sales':\n",
    "        t = 'США'\n",
    "    elif k == 'eu_sales':\n",
    "        t = 'Европы'\n",
    "    else:\n",
    "        t = 'Японии'\n",
    "    print(f'Топ 5 популярных игровых платформ {t} (по объемам продаж)')\n",
    "    print(platform_stats_reg)\n",
    "    print()\n",
    "    print()\n",
    "    \n",
    "    plt.subplot(1, 3, counter)\n",
    "    platform_stats_reg['sum'].plot(kind='bar', figsize=(12, 4.5))\n",
    "    plt.xlabel('Платформа')\n",
    "    plt.ylabel('Продажи, в млн. копий')\n",
    "    plt.title(f'Топ 5 игровых платформ {t}')\n",
    "    plt.suptitle('Сравнение объемов продаж Топ 5 игровых платформ в США, Европе и Японии')"
   ]
  },
  {
   "cell_type": "markdown",
   "metadata": {},
   "source": [
    "В **США** наиболее полулярные платформы: - **PS4** и **XOne**.\n",
    "\n",
    "В **Европе** ситуация аналогичная США, но разрыв между платформами существенный.\n",
    "\n",
    "В **Японии** наиболее полулярные платформы: **3DS** и **PS4** (существенный разрывом в пользу первой)."
   ]
  },
  {
   "cell_type": "code",
   "execution_count": 49,
   "metadata": {
    "scrolled": false
   },
   "outputs": [
    {
     "name": "stdout",
     "output_type": "stream",
     "text": [
      "Топ 5 популярных жанров пользователей США (по объемам продаж)\n",
      "              count    sum  mean  median\n",
      "Shooter          81  48.18  0.59    0.17\n",
      "Action          431  33.68  0.08    0.00\n",
      "Sports          107  26.31  0.25    0.04\n",
      "Role-Playing    132  19.82  0.15    0.01\n",
      "Misc             71   5.58  0.08    0.01\n",
      "Другие          286  18.22  0.06    0.00\n",
      "\n",
      "\n",
      "Топ 5 популярных жанров пользователей Европы (по объемам продаж)\n",
      "              count    sum  mean  median\n",
      "Shooter          81  40.28  0.50    0.15\n",
      "Action          431  34.82  0.08    0.01\n",
      "Sports          107  27.82  0.26    0.05\n",
      "Role-Playing    132  17.21  0.13    0.01\n",
      "Racing           42   6.52  0.16    0.04\n",
      "Другие          315  21.29  0.07    0.01\n",
      "\n",
      "\n",
      "Топ 5 популярных жанров пользователей Японии (по объемам продаж)\n",
      "              count    sum  mean  median\n",
      "Action          431  23.05  0.05    0.01\n",
      "Role-Playing    132  13.41  0.10    0.05\n",
      "Shooter          81   3.79  0.05    0.00\n",
      "Misc             71   3.19  0.04    0.02\n",
      "Adventure       110   2.22  0.02    0.01\n",
      "Другие          283   7.74  0.03    0.00\n",
      "\n",
      "\n"
     ]
    },
    {
     "data": {
      "image/png": "[encoded data removed]",
      "text/plain": [
       "<Figure size 864x324 with 3 Axes>"
      ]
     },
     "metadata": {
      "needs_background": "light"
     },
     "output_type": "display_data"
    }
   ],
   "source": [
    "# Расчет количества игр, объема продаж, среднего и медианного значений\\\n",
    "# в разбивке по жанрам и регионам\n",
    "counter = 0\n",
    "for k in ['na_sales', 'eu_sales', 'jp_sales']:\n",
    "    counter += 1\n",
    "    genre_stats_reg = (\n",
    "        data\n",
    "        .groupby('genre')[k]\n",
    "        .agg(['count', 'sum', 'mean', 'median'])\n",
    "        .round(2)\n",
    "        .sort_values('sum', ascending=False)\n",
    "    ).head()\n",
    "    other = data[~data['genre'].isin(genre_stats_reg.index)]\n",
    "    other = other.assign(other = 'Другие')\n",
    "    other = (\n",
    "        other\n",
    "        .groupby('other')[k]\n",
    "        .agg(['count', 'sum', 'mean', 'median'])\n",
    "        .round(2)      \n",
    "    )\n",
    "    genre_stats_reg = genre_stats_reg.append(other)\n",
    "    \n",
    "    if k == 'na_sales':\n",
    "        t = 'США'\n",
    "    elif k == 'eu_sales':\n",
    "        t = 'Европы'\n",
    "    else:\n",
    "        t = 'Японии'\n",
    "    print(f'Топ 5 популярных жанров пользователей {t} (по объемам продаж)')\n",
    "    print(genre_stats_reg)\n",
    "    print()\n",
    "    print()\n",
    "    \n",
    "    plt.subplot(1, 3, counter)\n",
    "    genre_stats_reg['sum'].plot(kind='bar', figsize=(12, 4.5))\n",
    "    plt.xlabel('Жанр')\n",
    "    plt.ylabel('Продажи, в млн. копий')\n",
    "    plt.title(f'Топ 5 жанров игр {t}')\n",
    "    plt.suptitle('Сравнение объемов продаж Топ 5 жанров игр в США, Европе и Японии')"
   ]
  },
  {
   "cell_type": "markdown",
   "metadata": {},
   "source": [
    "В **США** наиболее полулярные жанры: **Шутер**, **Экшен** и **Спорт**.\n",
    "\n",
    "В **Европе** наиболее полулярные жанры аналогичны США.\n",
    "\n",
    "В **Японии** наиболее полулярные жанры: **Экшен** и **Ролевые игры**."
   ]
  },
  {
   "cell_type": "code",
   "execution_count": 50,
   "metadata": {},
   "outputs": [
    {
     "name": "stdout",
     "output_type": "stream",
     "text": [
      "Топ 5 возрастных категорий (рейтингов) пользователей США (по объемам продаж)\n",
      "                     count    sum      mean  median\n",
      "rating                                             \n",
      "M                      149  47.03  0.315638    0.08\n",
      "неизвестный рейтинг    513  37.44  0.072982    0.00\n",
      "E                      153  26.59  0.173791    0.03\n",
      "T                      192  22.86  0.119063    0.03\n",
      "E10+                   101  17.87  0.176931    0.05\n",
      "\n",
      "Топ 5 возрастных категорий (рейтингов) пользователей Европы (по объемам продаж)\n",
      "                     count    sum      mean  median\n",
      "rating                                             \n",
      "M                      149  45.54  0.305638   0.080\n",
      "неизвестный рейтинг    513  35.71  0.069610   0.000\n",
      "E                      153  34.83  0.227647   0.040\n",
      "T                      192  20.32  0.105833   0.035\n",
      "E10+                   101  11.54  0.114257   0.060\n",
      "\n",
      "Топ 5 возрастных категорий (рейтингов) пользователей Японии (по объемам продаж)\n",
      "                     count    sum      mean  median\n",
      "rating                                             \n",
      "неизвестный рейтинг    513  32.89  0.064113    0.02\n",
      "T                      192   7.70  0.040104    0.00\n",
      "E                      153   5.25  0.034314    0.00\n",
      "M                      149   4.29  0.028792    0.00\n",
      "E10+                   101   3.27  0.032376    0.00\n",
      "\n"
     ]
    }
   ],
   "source": [
    "# Расчет количества игр, объема продаж, среднего и медианного значений\\\n",
    "# в разбивке по рейтингам и регионам\n",
    "for k in ['na_sales', 'eu_sales', 'jp_sales']:\n",
    "    rating_stats_reg = (\n",
    "        data\n",
    "        .groupby('rating')[k]\n",
    "        .agg(['count', 'sum', 'mean', 'median'])\n",
    "        .sort_values('sum', ascending=False)\n",
    "    )\n",
    "    if k == 'na_sales':\n",
    "        t = 'США'\n",
    "    elif k == 'eu_sales':\n",
    "        t = 'Европы'\n",
    "    else:\n",
    "        t = 'Японии'\n",
    "    print(f'Топ 5 возрастных категорий (рейтингов) пользователей {t} (по объемам продаж)')\n",
    "    print(rating_stats_reg.head())\n",
    "    print()"
   ]
  },
  {
   "cell_type": "markdown",
   "metadata": {},
   "source": [
    "Возрастные категории (**рейтинги**) пользователей в **США и Европе** распределены в порядке убывания объемов продаж следующим образом: **\"M\", \"E\", \"T\", \"E10+\"**; с учетом того, что на 2-м месте находится \"неизвестный рейтинг\".\n",
    "В **Японии** распределение следйющее: **\"T\", \"E\", \"M\", \"E10+\"**; с учетом того, что \"неизвестный рейтинг\" на первом месте."
   ]
  },
  {
   "cell_type": "markdown",
   "metadata": {},
   "source": [
    "### Проверка гипотез"
   ]
  },
  {
   "cell_type": "markdown",
   "metadata": {},
   "source": [
    "**Гипотеза № 1: cредние пользовательские рейтинги платформ *XOne* и *PC* одинаковые**;\n",
    "\n",
    "```\n",
    "H_0: Оценка пользователей (user_score) платформы \"XOne\" = оценка пользователей (user_score) платформы \"PC\"\n",
    "H_a: Оценка пользователей (user_score) платформы \"XOne\" ≠ оценка пользователей (user_score) платформы \"PC\"\n",
    "alpha = 0.05\n",
    "```\n",
    "При анализе будем использовать статистический критерий Стьюдента для независимых выборок.\n",
    "Нет оснований полагать, что в результате выборок будут получены примерно равные датасеты, имеющие примерно равные дисперсии. Поэтому в функции 'ttest_ind' параметру 'equal_var' присвоим значение 'False'."
   ]
  },
  {
   "cell_type": "code",
   "execution_count": 51,
   "metadata": {},
   "outputs": [
    {
     "name": "stdout",
     "output_type": "stream",
     "text": [
      "0.2946308864003345\n",
      "Не получилось отвергнуть нулевую гипотезу\n"
     ]
    }
   ],
   "source": [
    "results = st.ttest_ind(\n",
    "    data.query('(platform == \"XOne\") & (~user_score.isna())')['user_score'],\n",
    "    data.query('(platform == \"PC\") & (~user_score.isna())')['user_score'],\n",
    "    equal_var=False\n",
    ")\n",
    "alpha = 0.05\n",
    "print(results.pvalue)\n",
    "if results.pvalue < alpha:\n",
    "    print('Отвергаем нулевую гипотезу')\n",
    "else:\n",
    "    print('Не получилось отвергнуть нулевую гипотезу')"
   ]
  },
  {
   "cell_type": "markdown",
   "metadata": {},
   "source": [
    "Полученное значение p-value значительно превосходит установленный порог (5%).\n",
    "\n",
    "Вывод: **не отвергаем гипотезу № 1**."
   ]
  },
  {
   "cell_type": "markdown",
   "metadata": {},
   "source": [
    "**Гипотеза № 2: cредние пользовательские рейтинги жанров *Action* (англ. «действие», экшен-игры) и *Sports* (англ. «спортивные соревнования») разные**;\n",
    "\n",
    "```\n",
    "H_0: Оценка пользователей (user_score) жанра \"Action\" = оценка пользователей (user_score) жанра \"Sports\"\n",
    "H_a: Оценка пользователей (user_score) жанра \"Action\" ≠ оценка пользователей (user_score) жанра \"Sports\"\n",
    "alpha = 0.05\n",
    "```\n",
    "При анализе будем использовать статистический критерий Стьюдента для независимых выборок.\n",
    "Нет оснований полагать, что в результате выборок будут получены примерно равные датасеты, имеющие примерно равные дисперсии. Поэтому в функции 'ttest_ind' параметру 'equal_var' присвоим значение 'False'."
   ]
  },
  {
   "cell_type": "code",
   "execution_count": 52,
   "metadata": {
    "scrolled": true
   },
   "outputs": [
    {
     "name": "stdout",
     "output_type": "stream",
     "text": [
      "5.97163549920592e-10\n",
      "Отвергаем нулевую гипотезу\n"
     ]
    }
   ],
   "source": [
    "results = st.ttest_ind(\n",
    "    data.query('(genre == \"Action\") & (~user_score.isna())')['user_score'],\n",
    "    data.query('(genre == \"Sports\") & (~user_score.isna())')['user_score'],\n",
    "    equal_var=False\n",
    ")\n",
    "alpha = 0.05\n",
    "print(results.pvalue)\n",
    "if results.pvalue < alpha:\n",
    "    print('Отвергаем нулевую гипотезу')\n",
    "else:\n",
    "    print('Не получилось отвергнуть нулевую гипотезу')"
   ]
  },
  {
   "cell_type": "markdown",
   "metadata": {},
   "source": [
    "Полученное значение p-value на порядки меньше установленный порог (5%).\n",
    "\n",
    "Вывод: **не отвергаем гипотезу № 2**."
   ]
  },
  {
   "cell_type": "markdown",
   "metadata": {},
   "source": [
    "### Общие выводы"
   ]
  },
  {
   "cell_type": "markdown",
   "metadata": {},
   "source": [
    "#### Объект исследования и предобработка данных"
   ]
  },
  {
   "cell_type": "markdown",
   "metadata": {},
   "source": [
    "**Вводные данные**\n",
    "\n",
    "На исследование предоставлены данные об объемах продаж (в разбивке по регионам) электронных игр, а также различные параметры этих продуктов.\n",
    "\n",
    "Чсило параметров (столбцов): 11<br>\n",
    "Число электронных игр (строк): 16715\n",
    "\n",
    "Выявлены следующие проблемы в данных.<br> \n",
    "Существенные пропуски имеются в столбцах: *Year_of_Release*, *Critic_Score*, *User_Score*, *Rating*.<br>\n",
    "Некорректный тип данных присутствует в столбцах: *Year_of_Release*, *User_Score*.\n",
    "\n",
    "Пропуски могли возникнуть по причине того, что оценки критиков и пользователей могли не формироваться по части продуктов, не имеющих достаточных объемов продаж либо не имеющих инструментов сбора отзывов. \n",
    "\n",
    "**Предобработка данных**\n",
    "\n",
    " - Названия столбцов приведены к нижнему регистру.\n",
    " - Отброшены продукты без указания года выпуска (менее 2% от общего объема данных), так как год выпуска является основополагающим параметром для целей исследования.\n",
    " - Значения в столбце 'year_of_release' (год выпуска) приведены к целочисленному типу.\n",
    " - В столбце 'user_score' (оценка пользователей) преобразованы значения 'tbd' в значения 'nan'.\n",
    " - Значения в столбце 'user_score' приведены к типу 'float'. \n",
    " - Удалены строки без названия продукта.\n",
    " - Анализируя представленные данные, можно сделать вывод, что значения оценок критиков и оценок пользователей не зависят от других факторов (например от объема продаж), поэтому нельзя заполнить пропуски в этих столбцах достаточно точными значениями. Кроме того заполнение пропусков в этих столбцах медианными значениями приведет к тому, что оценки получат продукты, продажи которых ничтожно малы и скорее всего такие оценки будут существенно завышенными для этих продуктов.\n",
    " - Пропуски в столбце 'rating' (возростной рейтинг) заполнены значениями \"неизвестный рейтинг\"."
   ]
  },
  {
   "cell_type": "markdown",
   "metadata": {},
   "source": [
    "#### Выводы по поставленным вопросам"
   ]
  },
  {
   "cell_type": "markdown",
   "metadata": {},
   "source": [
    "**Исследовательский анализ данных**\n",
    "\n",
    "- Выпуски игр сопоставимые с текущими начались с 1995 года. Данные до 1995 года для текущего исследования не важны.\n",
    "- По результатам анализа 6-и наиболее продаваемых платформ можно сделать вывод, что \"жизненный цикл\" платформы составляет примерно 10 лет. Пик продаж в среднем приходится на середину этого срока - 5 лет. Частота появления новых платформ неоднородна. В 95-2005 годах новые \"топовые\" платформы появлялись с частотой примерно 1 раз в 5 лет. А в 2005 году в интервале 1 - 2 года появилось сразу 4 новые \"топовые\" платформы.<br>\n",
    "Нужно отметить, что к 2016 г. все лидеры продаж находятся на последней стадии \"жизненного цикла\" или уже завершили его.\n",
    "- В качестве актуального периода для прогноза перспективности платформ на 2017 год взяты последние 2 года (2015 г. и 2016 г.)\n",
    "- **Наиболее перспективные** платформы: **PS4**, **XOne** (эти платформы являются продолжением платформ - исторических лидеров продаж). Их срок возникновения составляет 3 года и они находятся на стадии роста (спад продаж в 2016 г. - общая тенденция). Немного отстает от лидеров но тоже является перспективной платформа **3DS**. Платформа **WiiU** может быть интересна тем, что начала \"жизненный цикл\" в 2012 году и к 2017 году должна выйти на свои пиковые показатели. Стоит дополнить перечень перспективных платформ играми для **PC**. Так как эта платформа имеет практически неограниченный \"жизненный цикл\".\n",
    "- Зависимость между продажами игр на платформе \"PS2\" (лидер продаж) и оценками критиков невысокая, а между продажами игр и оценками пользователей - низкая. По продажам по всем платформам в целом имеется еще более выраженная тенденция в сторону снижения зависимостей. Из анализа диаграмм рассеяния можно сделать вывод: достаточно **много игр с высокой оценкой критиков и слабой выручкой**.\n",
    "- По медианным значениям и размаху квантилей **наилучшие показатели продаж** у жанров (в порядке убывания): **\"Шутер\"** (лидирует с большим отрывом), **\"Спорт\"**, \"Гонки\".<br>\n",
    "У жанра \"Экшен\" наблюдается большое количество выбросов с высокими объемами продаж.<br>\n",
    "По абсолютному значению наибольший объем продаж у жанров: \"Шутер\", \"Экшен\", \"Спорт\". Наименьший объем продаж у жанра \"Паззл\".<br>\n",
    "Таким образом жанры \"Шутер\" и \"Спорт\" являются лидерами по всем указанным параметрам.\n",
    "\n",
    "\n",
    "**\"Портрет\" пользователя каждого региона**\n",
    "\n",
    "- В **США** наиболее полулярные платформы: - **PS4** и **XOne**. В **Европе** ситуация аналогичная США, но разрыв между платформами существенный. В **Японии** наиболее полулярные платформы: **3DS** и **PS4** (существенный разрывом в пользу первой).\n",
    "- В **США** наиболее полулярные жанры: **Шутер**, **Экшен** и **Спорт**. В **Европе** наиболее полулярные жанры аналогичны США. В **Японии** наиболее полулярные жанры: **Экшен** и **Ролевые игры**.\n",
    "- Возрастные категории (**рейтинги**) пользователей в **США и Европе** распределены в порядке убывания объемов продаж следующим образом: **\"M\", \"E\", \"T\", \"E10+\"**; с учетом того, что на 2-м месте находится \"неизвестный рейтинг\". В **Японии** распределение следйющее: **\"T\", \"E\", \"M\", \"E10+\"**; с учетом того, что \"неизвестный рейтинг\" на первом месте.\n",
    "\n",
    "\n",
    "**Проверка гипотез**\n",
    "\n",
    "Гипотеза № 1: cредние пользовательские рейтинги платформ XOne и PC одинаковые.<br>\n",
    "Полученное значение p-value значительно превосходит установленный порог (5%).<br>\n",
    "Вывод: **не отвергаем гипотезу № 1**.\n",
    "\n",
    "Гипотеза № 2: cредние пользовательские рейтинги жанров Action и Sports разные.<br>\n",
    "Полученное значение p-value на порядки меньше установленный порог (5%).<br>\n",
    "Вывод: **не отвергаем гипотезу № 2**."
   ]
  }
 ],
 "metadata": {
  "ExecuteTimeLog": [
   {
    "duration": 432,
    "start_time": "2023-03-13T13:17:10.498Z"
   },
   {
    "duration": 110,
    "start_time": "2023-03-13T13:17:53.341Z"
   },
   {
    "duration": 12,
    "start_time": "2023-03-13T13:18:38.467Z"
   },
   {
    "duration": 16,
    "start_time": "2023-03-13T13:21:50.545Z"
   },
   {
    "duration": 12,
    "start_time": "2023-03-13T13:22:53.585Z"
   },
   {
    "duration": 76,
    "start_time": "2023-03-13T13:30:17.406Z"
   },
   {
    "duration": 9,
    "start_time": "2023-03-13T13:30:38.527Z"
   },
   {
    "duration": 17,
    "start_time": "2023-03-13T13:32:14.774Z"
   },
   {
    "duration": 46,
    "start_time": "2023-03-13T13:32:56.645Z"
   },
   {
    "duration": 3,
    "start_time": "2023-03-13T13:49:58.795Z"
   },
   {
    "duration": 9,
    "start_time": "2023-03-13T13:50:42.995Z"
   },
   {
    "duration": 8,
    "start_time": "2023-03-13T13:50:55.695Z"
   },
   {
    "duration": 4,
    "start_time": "2023-03-13T13:54:08.918Z"
   },
   {
    "duration": 19,
    "start_time": "2023-03-13T14:01:04.916Z"
   },
   {
    "duration": 4,
    "start_time": "2023-03-13T14:03:08.718Z"
   },
   {
    "duration": 10,
    "start_time": "2023-03-13T14:24:29.905Z"
   },
   {
    "duration": 13,
    "start_time": "2023-03-13T14:25:33.875Z"
   },
   {
    "duration": 7,
    "start_time": "2023-03-13T14:25:45.316Z"
   },
   {
    "duration": 22,
    "start_time": "2023-03-13T14:29:29.620Z"
   },
   {
    "duration": 3,
    "start_time": "2023-03-13T14:30:39.448Z"
   },
   {
    "duration": 99,
    "start_time": "2023-03-13T14:30:39.453Z"
   },
   {
    "duration": 46,
    "start_time": "2023-03-13T14:30:39.554Z"
   },
   {
    "duration": 44,
    "start_time": "2023-03-13T14:30:39.605Z"
   },
   {
    "duration": 31,
    "start_time": "2023-03-13T14:30:39.653Z"
   },
   {
    "duration": 21,
    "start_time": "2023-03-13T14:30:44.332Z"
   },
   {
    "duration": 11,
    "start_time": "2023-03-13T14:32:59.385Z"
   },
   {
    "duration": 11,
    "start_time": "2023-03-13T14:33:35.459Z"
   },
   {
    "duration": 95,
    "start_time": "2023-03-13T14:34:32.239Z"
   },
   {
    "duration": 3,
    "start_time": "2023-03-13T14:35:58.456Z"
   },
   {
    "duration": 76,
    "start_time": "2023-03-13T14:36:03.648Z"
   },
   {
    "duration": 5,
    "start_time": "2023-03-13T14:36:22.318Z"
   },
   {
    "duration": 3,
    "start_time": "2023-03-13T14:37:45.393Z"
   },
   {
    "duration": 90,
    "start_time": "2023-03-13T14:37:45.399Z"
   },
   {
    "duration": 14,
    "start_time": "2023-03-13T14:37:45.495Z"
   },
   {
    "duration": 36,
    "start_time": "2023-03-13T14:37:45.511Z"
   },
   {
    "duration": 13,
    "start_time": "2023-03-13T14:37:45.549Z"
   },
   {
    "duration": 48,
    "start_time": "2023-03-13T14:37:45.563Z"
   },
   {
    "duration": 29,
    "start_time": "2023-03-13T14:37:45.613Z"
   },
   {
    "duration": 6,
    "start_time": "2023-03-13T14:37:52.438Z"
   },
   {
    "duration": 6,
    "start_time": "2023-03-13T14:51:48.272Z"
   },
   {
    "duration": 7,
    "start_time": "2023-03-13T14:53:41.787Z"
   },
   {
    "duration": 8,
    "start_time": "2023-03-13T15:14:44.588Z"
   },
   {
    "duration": 21,
    "start_time": "2023-03-13T15:15:06.774Z"
   },
   {
    "duration": 6,
    "start_time": "2023-03-13T15:15:53.796Z"
   },
   {
    "duration": 14,
    "start_time": "2023-03-13T15:16:12.599Z"
   },
   {
    "duration": 23,
    "start_time": "2023-03-13T15:18:56.442Z"
   },
   {
    "duration": 41,
    "start_time": "2023-03-13T15:32:27.862Z"
   },
   {
    "duration": 15,
    "start_time": "2023-03-13T15:39:53.150Z"
   },
   {
    "duration": 12,
    "start_time": "2023-03-13T15:40:08.620Z"
   },
   {
    "duration": 16,
    "start_time": "2023-03-13T15:40:38.321Z"
   },
   {
    "duration": 1289,
    "start_time": "2023-03-13T15:42:01.742Z"
   },
   {
    "duration": 12,
    "start_time": "2023-03-13T15:42:30.423Z"
   },
   {
    "duration": 16,
    "start_time": "2023-03-13T15:42:46.079Z"
   },
   {
    "duration": 19,
    "start_time": "2023-03-13T15:48:39.397Z"
   },
   {
    "duration": 9,
    "start_time": "2023-03-13T15:49:34.419Z"
   },
   {
    "duration": 10,
    "start_time": "2023-03-13T15:49:44.443Z"
   },
   {
    "duration": 15,
    "start_time": "2023-03-13T15:49:59.103Z"
   },
   {
    "duration": 9,
    "start_time": "2023-03-13T15:50:30.454Z"
   },
   {
    "duration": 10,
    "start_time": "2023-03-13T15:50:56.064Z"
   },
   {
    "duration": 10,
    "start_time": "2023-03-13T15:51:09.233Z"
   },
   {
    "duration": 10,
    "start_time": "2023-03-13T15:51:22.353Z"
   },
   {
    "duration": 10,
    "start_time": "2023-03-13T15:51:47.249Z"
   },
   {
    "duration": 14,
    "start_time": "2023-03-13T15:52:24.576Z"
   },
   {
    "duration": 75,
    "start_time": "2023-03-13T15:52:39.198Z"
   },
   {
    "duration": 16,
    "start_time": "2023-03-13T15:52:46.472Z"
   },
   {
    "duration": 18,
    "start_time": "2023-03-13T15:54:21.871Z"
   },
   {
    "duration": 8,
    "start_time": "2023-03-13T15:57:18.823Z"
   },
   {
    "duration": 7,
    "start_time": "2023-03-13T15:57:38.420Z"
   },
   {
    "duration": 14,
    "start_time": "2023-03-13T15:58:06.608Z"
   },
   {
    "duration": 11,
    "start_time": "2023-03-13T16:02:34.092Z"
   },
   {
    "duration": 439,
    "start_time": "2023-03-14T09:56:58.158Z"
   },
   {
    "duration": 99,
    "start_time": "2023-03-14T09:56:58.599Z"
   },
   {
    "duration": 16,
    "start_time": "2023-03-14T09:56:58.700Z"
   },
   {
    "duration": 39,
    "start_time": "2023-03-14T09:56:58.717Z"
   },
   {
    "duration": 24,
    "start_time": "2023-03-14T09:56:58.759Z"
   },
   {
    "duration": 30,
    "start_time": "2023-03-14T09:56:58.785Z"
   },
   {
    "duration": 14,
    "start_time": "2023-03-14T09:56:58.817Z"
   },
   {
    "duration": 44,
    "start_time": "2023-03-14T09:56:58.833Z"
   },
   {
    "duration": 39,
    "start_time": "2023-03-14T09:56:58.878Z"
   },
   {
    "duration": 20,
    "start_time": "2023-03-14T09:56:58.919Z"
   },
   {
    "duration": 16,
    "start_time": "2023-03-14T09:56:58.941Z"
   },
   {
    "duration": 1691,
    "start_time": "2023-03-14T10:17:19.162Z"
   },
   {
    "duration": 10,
    "start_time": "2023-03-14T10:20:33.928Z"
   },
   {
    "duration": 1391,
    "start_time": "2023-03-14T10:22:05.424Z"
   },
   {
    "duration": 26,
    "start_time": "2023-03-14T10:22:50.823Z"
   },
   {
    "duration": 78,
    "start_time": "2023-03-14T10:29:14.756Z"
   },
   {
    "duration": 76,
    "start_time": "2023-03-14T10:29:56.948Z"
   },
   {
    "duration": 9,
    "start_time": "2023-03-14T10:30:47.118Z"
   },
   {
    "duration": 8,
    "start_time": "2023-03-14T10:31:23.319Z"
   },
   {
    "duration": 5,
    "start_time": "2023-03-14T10:32:17.358Z"
   },
   {
    "duration": 6,
    "start_time": "2023-03-14T10:33:24.359Z"
   },
   {
    "duration": 6,
    "start_time": "2023-03-14T10:33:26.389Z"
   },
   {
    "duration": 8,
    "start_time": "2023-03-14T10:34:09.617Z"
   },
   {
    "duration": 6,
    "start_time": "2023-03-14T10:34:11.037Z"
   },
   {
    "duration": 3,
    "start_time": "2023-03-14T10:34:48.128Z"
   },
   {
    "duration": 62,
    "start_time": "2023-03-14T10:34:48.133Z"
   },
   {
    "duration": 11,
    "start_time": "2023-03-14T10:34:48.197Z"
   },
   {
    "duration": 58,
    "start_time": "2023-03-14T10:34:48.210Z"
   },
   {
    "duration": 26,
    "start_time": "2023-03-14T10:34:48.271Z"
   },
   {
    "duration": 40,
    "start_time": "2023-03-14T10:34:48.299Z"
   },
   {
    "duration": 18,
    "start_time": "2023-03-14T10:34:48.341Z"
   },
   {
    "duration": 23,
    "start_time": "2023-03-14T10:34:48.361Z"
   },
   {
    "duration": 23,
    "start_time": "2023-03-14T10:34:48.386Z"
   },
   {
    "duration": 41,
    "start_time": "2023-03-14T10:34:48.410Z"
   },
   {
    "duration": 47,
    "start_time": "2023-03-14T10:34:48.453Z"
   },
   {
    "duration": 15,
    "start_time": "2023-03-14T10:34:48.502Z"
   },
   {
    "duration": 6,
    "start_time": "2023-03-14T10:35:18.517Z"
   },
   {
    "duration": 4,
    "start_time": "2023-03-14T10:35:37.521Z"
   },
   {
    "duration": 64,
    "start_time": "2023-03-14T10:35:37.531Z"
   },
   {
    "duration": 11,
    "start_time": "2023-03-14T10:35:37.596Z"
   },
   {
    "duration": 31,
    "start_time": "2023-03-14T10:35:37.608Z"
   },
   {
    "duration": 4,
    "start_time": "2023-03-14T10:35:37.642Z"
   },
   {
    "duration": 17,
    "start_time": "2023-03-14T10:35:37.648Z"
   },
   {
    "duration": 13,
    "start_time": "2023-03-14T10:35:37.667Z"
   },
   {
    "duration": 14,
    "start_time": "2023-03-14T10:35:37.683Z"
   },
   {
    "duration": 9,
    "start_time": "2023-03-14T10:35:37.699Z"
   },
   {
    "duration": 23,
    "start_time": "2023-03-14T10:35:37.709Z"
   },
   {
    "duration": 17,
    "start_time": "2023-03-14T10:35:37.734Z"
   },
   {
    "duration": 11,
    "start_time": "2023-03-14T10:35:37.753Z"
   },
   {
    "duration": 5,
    "start_time": "2023-03-14T10:36:42.406Z"
   },
   {
    "duration": 3,
    "start_time": "2023-03-14T10:36:46.441Z"
   },
   {
    "duration": 61,
    "start_time": "2023-03-14T10:36:46.446Z"
   },
   {
    "duration": 11,
    "start_time": "2023-03-14T10:36:46.509Z"
   },
   {
    "duration": 22,
    "start_time": "2023-03-14T10:36:46.522Z"
   },
   {
    "duration": 3,
    "start_time": "2023-03-14T10:36:46.547Z"
   },
   {
    "duration": 12,
    "start_time": "2023-03-14T10:36:46.552Z"
   },
   {
    "duration": 18,
    "start_time": "2023-03-14T10:36:46.566Z"
   },
   {
    "duration": 11,
    "start_time": "2023-03-14T10:36:46.586Z"
   },
   {
    "duration": 18,
    "start_time": "2023-03-14T10:36:46.599Z"
   },
   {
    "duration": 27,
    "start_time": "2023-03-14T10:36:46.619Z"
   },
   {
    "duration": 12,
    "start_time": "2023-03-14T10:36:46.648Z"
   },
   {
    "duration": 7,
    "start_time": "2023-03-14T10:36:46.662Z"
   },
   {
    "duration": 3,
    "start_time": "2023-03-14T10:38:30.421Z"
   },
   {
    "duration": 123,
    "start_time": "2023-03-14T10:38:30.426Z"
   },
   {
    "duration": 12,
    "start_time": "2023-03-14T10:38:30.551Z"
   },
   {
    "duration": 63,
    "start_time": "2023-03-14T10:38:30.565Z"
   },
   {
    "duration": 49,
    "start_time": "2023-03-14T10:38:30.630Z"
   },
   {
    "duration": 46,
    "start_time": "2023-03-14T10:38:30.682Z"
   },
   {
    "duration": 49,
    "start_time": "2023-03-14T10:38:30.730Z"
   },
   {
    "duration": 64,
    "start_time": "2023-03-14T10:38:30.782Z"
   },
   {
    "duration": 46,
    "start_time": "2023-03-14T10:38:30.848Z"
   },
   {
    "duration": 76,
    "start_time": "2023-03-14T10:38:30.895Z"
   },
   {
    "duration": 83,
    "start_time": "2023-03-14T10:38:30.973Z"
   },
   {
    "duration": 50,
    "start_time": "2023-03-14T10:38:31.059Z"
   },
   {
    "duration": 5,
    "start_time": "2023-03-14T10:38:40.632Z"
   },
   {
    "duration": 4,
    "start_time": "2023-03-14T10:39:05.852Z"
   },
   {
    "duration": 83,
    "start_time": "2023-03-14T10:39:05.858Z"
   },
   {
    "duration": 13,
    "start_time": "2023-03-14T10:39:05.943Z"
   },
   {
    "duration": 36,
    "start_time": "2023-03-14T10:39:05.958Z"
   },
   {
    "duration": 4,
    "start_time": "2023-03-14T10:39:05.997Z"
   },
   {
    "duration": 22,
    "start_time": "2023-03-14T10:39:06.003Z"
   },
   {
    "duration": 13,
    "start_time": "2023-03-14T10:39:06.027Z"
   },
   {
    "duration": 16,
    "start_time": "2023-03-14T10:39:06.042Z"
   },
   {
    "duration": 32,
    "start_time": "2023-03-14T10:39:06.061Z"
   },
   {
    "duration": 44,
    "start_time": "2023-03-14T10:39:06.095Z"
   },
   {
    "duration": 6,
    "start_time": "2023-03-14T10:39:12.588Z"
   },
   {
    "duration": 5,
    "start_time": "2023-03-14T10:39:25.297Z"
   },
   {
    "duration": 7,
    "start_time": "2023-03-14T10:39:31.467Z"
   },
   {
    "duration": 3,
    "start_time": "2023-03-14T10:39:49.231Z"
   },
   {
    "duration": 95,
    "start_time": "2023-03-14T10:39:49.236Z"
   },
   {
    "duration": 12,
    "start_time": "2023-03-14T10:39:49.333Z"
   },
   {
    "duration": 17,
    "start_time": "2023-03-14T10:39:49.348Z"
   },
   {
    "duration": 4,
    "start_time": "2023-03-14T10:39:49.368Z"
   },
   {
    "duration": 26,
    "start_time": "2023-03-14T10:39:49.374Z"
   },
   {
    "duration": 9,
    "start_time": "2023-03-14T10:39:49.402Z"
   },
   {
    "duration": 9,
    "start_time": "2023-03-14T10:39:49.414Z"
   },
   {
    "duration": 13,
    "start_time": "2023-03-14T10:39:49.425Z"
   },
   {
    "duration": 27,
    "start_time": "2023-03-14T10:39:49.440Z"
   },
   {
    "duration": 21,
    "start_time": "2023-03-14T10:39:49.468Z"
   },
   {
    "duration": 12,
    "start_time": "2023-03-14T10:39:49.491Z"
   },
   {
    "duration": 9,
    "start_time": "2023-03-14T10:39:49.505Z"
   },
   {
    "duration": 7,
    "start_time": "2023-03-14T10:43:11.971Z"
   },
   {
    "duration": 3,
    "start_time": "2023-03-14T10:43:22.562Z"
   },
   {
    "duration": 63,
    "start_time": "2023-03-14T10:43:22.567Z"
   },
   {
    "duration": 10,
    "start_time": "2023-03-14T10:43:22.632Z"
   },
   {
    "duration": 29,
    "start_time": "2023-03-14T10:43:22.645Z"
   },
   {
    "duration": 28,
    "start_time": "2023-03-14T10:43:22.677Z"
   },
   {
    "duration": 33,
    "start_time": "2023-03-14T10:43:22.708Z"
   },
   {
    "duration": 12,
    "start_time": "2023-03-14T10:43:22.744Z"
   },
   {
    "duration": 31,
    "start_time": "2023-03-14T10:43:22.758Z"
   },
   {
    "duration": 32,
    "start_time": "2023-03-14T10:43:22.792Z"
   },
   {
    "duration": 26,
    "start_time": "2023-03-14T10:43:22.825Z"
   },
   {
    "duration": 26,
    "start_time": "2023-03-14T10:43:22.853Z"
   },
   {
    "duration": 30,
    "start_time": "2023-03-14T10:43:22.880Z"
   },
   {
    "duration": 15,
    "start_time": "2023-03-14T10:43:22.912Z"
   },
   {
    "duration": 6,
    "start_time": "2023-03-14T10:43:46.496Z"
   },
   {
    "duration": 57,
    "start_time": "2023-03-14T12:59:31.778Z"
   },
   {
    "duration": 453,
    "start_time": "2023-03-14T12:59:41.657Z"
   },
   {
    "duration": 102,
    "start_time": "2023-03-14T12:59:42.112Z"
   },
   {
    "duration": 12,
    "start_time": "2023-03-14T12:59:42.216Z"
   },
   {
    "duration": 25,
    "start_time": "2023-03-14T12:59:42.230Z"
   },
   {
    "duration": 5,
    "start_time": "2023-03-14T12:59:42.258Z"
   },
   {
    "duration": 26,
    "start_time": "2023-03-14T12:59:42.265Z"
   },
   {
    "duration": 13,
    "start_time": "2023-03-14T12:59:42.295Z"
   },
   {
    "duration": 9,
    "start_time": "2023-03-14T12:59:42.310Z"
   },
   {
    "duration": 11,
    "start_time": "2023-03-14T12:59:42.321Z"
   },
   {
    "duration": 27,
    "start_time": "2023-03-14T12:59:42.334Z"
   },
   {
    "duration": 11,
    "start_time": "2023-03-14T12:59:42.362Z"
   },
   {
    "duration": 26,
    "start_time": "2023-03-14T12:59:42.379Z"
   },
   {
    "duration": 44,
    "start_time": "2023-03-14T12:59:46.173Z"
   },
   {
    "duration": 1559,
    "start_time": "2023-03-14T13:03:00.176Z"
   },
   {
    "duration": 6,
    "start_time": "2023-03-14T13:03:43.455Z"
   },
   {
    "duration": 3,
    "start_time": "2023-03-14T13:11:00.360Z"
   },
   {
    "duration": 75,
    "start_time": "2023-03-14T13:23:19.838Z"
   },
   {
    "duration": 94,
    "start_time": "2023-03-14T13:23:37.868Z"
   },
   {
    "duration": 10,
    "start_time": "2023-03-14T13:24:09.929Z"
   },
   {
    "duration": 1487,
    "start_time": "2023-03-14T13:24:24.774Z"
   },
   {
    "duration": 1552,
    "start_time": "2023-03-14T13:26:09.952Z"
   },
   {
    "duration": 5,
    "start_time": "2023-03-14T13:27:25.974Z"
   },
   {
    "duration": 92,
    "start_time": "2023-03-14T13:27:25.981Z"
   },
   {
    "duration": 17,
    "start_time": "2023-03-14T13:27:26.076Z"
   },
   {
    "duration": 42,
    "start_time": "2023-03-14T13:27:26.095Z"
   },
   {
    "duration": 4,
    "start_time": "2023-03-14T13:27:26.140Z"
   },
   {
    "duration": 18,
    "start_time": "2023-03-14T13:27:26.146Z"
   },
   {
    "duration": 12,
    "start_time": "2023-03-14T13:27:26.166Z"
   },
   {
    "duration": 54,
    "start_time": "2023-03-14T13:27:26.180Z"
   },
   {
    "duration": 13,
    "start_time": "2023-03-14T13:27:26.236Z"
   },
   {
    "duration": 18,
    "start_time": "2023-03-14T13:27:26.250Z"
   },
   {
    "duration": 25,
    "start_time": "2023-03-14T13:27:26.270Z"
   },
   {
    "duration": 32,
    "start_time": "2023-03-14T13:27:26.302Z"
   },
   {
    "duration": 6,
    "start_time": "2023-03-14T13:27:33.902Z"
   },
   {
    "duration": 1695,
    "start_time": "2023-03-14T13:27:57.903Z"
   },
   {
    "duration": 1181,
    "start_time": "2023-03-14T13:29:02.770Z"
   },
   {
    "duration": 10,
    "start_time": "2023-03-14T13:29:47.432Z"
   },
   {
    "duration": 1422,
    "start_time": "2023-03-14T13:31:27.357Z"
   },
   {
    "duration": 1687,
    "start_time": "2023-03-14T13:32:05.479Z"
   },
   {
    "duration": 1615,
    "start_time": "2023-03-14T13:35:33.930Z"
   },
   {
    "duration": 18,
    "start_time": "2023-03-14T13:36:54.405Z"
   },
   {
    "duration": 4,
    "start_time": "2023-03-14T13:37:45.102Z"
   },
   {
    "duration": 58,
    "start_time": "2023-03-14T13:37:45.109Z"
   },
   {
    "duration": 19,
    "start_time": "2023-03-14T13:37:45.169Z"
   },
   {
    "duration": 38,
    "start_time": "2023-03-14T13:37:45.190Z"
   },
   {
    "duration": 3,
    "start_time": "2023-03-14T13:37:45.231Z"
   },
   {
    "duration": 11,
    "start_time": "2023-03-14T13:37:45.237Z"
   },
   {
    "duration": 5,
    "start_time": "2023-03-14T13:37:45.250Z"
   },
   {
    "duration": 13,
    "start_time": "2023-03-14T13:37:45.257Z"
   },
   {
    "duration": 38,
    "start_time": "2023-03-14T13:37:45.272Z"
   },
   {
    "duration": 27,
    "start_time": "2023-03-14T13:37:45.312Z"
   },
   {
    "duration": 15,
    "start_time": "2023-03-14T13:37:45.341Z"
   },
   {
    "duration": 47,
    "start_time": "2023-03-14T13:37:45.359Z"
   },
   {
    "duration": 8,
    "start_time": "2023-03-14T13:37:45.408Z"
   },
   {
    "duration": 1587,
    "start_time": "2023-03-14T13:37:50.538Z"
   },
   {
    "duration": 1418,
    "start_time": "2023-03-14T13:38:18.586Z"
   },
   {
    "duration": 4,
    "start_time": "2023-03-14T13:39:56.777Z"
   },
   {
    "duration": 78,
    "start_time": "2023-03-14T13:39:56.795Z"
   },
   {
    "duration": 17,
    "start_time": "2023-03-14T13:39:56.875Z"
   },
   {
    "duration": 50,
    "start_time": "2023-03-14T13:39:56.896Z"
   },
   {
    "duration": 27,
    "start_time": "2023-03-14T13:39:56.948Z"
   },
   {
    "duration": 46,
    "start_time": "2023-03-14T13:39:56.979Z"
   },
   {
    "duration": 16,
    "start_time": "2023-03-14T13:39:57.027Z"
   },
   {
    "duration": 9,
    "start_time": "2023-03-14T13:39:57.044Z"
   },
   {
    "duration": 55,
    "start_time": "2023-03-14T13:39:57.055Z"
   },
   {
    "duration": 33,
    "start_time": "2023-03-14T13:39:57.112Z"
   },
   {
    "duration": 25,
    "start_time": "2023-03-14T13:39:57.147Z"
   },
   {
    "duration": 51,
    "start_time": "2023-03-14T13:39:57.174Z"
   },
   {
    "duration": 25,
    "start_time": "2023-03-14T13:39:57.227Z"
   },
   {
    "duration": 4,
    "start_time": "2023-03-14T13:39:59.837Z"
   },
   {
    "duration": 3544,
    "start_time": "2023-03-14T13:40:04.641Z"
   },
   {
    "duration": 1496,
    "start_time": "2023-03-14T13:42:31.902Z"
   },
   {
    "duration": 1631,
    "start_time": "2023-03-14T13:43:16.200Z"
   },
   {
    "duration": 1510,
    "start_time": "2023-03-14T13:43:54.911Z"
   },
   {
    "duration": 1538,
    "start_time": "2023-03-14T13:44:01.991Z"
   },
   {
    "duration": 1439,
    "start_time": "2023-03-14T13:44:12.511Z"
   },
   {
    "duration": 1574,
    "start_time": "2023-03-14T13:46:13.672Z"
   },
   {
    "duration": 3,
    "start_time": "2023-03-14T13:47:18.532Z"
   },
   {
    "duration": 75,
    "start_time": "2023-03-14T13:47:18.537Z"
   },
   {
    "duration": 11,
    "start_time": "2023-03-14T13:47:18.614Z"
   },
   {
    "duration": 22,
    "start_time": "2023-03-14T13:47:18.626Z"
   },
   {
    "duration": 3,
    "start_time": "2023-03-14T13:47:18.650Z"
   },
   {
    "duration": 13,
    "start_time": "2023-03-14T13:47:18.654Z"
   },
   {
    "duration": 13,
    "start_time": "2023-03-14T13:47:18.669Z"
   },
   {
    "duration": 33,
    "start_time": "2023-03-14T13:47:18.684Z"
   },
   {
    "duration": 11,
    "start_time": "2023-03-14T13:47:18.719Z"
   },
   {
    "duration": 22,
    "start_time": "2023-03-14T13:47:18.732Z"
   },
   {
    "duration": 32,
    "start_time": "2023-03-14T13:47:18.757Z"
   },
   {
    "duration": 33,
    "start_time": "2023-03-14T13:47:18.791Z"
   },
   {
    "duration": 12,
    "start_time": "2023-03-14T13:47:18.826Z"
   },
   {
    "duration": 10,
    "start_time": "2023-03-14T13:47:18.841Z"
   },
   {
    "duration": 1368,
    "start_time": "2023-03-14T13:47:42.813Z"
   },
   {
    "duration": 90,
    "start_time": "2023-03-14T13:50:26.028Z"
   },
   {
    "duration": 2204,
    "start_time": "2023-03-14T13:50:38.070Z"
   },
   {
    "duration": 11,
    "start_time": "2023-03-14T13:53:24.171Z"
   },
   {
    "duration": 151,
    "start_time": "2023-03-14T13:54:13.208Z"
   },
   {
    "duration": 36,
    "start_time": "2023-03-14T13:55:14.301Z"
   },
   {
    "duration": 175,
    "start_time": "2023-03-14T13:55:29.333Z"
   },
   {
    "duration": 23,
    "start_time": "2023-03-14T13:55:33.152Z"
   },
   {
    "duration": 149,
    "start_time": "2023-03-14T13:55:45.704Z"
   },
   {
    "duration": 28,
    "start_time": "2023-03-14T13:55:48.914Z"
   },
   {
    "duration": 10,
    "start_time": "2023-03-14T13:56:26.224Z"
   },
   {
    "duration": 4,
    "start_time": "2023-03-14T13:58:42.099Z"
   },
   {
    "duration": 56,
    "start_time": "2023-03-14T13:58:42.107Z"
   },
   {
    "duration": 10,
    "start_time": "2023-03-14T13:58:42.165Z"
   },
   {
    "duration": 51,
    "start_time": "2023-03-14T13:58:42.177Z"
   },
   {
    "duration": 9,
    "start_time": "2023-03-14T13:58:42.230Z"
   },
   {
    "duration": 21,
    "start_time": "2023-03-14T13:58:42.241Z"
   },
   {
    "duration": 12,
    "start_time": "2023-03-14T13:58:42.264Z"
   },
   {
    "duration": 29,
    "start_time": "2023-03-14T13:58:42.283Z"
   },
   {
    "duration": 9,
    "start_time": "2023-03-14T13:58:42.313Z"
   },
   {
    "duration": 20,
    "start_time": "2023-03-14T13:58:42.323Z"
   },
   {
    "duration": 19,
    "start_time": "2023-03-14T13:58:42.345Z"
   },
   {
    "duration": 46,
    "start_time": "2023-03-14T13:58:42.366Z"
   },
   {
    "duration": 18,
    "start_time": "2023-03-14T13:58:42.415Z"
   },
   {
    "duration": 6,
    "start_time": "2023-03-14T13:58:42.437Z"
   },
   {
    "duration": 11,
    "start_time": "2023-03-14T13:58:47.207Z"
   },
   {
    "duration": 121,
    "start_time": "2023-03-14T13:59:01.110Z"
   },
   {
    "duration": 181,
    "start_time": "2023-03-14T13:59:14.741Z"
   },
   {
    "duration": 25,
    "start_time": "2023-03-14T13:59:18.707Z"
   },
   {
    "duration": 5,
    "start_time": "2023-03-14T14:00:38.336Z"
   },
   {
    "duration": 160,
    "start_time": "2023-03-14T14:01:03.622Z"
   },
   {
    "duration": 9,
    "start_time": "2023-03-14T14:01:08.272Z"
   },
   {
    "duration": 178,
    "start_time": "2023-03-14T14:01:36.146Z"
   },
   {
    "duration": 208,
    "start_time": "2023-03-14T14:01:52.352Z"
   },
   {
    "duration": 170,
    "start_time": "2023-03-14T14:02:12.032Z"
   },
   {
    "duration": 16,
    "start_time": "2023-03-14T14:10:44.632Z"
   },
   {
    "duration": 18,
    "start_time": "2023-03-14T14:13:17.290Z"
   },
   {
    "duration": 19,
    "start_time": "2023-03-14T14:14:00.867Z"
   },
   {
    "duration": 2234,
    "start_time": "2023-03-14T14:16:14.213Z"
   },
   {
    "duration": 9,
    "start_time": "2023-03-14T14:16:25.032Z"
   },
   {
    "duration": 4,
    "start_time": "2023-03-14T14:16:33.056Z"
   },
   {
    "duration": 9,
    "start_time": "2023-03-14T14:18:37.952Z"
   },
   {
    "duration": 5,
    "start_time": "2023-03-14T14:18:46.063Z"
   },
   {
    "duration": 3,
    "start_time": "2023-03-14T14:20:02.664Z"
   },
   {
    "duration": 118,
    "start_time": "2023-03-14T14:20:02.669Z"
   },
   {
    "duration": 50,
    "start_time": "2023-03-14T14:20:02.789Z"
   },
   {
    "duration": 53,
    "start_time": "2023-03-14T14:20:02.842Z"
   },
   {
    "duration": 16,
    "start_time": "2023-03-14T14:20:02.897Z"
   },
   {
    "duration": 63,
    "start_time": "2023-03-14T14:20:02.915Z"
   },
   {
    "duration": 35,
    "start_time": "2023-03-14T14:20:02.984Z"
   },
   {
    "duration": 37,
    "start_time": "2023-03-14T14:20:03.021Z"
   },
   {
    "duration": 46,
    "start_time": "2023-03-14T14:20:03.062Z"
   },
   {
    "duration": 56,
    "start_time": "2023-03-14T14:20:03.110Z"
   },
   {
    "duration": 69,
    "start_time": "2023-03-14T14:20:03.168Z"
   },
   {
    "duration": 24,
    "start_time": "2023-03-14T14:20:03.239Z"
   },
   {
    "duration": 34,
    "start_time": "2023-03-14T14:20:03.264Z"
   },
   {
    "duration": 2386,
    "start_time": "2023-03-14T14:20:03.300Z"
   },
   {
    "duration": 12,
    "start_time": "2023-03-14T14:20:08.711Z"
   },
   {
    "duration": 5,
    "start_time": "2023-03-14T14:20:11.164Z"
   },
   {
    "duration": 6,
    "start_time": "2023-03-14T14:20:24.945Z"
   },
   {
    "duration": 9,
    "start_time": "2023-03-14T14:20:59.572Z"
   },
   {
    "duration": 31,
    "start_time": "2023-03-14T14:23:36.402Z"
   },
   {
    "duration": 486,
    "start_time": "2023-03-14T14:30:43.525Z"
   },
   {
    "duration": 52,
    "start_time": "2023-03-14T14:30:44.017Z"
   },
   {
    "duration": 13,
    "start_time": "2023-03-14T14:30:44.070Z"
   },
   {
    "duration": 58,
    "start_time": "2023-03-14T14:30:44.085Z"
   },
   {
    "duration": 17,
    "start_time": "2023-03-14T14:30:44.146Z"
   },
   {
    "duration": 70,
    "start_time": "2023-03-14T14:30:44.165Z"
   },
   {
    "duration": 9,
    "start_time": "2023-03-14T14:30:44.237Z"
   },
   {
    "duration": 21,
    "start_time": "2023-03-14T14:30:44.248Z"
   },
   {
    "duration": 65,
    "start_time": "2023-03-14T14:30:44.271Z"
   },
   {
    "duration": 40,
    "start_time": "2023-03-14T14:30:44.338Z"
   },
   {
    "duration": 59,
    "start_time": "2023-03-14T14:30:44.380Z"
   },
   {
    "duration": 32,
    "start_time": "2023-03-14T14:30:44.441Z"
   },
   {
    "duration": 50,
    "start_time": "2023-03-14T14:30:44.475Z"
   },
   {
    "duration": 32,
    "start_time": "2023-03-14T14:30:44.528Z"
   },
   {
    "duration": 2557,
    "start_time": "2023-03-14T14:30:44.562Z"
   },
   {
    "duration": 10,
    "start_time": "2023-03-14T14:30:47.125Z"
   },
   {
    "duration": 17,
    "start_time": "2023-03-14T14:30:47.137Z"
   },
   {
    "duration": 32,
    "start_time": "2023-03-14T14:35:50.074Z"
   },
   {
    "duration": 11,
    "start_time": "2023-03-14T14:36:58.234Z"
   },
   {
    "duration": 9,
    "start_time": "2023-03-14T14:38:00.102Z"
   },
   {
    "duration": 10,
    "start_time": "2023-03-14T14:38:15.924Z"
   },
   {
    "duration": 5,
    "start_time": "2023-03-14T14:38:18.055Z"
   },
   {
    "duration": 7,
    "start_time": "2023-03-14T14:38:54.097Z"
   },
   {
    "duration": 63,
    "start_time": "2023-03-14T14:38:54.106Z"
   },
   {
    "duration": 17,
    "start_time": "2023-03-14T14:38:54.171Z"
   },
   {
    "duration": 47,
    "start_time": "2023-03-14T14:38:54.196Z"
   },
   {
    "duration": 14,
    "start_time": "2023-03-14T14:38:54.245Z"
   },
   {
    "duration": 29,
    "start_time": "2023-03-14T14:38:54.262Z"
   },
   {
    "duration": 32,
    "start_time": "2023-03-14T14:38:54.293Z"
   },
   {
    "duration": 47,
    "start_time": "2023-03-14T14:38:54.327Z"
   },
   {
    "duration": 59,
    "start_time": "2023-03-14T14:38:54.377Z"
   },
   {
    "duration": 32,
    "start_time": "2023-03-14T14:38:54.439Z"
   },
   {
    "duration": 31,
    "start_time": "2023-03-14T14:38:54.473Z"
   },
   {
    "duration": 20,
    "start_time": "2023-03-14T14:38:54.510Z"
   },
   {
    "duration": 7,
    "start_time": "2023-03-14T14:38:54.532Z"
   },
   {
    "duration": 34,
    "start_time": "2023-03-14T14:38:54.541Z"
   },
   {
    "duration": 2436,
    "start_time": "2023-03-14T14:38:54.576Z"
   },
   {
    "duration": 11,
    "start_time": "2023-03-14T14:38:57.014Z"
   },
   {
    "duration": 7,
    "start_time": "2023-03-14T14:38:57.026Z"
   },
   {
    "duration": 8,
    "start_time": "2023-03-14T14:40:21.045Z"
   },
   {
    "duration": 5,
    "start_time": "2023-03-14T14:40:23.807Z"
   },
   {
    "duration": 2,
    "start_time": "2023-03-14T14:40:37.764Z"
   },
   {
    "duration": 95,
    "start_time": "2023-03-14T14:40:37.769Z"
   },
   {
    "duration": 21,
    "start_time": "2023-03-14T14:40:37.867Z"
   },
   {
    "duration": 34,
    "start_time": "2023-03-14T14:40:37.895Z"
   },
   {
    "duration": 7,
    "start_time": "2023-03-14T14:40:37.931Z"
   },
   {
    "duration": 34,
    "start_time": "2023-03-14T14:40:37.941Z"
   },
   {
    "duration": 36,
    "start_time": "2023-03-14T14:40:37.977Z"
   },
   {
    "duration": 15,
    "start_time": "2023-03-14T14:40:38.016Z"
   },
   {
    "duration": 19,
    "start_time": "2023-03-14T14:40:38.033Z"
   },
   {
    "duration": 19,
    "start_time": "2023-03-14T14:40:38.054Z"
   },
   {
    "duration": 44,
    "start_time": "2023-03-14T14:40:38.075Z"
   },
   {
    "duration": 9,
    "start_time": "2023-03-14T14:40:38.121Z"
   },
   {
    "duration": 8,
    "start_time": "2023-03-14T14:40:38.132Z"
   },
   {
    "duration": 27,
    "start_time": "2023-03-14T14:40:38.142Z"
   },
   {
    "duration": 2457,
    "start_time": "2023-03-14T14:40:38.171Z"
   },
   {
    "duration": 9,
    "start_time": "2023-03-14T14:40:40.630Z"
   },
   {
    "duration": 13,
    "start_time": "2023-03-14T14:40:40.641Z"
   },
   {
    "duration": 4,
    "start_time": "2023-03-14T14:50:38.905Z"
   },
   {
    "duration": 60,
    "start_time": "2023-03-14T14:50:38.911Z"
   },
   {
    "duration": 12,
    "start_time": "2023-03-14T14:50:38.973Z"
   },
   {
    "duration": 58,
    "start_time": "2023-03-14T14:50:38.986Z"
   },
   {
    "duration": 13,
    "start_time": "2023-03-14T14:50:39.047Z"
   },
   {
    "duration": 51,
    "start_time": "2023-03-14T14:50:39.062Z"
   },
   {
    "duration": 7,
    "start_time": "2023-03-14T14:50:39.115Z"
   },
   {
    "duration": 15,
    "start_time": "2023-03-14T14:50:39.124Z"
   },
   {
    "duration": 15,
    "start_time": "2023-03-14T14:50:39.141Z"
   },
   {
    "duration": 25,
    "start_time": "2023-03-14T14:50:39.158Z"
   },
   {
    "duration": 39,
    "start_time": "2023-03-14T14:50:39.185Z"
   },
   {
    "duration": 17,
    "start_time": "2023-03-14T14:50:39.226Z"
   },
   {
    "duration": 15,
    "start_time": "2023-03-14T14:50:39.245Z"
   },
   {
    "duration": 41,
    "start_time": "2023-03-14T14:50:39.263Z"
   },
   {
    "duration": 3,
    "start_time": "2023-03-14T14:53:53.515Z"
   },
   {
    "duration": 66,
    "start_time": "2023-03-14T14:53:53.520Z"
   },
   {
    "duration": 13,
    "start_time": "2023-03-14T14:53:53.587Z"
   },
   {
    "duration": 31,
    "start_time": "2023-03-14T14:53:53.601Z"
   },
   {
    "duration": 4,
    "start_time": "2023-03-14T14:53:53.634Z"
   },
   {
    "duration": 17,
    "start_time": "2023-03-14T14:53:53.639Z"
   },
   {
    "duration": 46,
    "start_time": "2023-03-14T14:53:53.658Z"
   },
   {
    "duration": 21,
    "start_time": "2023-03-14T14:53:53.707Z"
   },
   {
    "duration": 19,
    "start_time": "2023-03-14T14:53:53.731Z"
   },
   {
    "duration": 47,
    "start_time": "2023-03-14T14:53:53.752Z"
   },
   {
    "duration": 45,
    "start_time": "2023-03-14T14:53:53.801Z"
   },
   {
    "duration": 15,
    "start_time": "2023-03-14T14:53:53.848Z"
   },
   {
    "duration": 23,
    "start_time": "2023-03-14T14:53:53.865Z"
   },
   {
    "duration": 71,
    "start_time": "2023-03-14T14:53:53.891Z"
   },
   {
    "duration": 6,
    "start_time": "2023-03-14T14:54:21.938Z"
   },
   {
    "duration": 81,
    "start_time": "2023-03-14T15:07:48.142Z"
   },
   {
    "duration": 6,
    "start_time": "2023-03-14T15:08:29.337Z"
   },
   {
    "duration": 15,
    "start_time": "2023-03-14T15:08:40.716Z"
   },
   {
    "duration": 6,
    "start_time": "2023-03-14T15:10:50.829Z"
   },
   {
    "duration": 2,
    "start_time": "2023-03-14T15:11:25.308Z"
   },
   {
    "duration": 78,
    "start_time": "2023-03-14T15:11:25.313Z"
   },
   {
    "duration": 15,
    "start_time": "2023-03-14T15:11:25.395Z"
   },
   {
    "duration": 24,
    "start_time": "2023-03-14T15:11:25.412Z"
   },
   {
    "duration": 7,
    "start_time": "2023-03-14T15:11:25.440Z"
   },
   {
    "duration": 29,
    "start_time": "2023-03-14T15:11:25.449Z"
   },
   {
    "duration": 40,
    "start_time": "2023-03-14T15:11:25.480Z"
   },
   {
    "duration": 7,
    "start_time": "2023-03-14T15:11:25.522Z"
   },
   {
    "duration": 11,
    "start_time": "2023-03-14T15:11:25.530Z"
   },
   {
    "duration": 17,
    "start_time": "2023-03-14T15:11:25.543Z"
   },
   {
    "duration": 20,
    "start_time": "2023-03-14T15:11:25.562Z"
   },
   {
    "duration": 35,
    "start_time": "2023-03-14T15:11:25.584Z"
   },
   {
    "duration": 22,
    "start_time": "2023-03-14T15:11:25.621Z"
   },
   {
    "duration": 37,
    "start_time": "2023-03-14T15:11:25.646Z"
   },
   {
    "duration": 39,
    "start_time": "2023-03-14T15:11:25.685Z"
   },
   {
    "duration": 28,
    "start_time": "2023-03-14T15:11:25.726Z"
   },
   {
    "duration": 11,
    "start_time": "2023-03-14T15:11:51.877Z"
   },
   {
    "duration": 8,
    "start_time": "2023-03-14T15:12:42.700Z"
   },
   {
    "duration": 5,
    "start_time": "2023-03-14T15:12:46.898Z"
   },
   {
    "duration": 3,
    "start_time": "2023-03-14T15:13:07.961Z"
   },
   {
    "duration": 90,
    "start_time": "2023-03-14T15:13:07.967Z"
   },
   {
    "duration": 10,
    "start_time": "2023-03-14T15:13:08.059Z"
   },
   {
    "duration": 51,
    "start_time": "2023-03-14T15:13:08.070Z"
   },
   {
    "duration": 3,
    "start_time": "2023-03-14T15:13:08.124Z"
   },
   {
    "duration": 30,
    "start_time": "2023-03-14T15:13:08.129Z"
   },
   {
    "duration": 10,
    "start_time": "2023-03-14T15:13:08.160Z"
   },
   {
    "duration": 39,
    "start_time": "2023-03-14T15:13:08.171Z"
   },
   {
    "duration": 11,
    "start_time": "2023-03-14T15:13:08.212Z"
   },
   {
    "duration": 21,
    "start_time": "2023-03-14T15:13:08.225Z"
   },
   {
    "duration": 12,
    "start_time": "2023-03-14T15:13:08.248Z"
   },
   {
    "duration": 14,
    "start_time": "2023-03-14T15:13:08.262Z"
   },
   {
    "duration": 49,
    "start_time": "2023-03-14T15:13:08.277Z"
   },
   {
    "duration": 39,
    "start_time": "2023-03-14T15:13:08.329Z"
   },
   {
    "duration": 42,
    "start_time": "2023-03-14T15:13:08.369Z"
   },
   {
    "duration": 24,
    "start_time": "2023-03-14T15:13:08.414Z"
   },
   {
    "duration": 8,
    "start_time": "2023-03-14T15:13:28.466Z"
   },
   {
    "duration": 9,
    "start_time": "2023-03-14T15:14:06.776Z"
   },
   {
    "duration": 58,
    "start_time": "2023-03-14T15:14:06.788Z"
   },
   {
    "duration": 10,
    "start_time": "2023-03-14T15:14:06.849Z"
   },
   {
    "duration": 19,
    "start_time": "2023-03-14T15:14:06.862Z"
   },
   {
    "duration": 19,
    "start_time": "2023-03-14T15:14:06.883Z"
   },
   {
    "duration": 14,
    "start_time": "2023-03-14T15:14:06.904Z"
   },
   {
    "duration": 4,
    "start_time": "2023-03-14T15:14:06.921Z"
   },
   {
    "duration": 8,
    "start_time": "2023-03-14T15:14:06.927Z"
   },
   {
    "duration": 15,
    "start_time": "2023-03-14T15:14:06.936Z"
   },
   {
    "duration": 15,
    "start_time": "2023-03-14T15:14:06.953Z"
   },
   {
    "duration": 16,
    "start_time": "2023-03-14T15:14:06.971Z"
   },
   {
    "duration": 19,
    "start_time": "2023-03-14T15:14:06.989Z"
   },
   {
    "duration": 6,
    "start_time": "2023-03-14T15:14:07.010Z"
   },
   {
    "duration": 27,
    "start_time": "2023-03-14T15:14:07.018Z"
   },
   {
    "duration": 8,
    "start_time": "2023-03-14T15:14:07.047Z"
   },
   {
    "duration": 24,
    "start_time": "2023-03-14T15:14:07.057Z"
   },
   {
    "duration": 7,
    "start_time": "2023-03-14T15:14:17.324Z"
   },
   {
    "duration": 8,
    "start_time": "2023-03-14T15:14:35.413Z"
   },
   {
    "duration": 8,
    "start_time": "2023-03-14T15:16:56.308Z"
   },
   {
    "duration": 2,
    "start_time": "2023-03-14T15:17:44.231Z"
   },
   {
    "duration": 3,
    "start_time": "2023-03-14T15:17:50.454Z"
   },
   {
    "duration": 8,
    "start_time": "2023-03-14T15:18:03.004Z"
   },
   {
    "duration": 8,
    "start_time": "2023-03-14T15:18:12.577Z"
   },
   {
    "duration": 3,
    "start_time": "2023-03-14T15:18:19.464Z"
   },
   {
    "duration": 69,
    "start_time": "2023-03-14T15:18:19.470Z"
   },
   {
    "duration": 11,
    "start_time": "2023-03-14T15:18:19.540Z"
   },
   {
    "duration": 27,
    "start_time": "2023-03-14T15:18:19.552Z"
   },
   {
    "duration": 48,
    "start_time": "2023-03-14T15:18:19.582Z"
   },
   {
    "duration": 18,
    "start_time": "2023-03-14T15:18:19.632Z"
   },
   {
    "duration": 17,
    "start_time": "2023-03-14T15:18:19.653Z"
   },
   {
    "duration": 25,
    "start_time": "2023-03-14T15:18:19.673Z"
   },
   {
    "duration": 13,
    "start_time": "2023-03-14T15:18:19.700Z"
   },
   {
    "duration": 26,
    "start_time": "2023-03-14T15:18:19.715Z"
   },
   {
    "duration": 12,
    "start_time": "2023-03-14T15:18:19.743Z"
   },
   {
    "duration": 19,
    "start_time": "2023-03-14T15:18:19.757Z"
   },
   {
    "duration": 21,
    "start_time": "2023-03-14T15:18:19.786Z"
   },
   {
    "duration": 27,
    "start_time": "2023-03-14T15:18:19.810Z"
   },
   {
    "duration": 12,
    "start_time": "2023-03-14T15:18:19.840Z"
   },
   {
    "duration": 13,
    "start_time": "2023-03-14T15:18:19.856Z"
   },
   {
    "duration": 7,
    "start_time": "2023-03-14T15:18:26.163Z"
   },
   {
    "duration": 24,
    "start_time": "2023-03-14T15:21:15.020Z"
   },
   {
    "duration": 25,
    "start_time": "2023-03-14T15:22:00.402Z"
   },
   {
    "duration": 6,
    "start_time": "2023-03-14T15:23:12.107Z"
   },
   {
    "duration": 14,
    "start_time": "2023-03-14T15:23:42.268Z"
   },
   {
    "duration": 17,
    "start_time": "2023-03-14T15:31:10.376Z"
   },
   {
    "duration": 15,
    "start_time": "2023-03-14T15:31:40.229Z"
   },
   {
    "duration": 15,
    "start_time": "2023-03-14T15:31:58.479Z"
   },
   {
    "duration": 10,
    "start_time": "2023-03-14T15:32:05.349Z"
   },
   {
    "duration": 11,
    "start_time": "2023-03-14T15:35:49.129Z"
   },
   {
    "duration": 11,
    "start_time": "2023-03-14T15:36:16.848Z"
   },
   {
    "duration": 12,
    "start_time": "2023-03-14T15:36:25.522Z"
   },
   {
    "duration": 16,
    "start_time": "2023-03-14T15:39:07.940Z"
   },
   {
    "duration": 14,
    "start_time": "2023-03-14T15:39:36.950Z"
   },
   {
    "duration": 12,
    "start_time": "2023-03-14T15:40:03.007Z"
   },
   {
    "duration": 21,
    "start_time": "2023-03-14T15:42:49.159Z"
   },
   {
    "duration": 13,
    "start_time": "2023-03-14T15:43:07.268Z"
   },
   {
    "duration": 13,
    "start_time": "2023-03-14T15:43:38.310Z"
   },
   {
    "duration": 4,
    "start_time": "2023-03-14T15:54:31.040Z"
   },
   {
    "duration": 15,
    "start_time": "2023-03-14T16:00:25.715Z"
   },
   {
    "duration": 9,
    "start_time": "2023-03-14T16:08:14.432Z"
   },
   {
    "duration": 6,
    "start_time": "2023-03-14T16:08:44.205Z"
   },
   {
    "duration": 8,
    "start_time": "2023-03-14T16:08:54.434Z"
   },
   {
    "duration": 15,
    "start_time": "2023-03-14T16:10:42.308Z"
   },
   {
    "duration": 14,
    "start_time": "2023-03-14T16:11:10.207Z"
   },
   {
    "duration": 16,
    "start_time": "2023-03-14T16:11:20.005Z"
   },
   {
    "duration": 17,
    "start_time": "2023-03-14T16:11:40.207Z"
   },
   {
    "duration": 10,
    "start_time": "2023-03-14T16:13:30.664Z"
   },
   {
    "duration": 16,
    "start_time": "2023-03-14T16:13:53.639Z"
   },
   {
    "duration": 19,
    "start_time": "2023-03-14T16:13:58.920Z"
   },
   {
    "duration": 18,
    "start_time": "2023-03-14T16:15:45.506Z"
   },
   {
    "duration": 17,
    "start_time": "2023-03-14T16:16:21.737Z"
   },
   {
    "duration": 17,
    "start_time": "2023-03-14T16:20:15.325Z"
   },
   {
    "duration": 14,
    "start_time": "2023-03-14T16:20:33.443Z"
   },
   {
    "duration": 15,
    "start_time": "2023-03-14T16:22:00.699Z"
   },
   {
    "duration": 16,
    "start_time": "2023-03-14T16:22:57.644Z"
   },
   {
    "duration": 1309,
    "start_time": "2023-03-14T16:23:19.755Z"
   },
   {
    "duration": 9,
    "start_time": "2023-03-14T16:25:09.927Z"
   },
   {
    "duration": 16,
    "start_time": "2023-03-14T16:25:47.073Z"
   },
   {
    "duration": 400,
    "start_time": "2023-03-14T16:27:01.621Z"
   },
   {
    "duration": 9,
    "start_time": "2023-03-14T16:27:47.113Z"
   },
   {
    "duration": 12,
    "start_time": "2023-03-14T16:27:56.024Z"
   },
   {
    "duration": 17,
    "start_time": "2023-03-14T16:28:11.155Z"
   },
   {
    "duration": 18,
    "start_time": "2023-03-14T16:29:32.226Z"
   },
   {
    "duration": 25,
    "start_time": "2023-03-14T16:38:35.760Z"
   },
   {
    "duration": 10,
    "start_time": "2023-03-14T16:39:13.149Z"
   },
   {
    "duration": 1333,
    "start_time": "2023-03-14T16:44:53.240Z"
   },
   {
    "duration": 1247,
    "start_time": "2023-03-14T16:45:42.412Z"
   },
   {
    "duration": 18,
    "start_time": "2023-03-14T16:46:37.133Z"
   },
   {
    "duration": 16,
    "start_time": "2023-03-14T16:46:57.114Z"
   },
   {
    "duration": 19,
    "start_time": "2023-03-14T16:58:23.739Z"
   },
   {
    "duration": 4,
    "start_time": "2023-03-14T16:59:49.893Z"
   },
   {
    "duration": 18,
    "start_time": "2023-03-14T17:00:23.224Z"
   },
   {
    "duration": 15,
    "start_time": "2023-03-14T17:02:48.058Z"
   },
   {
    "duration": 9,
    "start_time": "2023-03-14T17:03:30.659Z"
   },
   {
    "duration": 4,
    "start_time": "2023-03-14T17:03:56.396Z"
   },
   {
    "duration": 11,
    "start_time": "2023-03-14T17:04:13.008Z"
   },
   {
    "duration": 12,
    "start_time": "2023-03-14T17:05:24.413Z"
   },
   {
    "duration": 9,
    "start_time": "2023-03-14T17:06:01.032Z"
   },
   {
    "duration": 10,
    "start_time": "2023-03-14T17:06:54.806Z"
   },
   {
    "duration": 9,
    "start_time": "2023-03-14T17:08:10.505Z"
   },
   {
    "duration": 81,
    "start_time": "2023-03-14T17:08:56.944Z"
   },
   {
    "duration": 16,
    "start_time": "2023-03-14T17:09:04.925Z"
   },
   {
    "duration": 9,
    "start_time": "2023-03-14T17:09:30.226Z"
   },
   {
    "duration": 5,
    "start_time": "2023-03-14T17:10:39.082Z"
   },
   {
    "duration": 4,
    "start_time": "2023-03-14T17:11:01.029Z"
   },
   {
    "duration": 2,
    "start_time": "2023-03-14T17:11:07.606Z"
   },
   {
    "duration": 4,
    "start_time": "2023-03-14T17:11:12.740Z"
   },
   {
    "duration": 7,
    "start_time": "2023-03-14T17:11:38.192Z"
   },
   {
    "duration": 4,
    "start_time": "2023-03-14T17:11:52.338Z"
   },
   {
    "duration": 5,
    "start_time": "2023-03-14T17:12:17.092Z"
   },
   {
    "duration": 8,
    "start_time": "2023-03-14T17:12:32.204Z"
   },
   {
    "duration": 2,
    "start_time": "2023-03-14T17:12:45.614Z"
   },
   {
    "duration": 75,
    "start_time": "2023-03-14T17:12:45.619Z"
   },
   {
    "duration": 9,
    "start_time": "2023-03-14T17:12:45.696Z"
   },
   {
    "duration": 27,
    "start_time": "2023-03-14T17:12:45.707Z"
   },
   {
    "duration": 4,
    "start_time": "2023-03-14T17:12:45.737Z"
   },
   {
    "duration": 36,
    "start_time": "2023-03-14T17:12:45.742Z"
   },
   {
    "duration": 20,
    "start_time": "2023-03-14T17:12:45.786Z"
   },
   {
    "duration": 12,
    "start_time": "2023-03-14T17:12:45.808Z"
   },
   {
    "duration": 18,
    "start_time": "2023-03-14T17:12:45.822Z"
   },
   {
    "duration": 20,
    "start_time": "2023-03-14T17:12:45.842Z"
   },
   {
    "duration": 25,
    "start_time": "2023-03-14T17:12:45.864Z"
   },
   {
    "duration": 13,
    "start_time": "2023-03-14T17:12:45.892Z"
   },
   {
    "duration": 11,
    "start_time": "2023-03-14T17:12:45.907Z"
   },
   {
    "duration": 32,
    "start_time": "2023-03-14T17:12:45.920Z"
   },
   {
    "duration": 12,
    "start_time": "2023-03-14T17:12:45.954Z"
   },
   {
    "duration": 12,
    "start_time": "2023-03-14T17:12:45.968Z"
   },
   {
    "duration": 31,
    "start_time": "2023-03-14T17:12:45.981Z"
   },
   {
    "duration": 5,
    "start_time": "2023-03-14T17:12:46.015Z"
   },
   {
    "duration": 12,
    "start_time": "2023-03-14T17:12:46.021Z"
   },
   {
    "duration": 0,
    "start_time": "2023-03-14T17:12:46.034Z"
   },
   {
    "duration": 14,
    "start_time": "2023-03-14T17:18:57.374Z"
   },
   {
    "duration": 6,
    "start_time": "2023-03-14T17:19:35.216Z"
   },
   {
    "duration": 13,
    "start_time": "2023-03-14T17:19:42.618Z"
   },
   {
    "duration": 4,
    "start_time": "2023-03-14T17:21:03.047Z"
   },
   {
    "duration": 71,
    "start_time": "2023-03-14T17:21:03.053Z"
   },
   {
    "duration": 11,
    "start_time": "2023-03-14T17:21:03.125Z"
   },
   {
    "duration": 26,
    "start_time": "2023-03-14T17:21:03.138Z"
   },
   {
    "duration": 4,
    "start_time": "2023-03-14T17:21:03.166Z"
   },
   {
    "duration": 37,
    "start_time": "2023-03-14T17:21:03.172Z"
   },
   {
    "duration": 18,
    "start_time": "2023-03-14T17:21:03.211Z"
   },
   {
    "duration": 11,
    "start_time": "2023-03-14T17:21:03.231Z"
   },
   {
    "duration": 11,
    "start_time": "2023-03-14T17:21:03.244Z"
   },
   {
    "duration": 27,
    "start_time": "2023-03-14T17:21:03.258Z"
   },
   {
    "duration": 25,
    "start_time": "2023-03-14T17:21:03.292Z"
   },
   {
    "duration": 12,
    "start_time": "2023-03-14T17:21:03.319Z"
   },
   {
    "duration": 15,
    "start_time": "2023-03-14T17:21:03.333Z"
   },
   {
    "duration": 49,
    "start_time": "2023-03-14T17:21:03.350Z"
   },
   {
    "duration": 16,
    "start_time": "2023-03-14T17:21:03.401Z"
   },
   {
    "duration": 19,
    "start_time": "2023-03-14T17:21:03.419Z"
   },
   {
    "duration": 91,
    "start_time": "2023-03-14T17:21:03.440Z"
   },
   {
    "duration": 107,
    "start_time": "2023-03-14T17:21:44.143Z"
   },
   {
    "duration": 12,
    "start_time": "2023-03-14T17:22:07.866Z"
   },
   {
    "duration": 12,
    "start_time": "2023-03-14T17:22:21.287Z"
   },
   {
    "duration": 11,
    "start_time": "2023-03-14T17:22:48.219Z"
   },
   {
    "duration": 9,
    "start_time": "2023-03-14T17:22:50.317Z"
   },
   {
    "duration": 77,
    "start_time": "2023-03-14T17:23:48.069Z"
   },
   {
    "duration": 82,
    "start_time": "2023-03-14T17:24:58.038Z"
   },
   {
    "duration": 12,
    "start_time": "2023-03-14T17:26:45.108Z"
   },
   {
    "duration": 13,
    "start_time": "2023-03-14T17:26:54.907Z"
   },
   {
    "duration": 376,
    "start_time": "2023-03-15T15:02:31.903Z"
   },
   {
    "duration": 100,
    "start_time": "2023-03-15T15:02:32.281Z"
   },
   {
    "duration": 19,
    "start_time": "2023-03-15T15:02:32.383Z"
   },
   {
    "duration": 38,
    "start_time": "2023-03-15T15:02:32.404Z"
   },
   {
    "duration": 34,
    "start_time": "2023-03-15T15:02:32.444Z"
   },
   {
    "duration": 26,
    "start_time": "2023-03-15T15:02:32.479Z"
   },
   {
    "duration": 10,
    "start_time": "2023-03-15T15:02:32.506Z"
   },
   {
    "duration": 10,
    "start_time": "2023-03-15T15:02:32.517Z"
   },
   {
    "duration": 18,
    "start_time": "2023-03-15T15:02:32.528Z"
   },
   {
    "duration": 26,
    "start_time": "2023-03-15T15:02:32.547Z"
   },
   {
    "duration": 20,
    "start_time": "2023-03-15T15:02:32.575Z"
   },
   {
    "duration": 13,
    "start_time": "2023-03-15T15:02:32.597Z"
   },
   {
    "duration": 22,
    "start_time": "2023-03-15T15:02:45.534Z"
   },
   {
    "duration": 18,
    "start_time": "2023-03-15T15:02:59.760Z"
   },
   {
    "duration": 3,
    "start_time": "2023-03-15T15:05:07.702Z"
   },
   {
    "duration": 5,
    "start_time": "2023-03-15T15:05:52.507Z"
   },
   {
    "duration": 3,
    "start_time": "2023-03-15T15:06:11.736Z"
   },
   {
    "duration": 13,
    "start_time": "2023-03-15T15:06:28.304Z"
   },
   {
    "duration": 2,
    "start_time": "2023-03-15T15:16:36.055Z"
   },
   {
    "duration": 48,
    "start_time": "2023-03-15T15:16:36.095Z"
   },
   {
    "duration": 18,
    "start_time": "2023-03-15T15:16:36.145Z"
   },
   {
    "duration": 23,
    "start_time": "2023-03-15T15:16:36.164Z"
   },
   {
    "duration": 7,
    "start_time": "2023-03-15T15:16:36.189Z"
   },
   {
    "duration": 14,
    "start_time": "2023-03-15T15:16:36.198Z"
   },
   {
    "duration": 8,
    "start_time": "2023-03-15T15:16:36.213Z"
   },
   {
    "duration": 9,
    "start_time": "2023-03-15T15:16:36.222Z"
   },
   {
    "duration": 14,
    "start_time": "2023-03-15T15:16:36.232Z"
   },
   {
    "duration": 16,
    "start_time": "2023-03-15T15:16:36.247Z"
   },
   {
    "duration": 10,
    "start_time": "2023-03-15T15:16:36.266Z"
   },
   {
    "duration": 6,
    "start_time": "2023-03-15T15:16:36.306Z"
   },
   {
    "duration": 18,
    "start_time": "2023-03-15T15:16:36.313Z"
   },
   {
    "duration": 5,
    "start_time": "2023-03-15T15:16:36.332Z"
   },
   {
    "duration": 19,
    "start_time": "2023-03-15T15:16:36.339Z"
   },
   {
    "duration": 15,
    "start_time": "2023-03-15T15:16:36.359Z"
   },
   {
    "duration": 6,
    "start_time": "2023-03-15T15:16:36.375Z"
   },
   {
    "duration": 13,
    "start_time": "2023-03-15T15:16:36.382Z"
   },
   {
    "duration": 7,
    "start_time": "2023-03-15T15:16:36.396Z"
   },
   {
    "duration": 2,
    "start_time": "2023-03-15T15:17:21.115Z"
   },
   {
    "duration": 58,
    "start_time": "2023-03-15T15:17:21.119Z"
   },
   {
    "duration": 17,
    "start_time": "2023-03-15T15:17:21.179Z"
   },
   {
    "duration": 16,
    "start_time": "2023-03-15T15:17:21.199Z"
   },
   {
    "duration": 3,
    "start_time": "2023-03-15T15:17:21.217Z"
   },
   {
    "duration": 12,
    "start_time": "2023-03-15T15:17:21.221Z"
   },
   {
    "duration": 24,
    "start_time": "2023-03-15T15:17:21.234Z"
   },
   {
    "duration": 17,
    "start_time": "2023-03-15T15:17:21.260Z"
   },
   {
    "duration": 14,
    "start_time": "2023-03-15T15:17:21.279Z"
   },
   {
    "duration": 26,
    "start_time": "2023-03-15T15:17:21.295Z"
   },
   {
    "duration": 20,
    "start_time": "2023-03-15T15:17:21.323Z"
   },
   {
    "duration": 13,
    "start_time": "2023-03-15T15:17:21.345Z"
   },
   {
    "duration": 11,
    "start_time": "2023-03-15T15:17:21.359Z"
   },
   {
    "duration": 9,
    "start_time": "2023-03-15T15:17:21.372Z"
   },
   {
    "duration": 20,
    "start_time": "2023-03-15T15:17:21.383Z"
   },
   {
    "duration": 6,
    "start_time": "2023-03-15T15:17:21.405Z"
   },
   {
    "duration": 8,
    "start_time": "2023-03-15T15:17:21.413Z"
   },
   {
    "duration": 11,
    "start_time": "2023-03-15T15:17:21.422Z"
   },
   {
    "duration": 7,
    "start_time": "2023-03-15T15:17:21.434Z"
   },
   {
    "duration": 4,
    "start_time": "2023-03-15T15:34:37.558Z"
   },
   {
    "duration": 71,
    "start_time": "2023-03-15T15:34:46.451Z"
   },
   {
    "duration": 4,
    "start_time": "2023-03-15T15:50:26.141Z"
   },
   {
    "duration": 7,
    "start_time": "2023-03-15T15:50:45.952Z"
   },
   {
    "duration": 49,
    "start_time": "2023-03-15T15:51:17.880Z"
   },
   {
    "duration": 12,
    "start_time": "2023-03-15T15:52:45.569Z"
   },
   {
    "duration": 3,
    "start_time": "2023-03-15T15:53:29.261Z"
   },
   {
    "duration": 50,
    "start_time": "2023-03-15T15:53:29.265Z"
   },
   {
    "duration": 15,
    "start_time": "2023-03-15T15:53:29.316Z"
   },
   {
    "duration": 23,
    "start_time": "2023-03-15T15:53:29.332Z"
   },
   {
    "duration": 3,
    "start_time": "2023-03-15T15:53:29.357Z"
   },
   {
    "duration": 14,
    "start_time": "2023-03-15T15:53:29.361Z"
   },
   {
    "duration": 4,
    "start_time": "2023-03-15T15:53:29.376Z"
   },
   {
    "duration": 8,
    "start_time": "2023-03-15T15:53:29.382Z"
   },
   {
    "duration": 7,
    "start_time": "2023-03-15T15:53:29.391Z"
   },
   {
    "duration": 23,
    "start_time": "2023-03-15T15:53:29.400Z"
   },
   {
    "duration": 9,
    "start_time": "2023-03-15T15:53:29.424Z"
   },
   {
    "duration": 13,
    "start_time": "2023-03-15T15:53:29.434Z"
   },
   {
    "duration": 9,
    "start_time": "2023-03-15T15:53:29.448Z"
   },
   {
    "duration": 8,
    "start_time": "2023-03-15T15:53:29.459Z"
   },
   {
    "duration": 21,
    "start_time": "2023-03-15T15:53:29.468Z"
   },
   {
    "duration": 4,
    "start_time": "2023-03-15T15:53:29.491Z"
   },
   {
    "duration": 5,
    "start_time": "2023-03-15T15:53:29.497Z"
   },
   {
    "duration": 10,
    "start_time": "2023-03-15T15:53:29.503Z"
   },
   {
    "duration": 5,
    "start_time": "2023-03-15T15:53:29.515Z"
   },
   {
    "duration": 65,
    "start_time": "2023-03-15T15:53:29.522Z"
   },
   {
    "duration": 11,
    "start_time": "2023-03-15T15:53:29.588Z"
   },
   {
    "duration": 39,
    "start_time": "2023-03-15T15:56:12.026Z"
   },
   {
    "duration": 13,
    "start_time": "2023-03-15T15:56:33.420Z"
   },
   {
    "duration": 13,
    "start_time": "2023-03-15T15:56:48.806Z"
   },
   {
    "duration": 39,
    "start_time": "2023-03-15T15:58:59.767Z"
   },
   {
    "duration": 13,
    "start_time": "2023-03-15T15:59:36.976Z"
   },
   {
    "duration": 45,
    "start_time": "2023-03-15T16:07:36.576Z"
   },
   {
    "duration": 14,
    "start_time": "2023-03-15T16:07:41.032Z"
   },
   {
    "duration": 61,
    "start_time": "2023-03-15T16:09:44.857Z"
   },
   {
    "duration": 67,
    "start_time": "2023-03-15T16:11:31.330Z"
   },
   {
    "duration": 65,
    "start_time": "2023-03-15T16:12:33.124Z"
   },
   {
    "duration": 37,
    "start_time": "2023-03-15T16:19:58.971Z"
   },
   {
    "duration": 11,
    "start_time": "2023-03-15T16:20:18.829Z"
   },
   {
    "duration": 2,
    "start_time": "2023-03-15T16:20:38.450Z"
   },
   {
    "duration": 60,
    "start_time": "2023-03-15T16:20:38.454Z"
   },
   {
    "duration": 15,
    "start_time": "2023-03-15T16:20:38.516Z"
   },
   {
    "duration": 14,
    "start_time": "2023-03-15T16:20:38.533Z"
   },
   {
    "duration": 3,
    "start_time": "2023-03-15T16:20:38.549Z"
   },
   {
    "duration": 25,
    "start_time": "2023-03-15T16:20:38.553Z"
   },
   {
    "duration": 5,
    "start_time": "2023-03-15T16:20:38.581Z"
   },
   {
    "duration": 7,
    "start_time": "2023-03-15T16:20:38.588Z"
   },
   {
    "duration": 10,
    "start_time": "2023-03-15T16:20:38.596Z"
   },
   {
    "duration": 15,
    "start_time": "2023-03-15T16:20:38.607Z"
   },
   {
    "duration": 9,
    "start_time": "2023-03-15T16:20:38.623Z"
   },
   {
    "duration": 11,
    "start_time": "2023-03-15T16:20:38.633Z"
   },
   {
    "duration": 5,
    "start_time": "2023-03-15T16:20:38.645Z"
   },
   {
    "duration": 10,
    "start_time": "2023-03-15T16:20:38.652Z"
   },
   {
    "duration": 33,
    "start_time": "2023-03-15T16:20:38.663Z"
   },
   {
    "duration": 5,
    "start_time": "2023-03-15T16:20:38.697Z"
   },
   {
    "duration": 9,
    "start_time": "2023-03-15T16:20:38.704Z"
   },
   {
    "duration": 13,
    "start_time": "2023-03-15T16:20:38.714Z"
   },
   {
    "duration": 9,
    "start_time": "2023-03-15T16:20:38.728Z"
   },
   {
    "duration": 66,
    "start_time": "2023-03-15T16:20:38.739Z"
   },
   {
    "duration": 12,
    "start_time": "2023-03-15T16:20:38.806Z"
   },
   {
    "duration": 43,
    "start_time": "2023-03-15T18:05:08.222Z"
   },
   {
    "duration": 353,
    "start_time": "2023-03-15T18:05:18.677Z"
   },
   {
    "duration": 187,
    "start_time": "2023-03-15T18:05:19.032Z"
   },
   {
    "duration": 24,
    "start_time": "2023-03-15T18:05:19.221Z"
   },
   {
    "duration": 15,
    "start_time": "2023-03-15T18:05:19.246Z"
   },
   {
    "duration": 5,
    "start_time": "2023-03-15T18:05:19.263Z"
   },
   {
    "duration": 11,
    "start_time": "2023-03-15T18:05:19.270Z"
   },
   {
    "duration": 3,
    "start_time": "2023-03-15T18:05:19.282Z"
   },
   {
    "duration": 26,
    "start_time": "2023-03-15T18:05:19.286Z"
   },
   {
    "duration": 10,
    "start_time": "2023-03-15T18:05:19.314Z"
   },
   {
    "duration": 16,
    "start_time": "2023-03-15T18:05:19.325Z"
   },
   {
    "duration": 11,
    "start_time": "2023-03-15T18:05:19.343Z"
   },
   {
    "duration": 8,
    "start_time": "2023-03-15T18:05:19.355Z"
   },
   {
    "duration": 6,
    "start_time": "2023-03-15T18:05:19.365Z"
   },
   {
    "duration": 29,
    "start_time": "2023-03-15T18:05:19.373Z"
   },
   {
    "duration": 25,
    "start_time": "2023-03-15T18:05:19.404Z"
   },
   {
    "duration": 5,
    "start_time": "2023-03-15T18:05:19.431Z"
   },
   {
    "duration": 18,
    "start_time": "2023-03-15T18:05:19.438Z"
   },
   {
    "duration": 18,
    "start_time": "2023-03-15T18:05:19.458Z"
   },
   {
    "duration": 8,
    "start_time": "2023-03-15T18:05:19.477Z"
   },
   {
    "duration": 40,
    "start_time": "2023-03-15T18:05:23.827Z"
   },
   {
    "duration": 27,
    "start_time": "2023-03-15T18:06:23.229Z"
   },
   {
    "duration": 14,
    "start_time": "2023-03-15T18:06:26.101Z"
   },
   {
    "duration": 2,
    "start_time": "2023-03-15T18:07:46.494Z"
   },
   {
    "duration": 52,
    "start_time": "2023-03-15T18:07:46.498Z"
   },
   {
    "duration": 14,
    "start_time": "2023-03-15T18:07:46.552Z"
   },
   {
    "duration": 13,
    "start_time": "2023-03-15T18:07:46.567Z"
   },
   {
    "duration": 4,
    "start_time": "2023-03-15T18:07:46.582Z"
   },
   {
    "duration": 8,
    "start_time": "2023-03-15T18:07:46.588Z"
   },
   {
    "duration": 4,
    "start_time": "2023-03-15T18:07:46.597Z"
   },
   {
    "duration": 12,
    "start_time": "2023-03-15T18:07:46.602Z"
   },
   {
    "duration": 25,
    "start_time": "2023-03-15T18:07:46.615Z"
   },
   {
    "duration": 14,
    "start_time": "2023-03-15T18:07:46.641Z"
   },
   {
    "duration": 6,
    "start_time": "2023-03-15T18:07:46.657Z"
   },
   {
    "duration": 9,
    "start_time": "2023-03-15T18:07:46.664Z"
   },
   {
    "duration": 6,
    "start_time": "2023-03-15T18:07:46.674Z"
   },
   {
    "duration": 8,
    "start_time": "2023-03-15T18:07:46.682Z"
   },
   {
    "duration": 31,
    "start_time": "2023-03-15T18:07:46.692Z"
   },
   {
    "duration": 5,
    "start_time": "2023-03-15T18:07:46.724Z"
   },
   {
    "duration": 10,
    "start_time": "2023-03-15T18:07:46.730Z"
   },
   {
    "duration": 10,
    "start_time": "2023-03-15T18:07:46.742Z"
   },
   {
    "duration": 11,
    "start_time": "2023-03-15T18:07:46.754Z"
   },
   {
    "duration": 45,
    "start_time": "2023-03-15T18:07:46.767Z"
   },
   {
    "duration": 14,
    "start_time": "2023-03-15T18:07:46.814Z"
   },
   {
    "duration": 51,
    "start_time": "2023-03-15T18:16:11.205Z"
   },
   {
    "duration": 45,
    "start_time": "2023-03-15T18:18:52.321Z"
   },
   {
    "duration": 27,
    "start_time": "2023-03-15T18:24:47.710Z"
   },
   {
    "duration": 13,
    "start_time": "2023-03-15T18:24:49.703Z"
   },
   {
    "duration": 6,
    "start_time": "2023-03-15T18:26:35.975Z"
   },
   {
    "duration": 55,
    "start_time": "2023-03-15T18:40:33.910Z"
   },
   {
    "duration": 46,
    "start_time": "2023-03-15T18:40:56.029Z"
   },
   {
    "duration": 4,
    "start_time": "2023-03-15T18:42:09.725Z"
   },
   {
    "duration": 3,
    "start_time": "2023-03-15T18:43:07.035Z"
   },
   {
    "duration": 51,
    "start_time": "2023-03-15T18:43:07.040Z"
   },
   {
    "duration": 16,
    "start_time": "2023-03-15T18:43:07.093Z"
   },
   {
    "duration": 22,
    "start_time": "2023-03-15T18:43:07.111Z"
   },
   {
    "duration": 3,
    "start_time": "2023-03-15T18:43:07.135Z"
   },
   {
    "duration": 9,
    "start_time": "2023-03-15T18:43:07.140Z"
   },
   {
    "duration": 2,
    "start_time": "2023-03-15T18:43:07.151Z"
   },
   {
    "duration": 6,
    "start_time": "2023-03-15T18:43:07.155Z"
   },
   {
    "duration": 5,
    "start_time": "2023-03-15T18:43:07.164Z"
   },
   {
    "duration": 46,
    "start_time": "2023-03-15T18:43:07.170Z"
   },
   {
    "duration": 15,
    "start_time": "2023-03-15T18:43:07.217Z"
   },
   {
    "duration": 6,
    "start_time": "2023-03-15T18:43:07.234Z"
   },
   {
    "duration": 5,
    "start_time": "2023-03-15T18:43:07.241Z"
   },
   {
    "duration": 8,
    "start_time": "2023-03-15T18:43:07.247Z"
   },
   {
    "duration": 20,
    "start_time": "2023-03-15T18:43:07.256Z"
   },
   {
    "duration": 4,
    "start_time": "2023-03-15T18:43:07.278Z"
   },
   {
    "duration": 39,
    "start_time": "2023-03-15T18:43:07.284Z"
   },
   {
    "duration": 11,
    "start_time": "2023-03-15T18:43:07.326Z"
   },
   {
    "duration": 7,
    "start_time": "2023-03-15T18:43:07.339Z"
   },
   {
    "duration": 22,
    "start_time": "2023-03-15T18:43:14.160Z"
   },
   {
    "duration": 3,
    "start_time": "2023-03-15T18:43:44.201Z"
   },
   {
    "duration": 57,
    "start_time": "2023-03-15T18:43:44.206Z"
   },
   {
    "duration": 15,
    "start_time": "2023-03-15T18:43:44.265Z"
   },
   {
    "duration": 15,
    "start_time": "2023-03-15T18:43:44.282Z"
   },
   {
    "duration": 3,
    "start_time": "2023-03-15T18:43:44.299Z"
   },
   {
    "duration": 9,
    "start_time": "2023-03-15T18:43:44.304Z"
   },
   {
    "duration": 6,
    "start_time": "2023-03-15T18:43:44.314Z"
   },
   {
    "duration": 12,
    "start_time": "2023-03-15T18:43:44.322Z"
   },
   {
    "duration": 7,
    "start_time": "2023-03-15T18:43:44.336Z"
   },
   {
    "duration": 15,
    "start_time": "2023-03-15T18:43:44.345Z"
   },
   {
    "duration": 8,
    "start_time": "2023-03-15T18:43:44.363Z"
   },
   {
    "duration": 10,
    "start_time": "2023-03-15T18:43:44.373Z"
   },
   {
    "duration": 30,
    "start_time": "2023-03-15T18:43:44.385Z"
   },
   {
    "duration": 9,
    "start_time": "2023-03-15T18:43:44.420Z"
   },
   {
    "duration": 24,
    "start_time": "2023-03-15T18:43:44.431Z"
   },
   {
    "duration": 7,
    "start_time": "2023-03-15T18:43:44.457Z"
   },
   {
    "duration": 6,
    "start_time": "2023-03-15T18:43:44.466Z"
   },
   {
    "duration": 50,
    "start_time": "2023-03-15T18:43:44.474Z"
   },
   {
    "duration": 8,
    "start_time": "2023-03-15T18:43:44.526Z"
   },
   {
    "duration": 47,
    "start_time": "2023-03-15T18:43:48.762Z"
   },
   {
    "duration": 2,
    "start_time": "2023-03-15T18:46:28.120Z"
   },
   {
    "duration": 52,
    "start_time": "2023-03-15T18:46:28.124Z"
   },
   {
    "duration": 16,
    "start_time": "2023-03-15T18:46:28.177Z"
   },
   {
    "duration": 17,
    "start_time": "2023-03-15T18:46:28.195Z"
   },
   {
    "duration": 3,
    "start_time": "2023-03-15T18:46:28.214Z"
   },
   {
    "duration": 10,
    "start_time": "2023-03-15T18:46:28.218Z"
   },
   {
    "duration": 2,
    "start_time": "2023-03-15T18:46:28.229Z"
   },
   {
    "duration": 5,
    "start_time": "2023-03-15T18:46:28.233Z"
   },
   {
    "duration": 7,
    "start_time": "2023-03-15T18:46:28.239Z"
   },
   {
    "duration": 16,
    "start_time": "2023-03-15T18:46:28.247Z"
   },
   {
    "duration": 7,
    "start_time": "2023-03-15T18:46:28.265Z"
   },
   {
    "duration": 38,
    "start_time": "2023-03-15T18:46:28.274Z"
   },
   {
    "duration": 6,
    "start_time": "2023-03-15T18:46:28.314Z"
   },
   {
    "duration": 10,
    "start_time": "2023-03-15T18:46:28.321Z"
   },
   {
    "duration": 21,
    "start_time": "2023-03-15T18:46:28.333Z"
   },
   {
    "duration": 6,
    "start_time": "2023-03-15T18:46:28.356Z"
   },
   {
    "duration": 8,
    "start_time": "2023-03-15T18:46:28.364Z"
   },
   {
    "duration": 41,
    "start_time": "2023-03-15T18:46:28.374Z"
   },
   {
    "duration": 8,
    "start_time": "2023-03-15T18:46:28.417Z"
   },
   {
    "duration": 21,
    "start_time": "2023-03-15T18:46:31.505Z"
   },
   {
    "duration": 14,
    "start_time": "2023-03-15T18:46:34.275Z"
   },
   {
    "duration": 2,
    "start_time": "2023-03-15T18:47:07.284Z"
   },
   {
    "duration": 52,
    "start_time": "2023-03-15T18:47:07.288Z"
   },
   {
    "duration": 17,
    "start_time": "2023-03-15T18:47:07.342Z"
   },
   {
    "duration": 16,
    "start_time": "2023-03-15T18:47:07.361Z"
   },
   {
    "duration": 3,
    "start_time": "2023-03-15T18:47:07.380Z"
   },
   {
    "duration": 27,
    "start_time": "2023-03-15T18:47:07.386Z"
   },
   {
    "duration": 5,
    "start_time": "2023-03-15T18:47:07.415Z"
   },
   {
    "duration": 9,
    "start_time": "2023-03-15T18:47:07.421Z"
   },
   {
    "duration": 40,
    "start_time": "2023-03-15T18:47:07.432Z"
   },
   {
    "duration": 15,
    "start_time": "2023-03-15T18:47:07.474Z"
   },
   {
    "duration": 11,
    "start_time": "2023-03-15T18:47:07.491Z"
   },
   {
    "duration": 15,
    "start_time": "2023-03-15T18:47:07.503Z"
   },
   {
    "duration": 6,
    "start_time": "2023-03-15T18:47:07.521Z"
   },
   {
    "duration": 8,
    "start_time": "2023-03-15T18:47:07.529Z"
   },
   {
    "duration": 25,
    "start_time": "2023-03-15T18:47:07.539Z"
   },
   {
    "duration": 7,
    "start_time": "2023-03-15T18:47:07.566Z"
   },
   {
    "duration": 5,
    "start_time": "2023-03-15T18:47:07.575Z"
   },
   {
    "duration": 39,
    "start_time": "2023-03-15T18:47:07.582Z"
   },
   {
    "duration": 11,
    "start_time": "2023-03-15T18:47:07.623Z"
   },
   {
    "duration": 19,
    "start_time": "2023-03-15T18:47:10.291Z"
   },
   {
    "duration": 13,
    "start_time": "2023-03-15T18:47:14.854Z"
   },
   {
    "duration": 18,
    "start_time": "2023-03-15T18:47:38.027Z"
   },
   {
    "duration": 13,
    "start_time": "2023-03-15T18:47:39.575Z"
   },
   {
    "duration": 11,
    "start_time": "2023-03-15T18:57:03.621Z"
   },
   {
    "duration": 22,
    "start_time": "2023-03-15T18:57:56.004Z"
   },
   {
    "duration": 34,
    "start_time": "2023-03-15T19:00:16.429Z"
   },
   {
    "duration": 13,
    "start_time": "2023-03-15T19:00:45.871Z"
   },
   {
    "duration": 13,
    "start_time": "2023-03-15T19:00:51.541Z"
   },
   {
    "duration": 30,
    "start_time": "2023-03-15T19:02:49.734Z"
   },
   {
    "duration": 15,
    "start_time": "2023-03-15T19:02:51.374Z"
   },
   {
    "duration": 3,
    "start_time": "2023-03-15T19:03:32.081Z"
   },
   {
    "duration": 74,
    "start_time": "2023-03-15T19:03:32.085Z"
   },
   {
    "duration": 16,
    "start_time": "2023-03-15T19:03:32.160Z"
   },
   {
    "duration": 31,
    "start_time": "2023-03-15T19:03:32.178Z"
   },
   {
    "duration": 3,
    "start_time": "2023-03-15T19:03:32.211Z"
   },
   {
    "duration": 21,
    "start_time": "2023-03-15T19:03:32.215Z"
   },
   {
    "duration": 11,
    "start_time": "2023-03-15T19:03:32.238Z"
   },
   {
    "duration": 11,
    "start_time": "2023-03-15T19:03:32.251Z"
   },
   {
    "duration": 6,
    "start_time": "2023-03-15T19:03:32.265Z"
   },
   {
    "duration": 23,
    "start_time": "2023-03-15T19:03:32.273Z"
   },
   {
    "duration": 9,
    "start_time": "2023-03-15T19:03:32.298Z"
   },
   {
    "duration": 14,
    "start_time": "2023-03-15T19:03:32.309Z"
   },
   {
    "duration": 12,
    "start_time": "2023-03-15T19:03:32.324Z"
   },
   {
    "duration": 10,
    "start_time": "2023-03-15T19:03:32.338Z"
   },
   {
    "duration": 21,
    "start_time": "2023-03-15T19:03:32.350Z"
   },
   {
    "duration": 5,
    "start_time": "2023-03-15T19:03:32.373Z"
   },
   {
    "duration": 7,
    "start_time": "2023-03-15T19:03:32.380Z"
   },
   {
    "duration": 36,
    "start_time": "2023-03-15T19:03:32.388Z"
   },
   {
    "duration": 8,
    "start_time": "2023-03-15T19:03:32.426Z"
   },
   {
    "duration": 39,
    "start_time": "2023-03-15T19:03:43.806Z"
   },
   {
    "duration": 14,
    "start_time": "2023-03-15T19:03:46.370Z"
   },
   {
    "duration": 13,
    "start_time": "2023-03-15T19:04:35.078Z"
   },
   {
    "duration": 35,
    "start_time": "2023-03-15T19:09:24.782Z"
   },
   {
    "duration": 13,
    "start_time": "2023-03-15T19:09:29.454Z"
   },
   {
    "duration": 6,
    "start_time": "2023-03-15T19:10:16.150Z"
   },
   {
    "duration": 5,
    "start_time": "2023-03-15T19:11:35.642Z"
   },
   {
    "duration": 12,
    "start_time": "2023-03-15T19:12:00.420Z"
   },
   {
    "duration": 27,
    "start_time": "2023-03-15T19:13:03.929Z"
   },
   {
    "duration": 34,
    "start_time": "2023-03-15T19:16:29.897Z"
   },
   {
    "duration": 13,
    "start_time": "2023-03-15T19:16:36.831Z"
   },
   {
    "duration": 3,
    "start_time": "2023-03-15T19:16:53.707Z"
   },
   {
    "duration": 50,
    "start_time": "2023-03-15T19:16:53.712Z"
   },
   {
    "duration": 15,
    "start_time": "2023-03-15T19:16:53.764Z"
   },
   {
    "duration": 13,
    "start_time": "2023-03-15T19:16:53.781Z"
   },
   {
    "duration": 3,
    "start_time": "2023-03-15T19:16:53.796Z"
   },
   {
    "duration": 8,
    "start_time": "2023-03-15T19:16:53.812Z"
   },
   {
    "duration": 3,
    "start_time": "2023-03-15T19:16:53.822Z"
   },
   {
    "duration": 8,
    "start_time": "2023-03-15T19:16:53.827Z"
   },
   {
    "duration": 7,
    "start_time": "2023-03-15T19:16:53.837Z"
   },
   {
    "duration": 13,
    "start_time": "2023-03-15T19:16:53.846Z"
   },
   {
    "duration": 8,
    "start_time": "2023-03-15T19:16:53.861Z"
   },
   {
    "duration": 8,
    "start_time": "2023-03-15T19:16:53.870Z"
   },
   {
    "duration": 35,
    "start_time": "2023-03-15T19:16:53.879Z"
   },
   {
    "duration": 10,
    "start_time": "2023-03-15T19:16:53.915Z"
   },
   {
    "duration": 20,
    "start_time": "2023-03-15T19:16:53.927Z"
   },
   {
    "duration": 4,
    "start_time": "2023-03-15T19:16:53.949Z"
   },
   {
    "duration": 8,
    "start_time": "2023-03-15T19:16:53.954Z"
   },
   {
    "duration": 11,
    "start_time": "2023-03-15T19:16:53.963Z"
   },
   {
    "duration": 7,
    "start_time": "2023-03-15T19:16:53.976Z"
   },
   {
    "duration": 15,
    "start_time": "2023-03-15T19:16:54.012Z"
   },
   {
    "duration": 0,
    "start_time": "2023-03-15T19:16:54.029Z"
   },
   {
    "duration": 8,
    "start_time": "2023-03-15T19:22:21.334Z"
   },
   {
    "duration": 35,
    "start_time": "2023-03-15T19:23:02.270Z"
   },
   {
    "duration": 2,
    "start_time": "2023-03-15T19:23:13.706Z"
   },
   {
    "duration": 55,
    "start_time": "2023-03-15T19:23:13.710Z"
   },
   {
    "duration": 15,
    "start_time": "2023-03-15T19:23:13.767Z"
   },
   {
    "duration": 19,
    "start_time": "2023-03-15T19:23:13.784Z"
   },
   {
    "duration": 3,
    "start_time": "2023-03-15T19:23:13.805Z"
   },
   {
    "duration": 10,
    "start_time": "2023-03-15T19:23:13.810Z"
   },
   {
    "duration": 3,
    "start_time": "2023-03-15T19:23:13.822Z"
   },
   {
    "duration": 5,
    "start_time": "2023-03-15T19:23:13.827Z"
   },
   {
    "duration": 8,
    "start_time": "2023-03-15T19:23:13.834Z"
   },
   {
    "duration": 14,
    "start_time": "2023-03-15T19:23:13.844Z"
   },
   {
    "duration": 7,
    "start_time": "2023-03-15T19:23:13.860Z"
   },
   {
    "duration": 43,
    "start_time": "2023-03-15T19:23:13.869Z"
   },
   {
    "duration": 5,
    "start_time": "2023-03-15T19:23:13.913Z"
   },
   {
    "duration": 7,
    "start_time": "2023-03-15T19:23:13.920Z"
   },
   {
    "duration": 20,
    "start_time": "2023-03-15T19:23:13.929Z"
   },
   {
    "duration": 6,
    "start_time": "2023-03-15T19:23:13.951Z"
   },
   {
    "duration": 5,
    "start_time": "2023-03-15T19:23:13.959Z"
   },
   {
    "duration": 11,
    "start_time": "2023-03-15T19:23:13.966Z"
   },
   {
    "duration": 36,
    "start_time": "2023-03-15T19:23:13.978Z"
   },
   {
    "duration": 35,
    "start_time": "2023-03-15T19:23:14.016Z"
   },
   {
    "duration": 16,
    "start_time": "2023-03-15T19:23:14.053Z"
   },
   {
    "duration": 395,
    "start_time": "2023-03-15T19:24:44.317Z"
   },
   {
    "duration": 53,
    "start_time": "2023-03-15T19:24:44.714Z"
   },
   {
    "duration": 24,
    "start_time": "2023-03-15T19:24:44.769Z"
   },
   {
    "duration": 14,
    "start_time": "2023-03-15T19:24:44.794Z"
   },
   {
    "duration": 3,
    "start_time": "2023-03-15T19:24:44.810Z"
   },
   {
    "duration": 10,
    "start_time": "2023-03-15T19:24:44.815Z"
   },
   {
    "duration": 3,
    "start_time": "2023-03-15T19:24:44.827Z"
   },
   {
    "duration": 6,
    "start_time": "2023-03-15T19:24:44.831Z"
   },
   {
    "duration": 8,
    "start_time": "2023-03-15T19:24:44.839Z"
   },
   {
    "duration": 16,
    "start_time": "2023-03-15T19:24:44.850Z"
   },
   {
    "duration": 13,
    "start_time": "2023-03-15T19:24:44.867Z"
   },
   {
    "duration": 37,
    "start_time": "2023-03-15T19:24:44.882Z"
   },
   {
    "duration": 5,
    "start_time": "2023-03-15T19:24:44.921Z"
   },
   {
    "duration": 29,
    "start_time": "2023-03-15T19:24:44.928Z"
   },
   {
    "duration": 25,
    "start_time": "2023-03-15T19:24:44.959Z"
   },
   {
    "duration": 5,
    "start_time": "2023-03-15T19:24:44.986Z"
   },
   {
    "duration": 56,
    "start_time": "2023-03-15T19:24:44.993Z"
   },
   {
    "duration": 16,
    "start_time": "2023-03-15T19:24:45.050Z"
   },
   {
    "duration": 10,
    "start_time": "2023-03-15T19:24:45.068Z"
   },
   {
    "duration": 43,
    "start_time": "2023-03-15T19:24:45.080Z"
   },
   {
    "duration": 14,
    "start_time": "2023-03-15T19:24:45.125Z"
   },
   {
    "duration": 424,
    "start_time": "2023-03-15T19:26:05.006Z"
   },
   {
    "duration": 51,
    "start_time": "2023-03-15T19:26:05.433Z"
   },
   {
    "duration": 23,
    "start_time": "2023-03-15T19:26:05.486Z"
   },
   {
    "duration": 22,
    "start_time": "2023-03-15T19:26:05.511Z"
   },
   {
    "duration": 3,
    "start_time": "2023-03-15T19:26:05.535Z"
   },
   {
    "duration": 23,
    "start_time": "2023-03-15T19:26:05.539Z"
   },
   {
    "duration": 3,
    "start_time": "2023-03-15T19:26:05.565Z"
   },
   {
    "duration": 6,
    "start_time": "2023-03-15T19:26:05.570Z"
   },
   {
    "duration": 7,
    "start_time": "2023-03-15T19:26:05.577Z"
   },
   {
    "duration": 40,
    "start_time": "2023-03-15T19:26:05.587Z"
   },
   {
    "duration": 7,
    "start_time": "2023-03-15T19:26:05.629Z"
   },
   {
    "duration": 9,
    "start_time": "2023-03-15T19:26:05.638Z"
   },
   {
    "duration": 6,
    "start_time": "2023-03-15T19:26:05.649Z"
   },
   {
    "duration": 8,
    "start_time": "2023-03-15T19:26:05.656Z"
   },
   {
    "duration": 47,
    "start_time": "2023-03-15T19:26:05.666Z"
   },
   {
    "duration": 7,
    "start_time": "2023-03-15T19:26:05.720Z"
   },
   {
    "duration": 5,
    "start_time": "2023-03-15T19:26:05.729Z"
   },
   {
    "duration": 11,
    "start_time": "2023-03-15T19:26:05.736Z"
   },
   {
    "duration": 9,
    "start_time": "2023-03-15T19:26:05.749Z"
   },
   {
    "duration": 65,
    "start_time": "2023-03-15T19:26:05.759Z"
   },
   {
    "duration": 15,
    "start_time": "2023-03-15T19:26:05.826Z"
   },
   {
    "duration": 5,
    "start_time": "2023-03-15T19:28:31.537Z"
   },
   {
    "duration": 31,
    "start_time": "2023-03-15T19:30:36.829Z"
   },
   {
    "duration": 5,
    "start_time": "2023-03-15T19:31:32.322Z"
   },
   {
    "duration": 59,
    "start_time": "2023-03-17T15:03:35.239Z"
   },
   {
    "duration": 378,
    "start_time": "2023-03-17T15:03:45.060Z"
   },
   {
    "duration": 510,
    "start_time": "2023-03-17T15:03:45.441Z"
   },
   {
    "duration": 24,
    "start_time": "2023-03-17T15:03:45.952Z"
   },
   {
    "duration": 26,
    "start_time": "2023-03-17T15:03:45.978Z"
   },
   {
    "duration": 41,
    "start_time": "2023-03-17T15:03:46.007Z"
   },
   {
    "duration": 55,
    "start_time": "2023-03-17T15:03:46.050Z"
   },
   {
    "duration": 40,
    "start_time": "2023-03-17T15:03:46.107Z"
   },
   {
    "duration": 53,
    "start_time": "2023-03-17T15:03:46.148Z"
   },
   {
    "duration": 25,
    "start_time": "2023-03-17T15:03:46.203Z"
   },
   {
    "duration": 42,
    "start_time": "2023-03-17T15:03:46.231Z"
   },
   {
    "duration": 102,
    "start_time": "2023-03-17T15:03:46.274Z"
   },
   {
    "duration": 58,
    "start_time": "2023-03-17T15:03:46.378Z"
   },
   {
    "duration": 62,
    "start_time": "2023-03-17T15:03:46.438Z"
   },
   {
    "duration": 14,
    "start_time": "2023-03-17T15:03:46.502Z"
   },
   {
    "duration": 47,
    "start_time": "2023-03-17T15:03:46.517Z"
   },
   {
    "duration": 53,
    "start_time": "2023-03-17T15:03:46.566Z"
   },
   {
    "duration": 31,
    "start_time": "2023-03-17T15:03:46.623Z"
   },
   {
    "duration": 31,
    "start_time": "2023-03-17T15:03:46.656Z"
   },
   {
    "duration": 45,
    "start_time": "2023-03-17T15:03:46.690Z"
   },
   {
    "duration": 104,
    "start_time": "2023-03-17T15:03:46.736Z"
   },
   {
    "duration": 24,
    "start_time": "2023-03-17T15:03:46.842Z"
   },
   {
    "duration": 30,
    "start_time": "2023-03-17T15:03:49.955Z"
   },
   {
    "duration": 40,
    "start_time": "2023-03-17T15:04:14.070Z"
   },
   {
    "duration": 21,
    "start_time": "2023-03-17T15:04:45.513Z"
   },
   {
    "duration": 18,
    "start_time": "2023-03-17T15:06:10.037Z"
   },
   {
    "duration": 16,
    "start_time": "2023-03-17T15:06:43.857Z"
   },
   {
    "duration": 15,
    "start_time": "2023-03-17T15:20:36.014Z"
   },
   {
    "duration": 17,
    "start_time": "2023-03-17T15:20:54.915Z"
   },
   {
    "duration": 13,
    "start_time": "2023-03-17T15:21:43.764Z"
   },
   {
    "duration": 9,
    "start_time": "2023-03-17T15:22:43.685Z"
   },
   {
    "duration": 11,
    "start_time": "2023-03-17T15:28:08.535Z"
   },
   {
    "duration": 8,
    "start_time": "2023-03-17T15:28:30.259Z"
   },
   {
    "duration": 24,
    "start_time": "2023-03-17T15:30:01.328Z"
   },
   {
    "duration": 16,
    "start_time": "2023-03-17T15:33:58.921Z"
   },
   {
    "duration": 31,
    "start_time": "2023-03-17T15:35:05.311Z"
   },
   {
    "duration": 9,
    "start_time": "2023-03-17T15:36:56.964Z"
   },
   {
    "duration": 14,
    "start_time": "2023-03-17T15:37:08.337Z"
   },
   {
    "duration": 10,
    "start_time": "2023-03-17T15:38:35.240Z"
   },
   {
    "duration": 45,
    "start_time": "2023-03-17T15:41:27.198Z"
   },
   {
    "duration": 25,
    "start_time": "2023-03-17T15:43:15.646Z"
   },
   {
    "duration": 54,
    "start_time": "2023-03-17T15:43:53.533Z"
   },
   {
    "duration": 15,
    "start_time": "2023-03-17T15:44:01.640Z"
   },
   {
    "duration": 26,
    "start_time": "2023-03-17T15:49:08.909Z"
   },
   {
    "duration": 28,
    "start_time": "2023-03-17T15:50:49.420Z"
   },
   {
    "duration": 20,
    "start_time": "2023-03-17T15:52:09.655Z"
   },
   {
    "duration": 20,
    "start_time": "2023-03-17T15:54:41.624Z"
   },
   {
    "duration": 15,
    "start_time": "2023-03-17T15:58:33.066Z"
   },
   {
    "duration": 25,
    "start_time": "2023-03-17T15:59:41.499Z"
   },
   {
    "duration": 341,
    "start_time": "2023-03-18T14:49:22.611Z"
   },
   {
    "duration": 99,
    "start_time": "2023-03-18T14:49:22.953Z"
   },
   {
    "duration": 20,
    "start_time": "2023-03-18T14:49:23.054Z"
   },
   {
    "duration": 13,
    "start_time": "2023-03-18T14:49:23.076Z"
   },
   {
    "duration": 9,
    "start_time": "2023-03-18T14:49:23.092Z"
   },
   {
    "duration": 12,
    "start_time": "2023-03-18T14:49:23.102Z"
   },
   {
    "duration": 2,
    "start_time": "2023-03-18T14:49:23.116Z"
   },
   {
    "duration": 10,
    "start_time": "2023-03-18T14:49:23.120Z"
   },
   {
    "duration": 27,
    "start_time": "2023-03-18T14:49:23.131Z"
   },
   {
    "duration": 12,
    "start_time": "2023-03-18T14:49:23.159Z"
   },
   {
    "duration": 7,
    "start_time": "2023-03-18T14:49:23.172Z"
   },
   {
    "duration": 11,
    "start_time": "2023-03-18T14:49:23.180Z"
   },
   {
    "duration": 4,
    "start_time": "2023-03-18T14:49:23.192Z"
   },
   {
    "duration": 6,
    "start_time": "2023-03-18T14:49:23.198Z"
   },
   {
    "duration": 19,
    "start_time": "2023-03-18T14:49:23.205Z"
   },
   {
    "duration": 7,
    "start_time": "2023-03-18T14:49:23.225Z"
   },
   {
    "duration": 5,
    "start_time": "2023-03-18T14:49:23.257Z"
   },
   {
    "duration": 11,
    "start_time": "2023-03-18T14:49:23.263Z"
   },
   {
    "duration": 6,
    "start_time": "2023-03-18T14:49:23.275Z"
   },
   {
    "duration": 42,
    "start_time": "2023-03-18T14:49:23.282Z"
   },
   {
    "duration": 38,
    "start_time": "2023-03-18T14:49:23.326Z"
   },
   {
    "duration": 13,
    "start_time": "2023-03-18T14:49:23.365Z"
   },
   {
    "duration": 15,
    "start_time": "2023-03-18T14:49:23.379Z"
   },
   {
    "duration": 1518,
    "start_time": "2023-03-18T15:29:27.633Z"
   },
   {
    "duration": 11,
    "start_time": "2023-03-18T15:30:25.394Z"
   },
   {
    "duration": 18,
    "start_time": "2023-03-18T15:31:05.724Z"
   },
   {
    "duration": 18,
    "start_time": "2023-03-18T15:31:11.914Z"
   },
   {
    "duration": 20,
    "start_time": "2023-03-18T15:31:41.712Z"
   },
   {
    "duration": 226,
    "start_time": "2023-03-18T15:32:25.314Z"
   },
   {
    "duration": 187,
    "start_time": "2023-03-18T15:33:59.393Z"
   },
   {
    "duration": 176,
    "start_time": "2023-03-18T15:35:18.522Z"
   },
   {
    "duration": 1133,
    "start_time": "2023-03-18T15:35:33.410Z"
   },
   {
    "duration": 1007,
    "start_time": "2023-03-18T15:36:45.907Z"
   },
   {
    "duration": 1109,
    "start_time": "2023-03-18T15:38:07.898Z"
   },
   {
    "duration": 402,
    "start_time": "2023-03-18T21:56:09.663Z"
   },
   {
    "duration": 184,
    "start_time": "2023-03-18T21:56:10.067Z"
   },
   {
    "duration": 25,
    "start_time": "2023-03-18T21:56:10.253Z"
   },
   {
    "duration": 15,
    "start_time": "2023-03-18T21:56:10.280Z"
   },
   {
    "duration": 4,
    "start_time": "2023-03-18T21:56:10.301Z"
   },
   {
    "duration": 26,
    "start_time": "2023-03-18T21:56:10.307Z"
   },
   {
    "duration": 7,
    "start_time": "2023-03-18T21:56:10.334Z"
   },
   {
    "duration": 19,
    "start_time": "2023-03-18T21:56:10.342Z"
   },
   {
    "duration": 8,
    "start_time": "2023-03-18T21:56:10.363Z"
   },
   {
    "duration": 39,
    "start_time": "2023-03-18T21:56:10.373Z"
   },
   {
    "duration": 10,
    "start_time": "2023-03-18T21:56:10.414Z"
   },
   {
    "duration": 24,
    "start_time": "2023-03-18T21:56:10.426Z"
   },
   {
    "duration": 11,
    "start_time": "2023-03-18T21:56:10.451Z"
   },
   {
    "duration": 13,
    "start_time": "2023-03-18T21:56:10.464Z"
   },
   {
    "duration": 32,
    "start_time": "2023-03-18T21:56:10.478Z"
   },
   {
    "duration": 5,
    "start_time": "2023-03-18T21:56:10.512Z"
   },
   {
    "duration": 13,
    "start_time": "2023-03-18T21:56:10.518Z"
   },
   {
    "duration": 17,
    "start_time": "2023-03-18T21:56:10.533Z"
   },
   {
    "duration": 9,
    "start_time": "2023-03-18T21:56:10.551Z"
   },
   {
    "duration": 48,
    "start_time": "2023-03-18T21:56:10.562Z"
   },
   {
    "duration": 13,
    "start_time": "2023-03-18T21:56:10.612Z"
   },
   {
    "duration": 14,
    "start_time": "2023-03-18T21:56:10.626Z"
   },
   {
    "duration": 17,
    "start_time": "2023-03-18T21:56:10.642Z"
   },
   {
    "duration": 1651,
    "start_time": "2023-03-18T21:56:10.661Z"
   },
   {
    "duration": 96,
    "start_time": "2023-03-18T22:02:21.163Z"
   },
   {
    "duration": 29,
    "start_time": "2023-03-18T22:03:16.180Z"
   },
   {
    "duration": 172,
    "start_time": "2023-03-18T22:04:54.476Z"
   },
   {
    "duration": 741,
    "start_time": "2023-03-18T22:10:34.036Z"
   },
   {
    "duration": 27,
    "start_time": "2023-03-18T22:15:21.286Z"
   },
   {
    "duration": 169,
    "start_time": "2023-03-18T22:16:37.726Z"
   },
   {
    "duration": 17,
    "start_time": "2023-03-18T22:19:21.709Z"
   },
   {
    "duration": 22,
    "start_time": "2023-03-18T22:20:49.695Z"
   },
   {
    "duration": 17,
    "start_time": "2023-03-18T22:22:02.732Z"
   },
   {
    "duration": 13,
    "start_time": "2023-03-18T22:25:07.214Z"
   },
   {
    "duration": 1271,
    "start_time": "2023-03-18T22:25:30.615Z"
   },
   {
    "duration": 22,
    "start_time": "2023-03-18T22:28:18.519Z"
   },
   {
    "duration": 16,
    "start_time": "2023-03-18T22:28:55.655Z"
   },
   {
    "duration": 17,
    "start_time": "2023-03-18T22:29:07.653Z"
   },
   {
    "duration": 15,
    "start_time": "2023-03-18T22:30:20.618Z"
   },
   {
    "duration": 1229,
    "start_time": "2023-03-18T22:39:00.299Z"
   },
   {
    "duration": 984,
    "start_time": "2023-03-18T22:39:51.441Z"
   },
   {
    "duration": 23,
    "start_time": "2023-03-18T22:41:07.523Z"
   },
   {
    "duration": 177,
    "start_time": "2023-03-18T22:41:26.993Z"
   },
   {
    "duration": 160,
    "start_time": "2023-03-18T22:42:25.419Z"
   },
   {
    "duration": 152,
    "start_time": "2023-03-18T22:44:29.125Z"
   },
   {
    "duration": 66,
    "start_time": "2023-03-18T22:45:40.754Z"
   },
   {
    "duration": 21,
    "start_time": "2023-03-18T22:45:53.111Z"
   },
   {
    "duration": 155,
    "start_time": "2023-03-18T22:50:21.710Z"
   },
   {
    "duration": 185,
    "start_time": "2023-03-18T22:50:50.581Z"
   },
   {
    "duration": 167,
    "start_time": "2023-03-18T22:51:41.724Z"
   },
   {
    "duration": 52,
    "start_time": "2023-03-18T22:55:13.732Z"
   },
   {
    "duration": 23,
    "start_time": "2023-03-18T22:55:54.148Z"
   },
   {
    "duration": 22,
    "start_time": "2023-03-18T22:57:50.965Z"
   },
   {
    "duration": 174,
    "start_time": "2023-03-18T22:58:04.874Z"
   },
   {
    "duration": 22,
    "start_time": "2023-03-18T23:02:00.624Z"
   },
   {
    "duration": 25,
    "start_time": "2023-03-18T23:02:29.330Z"
   },
   {
    "duration": 22,
    "start_time": "2023-03-18T23:02:58.935Z"
   },
   {
    "duration": 23,
    "start_time": "2023-03-18T23:03:22.403Z"
   },
   {
    "duration": 758,
    "start_time": "2023-03-18T23:03:57.367Z"
   },
   {
    "duration": 155,
    "start_time": "2023-03-18T23:04:15.824Z"
   },
   {
    "duration": 70,
    "start_time": "2023-03-18T23:06:23.311Z"
   },
   {
    "duration": 23,
    "start_time": "2023-03-18T23:06:32.207Z"
   },
   {
    "duration": 231,
    "start_time": "2023-03-18T23:07:27.041Z"
   },
   {
    "duration": 167,
    "start_time": "2023-03-18T23:11:15.690Z"
   },
   {
    "duration": 1089,
    "start_time": "2023-03-18T23:12:34.058Z"
   },
   {
    "duration": 155,
    "start_time": "2023-03-18T23:12:53.121Z"
   },
   {
    "duration": 1141,
    "start_time": "2023-03-18T23:16:06.480Z"
   },
   {
    "duration": 1143,
    "start_time": "2023-03-18T23:16:39.840Z"
   },
   {
    "duration": 1163,
    "start_time": "2023-03-18T23:17:01.366Z"
   },
   {
    "duration": 210,
    "start_time": "2023-03-18T23:21:02.370Z"
   },
   {
    "duration": 238,
    "start_time": "2023-03-18T23:21:52.378Z"
   },
   {
    "duration": 208,
    "start_time": "2023-03-18T23:22:08.001Z"
   },
   {
    "duration": 223,
    "start_time": "2023-03-18T23:22:22.435Z"
   },
   {
    "duration": 331,
    "start_time": "2023-03-18T23:22:35.092Z"
   },
   {
    "duration": 209,
    "start_time": "2023-03-18T23:23:33.235Z"
   },
   {
    "duration": 75,
    "start_time": "2023-03-20T11:16:28.989Z"
   },
   {
    "duration": 382,
    "start_time": "2023-03-20T11:16:39.299Z"
   },
   {
    "duration": 265,
    "start_time": "2023-03-20T11:16:39.683Z"
   },
   {
    "duration": 26,
    "start_time": "2023-03-20T11:16:39.956Z"
   },
   {
    "duration": 16,
    "start_time": "2023-03-20T11:16:39.984Z"
   },
   {
    "duration": 6,
    "start_time": "2023-03-20T11:16:40.003Z"
   },
   {
    "duration": 41,
    "start_time": "2023-03-20T11:16:40.011Z"
   },
   {
    "duration": 4,
    "start_time": "2023-03-20T11:16:40.056Z"
   },
   {
    "duration": 8,
    "start_time": "2023-03-20T11:16:40.064Z"
   },
   {
    "duration": 38,
    "start_time": "2023-03-20T11:16:40.074Z"
   },
   {
    "duration": 48,
    "start_time": "2023-03-20T11:16:40.114Z"
   },
   {
    "duration": 8,
    "start_time": "2023-03-20T11:16:40.164Z"
   },
   {
    "duration": 15,
    "start_time": "2023-03-20T11:16:40.174Z"
   },
   {
    "duration": 5,
    "start_time": "2023-03-20T11:16:40.191Z"
   },
   {
    "duration": 23,
    "start_time": "2023-03-20T11:16:40.199Z"
   },
   {
    "duration": 63,
    "start_time": "2023-03-20T11:16:40.224Z"
   },
   {
    "duration": 6,
    "start_time": "2023-03-20T11:16:40.291Z"
   },
   {
    "duration": 6,
    "start_time": "2023-03-20T11:16:40.301Z"
   },
   {
    "duration": 13,
    "start_time": "2023-03-20T11:16:40.309Z"
   },
   {
    "duration": 38,
    "start_time": "2023-03-20T11:16:40.331Z"
   },
   {
    "duration": 41,
    "start_time": "2023-03-20T11:16:40.371Z"
   },
   {
    "duration": 18,
    "start_time": "2023-03-20T11:16:40.414Z"
   },
   {
    "duration": 33,
    "start_time": "2023-03-20T11:16:40.445Z"
   },
   {
    "duration": 18,
    "start_time": "2023-03-20T11:16:40.480Z"
   },
   {
    "duration": 1932,
    "start_time": "2023-03-20T11:16:40.500Z"
   },
   {
    "duration": 239,
    "start_time": "2023-03-20T11:16:42.436Z"
   },
   {
    "duration": 32,
    "start_time": "2023-03-20T11:16:52.159Z"
   },
   {
    "duration": 350,
    "start_time": "2023-03-20T11:17:33.247Z"
   },
   {
    "duration": 346,
    "start_time": "2023-03-20T11:18:17.212Z"
   },
   {
    "duration": 317,
    "start_time": "2023-03-20T11:18:54.400Z"
   },
   {
    "duration": 371,
    "start_time": "2023-03-20T11:19:11.625Z"
   },
   {
    "duration": 345,
    "start_time": "2023-03-20T11:22:08.271Z"
   },
   {
    "duration": 344,
    "start_time": "2023-03-20T11:38:31.569Z"
   },
   {
    "duration": 276,
    "start_time": "2023-03-20T12:14:35.043Z"
   },
   {
    "duration": 336,
    "start_time": "2023-03-20T12:14:54.947Z"
   },
   {
    "duration": 202,
    "start_time": "2023-03-20T12:15:44.398Z"
   },
   {
    "duration": 51,
    "start_time": "2023-03-20T12:29:16.615Z"
   },
   {
    "duration": 14,
    "start_time": "2023-03-20T12:29:23.554Z"
   },
   {
    "duration": 281,
    "start_time": "2023-03-20T12:30:42.940Z"
   },
   {
    "duration": 201,
    "start_time": "2023-03-20T12:34:18.568Z"
   },
   {
    "duration": 858,
    "start_time": "2023-03-20T12:52:17.998Z"
   },
   {
    "duration": 29,
    "start_time": "2023-03-20T12:56:09.645Z"
   },
   {
    "duration": 29,
    "start_time": "2023-03-20T13:00:34.216Z"
   },
   {
    "duration": 28,
    "start_time": "2023-03-20T13:00:53.358Z"
   },
   {
    "duration": 13,
    "start_time": "2023-03-20T13:03:14.836Z"
   },
   {
    "duration": 17,
    "start_time": "2023-03-20T13:03:58.821Z"
   },
   {
    "duration": 28,
    "start_time": "2023-03-20T13:04:42.310Z"
   },
   {
    "duration": 29,
    "start_time": "2023-03-20T13:05:14.942Z"
   },
   {
    "duration": 126,
    "start_time": "2023-03-20T13:07:26.771Z"
   },
   {
    "duration": 24,
    "start_time": "2023-03-20T13:09:51.019Z"
   },
   {
    "duration": 16,
    "start_time": "2023-03-20T13:10:33.679Z"
   },
   {
    "duration": 240,
    "start_time": "2023-03-20T13:12:13.048Z"
   },
   {
    "duration": 84,
    "start_time": "2023-03-20T13:13:40.405Z"
   },
   {
    "duration": 127,
    "start_time": "2023-03-20T13:14:01.320Z"
   },
   {
    "duration": 53,
    "start_time": "2023-03-20T13:15:18.968Z"
   },
   {
    "duration": 205,
    "start_time": "2023-03-20T13:16:13.751Z"
   },
   {
    "duration": 230,
    "start_time": "2023-03-20T13:18:06.437Z"
   },
   {
    "duration": 124,
    "start_time": "2023-03-20T13:19:01.642Z"
   },
   {
    "duration": 113,
    "start_time": "2023-03-20T13:19:49.964Z"
   },
   {
    "duration": 186,
    "start_time": "2023-03-20T13:19:55.945Z"
   },
   {
    "duration": 1325,
    "start_time": "2023-03-20T13:24:39.698Z"
   },
   {
    "duration": 16,
    "start_time": "2023-03-20T13:25:14.969Z"
   },
   {
    "duration": 159,
    "start_time": "2023-03-20T13:25:30.876Z"
   },
   {
    "duration": 261,
    "start_time": "2023-03-20T13:27:13.351Z"
   },
   {
    "duration": 1336,
    "start_time": "2023-03-20T13:44:24.187Z"
   },
   {
    "duration": 312,
    "start_time": "2023-03-20T13:45:36.680Z"
   },
   {
    "duration": 619,
    "start_time": "2023-03-20T13:46:07.628Z"
   },
   {
    "duration": 775,
    "start_time": "2023-03-20T13:51:34.183Z"
   },
   {
    "duration": 47,
    "start_time": "2023-03-20T13:52:23.827Z"
   },
   {
    "duration": 42,
    "start_time": "2023-03-20T13:52:42.775Z"
   },
   {
    "duration": 122,
    "start_time": "2023-03-20T13:53:20.668Z"
   },
   {
    "duration": 68,
    "start_time": "2023-03-20T13:54:08.860Z"
   },
   {
    "duration": 684,
    "start_time": "2023-03-20T13:54:56.293Z"
   },
   {
    "duration": 148,
    "start_time": "2023-03-20T13:56:51.637Z"
   },
   {
    "duration": 20,
    "start_time": "2023-03-20T13:58:15.724Z"
   },
   {
    "duration": 157,
    "start_time": "2023-03-20T13:59:09.155Z"
   },
   {
    "duration": 56,
    "start_time": "2023-03-20T14:05:03.213Z"
   },
   {
    "duration": 293,
    "start_time": "2023-03-20T14:06:15.559Z"
   },
   {
    "duration": 212,
    "start_time": "2023-03-20T14:06:34.341Z"
   },
   {
    "duration": 254,
    "start_time": "2023-03-20T14:09:23.394Z"
   },
   {
    "duration": 281,
    "start_time": "2023-03-20T14:09:51.613Z"
   },
   {
    "duration": 357,
    "start_time": "2023-03-20T14:10:34.405Z"
   },
   {
    "duration": 256,
    "start_time": "2023-03-20T14:11:07.545Z"
   },
   {
    "duration": 415,
    "start_time": "2023-03-20T14:11:20.043Z"
   },
   {
    "duration": 226,
    "start_time": "2023-03-20T14:12:17.317Z"
   },
   {
    "duration": 228,
    "start_time": "2023-03-20T14:12:28.957Z"
   },
   {
    "duration": 235,
    "start_time": "2023-03-20T14:13:07.310Z"
   },
   {
    "duration": 234,
    "start_time": "2023-03-20T14:13:37.951Z"
   },
   {
    "duration": 55,
    "start_time": "2023-03-20T14:14:36.109Z"
   },
   {
    "duration": 240,
    "start_time": "2023-03-20T14:14:58.710Z"
   },
   {
    "duration": 203,
    "start_time": "2023-03-20T14:15:19.638Z"
   },
   {
    "duration": 219,
    "start_time": "2023-03-20T14:15:36.868Z"
   },
   {
    "duration": 231,
    "start_time": "2023-03-20T14:16:25.781Z"
   },
   {
    "duration": 260,
    "start_time": "2023-03-20T14:16:30.784Z"
   },
   {
    "duration": 217,
    "start_time": "2023-03-20T14:19:45.848Z"
   },
   {
    "duration": 557,
    "start_time": "2023-03-20T14:21:11.456Z"
   },
   {
    "duration": 211,
    "start_time": "2023-03-20T14:21:15.257Z"
   },
   {
    "duration": 48,
    "start_time": "2023-03-20T14:23:38.498Z"
   },
   {
    "duration": 235,
    "start_time": "2023-03-20T14:30:49.895Z"
   },
   {
    "duration": 232,
    "start_time": "2023-03-20T14:31:47.274Z"
   },
   {
    "duration": 59,
    "start_time": "2023-03-20T15:16:27.819Z"
   },
   {
    "duration": 214,
    "start_time": "2023-03-20T15:17:42.263Z"
   },
   {
    "duration": 34,
    "start_time": "2023-03-20T15:18:43.071Z"
   },
   {
    "duration": 231,
    "start_time": "2023-03-20T15:19:46.153Z"
   },
   {
    "duration": 17,
    "start_time": "2023-03-20T15:30:18.053Z"
   },
   {
    "duration": 12,
    "start_time": "2023-03-20T15:34:18.629Z"
   },
   {
    "duration": 1023,
    "start_time": "2023-03-20T15:34:40.291Z"
   },
   {
    "duration": 860,
    "start_time": "2023-03-20T15:35:17.467Z"
   },
   {
    "duration": 799,
    "start_time": "2023-03-20T15:35:39.917Z"
   },
   {
    "duration": 713,
    "start_time": "2023-03-20T15:35:54.058Z"
   },
   {
    "duration": 880,
    "start_time": "2023-03-20T15:36:11.097Z"
   },
   {
    "duration": 28,
    "start_time": "2023-03-20T15:38:09.057Z"
   },
   {
    "duration": 28,
    "start_time": "2023-03-20T15:38:47.538Z"
   },
   {
    "duration": 34,
    "start_time": "2023-03-20T15:39:01.531Z"
   },
   {
    "duration": 31,
    "start_time": "2023-03-20T15:45:58.255Z"
   },
   {
    "duration": 837,
    "start_time": "2023-03-20T15:47:01.416Z"
   },
   {
    "duration": 654,
    "start_time": "2023-03-20T15:47:19.421Z"
   },
   {
    "duration": 665,
    "start_time": "2023-03-20T15:47:41.815Z"
   },
   {
    "duration": 869,
    "start_time": "2023-03-20T15:48:47.850Z"
   },
   {
    "duration": 150,
    "start_time": "2023-03-20T15:53:13.894Z"
   },
   {
    "duration": 162,
    "start_time": "2023-03-20T15:53:32.883Z"
   },
   {
    "duration": 173,
    "start_time": "2023-03-20T15:53:40.497Z"
   },
   {
    "duration": 210,
    "start_time": "2023-03-20T15:53:47.569Z"
   },
   {
    "duration": 175,
    "start_time": "2023-03-20T15:54:37.874Z"
   },
   {
    "duration": 158,
    "start_time": "2023-03-20T15:55:12.105Z"
   },
   {
    "duration": 181,
    "start_time": "2023-03-20T15:55:24.707Z"
   },
   {
    "duration": 50,
    "start_time": "2023-03-20T15:57:04.240Z"
   },
   {
    "duration": 48,
    "start_time": "2023-03-20T15:57:20.869Z"
   },
   {
    "duration": 172,
    "start_time": "2023-03-20T15:57:28.216Z"
   },
   {
    "duration": 161,
    "start_time": "2023-03-20T15:58:48.340Z"
   },
   {
    "duration": 143,
    "start_time": "2023-03-20T16:01:07.471Z"
   },
   {
    "duration": 150,
    "start_time": "2023-03-20T16:01:38.218Z"
   },
   {
    "duration": 152,
    "start_time": "2023-03-20T16:01:41.517Z"
   },
   {
    "duration": 59,
    "start_time": "2023-03-20T16:01:54.100Z"
   },
   {
    "duration": 17,
    "start_time": "2023-03-20T16:02:01.158Z"
   },
   {
    "duration": 182,
    "start_time": "2023-03-20T16:10:39.259Z"
   },
   {
    "duration": 235,
    "start_time": "2023-03-20T16:11:39.548Z"
   },
   {
    "duration": 188,
    "start_time": "2023-03-20T16:12:17.042Z"
   },
   {
    "duration": 17,
    "start_time": "2023-03-20T16:12:45.569Z"
   },
   {
    "duration": 45,
    "start_time": "2023-03-20T16:13:28.052Z"
   },
   {
    "duration": 20,
    "start_time": "2023-03-20T16:17:04.617Z"
   },
   {
    "duration": 742,
    "start_time": "2023-03-20T16:23:13.898Z"
   },
   {
    "duration": 185,
    "start_time": "2023-03-20T16:23:29.735Z"
   },
   {
    "duration": 212,
    "start_time": "2023-03-20T16:23:36.713Z"
   },
   {
    "duration": 13,
    "start_time": "2023-03-20T16:23:44.804Z"
   },
   {
    "duration": 194,
    "start_time": "2023-03-20T16:25:19.446Z"
   },
   {
    "duration": 1198,
    "start_time": "2023-03-20T16:25:59.309Z"
   },
   {
    "duration": 926,
    "start_time": "2023-03-20T16:26:10.173Z"
   },
   {
    "duration": 225,
    "start_time": "2023-03-20T16:26:55.843Z"
   },
   {
    "duration": 60,
    "start_time": "2023-03-21T09:08:07.152Z"
   },
   {
    "duration": 422,
    "start_time": "2023-03-21T09:08:13.111Z"
   },
   {
    "duration": 202,
    "start_time": "2023-03-21T09:08:13.535Z"
   },
   {
    "duration": 23,
    "start_time": "2023-03-21T09:08:13.739Z"
   },
   {
    "duration": 15,
    "start_time": "2023-03-21T09:08:13.764Z"
   },
   {
    "duration": 4,
    "start_time": "2023-03-21T09:08:13.781Z"
   },
   {
    "duration": 33,
    "start_time": "2023-03-21T09:08:13.786Z"
   },
   {
    "duration": 9,
    "start_time": "2023-03-21T09:08:13.821Z"
   },
   {
    "duration": 14,
    "start_time": "2023-03-21T09:08:13.831Z"
   },
   {
    "duration": 17,
    "start_time": "2023-03-21T09:08:13.847Z"
   },
   {
    "duration": 40,
    "start_time": "2023-03-21T09:08:13.866Z"
   },
   {
    "duration": 16,
    "start_time": "2023-03-21T09:08:13.908Z"
   },
   {
    "duration": 24,
    "start_time": "2023-03-21T09:08:13.926Z"
   },
   {
    "duration": 6,
    "start_time": "2023-03-21T09:08:13.952Z"
   },
   {
    "duration": 41,
    "start_time": "2023-03-21T09:08:13.961Z"
   },
   {
    "duration": 53,
    "start_time": "2023-03-21T09:08:14.003Z"
   },
   {
    "duration": 24,
    "start_time": "2023-03-21T09:08:14.058Z"
   },
   {
    "duration": 17,
    "start_time": "2023-03-21T09:08:14.083Z"
   },
   {
    "duration": 53,
    "start_time": "2023-03-21T09:08:14.102Z"
   },
   {
    "duration": 8,
    "start_time": "2023-03-21T09:08:14.158Z"
   },
   {
    "duration": 53,
    "start_time": "2023-03-21T09:08:14.168Z"
   },
   {
    "duration": 27,
    "start_time": "2023-03-21T09:08:14.223Z"
   },
   {
    "duration": 27,
    "start_time": "2023-03-21T09:08:14.252Z"
   },
   {
    "duration": 45,
    "start_time": "2023-03-21T09:08:14.281Z"
   },
   {
    "duration": 1845,
    "start_time": "2023-03-21T09:08:14.328Z"
   },
   {
    "duration": 242,
    "start_time": "2023-03-21T09:08:16.175Z"
   },
   {
    "duration": 301,
    "start_time": "2023-03-21T09:08:16.419Z"
   },
   {
    "duration": 215,
    "start_time": "2023-03-21T09:08:16.722Z"
   },
   {
    "duration": 201,
    "start_time": "2023-03-21T09:08:16.939Z"
   },
   {
    "duration": 705,
    "start_time": "2023-03-21T09:08:17.142Z"
   },
   {
    "duration": 180,
    "start_time": "2023-03-21T09:08:17.849Z"
   },
   {
    "duration": 185,
    "start_time": "2023-03-21T09:08:18.031Z"
   },
   {
    "duration": 12,
    "start_time": "2023-03-21T09:08:18.217Z"
   },
   {
    "duration": 15,
    "start_time": "2023-03-21T09:08:18.231Z"
   },
   {
    "duration": 50,
    "start_time": "2023-03-21T09:08:21.232Z"
   },
   {
    "duration": 18,
    "start_time": "2023-03-21T09:08:46.494Z"
   },
   {
    "duration": 12,
    "start_time": "2023-03-21T09:09:40.811Z"
   },
   {
    "duration": 11,
    "start_time": "2023-03-21T09:10:05.318Z"
   },
   {
    "duration": 12,
    "start_time": "2023-03-21T09:10:18.867Z"
   },
   {
    "duration": 12,
    "start_time": "2023-03-21T09:11:41.919Z"
   },
   {
    "duration": 12,
    "start_time": "2023-03-21T09:14:07.632Z"
   },
   {
    "duration": 12,
    "start_time": "2023-03-21T09:14:26.136Z"
   },
   {
    "duration": 11,
    "start_time": "2023-03-21T09:14:51.822Z"
   },
   {
    "duration": 11,
    "start_time": "2023-03-21T09:15:10.222Z"
   },
   {
    "duration": 14,
    "start_time": "2023-03-21T09:15:20.310Z"
   },
   {
    "duration": 14,
    "start_time": "2023-03-21T09:15:30.379Z"
   },
   {
    "duration": 15,
    "start_time": "2023-03-21T09:15:42.407Z"
   },
   {
    "duration": 28,
    "start_time": "2023-03-21T09:18:28.183Z"
   },
   {
    "duration": 13,
    "start_time": "2023-03-21T09:18:49.045Z"
   },
   {
    "duration": 120,
    "start_time": "2023-03-21T09:20:44.992Z"
   },
   {
    "duration": 7,
    "start_time": "2023-03-21T09:26:10.142Z"
   },
   {
    "duration": 9,
    "start_time": "2023-03-21T09:26:13.872Z"
   },
   {
    "duration": 8,
    "start_time": "2023-03-21T09:28:15.919Z"
   },
   {
    "duration": 20,
    "start_time": "2023-03-21T09:28:34.093Z"
   },
   {
    "duration": 9,
    "start_time": "2023-03-21T09:30:57.276Z"
   },
   {
    "duration": 16,
    "start_time": "2023-03-21T09:31:07.138Z"
   },
   {
    "duration": 31,
    "start_time": "2023-03-21T10:04:14.454Z"
   },
   {
    "duration": 20,
    "start_time": "2023-03-21T10:04:19.023Z"
   },
   {
    "duration": 24,
    "start_time": "2023-03-21T10:04:38.270Z"
   },
   {
    "duration": 42,
    "start_time": "2023-03-21T10:05:35.989Z"
   },
   {
    "duration": 27,
    "start_time": "2023-03-21T10:09:40.389Z"
   },
   {
    "duration": 54,
    "start_time": "2023-03-21T10:14:22.714Z"
   },
   {
    "duration": 65,
    "start_time": "2023-03-21T10:14:35.197Z"
   },
   {
    "duration": 45,
    "start_time": "2023-03-21T10:15:00.414Z"
   },
   {
    "duration": 73,
    "start_time": "2023-03-21T10:15:41.516Z"
   },
   {
    "duration": 71,
    "start_time": "2023-03-21T10:15:48.655Z"
   },
   {
    "duration": 39,
    "start_time": "2023-03-21T10:22:09.895Z"
   },
   {
    "duration": 31,
    "start_time": "2023-03-21T10:22:53.718Z"
   },
   {
    "duration": 53,
    "start_time": "2023-03-21T10:36:31.943Z"
   },
   {
    "duration": 33,
    "start_time": "2023-03-21T10:36:56.655Z"
   },
   {
    "duration": 45,
    "start_time": "2023-03-21T10:38:34.058Z"
   },
   {
    "duration": 9,
    "start_time": "2023-03-21T10:40:28.555Z"
   },
   {
    "duration": 14,
    "start_time": "2023-03-21T10:41:13.141Z"
   },
   {
    "duration": 36,
    "start_time": "2023-03-21T10:41:25.029Z"
   },
   {
    "duration": 57,
    "start_time": "2023-03-21T10:42:36.784Z"
   },
   {
    "duration": 33,
    "start_time": "2023-03-21T10:43:32.442Z"
   },
   {
    "duration": 40,
    "start_time": "2023-03-21T10:45:10.338Z"
   },
   {
    "duration": 39,
    "start_time": "2023-03-21T10:45:39.653Z"
   },
   {
    "duration": 36,
    "start_time": "2023-03-21T10:48:53.723Z"
   },
   {
    "duration": 38,
    "start_time": "2023-03-21T10:50:04.519Z"
   },
   {
    "duration": 39,
    "start_time": "2023-03-21T10:50:21.621Z"
   },
   {
    "duration": 37,
    "start_time": "2023-03-21T10:50:35.524Z"
   },
   {
    "duration": 35,
    "start_time": "2023-03-21T10:50:44.674Z"
   },
   {
    "duration": 39,
    "start_time": "2023-03-21T11:04:22.746Z"
   },
   {
    "duration": 64,
    "start_time": "2023-03-21T11:05:23.169Z"
   },
   {
    "duration": 41,
    "start_time": "2023-03-21T11:14:02.221Z"
   },
   {
    "duration": 43,
    "start_time": "2023-03-21T11:17:33.224Z"
   },
   {
    "duration": 49,
    "start_time": "2023-03-21T11:31:44.216Z"
   },
   {
    "duration": 45,
    "start_time": "2023-03-21T11:37:26.682Z"
   },
   {
    "duration": 55,
    "start_time": "2023-03-21T11:53:50.149Z"
   },
   {
    "duration": 38,
    "start_time": "2023-03-21T11:54:13.319Z"
   },
   {
    "duration": 37,
    "start_time": "2023-03-21T12:25:23.623Z"
   },
   {
    "duration": 45,
    "start_time": "2023-03-21T12:25:38.022Z"
   },
   {
    "duration": 44,
    "start_time": "2023-03-21T12:25:46.059Z"
   },
   {
    "duration": 545,
    "start_time": "2023-03-21T13:08:38.672Z"
   },
   {
    "duration": 16,
    "start_time": "2023-03-21T13:12:01.330Z"
   },
   {
    "duration": 15,
    "start_time": "2023-03-21T13:13:42.666Z"
   },
   {
    "duration": 3,
    "start_time": "2023-03-21T13:14:29.774Z"
   },
   {
    "duration": 194,
    "start_time": "2023-03-21T13:14:29.780Z"
   },
   {
    "duration": 23,
    "start_time": "2023-03-21T13:14:29.976Z"
   },
   {
    "duration": 46,
    "start_time": "2023-03-21T13:14:30.001Z"
   },
   {
    "duration": 6,
    "start_time": "2023-03-21T13:14:30.051Z"
   },
   {
    "duration": 30,
    "start_time": "2023-03-21T13:14:30.059Z"
   },
   {
    "duration": 19,
    "start_time": "2023-03-21T13:14:30.092Z"
   },
   {
    "duration": 38,
    "start_time": "2023-03-21T13:14:30.113Z"
   },
   {
    "duration": 33,
    "start_time": "2023-03-21T13:14:30.154Z"
   },
   {
    "duration": 36,
    "start_time": "2023-03-21T13:14:30.189Z"
   },
   {
    "duration": 34,
    "start_time": "2023-03-21T13:14:30.227Z"
   },
   {
    "duration": 52,
    "start_time": "2023-03-21T13:14:30.263Z"
   },
   {
    "duration": 29,
    "start_time": "2023-03-21T13:14:30.317Z"
   },
   {
    "duration": 33,
    "start_time": "2023-03-21T13:14:30.351Z"
   },
   {
    "duration": 54,
    "start_time": "2023-03-21T13:14:30.386Z"
   },
   {
    "duration": 12,
    "start_time": "2023-03-21T13:14:30.442Z"
   },
   {
    "duration": 36,
    "start_time": "2023-03-21T13:14:30.457Z"
   },
   {
    "duration": 45,
    "start_time": "2023-03-21T13:14:30.496Z"
   },
   {
    "duration": 39,
    "start_time": "2023-03-21T13:14:30.545Z"
   },
   {
    "duration": 85,
    "start_time": "2023-03-21T13:14:30.586Z"
   },
   {
    "duration": 20,
    "start_time": "2023-03-21T13:14:30.673Z"
   },
   {
    "duration": 44,
    "start_time": "2023-03-21T13:14:30.695Z"
   },
   {
    "duration": 42,
    "start_time": "2023-03-21T13:14:30.740Z"
   },
   {
    "duration": 1511,
    "start_time": "2023-03-21T13:14:30.784Z"
   },
   {
    "duration": 347,
    "start_time": "2023-03-21T13:14:32.297Z"
   },
   {
    "duration": 407,
    "start_time": "2023-03-21T13:14:32.647Z"
   },
   {
    "duration": 346,
    "start_time": "2023-03-21T13:14:33.057Z"
   },
   {
    "duration": 291,
    "start_time": "2023-03-21T13:14:33.406Z"
   },
   {
    "duration": 956,
    "start_time": "2023-03-21T13:14:33.698Z"
   },
   {
    "duration": 259,
    "start_time": "2023-03-21T13:14:34.657Z"
   },
   {
    "duration": 209,
    "start_time": "2023-03-21T13:14:34.918Z"
   },
   {
    "duration": 17,
    "start_time": "2023-03-21T13:14:35.129Z"
   },
   {
    "duration": 28,
    "start_time": "2023-03-21T13:14:35.149Z"
   },
   {
    "duration": 40,
    "start_time": "2023-03-21T13:14:35.179Z"
   },
   {
    "duration": 97,
    "start_time": "2023-03-21T13:14:35.224Z"
   },
   {
    "duration": 53,
    "start_time": "2023-03-21T13:14:35.323Z"
   },
   {
    "duration": 82,
    "start_time": "2023-03-21T13:14:35.380Z"
   },
   {
    "duration": 7,
    "start_time": "2023-03-21T13:14:35.464Z"
   },
   {
    "duration": 27,
    "start_time": "2023-03-21T13:14:35.474Z"
   },
   {
    "duration": 11,
    "start_time": "2023-03-21T13:14:49.788Z"
   },
   {
    "duration": 16,
    "start_time": "2023-03-21T13:17:18.652Z"
   },
   {
    "duration": 14,
    "start_time": "2023-03-21T13:17:27.063Z"
   },
   {
    "duration": 21,
    "start_time": "2023-03-21T13:17:30.791Z"
   },
   {
    "duration": 19,
    "start_time": "2023-03-21T13:18:41.988Z"
   },
   {
    "duration": 20,
    "start_time": "2023-03-21T13:21:35.519Z"
   },
   {
    "duration": 40,
    "start_time": "2023-03-21T13:22:02.297Z"
   },
   {
    "duration": 38,
    "start_time": "2023-03-21T13:22:18.110Z"
   },
   {
    "duration": 28,
    "start_time": "2023-03-21T13:22:27.345Z"
   },
   {
    "duration": 13,
    "start_time": "2023-03-21T13:56:52.755Z"
   },
   {
    "duration": 15,
    "start_time": "2023-03-21T13:57:22.831Z"
   },
   {
    "duration": 21,
    "start_time": "2023-03-21T13:57:43.587Z"
   },
   {
    "duration": 27,
    "start_time": "2023-03-21T13:58:12.692Z"
   },
   {
    "duration": 6,
    "start_time": "2023-03-21T14:12:15.431Z"
   },
   {
    "duration": 5,
    "start_time": "2023-03-21T14:12:22.831Z"
   },
   {
    "duration": 438,
    "start_time": "2023-03-21T15:31:22.388Z"
   },
   {
    "duration": 52,
    "start_time": "2023-03-21T15:31:22.828Z"
   },
   {
    "duration": 33,
    "start_time": "2023-03-21T15:31:22.882Z"
   },
   {
    "duration": 35,
    "start_time": "2023-03-21T15:31:22.917Z"
   },
   {
    "duration": 3,
    "start_time": "2023-03-21T15:31:22.956Z"
   },
   {
    "duration": 15,
    "start_time": "2023-03-21T15:31:22.961Z"
   },
   {
    "duration": 2,
    "start_time": "2023-03-21T15:31:22.978Z"
   },
   {
    "duration": 6,
    "start_time": "2023-03-21T15:31:22.982Z"
   },
   {
    "duration": 23,
    "start_time": "2023-03-21T15:31:22.990Z"
   },
   {
    "duration": 19,
    "start_time": "2023-03-21T15:31:23.014Z"
   },
   {
    "duration": 9,
    "start_time": "2023-03-21T15:31:23.035Z"
   },
   {
    "duration": 11,
    "start_time": "2023-03-21T15:31:23.046Z"
   },
   {
    "duration": 5,
    "start_time": "2023-03-21T15:31:23.059Z"
   },
   {
    "duration": 6,
    "start_time": "2023-03-21T15:31:23.067Z"
   },
   {
    "duration": 34,
    "start_time": "2023-03-21T15:31:23.074Z"
   },
   {
    "duration": 8,
    "start_time": "2023-03-21T15:31:23.110Z"
   },
   {
    "duration": 5,
    "start_time": "2023-03-21T15:31:23.120Z"
   },
   {
    "duration": 20,
    "start_time": "2023-03-21T15:31:23.126Z"
   },
   {
    "duration": 8,
    "start_time": "2023-03-21T15:31:23.148Z"
   },
   {
    "duration": 53,
    "start_time": "2023-03-21T15:31:23.157Z"
   },
   {
    "duration": 16,
    "start_time": "2023-03-21T15:31:23.211Z"
   },
   {
    "duration": 14,
    "start_time": "2023-03-21T15:31:23.228Z"
   },
   {
    "duration": 23,
    "start_time": "2023-03-21T15:31:23.244Z"
   },
   {
    "duration": 1606,
    "start_time": "2023-03-21T15:31:23.269Z"
   },
   {
    "duration": 318,
    "start_time": "2023-03-21T15:31:24.877Z"
   },
   {
    "duration": 324,
    "start_time": "2023-03-21T15:31:25.197Z"
   },
   {
    "duration": 227,
    "start_time": "2023-03-21T15:31:25.522Z"
   },
   {
    "duration": 213,
    "start_time": "2023-03-21T15:31:25.751Z"
   },
   {
    "duration": 837,
    "start_time": "2023-03-21T15:31:25.966Z"
   },
   {
    "duration": 202,
    "start_time": "2023-03-21T15:31:26.805Z"
   },
   {
    "duration": 197,
    "start_time": "2023-03-21T15:31:27.009Z"
   },
   {
    "duration": 15,
    "start_time": "2023-03-21T15:31:27.211Z"
   },
   {
    "duration": 12,
    "start_time": "2023-03-21T15:31:27.228Z"
   },
   {
    "duration": 17,
    "start_time": "2023-03-21T15:31:27.242Z"
   },
   {
    "duration": 72,
    "start_time": "2023-03-21T15:31:27.261Z"
   },
   {
    "duration": 30,
    "start_time": "2023-03-21T15:31:27.335Z"
   },
   {
    "duration": 46,
    "start_time": "2023-03-21T15:31:27.367Z"
   },
   {
    "duration": 516,
    "start_time": "2023-03-21T15:31:27.415Z"
   },
   {
    "duration": 15,
    "start_time": "2023-03-21T15:31:27.933Z"
   },
   {
    "duration": 17,
    "start_time": "2023-03-21T15:31:27.950Z"
   },
   {
    "duration": 47,
    "start_time": "2023-03-21T18:50:07.901Z"
   },
   {
    "duration": 410,
    "start_time": "2023-03-21T18:50:15.643Z"
   },
   {
    "duration": 197,
    "start_time": "2023-03-21T18:50:16.055Z"
   },
   {
    "duration": 28,
    "start_time": "2023-03-21T18:50:16.254Z"
   },
   {
    "duration": 15,
    "start_time": "2023-03-21T18:50:16.284Z"
   },
   {
    "duration": 3,
    "start_time": "2023-03-21T18:50:16.302Z"
   },
   {
    "duration": 12,
    "start_time": "2023-03-21T18:50:16.307Z"
   },
   {
    "duration": 2,
    "start_time": "2023-03-21T18:50:16.321Z"
   },
   {
    "duration": 18,
    "start_time": "2023-03-21T18:50:16.325Z"
   },
   {
    "duration": 6,
    "start_time": "2023-03-21T18:50:16.345Z"
   },
   {
    "duration": 5,
    "start_time": "2023-03-21T18:50:16.353Z"
   },
   {
    "duration": 577,
    "start_time": "2023-03-21T18:50:16.359Z"
   },
   {
    "duration": 13,
    "start_time": "2023-03-21T18:50:16.938Z"
   },
   {
    "duration": 8,
    "start_time": "2023-03-21T18:50:16.952Z"
   },
   {
    "duration": 6,
    "start_time": "2023-03-21T18:50:16.963Z"
   },
   {
    "duration": 4,
    "start_time": "2023-03-21T18:50:16.970Z"
   },
   {
    "duration": 8,
    "start_time": "2023-03-21T18:50:16.975Z"
   },
   {
    "duration": 35,
    "start_time": "2023-03-21T18:50:16.984Z"
   },
   {
    "duration": 22,
    "start_time": "2023-03-21T18:50:17.020Z"
   },
   {
    "duration": 4,
    "start_time": "2023-03-21T18:50:17.043Z"
   },
   {
    "duration": 10,
    "start_time": "2023-03-21T18:50:17.049Z"
   },
   {
    "duration": 6,
    "start_time": "2023-03-21T18:50:17.061Z"
   },
   {
    "duration": 31,
    "start_time": "2023-03-21T18:50:17.068Z"
   },
   {
    "duration": 43,
    "start_time": "2023-03-21T18:50:17.100Z"
   },
   {
    "duration": 14,
    "start_time": "2023-03-21T18:50:17.144Z"
   },
   {
    "duration": 16,
    "start_time": "2023-03-21T18:50:17.159Z"
   },
   {
    "duration": 1066,
    "start_time": "2023-03-21T18:50:17.176Z"
   },
   {
    "duration": 184,
    "start_time": "2023-03-21T18:50:18.243Z"
   },
   {
    "duration": 270,
    "start_time": "2023-03-21T18:50:18.428Z"
   },
   {
    "duration": 177,
    "start_time": "2023-03-21T18:50:18.700Z"
   },
   {
    "duration": 175,
    "start_time": "2023-03-21T18:50:18.878Z"
   },
   {
    "duration": 591,
    "start_time": "2023-03-21T18:50:19.055Z"
   },
   {
    "duration": 153,
    "start_time": "2023-03-21T18:50:19.648Z"
   },
   {
    "duration": 161,
    "start_time": "2023-03-21T18:50:19.803Z"
   },
   {
    "duration": 12,
    "start_time": "2023-03-21T18:50:19.966Z"
   },
   {
    "duration": 9,
    "start_time": "2023-03-21T18:50:19.979Z"
   },
   {
    "duration": 13,
    "start_time": "2023-03-21T18:50:19.989Z"
   },
   {
    "duration": 120,
    "start_time": "2023-03-21T18:50:20.004Z"
   },
   {
    "duration": 24,
    "start_time": "2023-03-21T18:50:20.125Z"
   },
   {
    "duration": 23,
    "start_time": "2023-03-21T18:50:20.150Z"
   },
   {
    "duration": 21,
    "start_time": "2023-03-21T18:50:20.174Z"
   },
   {
    "duration": 427,
    "start_time": "2023-03-21T18:50:20.198Z"
   },
   {
    "duration": 16,
    "start_time": "2023-03-21T18:50:20.627Z"
   },
   {
    "duration": 13,
    "start_time": "2023-03-21T18:50:20.645Z"
   },
   {
    "duration": 15,
    "start_time": "2023-03-21T18:55:02.129Z"
   },
   {
    "duration": 14,
    "start_time": "2023-03-21T18:55:06.889Z"
   },
   {
    "duration": 368,
    "start_time": "2023-03-21T18:58:11.087Z"
   },
   {
    "duration": 51,
    "start_time": "2023-03-21T18:58:11.456Z"
   },
   {
    "duration": 20,
    "start_time": "2023-03-21T18:58:11.509Z"
   },
   {
    "duration": 12,
    "start_time": "2023-03-21T18:58:11.530Z"
   },
   {
    "duration": 3,
    "start_time": "2023-03-21T18:58:11.544Z"
   },
   {
    "duration": 16,
    "start_time": "2023-03-21T18:58:11.548Z"
   },
   {
    "duration": 2,
    "start_time": "2023-03-21T18:58:11.565Z"
   },
   {
    "duration": 5,
    "start_time": "2023-03-21T18:58:11.568Z"
   },
   {
    "duration": 4,
    "start_time": "2023-03-21T18:58:11.574Z"
   },
   {
    "duration": 5,
    "start_time": "2023-03-21T18:58:11.580Z"
   },
   {
    "duration": 390,
    "start_time": "2023-03-21T18:58:11.586Z"
   },
   {
    "duration": 12,
    "start_time": "2023-03-21T18:58:11.978Z"
   },
   {
    "duration": 9,
    "start_time": "2023-03-21T18:58:11.992Z"
   },
   {
    "duration": 6,
    "start_time": "2023-03-21T18:58:12.003Z"
   },
   {
    "duration": 18,
    "start_time": "2023-03-21T18:58:12.011Z"
   },
   {
    "duration": 5,
    "start_time": "2023-03-21T18:58:12.040Z"
   },
   {
    "duration": 19,
    "start_time": "2023-03-21T18:58:12.047Z"
   },
   {
    "duration": 4,
    "start_time": "2023-03-21T18:58:12.067Z"
   },
   {
    "duration": 5,
    "start_time": "2023-03-21T18:58:12.072Z"
   },
   {
    "duration": 10,
    "start_time": "2023-03-21T18:58:12.078Z"
   },
   {
    "duration": 7,
    "start_time": "2023-03-21T18:58:12.089Z"
   },
   {
    "duration": 66,
    "start_time": "2023-03-21T18:58:12.097Z"
   },
   {
    "duration": 12,
    "start_time": "2023-03-21T18:58:12.165Z"
   },
   {
    "duration": 12,
    "start_time": "2023-03-21T18:58:12.179Z"
   },
   {
    "duration": 16,
    "start_time": "2023-03-21T18:58:12.193Z"
   },
   {
    "duration": 981,
    "start_time": "2023-03-21T18:58:12.210Z"
   },
   {
    "duration": 233,
    "start_time": "2023-03-21T18:58:13.193Z"
   },
   {
    "duration": 249,
    "start_time": "2023-03-21T18:58:13.427Z"
   },
   {
    "duration": 185,
    "start_time": "2023-03-21T18:58:13.678Z"
   },
   {
    "duration": 193,
    "start_time": "2023-03-21T18:58:13.864Z"
   },
   {
    "duration": 609,
    "start_time": "2023-03-21T18:58:14.058Z"
   },
   {
    "duration": 150,
    "start_time": "2023-03-21T18:58:14.669Z"
   },
   {
    "duration": 154,
    "start_time": "2023-03-21T18:58:14.821Z"
   },
   {
    "duration": 13,
    "start_time": "2023-03-21T18:58:14.977Z"
   },
   {
    "duration": 9,
    "start_time": "2023-03-21T18:58:14.991Z"
   },
   {
    "duration": 15,
    "start_time": "2023-03-21T18:58:15.001Z"
   },
   {
    "duration": 26,
    "start_time": "2023-03-21T18:58:15.041Z"
   },
   {
    "duration": 23,
    "start_time": "2023-03-21T18:58:15.070Z"
   },
   {
    "duration": 46,
    "start_time": "2023-03-21T18:58:15.095Z"
   },
   {
    "duration": 441,
    "start_time": "2023-03-21T18:58:15.142Z"
   },
   {
    "duration": 11,
    "start_time": "2023-03-21T18:58:15.586Z"
   },
   {
    "duration": 12,
    "start_time": "2023-03-21T18:58:15.598Z"
   },
   {
    "duration": 50,
    "start_time": "2023-03-22T15:04:14.288Z"
   },
   {
    "duration": 457,
    "start_time": "2023-03-22T15:04:21.450Z"
   },
   {
    "duration": 111,
    "start_time": "2023-03-22T15:04:21.909Z"
   },
   {
    "duration": 26,
    "start_time": "2023-03-22T15:04:22.022Z"
   },
   {
    "duration": 17,
    "start_time": "2023-03-22T15:04:22.049Z"
   },
   {
    "duration": 16,
    "start_time": "2023-03-22T15:04:22.069Z"
   },
   {
    "duration": 13,
    "start_time": "2023-03-22T15:04:22.087Z"
   },
   {
    "duration": 1247,
    "start_time": "2023-03-22T15:04:26.427Z"
   },
   {
    "duration": 1549,
    "start_time": "2023-03-22T15:05:13.332Z"
   },
   {
    "duration": 12,
    "start_time": "2023-03-22T15:05:29.121Z"
   },
   {
    "duration": 17,
    "start_time": "2023-03-22T15:11:40.972Z"
   },
   {
    "duration": 3,
    "start_time": "2023-03-22T16:21:53.479Z"
   },
   {
    "duration": 2,
    "start_time": "2023-03-22T16:22:16.834Z"
   },
   {
    "duration": 3,
    "start_time": "2023-03-22T16:22:44.264Z"
   },
   {
    "duration": 8,
    "start_time": "2023-03-22T16:25:30.384Z"
   },
   {
    "duration": 4,
    "start_time": "2023-03-22T16:25:44.904Z"
   },
   {
    "duration": 3,
    "start_time": "2023-03-22T16:25:57.509Z"
   },
   {
    "duration": 80,
    "start_time": "2023-03-22T16:25:57.514Z"
   },
   {
    "duration": 24,
    "start_time": "2023-03-22T16:25:57.596Z"
   },
   {
    "duration": 37,
    "start_time": "2023-03-22T16:25:57.623Z"
   },
   {
    "duration": 21,
    "start_time": "2023-03-22T16:25:57.662Z"
   },
   {
    "duration": 14,
    "start_time": "2023-03-22T16:25:57.685Z"
   },
   {
    "duration": 16,
    "start_time": "2023-03-22T16:25:57.701Z"
   },
   {
    "duration": 3,
    "start_time": "2023-03-22T16:25:57.719Z"
   },
   {
    "duration": 8,
    "start_time": "2023-03-22T16:25:57.724Z"
   },
   {
    "duration": 25,
    "start_time": "2023-03-22T16:25:57.735Z"
   },
   {
    "duration": 15,
    "start_time": "2023-03-22T16:25:57.766Z"
   },
   {
    "duration": 712,
    "start_time": "2023-03-22T16:25:57.782Z"
   },
   {
    "duration": 15,
    "start_time": "2023-03-22T16:25:58.496Z"
   },
   {
    "duration": 13,
    "start_time": "2023-03-22T16:25:58.513Z"
   },
   {
    "duration": 11,
    "start_time": "2023-03-22T16:25:58.550Z"
   },
   {
    "duration": 16,
    "start_time": "2023-03-22T16:25:58.567Z"
   },
   {
    "duration": 11,
    "start_time": "2023-03-22T16:25:58.585Z"
   },
   {
    "duration": 33,
    "start_time": "2023-03-22T16:25:58.598Z"
   },
   {
    "duration": 8,
    "start_time": "2023-03-22T16:25:58.632Z"
   },
   {
    "duration": 33,
    "start_time": "2023-03-22T16:25:58.648Z"
   },
   {
    "duration": 15,
    "start_time": "2023-03-22T16:25:58.684Z"
   },
   {
    "duration": 11,
    "start_time": "2023-03-22T16:25:58.701Z"
   },
   {
    "duration": 9,
    "start_time": "2023-03-22T16:25:58.713Z"
   },
   {
    "duration": 30,
    "start_time": "2023-03-22T16:26:02.036Z"
   },
   {
    "duration": 3,
    "start_time": "2023-03-22T16:26:51.575Z"
   },
   {
    "duration": 98,
    "start_time": "2023-03-22T16:26:51.581Z"
   },
   {
    "duration": 18,
    "start_time": "2023-03-22T16:26:51.682Z"
   },
   {
    "duration": 24,
    "start_time": "2023-03-22T16:26:51.703Z"
   },
   {
    "duration": 27,
    "start_time": "2023-03-22T16:26:51.729Z"
   },
   {
    "duration": 29,
    "start_time": "2023-03-22T16:26:51.759Z"
   },
   {
    "duration": 21,
    "start_time": "2023-03-22T16:26:51.791Z"
   },
   {
    "duration": 7,
    "start_time": "2023-03-22T16:26:51.814Z"
   },
   {
    "duration": 10,
    "start_time": "2023-03-22T16:26:51.823Z"
   },
   {
    "duration": 24,
    "start_time": "2023-03-22T16:26:51.836Z"
   },
   {
    "duration": 25,
    "start_time": "2023-03-22T16:26:51.863Z"
   },
   {
    "duration": 207,
    "start_time": "2023-03-22T16:26:51.890Z"
   },
   {
    "duration": 16,
    "start_time": "2023-03-22T16:26:52.099Z"
   },
   {
    "duration": 61,
    "start_time": "2023-03-22T16:26:52.116Z"
   },
   {
    "duration": 11,
    "start_time": "2023-03-22T16:26:52.179Z"
   },
   {
    "duration": 17,
    "start_time": "2023-03-22T16:26:52.192Z"
   },
   {
    "duration": 12,
    "start_time": "2023-03-22T16:26:52.211Z"
   },
   {
    "duration": 36,
    "start_time": "2023-03-22T16:26:52.225Z"
   },
   {
    "duration": 23,
    "start_time": "2023-03-22T16:26:52.265Z"
   },
   {
    "duration": 10,
    "start_time": "2023-03-22T16:26:52.290Z"
   },
   {
    "duration": 17,
    "start_time": "2023-03-22T16:26:52.301Z"
   },
   {
    "duration": 25,
    "start_time": "2023-03-22T16:26:52.320Z"
   },
   {
    "duration": 5,
    "start_time": "2023-03-22T16:26:55.115Z"
   },
   {
    "duration": 15,
    "start_time": "2023-03-22T16:26:58.995Z"
   },
   {
    "duration": 11,
    "start_time": "2023-03-22T16:30:08.015Z"
   },
   {
    "duration": 17,
    "start_time": "2023-03-22T16:30:23.321Z"
   },
   {
    "duration": 32,
    "start_time": "2023-03-22T16:34:52.574Z"
   },
   {
    "duration": 49,
    "start_time": "2023-03-22T16:35:49.964Z"
   },
   {
    "duration": 101,
    "start_time": "2023-03-22T16:41:08.471Z"
   },
   {
    "duration": 18,
    "start_time": "2023-03-22T16:41:36.062Z"
   },
   {
    "duration": 21,
    "start_time": "2023-03-22T16:42:31.414Z"
   },
   {
    "duration": 1216,
    "start_time": "2023-03-22T16:43:17.409Z"
   },
   {
    "duration": 20,
    "start_time": "2023-03-22T16:43:39.614Z"
   },
   {
    "duration": 125,
    "start_time": "2023-03-22T16:44:06.870Z"
   },
   {
    "duration": 20,
    "start_time": "2023-03-22T16:44:14.636Z"
   },
   {
    "duration": 22,
    "start_time": "2023-03-22T16:47:12.450Z"
   },
   {
    "duration": 14,
    "start_time": "2023-03-22T16:48:05.884Z"
   },
   {
    "duration": 23,
    "start_time": "2023-03-22T16:49:55.283Z"
   },
   {
    "duration": 49,
    "start_time": "2023-03-22T16:50:43.632Z"
   },
   {
    "duration": 35,
    "start_time": "2023-03-22T16:51:07.872Z"
   },
   {
    "duration": 52,
    "start_time": "2023-03-22T16:53:25.008Z"
   },
   {
    "duration": 49,
    "start_time": "2023-03-22T16:54:33.565Z"
   },
   {
    "duration": 42,
    "start_time": "2023-03-22T16:55:58.971Z"
   },
   {
    "duration": 4,
    "start_time": "2023-03-22T16:56:52.716Z"
   },
   {
    "duration": 39,
    "start_time": "2023-03-22T16:57:06.053Z"
   },
   {
    "duration": 55,
    "start_time": "2023-03-22T16:57:41.813Z"
   },
   {
    "duration": 98,
    "start_time": "2023-03-22T16:58:10.695Z"
   },
   {
    "duration": 177,
    "start_time": "2023-03-22T16:59:27.818Z"
   },
   {
    "duration": 39,
    "start_time": "2023-03-22T16:59:39.363Z"
   },
   {
    "duration": 30,
    "start_time": "2023-03-22T17:00:06.146Z"
   },
   {
    "duration": 43,
    "start_time": "2023-03-22T17:01:06.469Z"
   },
   {
    "duration": 103,
    "start_time": "2023-03-22T17:01:31.491Z"
   },
   {
    "duration": 61,
    "start_time": "2023-03-22T17:01:41.824Z"
   },
   {
    "duration": 41,
    "start_time": "2023-03-22T17:03:42.070Z"
   },
   {
    "duration": 55,
    "start_time": "2023-03-22T17:05:36.942Z"
   },
   {
    "duration": 1254,
    "start_time": "2023-03-22T17:07:12.745Z"
   },
   {
    "duration": 55,
    "start_time": "2023-03-22T17:07:36.221Z"
   },
   {
    "duration": 45,
    "start_time": "2023-03-22T17:12:37.969Z"
   },
   {
    "duration": 55,
    "start_time": "2023-03-22T17:14:03.832Z"
   },
   {
    "duration": 56,
    "start_time": "2023-03-22T17:19:13.436Z"
   },
   {
    "duration": 61,
    "start_time": "2023-03-22T17:20:36.030Z"
   },
   {
    "duration": 51,
    "start_time": "2023-03-22T17:22:04.630Z"
   },
   {
    "duration": 38,
    "start_time": "2023-03-22T17:23:20.418Z"
   },
   {
    "duration": 43,
    "start_time": "2023-03-22T17:24:08.968Z"
   },
   {
    "duration": 33,
    "start_time": "2023-03-22T17:29:58.380Z"
   },
   {
    "duration": 35,
    "start_time": "2023-03-22T17:34:35.492Z"
   },
   {
    "duration": 42,
    "start_time": "2023-03-22T17:36:28.770Z"
   },
   {
    "duration": 78,
    "start_time": "2023-03-22T17:38:51.442Z"
   },
   {
    "duration": 71,
    "start_time": "2023-03-22T17:41:29.981Z"
   },
   {
    "duration": 66,
    "start_time": "2023-03-22T17:42:24.783Z"
   },
   {
    "duration": 66,
    "start_time": "2023-03-22T17:45:31.318Z"
   },
   {
    "duration": 55,
    "start_time": "2023-03-22T17:47:19.502Z"
   },
   {
    "duration": 92,
    "start_time": "2023-03-22T17:48:56.375Z"
   },
   {
    "duration": 79,
    "start_time": "2023-03-22T17:50:14.572Z"
   },
   {
    "duration": 38,
    "start_time": "2023-03-22T17:50:30.624Z"
   },
   {
    "duration": 57,
    "start_time": "2023-03-22T17:50:43.371Z"
   },
   {
    "duration": 51,
    "start_time": "2023-03-22T17:51:31.668Z"
   },
   {
    "duration": 82,
    "start_time": "2023-03-22T17:51:43.183Z"
   },
   {
    "duration": 29,
    "start_time": "2023-03-22T17:52:05.488Z"
   },
   {
    "duration": 15,
    "start_time": "2023-03-22T17:52:40.076Z"
   },
   {
    "duration": 3,
    "start_time": "2023-03-22T17:54:29.315Z"
   },
   {
    "duration": 364,
    "start_time": "2023-03-22T17:56:43.341Z"
   },
   {
    "duration": 409,
    "start_time": "2023-03-22T17:57:12.214Z"
   },
   {
    "duration": 399,
    "start_time": "2023-03-22T17:59:53.775Z"
   },
   {
    "duration": 377,
    "start_time": "2023-03-22T18:00:01.296Z"
   },
   {
    "duration": 440,
    "start_time": "2023-03-22T18:00:15.672Z"
   },
   {
    "duration": 516,
    "start_time": "2023-03-22T18:00:36.658Z"
   },
   {
    "duration": 590,
    "start_time": "2023-03-22T18:03:11.392Z"
   },
   {
    "duration": 408,
    "start_time": "2023-03-22T18:04:29.523Z"
   },
   {
    "duration": 447,
    "start_time": "2023-03-22T18:04:57.171Z"
   },
   {
    "duration": 437,
    "start_time": "2023-03-22T18:06:11.769Z"
   },
   {
    "duration": 24,
    "start_time": "2023-03-22T18:12:56.064Z"
   },
   {
    "duration": 13,
    "start_time": "2023-03-22T18:17:29.069Z"
   },
   {
    "duration": 8,
    "start_time": "2023-03-22T18:19:39.978Z"
   },
   {
    "duration": 111,
    "start_time": "2023-03-22T18:19:39.989Z"
   },
   {
    "duration": 25,
    "start_time": "2023-03-22T18:19:40.102Z"
   },
   {
    "duration": 47,
    "start_time": "2023-03-22T18:19:40.130Z"
   },
   {
    "duration": 15,
    "start_time": "2023-03-22T18:19:40.185Z"
   },
   {
    "duration": 13,
    "start_time": "2023-03-22T18:19:40.202Z"
   },
   {
    "duration": 16,
    "start_time": "2023-03-22T18:19:40.217Z"
   },
   {
    "duration": 3,
    "start_time": "2023-03-22T18:19:40.235Z"
   },
   {
    "duration": 57,
    "start_time": "2023-03-22T18:19:40.240Z"
   },
   {
    "duration": 13,
    "start_time": "2023-03-22T18:19:40.300Z"
   },
   {
    "duration": 7,
    "start_time": "2023-03-22T18:19:40.316Z"
   },
   {
    "duration": 211,
    "start_time": "2023-03-22T18:19:40.325Z"
   },
   {
    "duration": 38,
    "start_time": "2023-03-22T18:19:40.539Z"
   },
   {
    "duration": 23,
    "start_time": "2023-03-22T18:19:40.584Z"
   },
   {
    "duration": 9,
    "start_time": "2023-03-22T18:19:40.609Z"
   },
   {
    "duration": 7,
    "start_time": "2023-03-22T18:19:40.620Z"
   },
   {
    "duration": 11,
    "start_time": "2023-03-22T18:19:40.629Z"
   },
   {
    "duration": 68,
    "start_time": "2023-03-22T18:19:40.652Z"
   },
   {
    "duration": 8,
    "start_time": "2023-03-22T18:19:40.722Z"
   },
   {
    "duration": 53,
    "start_time": "2023-03-22T18:19:40.733Z"
   },
   {
    "duration": 12,
    "start_time": "2023-03-22T18:19:40.791Z"
   },
   {
    "duration": 11,
    "start_time": "2023-03-22T18:19:40.805Z"
   },
   {
    "duration": 17,
    "start_time": "2023-03-22T18:19:40.818Z"
   },
   {
    "duration": 65,
    "start_time": "2023-03-22T18:19:40.837Z"
   },
   {
    "duration": 30,
    "start_time": "2023-03-22T18:19:40.915Z"
   },
   {
    "duration": 78,
    "start_time": "2023-03-22T18:19:40.947Z"
   },
   {
    "duration": 54,
    "start_time": "2023-03-22T18:19:41.027Z"
   },
   {
    "duration": 492,
    "start_time": "2023-03-22T18:19:41.091Z"
   },
   {
    "duration": 18,
    "start_time": "2023-03-22T18:19:41.586Z"
   },
   {
    "duration": 1410,
    "start_time": "2023-03-22T18:19:41.605Z"
   },
   {
    "duration": 17,
    "start_time": "2023-03-22T18:19:43.017Z"
   },
   {
    "duration": 57,
    "start_time": "2023-03-22T18:19:43.036Z"
   },
   {
    "duration": 300,
    "start_time": "2023-03-22T18:19:47.376Z"
   },
   {
    "duration": 436,
    "start_time": "2023-03-22T18:32:02.486Z"
   },
   {
    "duration": 323,
    "start_time": "2023-03-22T18:32:49.978Z"
   },
   {
    "duration": 314,
    "start_time": "2023-03-22T18:35:59.993Z"
   },
   {
    "duration": 374,
    "start_time": "2023-03-22T18:36:22.790Z"
   },
   {
    "duration": 3,
    "start_time": "2023-03-22T18:44:53.111Z"
   },
   {
    "duration": 106,
    "start_time": "2023-03-22T18:44:53.117Z"
   },
   {
    "duration": 35,
    "start_time": "2023-03-22T18:44:53.226Z"
   },
   {
    "duration": 30,
    "start_time": "2023-03-22T18:44:53.263Z"
   },
   {
    "duration": 11,
    "start_time": "2023-03-22T18:44:53.295Z"
   },
   {
    "duration": 24,
    "start_time": "2023-03-22T18:44:53.307Z"
   },
   {
    "duration": 27,
    "start_time": "2023-03-22T18:44:53.333Z"
   },
   {
    "duration": 42,
    "start_time": "2023-03-22T18:44:53.362Z"
   },
   {
    "duration": 19,
    "start_time": "2023-03-22T18:44:53.406Z"
   },
   {
    "duration": 11,
    "start_time": "2023-03-22T18:44:53.427Z"
   },
   {
    "duration": 33,
    "start_time": "2023-03-22T18:44:53.440Z"
   },
   {
    "duration": 196,
    "start_time": "2023-03-22T18:44:53.475Z"
   },
   {
    "duration": 15,
    "start_time": "2023-03-22T18:44:53.673Z"
   },
   {
    "duration": 36,
    "start_time": "2023-03-22T18:44:53.692Z"
   },
   {
    "duration": 31,
    "start_time": "2023-03-22T18:44:53.730Z"
   },
   {
    "duration": 44,
    "start_time": "2023-03-22T18:44:53.763Z"
   },
   {
    "duration": 11,
    "start_time": "2023-03-22T18:44:53.809Z"
   },
   {
    "duration": 54,
    "start_time": "2023-03-22T18:44:53.822Z"
   },
   {
    "duration": 19,
    "start_time": "2023-03-22T18:44:53.878Z"
   },
   {
    "duration": 7,
    "start_time": "2023-03-22T18:44:53.898Z"
   },
   {
    "duration": 7,
    "start_time": "2023-03-22T18:44:53.906Z"
   },
   {
    "duration": 5,
    "start_time": "2023-03-22T18:44:53.915Z"
   },
   {
    "duration": 12,
    "start_time": "2023-03-22T18:44:53.922Z"
   },
   {
    "duration": 47,
    "start_time": "2023-03-22T18:44:53.936Z"
   },
   {
    "duration": 29,
    "start_time": "2023-03-22T18:44:53.985Z"
   },
   {
    "duration": 59,
    "start_time": "2023-03-22T18:44:54.017Z"
   },
   {
    "duration": 46,
    "start_time": "2023-03-22T18:44:54.078Z"
   },
   {
    "duration": 443,
    "start_time": "2023-03-22T18:44:54.126Z"
   },
   {
    "duration": 18,
    "start_time": "2023-03-22T18:44:54.574Z"
   },
   {
    "duration": 1340,
    "start_time": "2023-03-22T18:44:54.593Z"
   },
   {
    "duration": 26,
    "start_time": "2023-03-22T18:44:55.935Z"
   },
   {
    "duration": 49,
    "start_time": "2023-03-22T18:44:55.963Z"
   },
   {
    "duration": 260,
    "start_time": "2023-03-22T18:44:56.015Z"
   },
   {
    "duration": 6,
    "start_time": "2023-03-22T18:45:03.184Z"
   },
   {
    "duration": 330,
    "start_time": "2023-03-22T18:45:16.659Z"
   },
   {
    "duration": 288,
    "start_time": "2023-03-22T18:48:54.436Z"
   },
   {
    "duration": 4,
    "start_time": "2023-03-22T18:57:38.387Z"
   },
   {
    "duration": 3,
    "start_time": "2023-03-22T18:58:09.027Z"
   },
   {
    "duration": 238,
    "start_time": "2023-03-22T18:58:41.932Z"
   },
   {
    "duration": 229,
    "start_time": "2023-03-22T18:59:27.482Z"
   },
   {
    "duration": 238,
    "start_time": "2023-03-22T19:00:35.576Z"
   },
   {
    "duration": 1119,
    "start_time": "2023-03-22T19:04:31.188Z"
   },
   {
    "duration": 255,
    "start_time": "2023-03-22T19:04:47.177Z"
   },
   {
    "duration": 222,
    "start_time": "2023-03-22T19:05:00.283Z"
   },
   {
    "duration": 21,
    "start_time": "2023-03-22T19:05:17.562Z"
   },
   {
    "duration": 11,
    "start_time": "2023-03-22T19:05:25.895Z"
   },
   {
    "duration": 14,
    "start_time": "2023-03-22T19:08:17.973Z"
   },
   {
    "duration": 958,
    "start_time": "2023-03-23T10:05:53.639Z"
   },
   {
    "duration": 188,
    "start_time": "2023-03-23T10:05:54.599Z"
   },
   {
    "duration": 21,
    "start_time": "2023-03-23T10:05:54.789Z"
   },
   {
    "duration": 20,
    "start_time": "2023-03-23T10:05:54.812Z"
   },
   {
    "duration": 3,
    "start_time": "2023-03-23T10:05:54.835Z"
   },
   {
    "duration": 11,
    "start_time": "2023-03-23T10:05:54.840Z"
   },
   {
    "duration": 32,
    "start_time": "2023-03-23T10:05:54.853Z"
   },
   {
    "duration": 3,
    "start_time": "2023-03-23T10:05:54.887Z"
   },
   {
    "duration": 7,
    "start_time": "2023-03-23T10:05:54.891Z"
   },
   {
    "duration": 7,
    "start_time": "2023-03-23T10:05:54.900Z"
   },
   {
    "duration": 4,
    "start_time": "2023-03-23T10:05:54.909Z"
   },
   {
    "duration": 222,
    "start_time": "2023-03-23T10:05:54.914Z"
   },
   {
    "duration": 15,
    "start_time": "2023-03-23T10:05:55.138Z"
   },
   {
    "duration": 53,
    "start_time": "2023-03-23T10:05:55.156Z"
   },
   {
    "duration": 14,
    "start_time": "2023-03-23T10:05:55.210Z"
   },
   {
    "duration": 15,
    "start_time": "2023-03-23T10:05:55.226Z"
   },
   {
    "duration": 11,
    "start_time": "2023-03-23T10:05:55.242Z"
   },
   {
    "duration": 27,
    "start_time": "2023-03-23T10:05:55.255Z"
   },
   {
    "duration": 22,
    "start_time": "2023-03-23T10:05:55.284Z"
   },
   {
    "duration": 6,
    "start_time": "2023-03-23T10:05:55.308Z"
   },
   {
    "duration": 3,
    "start_time": "2023-03-23T10:05:55.316Z"
   },
   {
    "duration": 6,
    "start_time": "2023-03-23T10:05:55.321Z"
   },
   {
    "duration": 9,
    "start_time": "2023-03-23T10:05:55.329Z"
   },
   {
    "duration": 35,
    "start_time": "2023-03-23T10:05:55.340Z"
   },
   {
    "duration": 20,
    "start_time": "2023-03-23T10:05:55.377Z"
   },
   {
    "duration": 78,
    "start_time": "2023-03-23T10:05:55.399Z"
   },
   {
    "duration": 55,
    "start_time": "2023-03-23T10:05:55.479Z"
   },
   {
    "duration": 474,
    "start_time": "2023-03-23T10:05:55.536Z"
   },
   {
    "duration": 18,
    "start_time": "2023-03-23T10:05:56.012Z"
   },
   {
    "duration": 1274,
    "start_time": "2023-03-23T10:05:56.032Z"
   },
   {
    "duration": 15,
    "start_time": "2023-03-23T10:05:57.308Z"
   },
   {
    "duration": 14,
    "start_time": "2023-03-23T10:05:57.325Z"
   },
   {
    "duration": 239,
    "start_time": "2023-03-23T10:05:57.341Z"
   },
   {
    "duration": 7,
    "start_time": "2023-03-23T10:05:57.582Z"
   },
   {
    "duration": 296,
    "start_time": "2023-03-23T10:05:57.590Z"
   },
   {
    "duration": 3,
    "start_time": "2023-03-23T10:05:57.888Z"
   },
   {
    "duration": 207,
    "start_time": "2023-03-23T10:05:57.893Z"
   },
   {
    "duration": 243,
    "start_time": "2023-03-23T10:05:58.103Z"
   },
   {
    "duration": 749,
    "start_time": "2023-03-23T10:05:58.348Z"
   },
   {
    "duration": 270,
    "start_time": "2023-03-23T10:05:59.099Z"
   },
   {
    "duration": 190,
    "start_time": "2023-03-23T10:05:59.376Z"
   },
   {
    "duration": 18,
    "start_time": "2023-03-23T10:05:59.574Z"
   },
   {
    "duration": 16,
    "start_time": "2023-03-23T10:05:59.594Z"
   },
   {
    "duration": 16,
    "start_time": "2023-03-23T10:05:59.612Z"
   },
   {
    "duration": 23,
    "start_time": "2023-03-23T10:07:52.175Z"
   },
   {
    "duration": 17,
    "start_time": "2023-03-23T10:08:15.744Z"
   },
   {
    "duration": 410,
    "start_time": "2023-03-23T10:16:54.054Z"
   },
   {
    "duration": 343,
    "start_time": "2023-03-23T10:17:43.535Z"
   },
   {
    "duration": 367,
    "start_time": "2023-03-23T10:19:05.960Z"
   },
   {
    "duration": 7,
    "start_time": "2023-03-23T10:29:43.610Z"
   },
   {
    "duration": 7,
    "start_time": "2023-03-23T10:29:59.228Z"
   },
   {
    "duration": 11,
    "start_time": "2023-03-23T10:32:24.022Z"
   },
   {
    "duration": 3,
    "start_time": "2023-03-23T10:33:29.212Z"
   },
   {
    "duration": 52,
    "start_time": "2023-03-23T10:33:29.217Z"
   },
   {
    "duration": 18,
    "start_time": "2023-03-23T10:33:29.271Z"
   },
   {
    "duration": 25,
    "start_time": "2023-03-23T10:33:29.292Z"
   },
   {
    "duration": 4,
    "start_time": "2023-03-23T10:33:29.322Z"
   },
   {
    "duration": 56,
    "start_time": "2023-03-23T10:33:29.327Z"
   },
   {
    "duration": 18,
    "start_time": "2023-03-23T10:33:29.385Z"
   },
   {
    "duration": 3,
    "start_time": "2023-03-23T10:33:29.405Z"
   },
   {
    "duration": 6,
    "start_time": "2023-03-23T10:33:29.410Z"
   },
   {
    "duration": 12,
    "start_time": "2023-03-23T10:33:29.418Z"
   },
   {
    "duration": 7,
    "start_time": "2023-03-23T10:33:29.434Z"
   },
   {
    "duration": 202,
    "start_time": "2023-03-23T10:33:29.443Z"
   },
   {
    "duration": 14,
    "start_time": "2023-03-23T10:33:29.648Z"
   },
   {
    "duration": 13,
    "start_time": "2023-03-23T10:33:29.678Z"
   },
   {
    "duration": 8,
    "start_time": "2023-03-23T10:33:29.695Z"
   },
   {
    "duration": 4,
    "start_time": "2023-03-23T10:33:29.706Z"
   },
   {
    "duration": 9,
    "start_time": "2023-03-23T10:33:29.712Z"
   },
   {
    "duration": 51,
    "start_time": "2023-03-23T10:33:29.723Z"
   },
   {
    "duration": 11,
    "start_time": "2023-03-23T10:33:29.777Z"
   },
   {
    "duration": 7,
    "start_time": "2023-03-23T10:33:29.790Z"
   },
   {
    "duration": 3,
    "start_time": "2023-03-23T10:33:29.799Z"
   },
   {
    "duration": 6,
    "start_time": "2023-03-23T10:33:29.804Z"
   },
   {
    "duration": 6,
    "start_time": "2023-03-23T10:33:29.812Z"
   },
   {
    "duration": 15,
    "start_time": "2023-03-23T10:33:29.820Z"
   },
   {
    "duration": 58,
    "start_time": "2023-03-23T10:33:29.837Z"
   },
   {
    "duration": 56,
    "start_time": "2023-03-23T10:33:29.897Z"
   },
   {
    "duration": 53,
    "start_time": "2023-03-23T10:33:29.955Z"
   },
   {
    "duration": 442,
    "start_time": "2023-03-23T10:33:30.010Z"
   },
   {
    "duration": 36,
    "start_time": "2023-03-23T10:33:30.455Z"
   },
   {
    "duration": 1363,
    "start_time": "2023-03-23T10:33:30.493Z"
   },
   {
    "duration": 26,
    "start_time": "2023-03-23T10:33:31.857Z"
   },
   {
    "duration": 40,
    "start_time": "2023-03-23T10:33:31.885Z"
   },
   {
    "duration": 241,
    "start_time": "2023-03-23T10:33:31.927Z"
   },
   {
    "duration": 11,
    "start_time": "2023-03-23T10:33:32.170Z"
   },
   {
    "duration": 338,
    "start_time": "2023-03-23T10:33:32.185Z"
   },
   {
    "duration": 3,
    "start_time": "2023-03-23T10:33:32.525Z"
   },
   {
    "duration": 227,
    "start_time": "2023-03-23T10:33:32.533Z"
   },
   {
    "duration": 217,
    "start_time": "2023-03-23T10:33:32.762Z"
   },
   {
    "duration": 831,
    "start_time": "2023-03-23T10:33:32.981Z"
   },
   {
    "duration": 282,
    "start_time": "2023-03-23T10:33:33.813Z"
   },
   {
    "duration": 286,
    "start_time": "2023-03-23T10:33:34.099Z"
   },
   {
    "duration": 19,
    "start_time": "2023-03-23T10:33:34.387Z"
   },
   {
    "duration": 15,
    "start_time": "2023-03-23T10:33:34.408Z"
   },
   {
    "duration": 18,
    "start_time": "2023-03-23T10:33:34.425Z"
   },
   {
    "duration": 54,
    "start_time": "2023-03-23T10:33:34.445Z"
   },
   {
    "duration": 434,
    "start_time": "2023-03-23T10:33:34.503Z"
   },
   {
    "duration": 93,
    "start_time": "2023-03-23T10:34:11.008Z"
   },
   {
    "duration": 336,
    "start_time": "2023-03-23T10:34:38.795Z"
   },
   {
    "duration": 36,
    "start_time": "2023-03-23T10:35:22.394Z"
   },
   {
    "duration": 18,
    "start_time": "2023-03-23T10:36:20.155Z"
   },
   {
    "duration": 46,
    "start_time": "2023-03-23T10:37:17.619Z"
   },
   {
    "duration": 695,
    "start_time": "2023-03-23T10:38:55.290Z"
   },
   {
    "duration": 20,
    "start_time": "2023-03-23T10:39:15.347Z"
   },
   {
    "duration": 20,
    "start_time": "2023-03-23T10:42:47.141Z"
   },
   {
    "duration": 28,
    "start_time": "2023-03-23T10:44:48.455Z"
   },
   {
    "duration": 23,
    "start_time": "2023-03-23T10:46:18.316Z"
   },
   {
    "duration": 25,
    "start_time": "2023-03-23T10:46:43.175Z"
   },
   {
    "duration": 4,
    "start_time": "2023-03-23T10:47:23.267Z"
   },
   {
    "duration": 84,
    "start_time": "2023-03-23T10:47:23.275Z"
   },
   {
    "duration": 28,
    "start_time": "2023-03-23T10:47:23.361Z"
   },
   {
    "duration": 24,
    "start_time": "2023-03-23T10:47:23.392Z"
   },
   {
    "duration": 5,
    "start_time": "2023-03-23T10:47:23.419Z"
   },
   {
    "duration": 47,
    "start_time": "2023-03-23T10:47:23.427Z"
   },
   {
    "duration": 19,
    "start_time": "2023-03-23T10:47:23.478Z"
   },
   {
    "duration": 4,
    "start_time": "2023-03-23T10:47:23.500Z"
   },
   {
    "duration": 7,
    "start_time": "2023-03-23T10:47:23.511Z"
   },
   {
    "duration": 21,
    "start_time": "2023-03-23T10:47:23.521Z"
   },
   {
    "duration": 31,
    "start_time": "2023-03-23T10:47:23.544Z"
   },
   {
    "duration": 279,
    "start_time": "2023-03-23T10:47:23.578Z"
   },
   {
    "duration": 30,
    "start_time": "2023-03-23T10:47:23.860Z"
   },
   {
    "duration": 12,
    "start_time": "2023-03-23T10:47:23.893Z"
   },
   {
    "duration": 11,
    "start_time": "2023-03-23T10:47:23.908Z"
   },
   {
    "duration": 10,
    "start_time": "2023-03-23T10:47:23.921Z"
   },
   {
    "duration": 36,
    "start_time": "2023-03-23T10:47:23.939Z"
   },
   {
    "duration": 36,
    "start_time": "2023-03-23T10:47:23.978Z"
   },
   {
    "duration": 7,
    "start_time": "2023-03-23T10:47:24.017Z"
   },
   {
    "duration": 7,
    "start_time": "2023-03-23T10:47:24.027Z"
   },
   {
    "duration": 38,
    "start_time": "2023-03-23T10:47:24.037Z"
   },
   {
    "duration": 5,
    "start_time": "2023-03-23T10:47:24.078Z"
   },
   {
    "duration": 14,
    "start_time": "2023-03-23T10:47:24.086Z"
   },
   {
    "duration": 24,
    "start_time": "2023-03-23T10:47:24.109Z"
   },
   {
    "duration": 47,
    "start_time": "2023-03-23T10:47:24.136Z"
   },
   {
    "duration": 76,
    "start_time": "2023-03-23T10:47:24.188Z"
   },
   {
    "duration": 81,
    "start_time": "2023-03-23T10:47:24.270Z"
   },
   {
    "duration": 602,
    "start_time": "2023-03-23T10:47:24.354Z"
   },
   {
    "duration": 41,
    "start_time": "2023-03-23T10:47:24.959Z"
   },
   {
    "duration": 1909,
    "start_time": "2023-03-23T10:47:25.004Z"
   },
   {
    "duration": 18,
    "start_time": "2023-03-23T10:47:26.916Z"
   },
   {
    "duration": 11,
    "start_time": "2023-03-23T10:47:26.937Z"
   },
   {
    "duration": 288,
    "start_time": "2023-03-23T10:47:26.951Z"
   },
   {
    "duration": 7,
    "start_time": "2023-03-23T10:47:27.241Z"
   },
   {
    "duration": 335,
    "start_time": "2023-03-23T10:47:27.249Z"
   },
   {
    "duration": 2,
    "start_time": "2023-03-23T10:47:27.587Z"
   },
   {
    "duration": 256,
    "start_time": "2023-03-23T10:47:27.591Z"
   },
   {
    "duration": 259,
    "start_time": "2023-03-23T10:47:27.850Z"
   },
   {
    "duration": 850,
    "start_time": "2023-03-23T10:47:28.111Z"
   },
   {
    "duration": 375,
    "start_time": "2023-03-23T10:47:28.963Z"
   },
   {
    "duration": 222,
    "start_time": "2023-03-23T10:47:29.341Z"
   },
   {
    "duration": 35,
    "start_time": "2023-03-23T10:47:29.566Z"
   },
   {
    "duration": 18,
    "start_time": "2023-03-23T10:47:29.605Z"
   },
   {
    "duration": 19,
    "start_time": "2023-03-23T10:47:29.625Z"
   },
   {
    "duration": 53,
    "start_time": "2023-03-23T10:47:29.645Z"
   },
   {
    "duration": 415,
    "start_time": "2023-03-23T10:47:29.700Z"
   },
   {
    "duration": 17,
    "start_time": "2023-03-23T10:47:41.697Z"
   },
   {
    "duration": 8,
    "start_time": "2023-03-23T10:47:45.206Z"
   },
   {
    "duration": 24,
    "start_time": "2023-03-23T10:50:10.695Z"
   },
   {
    "duration": 15,
    "start_time": "2023-03-23T10:50:29.825Z"
   },
   {
    "duration": 20,
    "start_time": "2023-03-23T10:53:19.299Z"
   },
   {
    "duration": 12,
    "start_time": "2023-03-23T10:53:38.164Z"
   },
   {
    "duration": 12,
    "start_time": "2023-03-23T10:54:07.753Z"
   },
   {
    "duration": 39,
    "start_time": "2023-03-23T10:54:31.965Z"
   },
   {
    "duration": 25,
    "start_time": "2023-03-23T10:55:05.858Z"
   },
   {
    "duration": 23,
    "start_time": "2023-03-23T10:55:34.416Z"
   },
   {
    "duration": 23,
    "start_time": "2023-03-23T10:56:00.044Z"
   },
   {
    "duration": 16,
    "start_time": "2023-03-23T10:57:09.716Z"
   },
   {
    "duration": 9,
    "start_time": "2023-03-23T10:57:47.324Z"
   },
   {
    "duration": 1130,
    "start_time": "2023-03-23T10:58:14.394Z"
   },
   {
    "duration": 20,
    "start_time": "2023-03-23T10:58:33.477Z"
   },
   {
    "duration": 990,
    "start_time": "2023-03-23T11:01:13.329Z"
   },
   {
    "duration": 47,
    "start_time": "2023-03-23T11:01:37.810Z"
   },
   {
    "duration": 19,
    "start_time": "2023-03-23T11:02:02.909Z"
   },
   {
    "duration": 23,
    "start_time": "2023-03-23T11:04:51.205Z"
   },
   {
    "duration": 4,
    "start_time": "2023-03-23T11:07:11.711Z"
   },
   {
    "duration": 82,
    "start_time": "2023-03-23T11:07:11.718Z"
   },
   {
    "duration": 20,
    "start_time": "2023-03-23T11:07:11.802Z"
   },
   {
    "duration": 18,
    "start_time": "2023-03-23T11:07:11.824Z"
   },
   {
    "duration": 23,
    "start_time": "2023-03-23T11:07:11.845Z"
   },
   {
    "duration": 29,
    "start_time": "2023-03-23T11:07:11.870Z"
   },
   {
    "duration": 34,
    "start_time": "2023-03-23T11:07:11.901Z"
   },
   {
    "duration": 20,
    "start_time": "2023-03-23T11:07:11.937Z"
   },
   {
    "duration": 9,
    "start_time": "2023-03-23T11:07:11.959Z"
   },
   {
    "duration": 9,
    "start_time": "2023-03-23T11:07:11.970Z"
   },
   {
    "duration": 12,
    "start_time": "2023-03-23T11:07:11.983Z"
   },
   {
    "duration": 209,
    "start_time": "2023-03-23T11:07:11.997Z"
   },
   {
    "duration": 24,
    "start_time": "2023-03-23T11:07:12.209Z"
   },
   {
    "duration": 12,
    "start_time": "2023-03-23T11:07:12.238Z"
   },
   {
    "duration": 32,
    "start_time": "2023-03-23T11:07:12.252Z"
   },
   {
    "duration": 8,
    "start_time": "2023-03-23T11:07:12.286Z"
   },
   {
    "duration": 15,
    "start_time": "2023-03-23T11:07:12.300Z"
   },
   {
    "duration": 32,
    "start_time": "2023-03-23T11:07:12.317Z"
   },
   {
    "duration": 10,
    "start_time": "2023-03-23T11:07:12.351Z"
   },
   {
    "duration": 24,
    "start_time": "2023-03-23T11:07:12.377Z"
   },
   {
    "duration": 13,
    "start_time": "2023-03-23T11:07:12.403Z"
   },
   {
    "duration": 7,
    "start_time": "2023-03-23T11:07:12.418Z"
   },
   {
    "duration": 7,
    "start_time": "2023-03-23T11:07:12.427Z"
   },
   {
    "duration": 24,
    "start_time": "2023-03-23T11:07:12.436Z"
   },
   {
    "duration": 36,
    "start_time": "2023-03-23T11:07:12.462Z"
   },
   {
    "duration": 45,
    "start_time": "2023-03-23T11:07:12.500Z"
   },
   {
    "duration": 57,
    "start_time": "2023-03-23T11:07:12.548Z"
   },
   {
    "duration": 484,
    "start_time": "2023-03-23T11:07:12.609Z"
   },
   {
    "duration": 27,
    "start_time": "2023-03-23T11:07:13.097Z"
   },
   {
    "duration": 1454,
    "start_time": "2023-03-23T11:07:13.126Z"
   },
   {
    "duration": 32,
    "start_time": "2023-03-23T11:07:14.582Z"
   },
   {
    "duration": 12,
    "start_time": "2023-03-23T11:07:14.616Z"
   },
   {
    "duration": 338,
    "start_time": "2023-03-23T11:07:14.630Z"
   },
   {
    "duration": 9,
    "start_time": "2023-03-23T11:07:14.970Z"
   },
   {
    "duration": 335,
    "start_time": "2023-03-23T11:07:14.980Z"
   },
   {
    "duration": 3,
    "start_time": "2023-03-23T11:07:15.317Z"
   },
   {
    "duration": 291,
    "start_time": "2023-03-23T11:07:15.322Z"
   },
   {
    "duration": 246,
    "start_time": "2023-03-23T11:07:15.614Z"
   },
   {
    "duration": 954,
    "start_time": "2023-03-23T11:07:15.862Z"
   },
   {
    "duration": 217,
    "start_time": "2023-03-23T11:07:16.818Z"
   },
   {
    "duration": 215,
    "start_time": "2023-03-23T11:07:17.039Z"
   },
   {
    "duration": 33,
    "start_time": "2023-03-23T11:07:17.256Z"
   },
   {
    "duration": 18,
    "start_time": "2023-03-23T11:07:17.293Z"
   },
   {
    "duration": 14,
    "start_time": "2023-03-23T11:07:17.313Z"
   },
   {
    "duration": 23,
    "start_time": "2023-03-23T11:07:17.328Z"
   },
   {
    "duration": 464,
    "start_time": "2023-03-23T11:07:17.353Z"
   },
   {
    "duration": 35,
    "start_time": "2023-03-23T11:07:17.868Z"
   },
   {
    "duration": 10,
    "start_time": "2023-03-23T11:07:25.061Z"
   },
   {
    "duration": 6,
    "start_time": "2023-03-23T11:08:36.796Z"
   },
   {
    "duration": 81,
    "start_time": "2023-03-23T11:08:36.804Z"
   },
   {
    "duration": 23,
    "start_time": "2023-03-23T11:08:36.887Z"
   },
   {
    "duration": 18,
    "start_time": "2023-03-23T11:08:36.912Z"
   },
   {
    "duration": 4,
    "start_time": "2023-03-23T11:08:36.932Z"
   },
   {
    "duration": 43,
    "start_time": "2023-03-23T11:08:36.940Z"
   },
   {
    "duration": 15,
    "start_time": "2023-03-23T11:08:36.985Z"
   },
   {
    "duration": 9,
    "start_time": "2023-03-23T11:08:37.002Z"
   },
   {
    "duration": 6,
    "start_time": "2023-03-23T11:08:37.014Z"
   },
   {
    "duration": 21,
    "start_time": "2023-03-23T11:08:37.023Z"
   },
   {
    "duration": 38,
    "start_time": "2023-03-23T11:08:37.047Z"
   },
   {
    "duration": 222,
    "start_time": "2023-03-23T11:08:37.098Z"
   },
   {
    "duration": 17,
    "start_time": "2023-03-23T11:08:37.323Z"
   },
   {
    "duration": 11,
    "start_time": "2023-03-23T11:08:37.345Z"
   },
   {
    "duration": 35,
    "start_time": "2023-03-23T11:08:37.358Z"
   },
   {
    "duration": 14,
    "start_time": "2023-03-23T11:08:37.395Z"
   },
   {
    "duration": 12,
    "start_time": "2023-03-23T11:08:37.411Z"
   },
   {
    "duration": 37,
    "start_time": "2023-03-23T11:08:37.425Z"
   },
   {
    "duration": 10,
    "start_time": "2023-03-23T11:08:37.479Z"
   },
   {
    "duration": 13,
    "start_time": "2023-03-23T11:08:37.491Z"
   },
   {
    "duration": 20,
    "start_time": "2023-03-23T11:08:37.507Z"
   },
   {
    "duration": 12,
    "start_time": "2023-03-23T11:08:37.530Z"
   },
   {
    "duration": 14,
    "start_time": "2023-03-23T11:08:37.545Z"
   },
   {
    "duration": 50,
    "start_time": "2023-03-23T11:08:37.561Z"
   },
   {
    "duration": 18,
    "start_time": "2023-03-23T11:08:37.613Z"
   },
   {
    "duration": 93,
    "start_time": "2023-03-23T11:08:37.633Z"
   },
   {
    "duration": 70,
    "start_time": "2023-03-23T11:08:37.729Z"
   },
   {
    "duration": 544,
    "start_time": "2023-03-23T11:08:37.805Z"
   },
   {
    "duration": 42,
    "start_time": "2023-03-23T11:08:38.351Z"
   },
   {
    "duration": 1489,
    "start_time": "2023-03-23T11:08:38.395Z"
   },
   {
    "duration": 36,
    "start_time": "2023-03-23T11:08:39.886Z"
   },
   {
    "duration": 13,
    "start_time": "2023-03-23T11:08:39.924Z"
   },
   {
    "duration": 326,
    "start_time": "2023-03-23T11:08:39.940Z"
   },
   {
    "duration": 12,
    "start_time": "2023-03-23T11:08:40.268Z"
   },
   {
    "duration": 430,
    "start_time": "2023-03-23T11:08:40.282Z"
   },
   {
    "duration": 4,
    "start_time": "2023-03-23T11:08:40.715Z"
   },
   {
    "duration": 361,
    "start_time": "2023-03-23T11:08:40.721Z"
   },
   {
    "duration": 379,
    "start_time": "2023-03-23T11:08:41.085Z"
   },
   {
    "duration": 795,
    "start_time": "2023-03-23T11:08:41.466Z"
   },
   {
    "duration": 264,
    "start_time": "2023-03-23T11:08:42.263Z"
   },
   {
    "duration": 232,
    "start_time": "2023-03-23T11:08:42.533Z"
   },
   {
    "duration": 21,
    "start_time": "2023-03-23T11:08:42.768Z"
   },
   {
    "duration": 22,
    "start_time": "2023-03-23T11:08:42.791Z"
   },
   {
    "duration": 18,
    "start_time": "2023-03-23T11:08:42.816Z"
   },
   {
    "duration": 20,
    "start_time": "2023-03-23T11:08:42.836Z"
   },
   {
    "duration": 362,
    "start_time": "2023-03-23T11:08:42.877Z"
   },
   {
    "duration": 40,
    "start_time": "2023-03-23T11:09:00.366Z"
   },
   {
    "duration": 25,
    "start_time": "2023-03-23T11:09:51.939Z"
   },
   {
    "duration": 23,
    "start_time": "2023-03-23T11:11:02.161Z"
   },
   {
    "duration": 24,
    "start_time": "2023-03-23T11:18:50.298Z"
   },
   {
    "duration": 64,
    "start_time": "2023-03-23T11:19:23.903Z"
   },
   {
    "duration": 342,
    "start_time": "2023-03-23T11:19:52.468Z"
   },
   {
    "duration": 359,
    "start_time": "2023-03-23T11:22:58.288Z"
   },
   {
    "duration": 222,
    "start_time": "2023-03-23T11:23:14.646Z"
   },
   {
    "duration": 329,
    "start_time": "2023-03-23T11:23:38.702Z"
   },
   {
    "duration": 3,
    "start_time": "2023-03-23T11:23:46.104Z"
   },
   {
    "duration": 80,
    "start_time": "2023-03-23T11:23:46.111Z"
   },
   {
    "duration": 26,
    "start_time": "2023-03-23T11:23:46.193Z"
   },
   {
    "duration": 25,
    "start_time": "2023-03-23T11:23:46.223Z"
   },
   {
    "duration": 28,
    "start_time": "2023-03-23T11:23:46.251Z"
   },
   {
    "duration": 13,
    "start_time": "2023-03-23T11:23:46.289Z"
   },
   {
    "duration": 17,
    "start_time": "2023-03-23T11:23:46.305Z"
   },
   {
    "duration": 3,
    "start_time": "2023-03-23T11:23:46.325Z"
   },
   {
    "duration": 32,
    "start_time": "2023-03-23T11:23:46.331Z"
   },
   {
    "duration": 23,
    "start_time": "2023-03-23T11:23:46.368Z"
   },
   {
    "duration": 7,
    "start_time": "2023-03-23T11:23:46.400Z"
   },
   {
    "duration": 196,
    "start_time": "2023-03-23T11:23:46.409Z"
   },
   {
    "duration": 23,
    "start_time": "2023-03-23T11:23:46.607Z"
   },
   {
    "duration": 16,
    "start_time": "2023-03-23T11:23:46.632Z"
   },
   {
    "duration": 13,
    "start_time": "2023-03-23T11:23:46.650Z"
   },
   {
    "duration": 15,
    "start_time": "2023-03-23T11:23:46.676Z"
   },
   {
    "duration": 11,
    "start_time": "2023-03-23T11:23:46.696Z"
   },
   {
    "duration": 27,
    "start_time": "2023-03-23T11:23:46.709Z"
   },
   {
    "duration": 7,
    "start_time": "2023-03-23T11:23:46.738Z"
   },
   {
    "duration": 35,
    "start_time": "2023-03-23T11:23:46.746Z"
   },
   {
    "duration": 5,
    "start_time": "2023-03-23T11:23:46.783Z"
   },
   {
    "duration": 9,
    "start_time": "2023-03-23T11:23:46.790Z"
   },
   {
    "duration": 6,
    "start_time": "2023-03-23T11:23:46.802Z"
   },
   {
    "duration": 22,
    "start_time": "2023-03-23T11:23:46.811Z"
   },
   {
    "duration": 16,
    "start_time": "2023-03-23T11:23:46.835Z"
   },
   {
    "duration": 68,
    "start_time": "2023-03-23T11:23:46.853Z"
   },
   {
    "duration": 61,
    "start_time": "2023-03-23T11:23:46.923Z"
   },
   {
    "duration": 411,
    "start_time": "2023-03-23T11:23:46.991Z"
   },
   {
    "duration": 28,
    "start_time": "2023-03-23T11:23:47.405Z"
   },
   {
    "duration": 1489,
    "start_time": "2023-03-23T11:23:47.436Z"
   },
   {
    "duration": 26,
    "start_time": "2023-03-23T11:23:48.928Z"
   },
   {
    "duration": 35,
    "start_time": "2023-03-23T11:23:48.956Z"
   },
   {
    "duration": 338,
    "start_time": "2023-03-23T11:23:48.996Z"
   },
   {
    "duration": 7,
    "start_time": "2023-03-23T11:23:49.336Z"
   },
   {
    "duration": 347,
    "start_time": "2023-03-23T11:23:49.345Z"
   },
   {
    "duration": 7,
    "start_time": "2023-03-23T11:23:49.693Z"
   },
   {
    "duration": 314,
    "start_time": "2023-03-23T11:23:49.702Z"
   },
   {
    "duration": 242,
    "start_time": "2023-03-23T11:23:50.018Z"
   },
   {
    "duration": 950,
    "start_time": "2023-03-23T11:23:50.262Z"
   },
   {
    "duration": 370,
    "start_time": "2023-03-23T11:23:51.215Z"
   },
   {
    "duration": 227,
    "start_time": "2023-03-23T11:23:51.589Z"
   },
   {
    "duration": 18,
    "start_time": "2023-03-23T11:23:51.818Z"
   },
   {
    "duration": 25,
    "start_time": "2023-03-23T11:23:51.838Z"
   },
   {
    "duration": 51,
    "start_time": "2023-03-23T11:23:51.865Z"
   },
   {
    "duration": 25,
    "start_time": "2023-03-23T11:23:51.918Z"
   },
   {
    "duration": 419,
    "start_time": "2023-03-23T11:23:54.718Z"
   },
   {
    "duration": 478,
    "start_time": "2023-03-23T11:24:14.368Z"
   },
   {
    "duration": 413,
    "start_time": "2023-03-23T11:25:01.039Z"
   },
   {
    "duration": 347,
    "start_time": "2023-03-23T11:25:11.619Z"
   },
   {
    "duration": 481,
    "start_time": "2023-03-23T11:25:19.829Z"
   },
   {
    "duration": 429,
    "start_time": "2023-03-23T11:25:29.809Z"
   },
   {
    "duration": 445,
    "start_time": "2023-03-23T11:25:39.268Z"
   },
   {
    "duration": 441,
    "start_time": "2023-03-23T11:25:43.409Z"
   },
   {
    "duration": 3,
    "start_time": "2023-03-23T11:41:03.743Z"
   },
   {
    "duration": 83,
    "start_time": "2023-03-23T11:41:03.749Z"
   },
   {
    "duration": 18,
    "start_time": "2023-03-23T11:41:03.833Z"
   },
   {
    "duration": 16,
    "start_time": "2023-03-23T11:41:03.853Z"
   },
   {
    "duration": 13,
    "start_time": "2023-03-23T11:41:03.871Z"
   },
   {
    "duration": 18,
    "start_time": "2023-03-23T11:41:03.895Z"
   },
   {
    "duration": 14,
    "start_time": "2023-03-23T11:41:03.917Z"
   },
   {
    "duration": 4,
    "start_time": "2023-03-23T11:41:03.933Z"
   },
   {
    "duration": 9,
    "start_time": "2023-03-23T11:41:03.939Z"
   },
   {
    "duration": 9,
    "start_time": "2023-03-23T11:41:03.950Z"
   },
   {
    "duration": 9,
    "start_time": "2023-03-23T11:41:03.984Z"
   },
   {
    "duration": 247,
    "start_time": "2023-03-23T11:41:03.996Z"
   },
   {
    "duration": 36,
    "start_time": "2023-03-23T11:41:04.246Z"
   },
   {
    "duration": 26,
    "start_time": "2023-03-23T11:41:04.294Z"
   },
   {
    "duration": 12,
    "start_time": "2023-03-23T11:41:04.322Z"
   },
   {
    "duration": 8,
    "start_time": "2023-03-23T11:41:04.337Z"
   },
   {
    "duration": 9,
    "start_time": "2023-03-23T11:41:04.348Z"
   },
   {
    "duration": 50,
    "start_time": "2023-03-23T11:41:04.359Z"
   },
   {
    "duration": 7,
    "start_time": "2023-03-23T11:41:04.422Z"
   },
   {
    "duration": 8,
    "start_time": "2023-03-23T11:41:04.431Z"
   },
   {
    "duration": 11,
    "start_time": "2023-03-23T11:41:04.441Z"
   },
   {
    "duration": 19,
    "start_time": "2023-03-23T11:41:04.454Z"
   },
   {
    "duration": 19,
    "start_time": "2023-03-23T11:41:04.475Z"
   },
   {
    "duration": 41,
    "start_time": "2023-03-23T11:41:04.496Z"
   },
   {
    "duration": 49,
    "start_time": "2023-03-23T11:41:04.539Z"
   },
   {
    "duration": 73,
    "start_time": "2023-03-23T11:41:04.590Z"
   },
   {
    "duration": 54,
    "start_time": "2023-03-23T11:41:04.665Z"
   },
   {
    "duration": 415,
    "start_time": "2023-03-23T11:41:04.721Z"
   },
   {
    "duration": 21,
    "start_time": "2023-03-23T11:41:05.139Z"
   },
   {
    "duration": 1449,
    "start_time": "2023-03-23T11:41:05.174Z"
   },
   {
    "duration": 17,
    "start_time": "2023-03-23T11:41:06.625Z"
   },
   {
    "duration": 13,
    "start_time": "2023-03-23T11:41:06.644Z"
   },
   {
    "duration": 348,
    "start_time": "2023-03-23T11:41:06.677Z"
   },
   {
    "duration": 8,
    "start_time": "2023-03-23T11:41:07.028Z"
   },
   {
    "duration": 340,
    "start_time": "2023-03-23T11:41:07.038Z"
   },
   {
    "duration": 6,
    "start_time": "2023-03-23T11:41:07.384Z"
   },
   {
    "duration": 243,
    "start_time": "2023-03-23T11:41:07.393Z"
   },
   {
    "duration": 233,
    "start_time": "2023-03-23T11:41:07.638Z"
   },
   {
    "duration": 825,
    "start_time": "2023-03-23T11:41:07.873Z"
   },
   {
    "duration": 217,
    "start_time": "2023-03-23T11:41:08.708Z"
   },
   {
    "duration": 212,
    "start_time": "2023-03-23T11:41:08.930Z"
   },
   {
    "duration": 15,
    "start_time": "2023-03-23T11:41:09.144Z"
   },
   {
    "duration": 30,
    "start_time": "2023-03-23T11:41:09.161Z"
   },
   {
    "duration": 20,
    "start_time": "2023-03-23T11:41:09.194Z"
   },
   {
    "duration": 18,
    "start_time": "2023-03-23T11:41:09.216Z"
   },
   {
    "duration": 479,
    "start_time": "2023-03-23T11:41:09.236Z"
   },
   {
    "duration": 354,
    "start_time": "2023-03-23T11:41:09.717Z"
   },
   {
    "duration": 28,
    "start_time": "2023-03-23T11:41:11.912Z"
   },
   {
    "duration": 29,
    "start_time": "2023-03-23T11:41:23.121Z"
   },
   {
    "duration": 70,
    "start_time": "2023-03-23T11:42:16.357Z"
   },
   {
    "duration": 32,
    "start_time": "2023-03-23T11:42:29.398Z"
   },
   {
    "duration": 42,
    "start_time": "2023-03-23T11:42:45.005Z"
   },
   {
    "duration": 30,
    "start_time": "2023-03-23T12:00:16.598Z"
   },
   {
    "duration": 498,
    "start_time": "2023-03-23T12:01:15.961Z"
   },
   {
    "duration": 37,
    "start_time": "2023-03-23T12:05:11.136Z"
   },
   {
    "duration": 927,
    "start_time": "2023-03-23T12:06:12.597Z"
   },
   {
    "duration": 58,
    "start_time": "2023-03-23T12:06:36.875Z"
   },
   {
    "duration": 47,
    "start_time": "2023-03-23T12:06:56.622Z"
   },
   {
    "duration": 37,
    "start_time": "2023-03-23T12:07:01.504Z"
   },
   {
    "duration": 39,
    "start_time": "2023-03-23T12:07:37.601Z"
   },
   {
    "duration": 31,
    "start_time": "2023-03-23T12:08:33.641Z"
   },
   {
    "duration": 35,
    "start_time": "2023-03-23T12:09:02.433Z"
   },
   {
    "duration": 40,
    "start_time": "2023-03-23T12:11:12.657Z"
   },
   {
    "duration": 31,
    "start_time": "2023-03-23T12:12:23.413Z"
   },
   {
    "duration": 34,
    "start_time": "2023-03-23T12:12:52.517Z"
   },
   {
    "duration": 42,
    "start_time": "2023-03-23T12:17:41.170Z"
   },
   {
    "duration": 46,
    "start_time": "2023-03-23T12:18:13.955Z"
   },
   {
    "duration": 44,
    "start_time": "2023-03-23T12:18:30.205Z"
   },
   {
    "duration": 60,
    "start_time": "2023-03-23T12:18:34.249Z"
   },
   {
    "duration": 38,
    "start_time": "2023-03-23T12:18:58.508Z"
   },
   {
    "duration": 44,
    "start_time": "2023-03-23T12:19:11.793Z"
   },
   {
    "duration": 45,
    "start_time": "2023-03-23T12:19:18.420Z"
   },
   {
    "duration": 59,
    "start_time": "2023-03-23T12:19:24.269Z"
   },
   {
    "duration": 37,
    "start_time": "2023-03-23T12:19:40.128Z"
   },
   {
    "duration": 48,
    "start_time": "2023-03-23T12:19:54.951Z"
   },
   {
    "duration": 36,
    "start_time": "2023-03-23T12:22:37.325Z"
   },
   {
    "duration": 35,
    "start_time": "2023-03-23T12:26:09.214Z"
   },
   {
    "duration": 17,
    "start_time": "2023-03-23T12:52:18.321Z"
   },
   {
    "duration": 11,
    "start_time": "2023-03-23T12:54:44.400Z"
   },
   {
    "duration": 4,
    "start_time": "2023-03-23T12:55:12.669Z"
   },
   {
    "duration": 26,
    "start_time": "2023-03-23T12:55:34.251Z"
   },
   {
    "duration": 17,
    "start_time": "2023-03-23T12:56:55.105Z"
   },
   {
    "duration": 59,
    "start_time": "2023-03-23T12:59:13.702Z"
   },
   {
    "duration": 70,
    "start_time": "2023-03-23T13:00:11.651Z"
   },
   {
    "duration": 35,
    "start_time": "2023-03-23T13:01:09.416Z"
   },
   {
    "duration": 591,
    "start_time": "2023-03-23T13:01:30.928Z"
   },
   {
    "duration": 473,
    "start_time": "2023-03-23T13:02:42.611Z"
   },
   {
    "duration": 548,
    "start_time": "2023-03-23T13:03:05.486Z"
   },
   {
    "duration": 652,
    "start_time": "2023-03-23T13:07:29.395Z"
   },
   {
    "duration": 27,
    "start_time": "2023-03-23T13:08:55.602Z"
   },
   {
    "duration": 6,
    "start_time": "2023-03-23T13:10:09.744Z"
   },
   {
    "duration": 129,
    "start_time": "2023-03-23T13:11:06.135Z"
   },
   {
    "duration": 464,
    "start_time": "2023-03-23T13:12:13.595Z"
   },
   {
    "duration": 540,
    "start_time": "2023-03-23T13:13:24.273Z"
   },
   {
    "duration": 46,
    "start_time": "2023-03-23T13:14:04.538Z"
   },
   {
    "duration": 64,
    "start_time": "2023-03-23T13:14:56.966Z"
   },
   {
    "duration": 51,
    "start_time": "2023-03-23T13:27:13.505Z"
   },
   {
    "duration": 58,
    "start_time": "2023-03-23T13:27:41.229Z"
   },
   {
    "duration": 65,
    "start_time": "2023-03-23T13:28:00.489Z"
   },
   {
    "duration": 47,
    "start_time": "2023-03-23T13:28:27.406Z"
   },
   {
    "duration": 3,
    "start_time": "2023-03-23T13:31:41.449Z"
   },
   {
    "duration": 75,
    "start_time": "2023-03-23T13:31:41.455Z"
   },
   {
    "duration": 20,
    "start_time": "2023-03-23T13:31:41.532Z"
   },
   {
    "duration": 17,
    "start_time": "2023-03-23T13:31:41.554Z"
   },
   {
    "duration": 3,
    "start_time": "2023-03-23T13:31:41.581Z"
   },
   {
    "duration": 16,
    "start_time": "2023-03-23T13:31:41.590Z"
   },
   {
    "duration": 15,
    "start_time": "2023-03-23T13:31:41.608Z"
   },
   {
    "duration": 3,
    "start_time": "2023-03-23T13:31:41.626Z"
   },
   {
    "duration": 7,
    "start_time": "2023-03-23T13:31:41.631Z"
   },
   {
    "duration": 13,
    "start_time": "2023-03-23T13:31:41.640Z"
   },
   {
    "duration": 28,
    "start_time": "2023-03-23T13:31:41.656Z"
   },
   {
    "duration": 201,
    "start_time": "2023-03-23T13:31:41.695Z"
   },
   {
    "duration": 17,
    "start_time": "2023-03-23T13:31:41.897Z"
   },
   {
    "duration": 13,
    "start_time": "2023-03-23T13:31:41.919Z"
   },
   {
    "duration": 7,
    "start_time": "2023-03-23T13:31:41.934Z"
   },
   {
    "duration": 17,
    "start_time": "2023-03-23T13:31:41.943Z"
   },
   {
    "duration": 23,
    "start_time": "2023-03-23T13:31:41.962Z"
   },
   {
    "duration": 32,
    "start_time": "2023-03-23T13:31:41.987Z"
   },
   {
    "duration": 7,
    "start_time": "2023-03-23T13:31:42.021Z"
   },
   {
    "duration": 13,
    "start_time": "2023-03-23T13:31:42.030Z"
   },
   {
    "duration": 3,
    "start_time": "2023-03-23T13:31:42.045Z"
   },
   {
    "duration": 5,
    "start_time": "2023-03-23T13:31:42.050Z"
   },
   {
    "duration": 24,
    "start_time": "2023-03-23T13:31:42.056Z"
   },
   {
    "duration": 22,
    "start_time": "2023-03-23T13:31:42.087Z"
   },
   {
    "duration": 17,
    "start_time": "2023-03-23T13:31:42.111Z"
   },
   {
    "duration": 64,
    "start_time": "2023-03-23T13:31:42.130Z"
   },
   {
    "duration": 38,
    "start_time": "2023-03-23T13:31:42.197Z"
   },
   {
    "duration": 417,
    "start_time": "2023-03-23T13:31:42.237Z"
   },
   {
    "duration": 42,
    "start_time": "2023-03-23T13:31:42.656Z"
   },
   {
    "duration": 1452,
    "start_time": "2023-03-23T13:31:42.702Z"
   },
   {
    "duration": 28,
    "start_time": "2023-03-23T13:31:44.156Z"
   },
   {
    "duration": 28,
    "start_time": "2023-03-23T13:31:44.189Z"
   },
   {
    "duration": 392,
    "start_time": "2023-03-23T13:31:44.219Z"
   },
   {
    "duration": 7,
    "start_time": "2023-03-23T13:31:44.612Z"
   },
   {
    "duration": 324,
    "start_time": "2023-03-23T13:31:44.620Z"
   },
   {
    "duration": 4,
    "start_time": "2023-03-23T13:31:44.945Z"
   },
   {
    "duration": 296,
    "start_time": "2023-03-23T13:31:44.951Z"
   },
   {
    "duration": 276,
    "start_time": "2023-03-23T13:31:45.250Z"
   },
   {
    "duration": 844,
    "start_time": "2023-03-23T13:31:45.529Z"
   },
   {
    "duration": 225,
    "start_time": "2023-03-23T13:31:46.375Z"
   },
   {
    "duration": 211,
    "start_time": "2023-03-23T13:31:46.606Z"
   },
   {
    "duration": 14,
    "start_time": "2023-03-23T13:31:46.818Z"
   },
   {
    "duration": 11,
    "start_time": "2023-03-23T13:31:46.833Z"
   },
   {
    "duration": 38,
    "start_time": "2023-03-23T13:31:46.845Z"
   },
   {
    "duration": 23,
    "start_time": "2023-03-23T13:31:46.887Z"
   },
   {
    "duration": 458,
    "start_time": "2023-03-23T13:31:46.913Z"
   },
   {
    "duration": 354,
    "start_time": "2023-03-23T13:31:47.375Z"
   },
   {
    "duration": 29,
    "start_time": "2023-03-23T13:31:47.731Z"
   },
   {
    "duration": 32,
    "start_time": "2023-03-23T13:31:47.761Z"
   },
   {
    "duration": 50,
    "start_time": "2023-03-23T13:31:53.005Z"
   },
   {
    "duration": 44,
    "start_time": "2023-03-23T13:32:21.759Z"
   },
   {
    "duration": 24,
    "start_time": "2023-03-23T13:32:45.397Z"
   },
   {
    "duration": 58,
    "start_time": "2023-03-23T13:33:25.202Z"
   },
   {
    "duration": 48,
    "start_time": "2023-03-23T13:36:32.019Z"
   },
   {
    "duration": 34,
    "start_time": "2023-03-23T13:37:23.560Z"
   },
   {
    "duration": 55,
    "start_time": "2023-03-23T13:38:22.297Z"
   },
   {
    "duration": 66,
    "start_time": "2023-03-23T13:39:22.970Z"
   },
   {
    "duration": 52,
    "start_time": "2023-03-23T13:40:23.804Z"
   },
   {
    "duration": 92,
    "start_time": "2023-03-23T13:41:06.528Z"
   },
   {
    "duration": 89,
    "start_time": "2023-03-23T13:42:04.332Z"
   },
   {
    "duration": 45,
    "start_time": "2023-03-23T13:42:45.618Z"
   },
   {
    "duration": 87,
    "start_time": "2023-03-23T13:44:32.462Z"
   },
   {
    "duration": 56,
    "start_time": "2023-03-23T13:45:57.117Z"
   },
   {
    "duration": 185,
    "start_time": "2023-03-23T13:50:41.440Z"
   },
   {
    "duration": 281,
    "start_time": "2023-03-23T13:51:18.236Z"
   },
   {
    "duration": 184,
    "start_time": "2023-03-23T13:55:20.115Z"
   },
   {
    "duration": 28,
    "start_time": "2023-03-23T13:56:34.623Z"
   },
   {
    "duration": 553,
    "start_time": "2023-03-23T13:58:10.691Z"
   },
   {
    "duration": 64,
    "start_time": "2023-03-23T14:01:09.605Z"
   },
   {
    "duration": 241,
    "start_time": "2023-03-23T14:01:56.002Z"
   },
   {
    "duration": 55,
    "start_time": "2023-03-23T14:10:26.065Z"
   },
   {
    "duration": 3,
    "start_time": "2023-03-23T14:10:40.694Z"
   },
   {
    "duration": 351,
    "start_time": "2023-03-23T14:18:31.397Z"
   },
   {
    "duration": 583,
    "start_time": "2023-03-23T14:21:34.161Z"
   },
   {
    "duration": 507,
    "start_time": "2023-03-23T14:22:15.144Z"
   },
   {
    "duration": 524,
    "start_time": "2023-03-23T14:22:37.669Z"
   },
   {
    "duration": 465,
    "start_time": "2023-03-23T14:23:14.370Z"
   },
   {
    "duration": 495,
    "start_time": "2023-03-23T14:24:44.657Z"
   },
   {
    "duration": 537,
    "start_time": "2023-03-23T14:24:52.660Z"
   },
   {
    "duration": 494,
    "start_time": "2023-03-23T14:25:14.498Z"
   },
   {
    "duration": 587,
    "start_time": "2023-03-23T14:25:28.160Z"
   },
   {
    "duration": 431,
    "start_time": "2023-03-23T14:25:51.539Z"
   },
   {
    "duration": 442,
    "start_time": "2023-03-23T14:26:01.488Z"
   },
   {
    "duration": 469,
    "start_time": "2023-03-23T14:26:26.224Z"
   },
   {
    "duration": 453,
    "start_time": "2023-03-23T14:26:51.064Z"
   },
   {
    "duration": 399,
    "start_time": "2023-03-23T14:27:20.526Z"
   },
   {
    "duration": 567,
    "start_time": "2023-03-23T14:27:43.693Z"
   },
   {
    "duration": 424,
    "start_time": "2023-03-23T14:28:11.271Z"
   },
   {
    "duration": 394,
    "start_time": "2023-03-23T14:34:58.735Z"
   },
   {
    "duration": 398,
    "start_time": "2023-03-23T14:35:09.942Z"
   },
   {
    "duration": 415,
    "start_time": "2023-03-23T14:35:35.535Z"
   },
   {
    "duration": 506,
    "start_time": "2023-03-23T14:41:38.682Z"
   },
   {
    "duration": 387,
    "start_time": "2023-03-23T14:42:41.258Z"
   },
   {
    "duration": 887,
    "start_time": "2023-03-23T14:46:18.082Z"
   },
   {
    "duration": 858,
    "start_time": "2023-03-23T14:46:48.923Z"
   },
   {
    "duration": 399,
    "start_time": "2023-03-23T14:48:29.230Z"
   },
   {
    "duration": 583,
    "start_time": "2023-03-23T14:48:56.606Z"
   },
   {
    "duration": 950,
    "start_time": "2023-03-23T14:49:06.983Z"
   },
   {
    "duration": 398,
    "start_time": "2023-03-23T14:49:25.135Z"
   },
   {
    "duration": 416,
    "start_time": "2023-03-23T14:49:41.042Z"
   },
   {
    "duration": 415,
    "start_time": "2023-03-23T14:55:08.381Z"
   },
   {
    "duration": 405,
    "start_time": "2023-03-23T14:57:57.360Z"
   },
   {
    "duration": 24,
    "start_time": "2023-03-23T15:11:17.823Z"
   },
   {
    "duration": 3,
    "start_time": "2023-03-23T15:21:38.181Z"
   },
   {
    "duration": 68,
    "start_time": "2023-03-23T15:21:38.186Z"
   },
   {
    "duration": 19,
    "start_time": "2023-03-23T15:21:38.255Z"
   },
   {
    "duration": 21,
    "start_time": "2023-03-23T15:21:38.276Z"
   },
   {
    "duration": 9,
    "start_time": "2023-03-23T15:21:38.299Z"
   },
   {
    "duration": 29,
    "start_time": "2023-03-23T15:21:38.310Z"
   },
   {
    "duration": 15,
    "start_time": "2023-03-23T15:21:38.341Z"
   },
   {
    "duration": 4,
    "start_time": "2023-03-23T15:21:38.357Z"
   },
   {
    "duration": 15,
    "start_time": "2023-03-23T15:21:38.363Z"
   },
   {
    "duration": 7,
    "start_time": "2023-03-23T15:21:38.381Z"
   },
   {
    "duration": 25,
    "start_time": "2023-03-23T15:21:38.392Z"
   },
   {
    "duration": 179,
    "start_time": "2023-03-23T15:21:38.420Z"
   },
   {
    "duration": 15,
    "start_time": "2023-03-23T15:21:38.601Z"
   },
   {
    "duration": 13,
    "start_time": "2023-03-23T15:21:38.618Z"
   },
   {
    "duration": 11,
    "start_time": "2023-03-23T15:21:38.632Z"
   },
   {
    "duration": 14,
    "start_time": "2023-03-23T15:21:38.645Z"
   },
   {
    "duration": 13,
    "start_time": "2023-03-23T15:21:38.661Z"
   },
   {
    "duration": 29,
    "start_time": "2023-03-23T15:21:38.676Z"
   },
   {
    "duration": 5,
    "start_time": "2023-03-23T15:21:38.707Z"
   },
   {
    "duration": 5,
    "start_time": "2023-03-23T15:21:38.714Z"
   },
   {
    "duration": 4,
    "start_time": "2023-03-23T15:21:38.720Z"
   },
   {
    "duration": 9,
    "start_time": "2023-03-23T15:21:38.726Z"
   },
   {
    "duration": 13,
    "start_time": "2023-03-23T15:21:38.737Z"
   },
   {
    "duration": 137,
    "start_time": "2023-03-23T15:21:38.752Z"
   },
   {
    "duration": 15,
    "start_time": "2023-03-23T15:21:38.890Z"
   },
   {
    "duration": 68,
    "start_time": "2023-03-23T15:21:38.906Z"
   },
   {
    "duration": 34,
    "start_time": "2023-03-23T15:21:38.976Z"
   },
   {
    "duration": 382,
    "start_time": "2023-03-23T15:21:39.012Z"
   },
   {
    "duration": 18,
    "start_time": "2023-03-23T15:21:39.398Z"
   },
   {
    "duration": 1204,
    "start_time": "2023-03-23T15:21:39.418Z"
   },
   {
    "duration": 16,
    "start_time": "2023-03-23T15:21:40.624Z"
   },
   {
    "duration": 20,
    "start_time": "2023-03-23T15:21:40.642Z"
   },
   {
    "duration": 230,
    "start_time": "2023-03-23T15:21:40.664Z"
   },
   {
    "duration": 6,
    "start_time": "2023-03-23T15:21:40.896Z"
   },
   {
    "duration": 303,
    "start_time": "2023-03-23T15:21:40.903Z"
   },
   {
    "duration": 3,
    "start_time": "2023-03-23T15:21:41.209Z"
   },
   {
    "duration": 209,
    "start_time": "2023-03-23T15:21:41.213Z"
   },
   {
    "duration": 202,
    "start_time": "2023-03-23T15:21:41.424Z"
   },
   {
    "duration": 793,
    "start_time": "2023-03-23T15:21:41.628Z"
   },
   {
    "duration": 189,
    "start_time": "2023-03-23T15:21:42.423Z"
   },
   {
    "duration": 185,
    "start_time": "2023-03-23T15:21:42.614Z"
   },
   {
    "duration": 14,
    "start_time": "2023-03-23T15:21:42.801Z"
   },
   {
    "duration": 12,
    "start_time": "2023-03-23T15:21:42.816Z"
   },
   {
    "duration": 13,
    "start_time": "2023-03-23T15:21:42.830Z"
   },
   {
    "duration": 45,
    "start_time": "2023-03-23T15:21:42.844Z"
   },
   {
    "duration": 300,
    "start_time": "2023-03-23T15:21:42.891Z"
   },
   {
    "duration": 300,
    "start_time": "2023-03-23T15:21:43.193Z"
   },
   {
    "duration": 411,
    "start_time": "2023-03-23T15:21:43.495Z"
   },
   {
    "duration": 602,
    "start_time": "2023-03-23T15:21:43.909Z"
   },
   {
    "duration": 24,
    "start_time": "2023-03-23T15:21:44.513Z"
   },
   {
    "duration": 2,
    "start_time": "2023-03-23T15:22:52.330Z"
   },
   {
    "duration": 15,
    "start_time": "2023-03-23T15:26:36.264Z"
   },
   {
    "duration": 14,
    "start_time": "2023-03-23T15:37:42.032Z"
   },
   {
    "duration": 1304,
    "start_time": "2023-03-23T17:08:57.025Z"
   },
   {
    "duration": 64,
    "start_time": "2023-03-23T17:08:58.331Z"
   },
   {
    "duration": 29,
    "start_time": "2023-03-23T17:08:58.397Z"
   },
   {
    "duration": 20,
    "start_time": "2023-03-23T17:08:58.429Z"
   },
   {
    "duration": 4,
    "start_time": "2023-03-23T17:08:58.452Z"
   },
   {
    "duration": 31,
    "start_time": "2023-03-23T17:08:58.458Z"
   },
   {
    "duration": 17,
    "start_time": "2023-03-23T17:08:58.491Z"
   },
   {
    "duration": 4,
    "start_time": "2023-03-23T17:08:58.510Z"
   },
   {
    "duration": 16,
    "start_time": "2023-03-23T17:08:58.516Z"
   },
   {
    "duration": 14,
    "start_time": "2023-03-23T17:08:58.536Z"
   },
   {
    "duration": 31,
    "start_time": "2023-03-23T17:08:58.552Z"
   },
   {
    "duration": 229,
    "start_time": "2023-03-23T17:08:58.584Z"
   },
   {
    "duration": 23,
    "start_time": "2023-03-23T17:08:58.815Z"
   },
   {
    "duration": 11,
    "start_time": "2023-03-23T17:08:58.841Z"
   },
   {
    "duration": 26,
    "start_time": "2023-03-23T17:08:58.854Z"
   },
   {
    "duration": 7,
    "start_time": "2023-03-23T17:08:58.882Z"
   },
   {
    "duration": 8,
    "start_time": "2023-03-23T17:08:58.891Z"
   },
   {
    "duration": 38,
    "start_time": "2023-03-23T17:08:58.901Z"
   },
   {
    "duration": 40,
    "start_time": "2023-03-23T17:08:58.941Z"
   },
   {
    "duration": 7,
    "start_time": "2023-03-23T17:08:58.983Z"
   },
   {
    "duration": 5,
    "start_time": "2023-03-23T17:08:58.992Z"
   },
   {
    "duration": 6,
    "start_time": "2023-03-23T17:08:58.999Z"
   },
   {
    "duration": 5,
    "start_time": "2023-03-23T17:08:59.007Z"
   },
   {
    "duration": 20,
    "start_time": "2023-03-23T17:08:59.013Z"
   },
   {
    "duration": 48,
    "start_time": "2023-03-23T17:08:59.034Z"
   },
   {
    "duration": 51,
    "start_time": "2023-03-23T17:08:59.084Z"
   },
   {
    "duration": 60,
    "start_time": "2023-03-23T17:08:59.137Z"
   },
   {
    "duration": 401,
    "start_time": "2023-03-23T17:08:59.202Z"
   },
   {
    "duration": 28,
    "start_time": "2023-03-23T17:08:59.605Z"
   },
   {
    "duration": 1413,
    "start_time": "2023-03-23T17:08:59.635Z"
   },
   {
    "duration": 25,
    "start_time": "2023-03-23T17:09:01.050Z"
   },
   {
    "duration": 27,
    "start_time": "2023-03-23T17:09:01.077Z"
   },
   {
    "duration": 319,
    "start_time": "2023-03-23T17:09:01.106Z"
   },
   {
    "duration": 9,
    "start_time": "2023-03-23T17:09:01.427Z"
   },
   {
    "duration": 360,
    "start_time": "2023-03-23T17:09:01.438Z"
   },
   {
    "duration": 4,
    "start_time": "2023-03-23T17:09:01.800Z"
   },
   {
    "duration": 354,
    "start_time": "2023-03-23T17:09:01.806Z"
   },
   {
    "duration": 251,
    "start_time": "2023-03-23T17:09:02.162Z"
   },
   {
    "duration": 836,
    "start_time": "2023-03-23T17:09:02.416Z"
   },
   {
    "duration": 223,
    "start_time": "2023-03-23T17:09:03.254Z"
   },
   {
    "duration": 247,
    "start_time": "2023-03-23T17:09:03.479Z"
   },
   {
    "duration": 15,
    "start_time": "2023-03-23T17:09:03.729Z"
   },
   {
    "duration": 42,
    "start_time": "2023-03-23T17:09:03.747Z"
   },
   {
    "duration": 18,
    "start_time": "2023-03-23T17:09:03.792Z"
   },
   {
    "duration": 26,
    "start_time": "2023-03-23T17:09:03.813Z"
   },
   {
    "duration": 426,
    "start_time": "2023-03-23T17:09:03.841Z"
   },
   {
    "duration": 509,
    "start_time": "2023-03-23T17:09:04.269Z"
   },
   {
    "duration": 486,
    "start_time": "2023-03-23T17:09:04.779Z"
   },
   {
    "duration": 511,
    "start_time": "2023-03-23T17:09:05.266Z"
   },
   {
    "duration": 32,
    "start_time": "2023-03-23T17:09:05.779Z"
   },
   {
    "duration": 17,
    "start_time": "2023-03-23T17:09:05.813Z"
   },
   {
    "duration": 32,
    "start_time": "2023-03-23T17:09:05.833Z"
   },
   {
    "duration": 50,
    "start_time": "2023-03-24T14:51:45.228Z"
   },
   {
    "duration": 9,
    "start_time": "2023-03-24T14:51:49.845Z"
   },
   {
    "duration": 1199,
    "start_time": "2023-03-24T14:54:03.984Z"
   },
   {
    "duration": 55,
    "start_time": "2023-03-24T14:54:05.187Z"
   },
   {
    "duration": 23,
    "start_time": "2023-03-24T14:54:05.244Z"
   },
   {
    "duration": 14,
    "start_time": "2023-03-24T14:54:05.269Z"
   },
   {
    "duration": 3,
    "start_time": "2023-03-24T14:54:05.285Z"
   },
   {
    "duration": 13,
    "start_time": "2023-03-24T14:54:05.289Z"
   },
   {
    "duration": 12,
    "start_time": "2023-03-24T14:54:05.304Z"
   },
   {
    "duration": 4,
    "start_time": "2023-03-24T14:54:05.318Z"
   },
   {
    "duration": 8,
    "start_time": "2023-03-24T14:54:05.324Z"
   },
   {
    "duration": 12,
    "start_time": "2023-03-24T14:54:05.333Z"
   },
   {
    "duration": 9,
    "start_time": "2023-03-24T14:54:05.347Z"
   },
   {
    "duration": 234,
    "start_time": "2023-03-24T14:54:05.358Z"
   },
   {
    "duration": 14,
    "start_time": "2023-03-24T14:54:05.594Z"
   },
   {
    "duration": 20,
    "start_time": "2023-03-24T14:54:05.611Z"
   },
   {
    "duration": 9,
    "start_time": "2023-03-24T14:54:05.633Z"
   },
   {
    "duration": 6,
    "start_time": "2023-03-24T14:54:05.644Z"
   },
   {
    "duration": 12,
    "start_time": "2023-03-24T14:54:05.652Z"
   },
   {
    "duration": 43,
    "start_time": "2023-03-24T14:54:05.665Z"
   },
   {
    "duration": 22,
    "start_time": "2023-03-24T14:54:05.710Z"
   },
   {
    "duration": 9,
    "start_time": "2023-03-24T14:54:05.734Z"
   },
   {
    "duration": 8,
    "start_time": "2023-03-24T14:54:05.744Z"
   },
   {
    "duration": 35,
    "start_time": "2023-03-24T14:54:05.754Z"
   },
   {
    "duration": 16,
    "start_time": "2023-03-24T14:54:05.792Z"
   },
   {
    "duration": 26,
    "start_time": "2023-03-24T14:54:05.811Z"
   },
   {
    "duration": 17,
    "start_time": "2023-03-24T14:54:05.839Z"
   },
   {
    "duration": 51,
    "start_time": "2023-03-24T14:54:05.858Z"
   },
   {
    "duration": 32,
    "start_time": "2023-03-24T14:54:05.911Z"
   },
   {
    "duration": 393,
    "start_time": "2023-03-24T14:54:05.945Z"
   },
   {
    "duration": 19,
    "start_time": "2023-03-24T14:54:06.340Z"
   },
   {
    "duration": 1246,
    "start_time": "2023-03-24T14:54:06.361Z"
   },
   {
    "duration": 16,
    "start_time": "2023-03-24T14:54:07.609Z"
   },
   {
    "duration": 30,
    "start_time": "2023-03-24T14:54:07.627Z"
   },
   {
    "duration": 237,
    "start_time": "2023-03-24T14:54:07.659Z"
   },
   {
    "duration": 6,
    "start_time": "2023-03-24T14:54:07.898Z"
   },
   {
    "duration": 310,
    "start_time": "2023-03-24T14:54:07.906Z"
   },
   {
    "duration": 2,
    "start_time": "2023-03-24T14:54:08.218Z"
   },
   {
    "duration": 310,
    "start_time": "2023-03-24T14:54:08.222Z"
   },
   {
    "duration": 211,
    "start_time": "2023-03-24T14:54:08.534Z"
   },
   {
    "duration": 705,
    "start_time": "2023-03-24T14:54:08.747Z"
   },
   {
    "duration": 201,
    "start_time": "2023-03-24T14:54:09.454Z"
   },
   {
    "duration": 190,
    "start_time": "2023-03-24T14:54:09.661Z"
   },
   {
    "duration": 15,
    "start_time": "2023-03-24T14:54:09.853Z"
   },
   {
    "duration": 26,
    "start_time": "2023-03-24T14:54:09.869Z"
   },
   {
    "duration": 12,
    "start_time": "2023-03-24T14:54:09.896Z"
   },
   {
    "duration": 26,
    "start_time": "2023-03-24T14:54:09.910Z"
   },
   {
    "duration": 300,
    "start_time": "2023-03-24T14:54:09.938Z"
   },
   {
    "duration": 481,
    "start_time": "2023-03-24T14:54:10.239Z"
   },
   {
    "duration": 437,
    "start_time": "2023-03-24T14:54:10.722Z"
   },
   {
    "duration": 430,
    "start_time": "2023-03-24T14:54:11.161Z"
   },
   {
    "duration": 23,
    "start_time": "2023-03-24T14:54:11.593Z"
   },
   {
    "duration": 13,
    "start_time": "2023-03-24T14:54:11.618Z"
   },
   {
    "duration": 19,
    "start_time": "2023-03-24T14:54:11.633Z"
   },
   {
    "duration": 36,
    "start_time": "2023-03-24T14:54:11.654Z"
   },
   {
    "duration": 83,
    "start_time": "2023-03-24T14:54:11.691Z"
   },
   {
    "duration": 3,
    "start_time": "2023-03-24T14:54:11.776Z"
   },
   {
    "duration": 12,
    "start_time": "2023-03-24T14:54:11.781Z"
   },
   {
    "duration": 10,
    "start_time": "2023-03-24T14:54:11.795Z"
   },
   {
    "duration": 15,
    "start_time": "2023-03-24T14:54:11.807Z"
   },
   {
    "duration": 9,
    "start_time": "2023-03-24T14:54:11.824Z"
   },
   {
    "duration": 9,
    "start_time": "2023-03-24T14:54:11.835Z"
   },
   {
    "duration": 617,
    "start_time": "2023-03-24T14:54:11.846Z"
   },
   {
    "duration": 630,
    "start_time": "2023-03-24T14:54:12.465Z"
   },
   {
    "duration": 674,
    "start_time": "2023-03-24T14:54:13.096Z"
   },
   {
    "duration": 1354,
    "start_time": "2023-03-24T15:33:51.946Z"
   },
   {
    "duration": 112,
    "start_time": "2023-03-24T15:33:53.303Z"
   },
   {
    "duration": 21,
    "start_time": "2023-03-24T15:33:53.418Z"
   },
   {
    "duration": 15,
    "start_time": "2023-03-24T15:33:53.441Z"
   },
   {
    "duration": 3,
    "start_time": "2023-03-24T15:33:53.459Z"
   },
   {
    "duration": 11,
    "start_time": "2023-03-24T15:33:53.464Z"
   },
   {
    "duration": 13,
    "start_time": "2023-03-24T15:33:53.477Z"
   },
   {
    "duration": 5,
    "start_time": "2023-03-24T15:33:53.492Z"
   },
   {
    "duration": 35,
    "start_time": "2023-03-24T15:33:53.499Z"
   },
   {
    "duration": 8,
    "start_time": "2023-03-24T15:33:53.536Z"
   },
   {
    "duration": 5,
    "start_time": "2023-03-24T15:33:53.546Z"
   },
   {
    "duration": 194,
    "start_time": "2023-03-24T15:33:53.553Z"
   },
   {
    "duration": 16,
    "start_time": "2023-03-24T15:33:53.748Z"
   },
   {
    "duration": 11,
    "start_time": "2023-03-24T15:33:53.769Z"
   },
   {
    "duration": 11,
    "start_time": "2023-03-24T15:33:53.782Z"
   },
   {
    "duration": 5,
    "start_time": "2023-03-24T15:33:53.795Z"
   },
   {
    "duration": 32,
    "start_time": "2023-03-24T15:33:53.801Z"
   },
   {
    "duration": 23,
    "start_time": "2023-03-24T15:33:53.835Z"
   },
   {
    "duration": 10,
    "start_time": "2023-03-24T15:33:53.860Z"
   },
   {
    "duration": 6,
    "start_time": "2023-03-24T15:33:53.872Z"
   },
   {
    "duration": 6,
    "start_time": "2023-03-24T15:33:53.879Z"
   },
   {
    "duration": 7,
    "start_time": "2023-03-24T15:33:53.886Z"
   },
   {
    "duration": 9,
    "start_time": "2023-03-24T15:33:53.895Z"
   },
   {
    "duration": 34,
    "start_time": "2023-03-24T15:33:53.906Z"
   },
   {
    "duration": 20,
    "start_time": "2023-03-24T15:33:53.942Z"
   },
   {
    "duration": 42,
    "start_time": "2023-03-24T15:33:53.964Z"
   },
   {
    "duration": 65,
    "start_time": "2023-03-24T15:33:54.008Z"
   },
   {
    "duration": 392,
    "start_time": "2023-03-24T15:33:54.075Z"
   },
   {
    "duration": 18,
    "start_time": "2023-03-24T15:33:54.469Z"
   },
   {
    "duration": 1201,
    "start_time": "2023-03-24T15:33:54.489Z"
   },
   {
    "duration": 18,
    "start_time": "2023-03-24T15:33:55.692Z"
   },
   {
    "duration": 23,
    "start_time": "2023-03-24T15:33:55.712Z"
   },
   {
    "duration": 234,
    "start_time": "2023-03-24T15:33:55.737Z"
   },
   {
    "duration": 6,
    "start_time": "2023-03-24T15:33:55.973Z"
   },
   {
    "duration": 306,
    "start_time": "2023-03-24T15:33:55.981Z"
   },
   {
    "duration": 2,
    "start_time": "2023-03-24T15:33:56.289Z"
   },
   {
    "duration": 107,
    "start_time": "2023-03-24T15:34:06.564Z"
   },
   {
    "duration": 345,
    "start_time": "2023-03-24T15:34:52.153Z"
   },
   {
    "duration": 258,
    "start_time": "2023-03-24T15:35:17.065Z"
   },
   {
    "duration": 1188,
    "start_time": "2023-03-24T15:45:20.387Z"
   },
   {
    "duration": 58,
    "start_time": "2023-03-24T15:45:21.577Z"
   },
   {
    "duration": 22,
    "start_time": "2023-03-24T15:45:21.637Z"
   },
   {
    "duration": 14,
    "start_time": "2023-03-24T15:45:21.661Z"
   },
   {
    "duration": 3,
    "start_time": "2023-03-24T15:45:21.677Z"
   },
   {
    "duration": 20,
    "start_time": "2023-03-24T15:45:21.682Z"
   },
   {
    "duration": 32,
    "start_time": "2023-03-24T15:45:21.705Z"
   },
   {
    "duration": 3,
    "start_time": "2023-03-24T15:45:21.739Z"
   },
   {
    "duration": 21,
    "start_time": "2023-03-24T15:45:21.744Z"
   },
   {
    "duration": 22,
    "start_time": "2023-03-24T15:45:21.767Z"
   },
   {
    "duration": 13,
    "start_time": "2023-03-24T15:45:21.791Z"
   },
   {
    "duration": 201,
    "start_time": "2023-03-24T15:45:21.806Z"
   },
   {
    "duration": 15,
    "start_time": "2023-03-24T15:45:22.009Z"
   },
   {
    "duration": 10,
    "start_time": "2023-03-24T15:45:22.038Z"
   },
   {
    "duration": 7,
    "start_time": "2023-03-24T15:45:22.051Z"
   },
   {
    "duration": 10,
    "start_time": "2023-03-24T15:45:22.061Z"
   },
   {
    "duration": 16,
    "start_time": "2023-03-24T15:45:22.073Z"
   },
   {
    "duration": 24,
    "start_time": "2023-03-24T15:45:22.091Z"
   },
   {
    "duration": 6,
    "start_time": "2023-03-24T15:45:22.133Z"
   },
   {
    "duration": 24,
    "start_time": "2023-03-24T15:45:22.141Z"
   },
   {
    "duration": 8,
    "start_time": "2023-03-24T15:45:22.167Z"
   },
   {
    "duration": 19,
    "start_time": "2023-03-24T15:45:22.177Z"
   },
   {
    "duration": 34,
    "start_time": "2023-03-24T15:45:22.198Z"
   },
   {
    "duration": 25,
    "start_time": "2023-03-24T15:45:22.234Z"
   },
   {
    "duration": 36,
    "start_time": "2023-03-24T15:45:22.261Z"
   },
   {
    "duration": 47,
    "start_time": "2023-03-24T15:45:22.298Z"
   },
   {
    "duration": 34,
    "start_time": "2023-03-24T15:45:22.347Z"
   },
   {
    "duration": 380,
    "start_time": "2023-03-24T15:45:22.383Z"
   },
   {
    "duration": 18,
    "start_time": "2023-03-24T15:45:22.765Z"
   },
   {
    "duration": 1231,
    "start_time": "2023-03-24T15:45:22.784Z"
   },
   {
    "duration": 25,
    "start_time": "2023-03-24T15:45:24.017Z"
   },
   {
    "duration": 37,
    "start_time": "2023-03-24T15:45:24.044Z"
   },
   {
    "duration": 273,
    "start_time": "2023-03-24T15:45:24.083Z"
   },
   {
    "duration": 5,
    "start_time": "2023-03-24T15:45:24.358Z"
   },
   {
    "duration": 331,
    "start_time": "2023-03-24T15:45:24.365Z"
   },
   {
    "duration": 3,
    "start_time": "2023-03-24T15:45:24.698Z"
   },
   {
    "duration": 397,
    "start_time": "2023-03-24T15:45:24.703Z"
   },
   {
    "duration": 268,
    "start_time": "2023-03-24T15:45:25.102Z"
   },
   {
    "duration": 718,
    "start_time": "2023-03-24T15:45:25.371Z"
   },
   {
    "duration": 193,
    "start_time": "2023-03-24T15:45:26.091Z"
   },
   {
    "duration": 194,
    "start_time": "2023-03-24T15:45:26.288Z"
   },
   {
    "duration": 16,
    "start_time": "2023-03-24T15:45:26.484Z"
   },
   {
    "duration": 33,
    "start_time": "2023-03-24T15:45:26.502Z"
   },
   {
    "duration": 24,
    "start_time": "2023-03-24T15:45:26.537Z"
   },
   {
    "duration": 20,
    "start_time": "2023-03-24T15:45:26.563Z"
   },
   {
    "duration": 473,
    "start_time": "2023-03-24T15:45:26.585Z"
   },
   {
    "duration": 305,
    "start_time": "2023-03-24T15:45:27.060Z"
   },
   {
    "duration": 419,
    "start_time": "2023-03-24T15:45:27.366Z"
   },
   {
    "duration": 432,
    "start_time": "2023-03-24T15:45:27.787Z"
   },
   {
    "duration": 29,
    "start_time": "2023-03-24T15:45:28.221Z"
   },
   {
    "duration": 15,
    "start_time": "2023-03-24T15:45:28.251Z"
   },
   {
    "duration": 13,
    "start_time": "2023-03-24T15:45:28.268Z"
   },
   {
    "duration": 8,
    "start_time": "2023-03-24T15:45:28.283Z"
   },
   {
    "duration": 75,
    "start_time": "2023-03-24T15:45:28.293Z"
   },
   {
    "duration": 2,
    "start_time": "2023-03-24T15:45:28.370Z"
   },
   {
    "duration": 20,
    "start_time": "2023-03-24T15:45:28.374Z"
   },
   {
    "duration": 6,
    "start_time": "2023-03-24T15:45:28.396Z"
   },
   {
    "duration": 18,
    "start_time": "2023-03-24T15:45:28.404Z"
   },
   {
    "duration": 15,
    "start_time": "2023-03-24T15:45:28.424Z"
   },
   {
    "duration": 16,
    "start_time": "2023-03-24T15:45:28.441Z"
   },
   {
    "duration": 634,
    "start_time": "2023-03-24T15:45:28.458Z"
   },
   {
    "duration": 620,
    "start_time": "2023-03-24T15:45:29.094Z"
   },
   {
    "duration": 765,
    "start_time": "2023-03-24T15:45:29.716Z"
   },
   {
    "duration": 1191,
    "start_time": "2023-03-24T15:52:31.578Z"
   },
   {
    "duration": 58,
    "start_time": "2023-03-24T15:52:32.771Z"
   },
   {
    "duration": 24,
    "start_time": "2023-03-24T15:52:32.831Z"
   },
   {
    "duration": 15,
    "start_time": "2023-03-24T15:52:32.857Z"
   },
   {
    "duration": 13,
    "start_time": "2023-03-24T15:52:32.875Z"
   },
   {
    "duration": 29,
    "start_time": "2023-03-24T15:52:32.889Z"
   },
   {
    "duration": 16,
    "start_time": "2023-03-24T15:52:32.919Z"
   },
   {
    "duration": 19,
    "start_time": "2023-03-24T15:52:32.936Z"
   },
   {
    "duration": 20,
    "start_time": "2023-03-24T15:52:32.957Z"
   },
   {
    "duration": 10,
    "start_time": "2023-03-24T15:52:32.979Z"
   },
   {
    "duration": 9,
    "start_time": "2023-03-24T15:52:32.991Z"
   },
   {
    "duration": 208,
    "start_time": "2023-03-24T15:52:33.001Z"
   },
   {
    "duration": 14,
    "start_time": "2023-03-24T15:52:33.211Z"
   },
   {
    "duration": 8,
    "start_time": "2023-03-24T15:52:33.235Z"
   },
   {
    "duration": 8,
    "start_time": "2023-03-24T15:52:33.245Z"
   },
   {
    "duration": 6,
    "start_time": "2023-03-24T15:52:33.254Z"
   },
   {
    "duration": 7,
    "start_time": "2023-03-24T15:52:33.262Z"
   },
   {
    "duration": 24,
    "start_time": "2023-03-24T15:52:33.271Z"
   },
   {
    "duration": 40,
    "start_time": "2023-03-24T15:52:33.297Z"
   },
   {
    "duration": 7,
    "start_time": "2023-03-24T15:52:33.339Z"
   },
   {
    "duration": 9,
    "start_time": "2023-03-24T15:52:33.347Z"
   },
   {
    "duration": 13,
    "start_time": "2023-03-24T15:52:33.358Z"
   },
   {
    "duration": 12,
    "start_time": "2023-03-24T15:52:33.373Z"
   },
   {
    "duration": 22,
    "start_time": "2023-03-24T15:52:33.387Z"
   },
   {
    "duration": 26,
    "start_time": "2023-03-24T15:52:33.410Z"
   },
   {
    "duration": 45,
    "start_time": "2023-03-24T15:52:33.437Z"
   },
   {
    "duration": 35,
    "start_time": "2023-03-24T15:52:33.484Z"
   },
   {
    "duration": 383,
    "start_time": "2023-03-24T15:52:33.533Z"
   },
   {
    "duration": 25,
    "start_time": "2023-03-24T15:52:33.918Z"
   },
   {
    "duration": 1285,
    "start_time": "2023-03-24T15:52:33.945Z"
   },
   {
    "duration": 21,
    "start_time": "2023-03-24T15:52:35.231Z"
   },
   {
    "duration": 14,
    "start_time": "2023-03-24T15:52:35.255Z"
   },
   {
    "duration": 263,
    "start_time": "2023-03-24T15:52:35.272Z"
   },
   {
    "duration": 7,
    "start_time": "2023-03-24T15:52:35.537Z"
   },
   {
    "duration": 307,
    "start_time": "2023-03-24T15:52:35.545Z"
   },
   {
    "duration": 3,
    "start_time": "2023-03-24T15:52:35.854Z"
   },
   {
    "duration": 386,
    "start_time": "2023-03-24T15:52:35.859Z"
   },
   {
    "duration": 271,
    "start_time": "2023-03-24T15:52:36.248Z"
   },
   {
    "duration": 820,
    "start_time": "2023-03-24T15:52:36.521Z"
   },
   {
    "duration": 176,
    "start_time": "2023-03-24T15:52:37.343Z"
   },
   {
    "duration": 193,
    "start_time": "2023-03-24T15:52:37.523Z"
   },
   {
    "duration": 24,
    "start_time": "2023-03-24T15:52:37.718Z"
   },
   {
    "duration": 26,
    "start_time": "2023-03-24T15:52:37.744Z"
   },
   {
    "duration": 28,
    "start_time": "2023-03-24T15:52:37.772Z"
   },
   {
    "duration": 30,
    "start_time": "2023-03-24T15:52:37.802Z"
   },
   {
    "duration": 391,
    "start_time": "2023-03-24T15:52:37.834Z"
   },
   {
    "duration": 304,
    "start_time": "2023-03-24T15:52:38.226Z"
   },
   {
    "duration": 413,
    "start_time": "2023-03-24T15:52:38.533Z"
   },
   {
    "duration": 438,
    "start_time": "2023-03-24T15:52:38.947Z"
   },
   {
    "duration": 22,
    "start_time": "2023-03-24T15:52:39.387Z"
   },
   {
    "duration": 28,
    "start_time": "2023-03-24T15:52:39.411Z"
   },
   {
    "duration": 19,
    "start_time": "2023-03-24T15:52:39.441Z"
   },
   {
    "duration": 16,
    "start_time": "2023-03-24T15:52:39.462Z"
   },
   {
    "duration": 69,
    "start_time": "2023-03-24T15:52:39.480Z"
   },
   {
    "duration": 4,
    "start_time": "2023-03-24T15:52:39.551Z"
   },
   {
    "duration": 11,
    "start_time": "2023-03-24T15:52:39.556Z"
   },
   {
    "duration": 19,
    "start_time": "2023-03-24T15:52:39.569Z"
   },
   {
    "duration": 10,
    "start_time": "2023-03-24T15:52:39.590Z"
   },
   {
    "duration": 15,
    "start_time": "2023-03-24T15:52:39.602Z"
   },
   {
    "duration": 7,
    "start_time": "2023-03-24T15:52:39.619Z"
   },
   {
    "duration": 676,
    "start_time": "2023-03-24T15:52:39.628Z"
   },
   {
    "duration": 631,
    "start_time": "2023-03-24T15:52:40.306Z"
   },
   {
    "duration": 746,
    "start_time": "2023-03-24T15:52:40.939Z"
   },
   {
    "duration": 1197,
    "start_time": "2023-03-24T15:56:20.481Z"
   },
   {
    "duration": 60,
    "start_time": "2023-03-24T15:56:21.680Z"
   },
   {
    "duration": 22,
    "start_time": "2023-03-24T15:56:21.741Z"
   },
   {
    "duration": 14,
    "start_time": "2023-03-24T15:56:21.766Z"
   },
   {
    "duration": 3,
    "start_time": "2023-03-24T15:56:21.782Z"
   },
   {
    "duration": 14,
    "start_time": "2023-03-24T15:56:21.786Z"
   },
   {
    "duration": 40,
    "start_time": "2023-03-24T15:56:21.802Z"
   },
   {
    "duration": 9,
    "start_time": "2023-03-24T15:56:21.843Z"
   },
   {
    "duration": 13,
    "start_time": "2023-03-24T15:56:21.854Z"
   },
   {
    "duration": 11,
    "start_time": "2023-03-24T15:56:21.870Z"
   },
   {
    "duration": 13,
    "start_time": "2023-03-24T15:56:21.882Z"
   },
   {
    "duration": 196,
    "start_time": "2023-03-24T15:56:21.897Z"
   },
   {
    "duration": 15,
    "start_time": "2023-03-24T15:56:22.095Z"
   },
   {
    "duration": 22,
    "start_time": "2023-03-24T15:56:22.111Z"
   },
   {
    "duration": 12,
    "start_time": "2023-03-24T15:56:22.136Z"
   },
   {
    "duration": 9,
    "start_time": "2023-03-24T15:56:22.150Z"
   },
   {
    "duration": 8,
    "start_time": "2023-03-24T15:56:22.162Z"
   },
   {
    "duration": 26,
    "start_time": "2023-03-24T15:56:22.172Z"
   },
   {
    "duration": 35,
    "start_time": "2023-03-24T15:56:22.199Z"
   },
   {
    "duration": 5,
    "start_time": "2023-03-24T15:56:22.236Z"
   },
   {
    "duration": 7,
    "start_time": "2023-03-24T15:56:22.243Z"
   },
   {
    "duration": 8,
    "start_time": "2023-03-24T15:56:22.251Z"
   },
   {
    "duration": 11,
    "start_time": "2023-03-24T15:56:22.261Z"
   },
   {
    "duration": 20,
    "start_time": "2023-03-24T15:56:22.274Z"
   },
   {
    "duration": 15,
    "start_time": "2023-03-24T15:56:22.296Z"
   },
   {
    "duration": 44,
    "start_time": "2023-03-24T15:56:22.334Z"
   },
   {
    "duration": 54,
    "start_time": "2023-03-24T15:56:22.379Z"
   },
   {
    "duration": 405,
    "start_time": "2023-03-24T15:56:22.439Z"
   },
   {
    "duration": 19,
    "start_time": "2023-03-24T15:56:22.846Z"
   },
   {
    "duration": 1225,
    "start_time": "2023-03-24T15:56:22.867Z"
   },
   {
    "duration": 19,
    "start_time": "2023-03-24T15:56:24.095Z"
   },
   {
    "duration": 20,
    "start_time": "2023-03-24T15:56:24.116Z"
   },
   {
    "duration": 238,
    "start_time": "2023-03-24T15:56:24.138Z"
   },
   {
    "duration": 7,
    "start_time": "2023-03-24T15:56:24.377Z"
   },
   {
    "duration": 311,
    "start_time": "2023-03-24T15:56:24.386Z"
   },
   {
    "duration": 3,
    "start_time": "2023-03-24T15:56:24.699Z"
   },
   {
    "duration": 366,
    "start_time": "2023-03-24T15:56:24.703Z"
   },
   {
    "duration": 270,
    "start_time": "2023-03-24T15:56:25.072Z"
   },
   {
    "duration": 753,
    "start_time": "2023-03-24T15:56:25.345Z"
   },
   {
    "duration": 192,
    "start_time": "2023-03-24T15:56:26.099Z"
   },
   {
    "duration": 193,
    "start_time": "2023-03-24T15:56:26.293Z"
   },
   {
    "duration": 13,
    "start_time": "2023-03-24T15:56:26.488Z"
   },
   {
    "duration": 31,
    "start_time": "2023-03-24T15:56:26.503Z"
   },
   {
    "duration": 17,
    "start_time": "2023-03-24T15:56:26.536Z"
   },
   {
    "duration": 55,
    "start_time": "2023-03-24T15:56:26.555Z"
   },
   {
    "duration": 432,
    "start_time": "2023-03-24T15:56:26.612Z"
   },
   {
    "duration": 306,
    "start_time": "2023-03-24T15:56:27.046Z"
   },
   {
    "duration": 455,
    "start_time": "2023-03-24T15:56:27.354Z"
   },
   {
    "duration": 444,
    "start_time": "2023-03-24T15:56:27.811Z"
   },
   {
    "duration": 26,
    "start_time": "2023-03-24T15:56:28.258Z"
   },
   {
    "duration": 14,
    "start_time": "2023-03-24T15:56:28.286Z"
   },
   {
    "duration": 38,
    "start_time": "2023-03-24T15:56:28.302Z"
   },
   {
    "duration": 7,
    "start_time": "2023-03-24T15:56:28.342Z"
   },
   {
    "duration": 62,
    "start_time": "2023-03-24T15:56:28.351Z"
   },
   {
    "duration": 3,
    "start_time": "2023-03-24T15:56:28.415Z"
   },
   {
    "duration": 14,
    "start_time": "2023-03-24T15:56:28.420Z"
   },
   {
    "duration": 10,
    "start_time": "2023-03-24T15:56:28.436Z"
   },
   {
    "duration": 11,
    "start_time": "2023-03-24T15:56:28.448Z"
   },
   {
    "duration": 8,
    "start_time": "2023-03-24T15:56:28.461Z"
   },
   {
    "duration": 8,
    "start_time": "2023-03-24T15:56:28.470Z"
   },
   {
    "duration": 641,
    "start_time": "2023-03-24T15:56:28.480Z"
   },
   {
    "duration": 701,
    "start_time": "2023-03-24T15:56:29.123Z"
   },
   {
    "duration": 834,
    "start_time": "2023-03-24T15:56:29.825Z"
   }
  ],
  "kernelspec": {
   "display_name": "Python 3 (ipykernel)",
   "language": "python",
   "name": "python3"
  },
  "language_info": {
   "codemirror_mode": {
    "name": "ipython",
    "version": 3
   },
   "file_extension": ".py",
   "mimetype": "text/x-python",
   "name": "python",
   "nbconvert_exporter": "python",
   "pygments_lexer": "ipython3",
   "version": "3.11.3"
  },
  "toc": {
   "base_numbering": 1,
   "nav_menu": {},
   "number_sections": true,
   "sideBar": true,
   "skip_h1_title": true,
   "title_cell": "Table of Contents",
   "title_sidebar": "Contents",
   "toc_cell": false,
   "toc_position": {},
   "toc_section_display": true,
   "toc_window_display": false
  }
 },
 "nbformat": 4,
 "nbformat_minor": 2
}
