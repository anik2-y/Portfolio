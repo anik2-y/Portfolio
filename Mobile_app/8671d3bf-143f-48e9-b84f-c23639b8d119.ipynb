{
 "cells": [
  {
   "cell_type": "markdown",
   "metadata": {},
   "source": [
    "# Мобильное приложение. Метрики по сегментам и A / B тесты."
   ]
  },
  {
   "cell_type": "markdown",
   "metadata": {},
   "source": [
    "## Цели и задачи исследования"
   ]
  },
  {
   "cell_type": "markdown",
   "metadata": {},
   "source": [
    "1. Провести исследования датасета, содержащего данные о пользовательских сессиях мобильного приложения. Выделить метрики, характеризующие поведение пользователей. Сегментировать пользователей на основании действий и оценить особенности основных метрик в разбивке по сегментам.\n",
    "2. Проверить статистические гипотезы на основании результатов A/B тестов."
   ]
  },
  {
   "cell_type": "markdown",
   "metadata": {},
   "source": [
    "# Ознакомление с данными"
   ]
  },
  {
   "cell_type": "code",
   "execution_count": 46,
   "metadata": {},
   "outputs": [],
   "source": [
    "import pandas as pd\n",
    "from datetime import datetime, timedelta\n",
    "import matplotlib.pyplot as plt\n",
    "import seaborn as sns\n",
    "import math as mth\n",
    "import scipy.stats as st"
   ]
  },
  {
   "cell_type": "code",
   "execution_count": 47,
   "metadata": {},
   "outputs": [],
   "source": [
    "dataset = pd.read_csv('***')\n",
    "sources = pd.read_csv('***')"
   ]
  },
  {
   "cell_type": "code",
   "execution_count": 48,
   "metadata": {
    "scrolled": false
   },
   "outputs": [
    {
     "name": "stdout",
     "output_type": "stream",
     "text": [
      "<class 'pandas.core.frame.DataFrame'>\n",
      "RangeIndex: 74197 entries, 0 to 74196\n",
      "Data columns (total 3 columns):\n",
      " #   Column      Non-Null Count  Dtype \n",
      "---  ------      --------------  ----- \n",
      " 0   event.time  74197 non-null  object\n",
      " 1   event.name  74197 non-null  object\n",
      " 2   user.id     74197 non-null  object\n",
      "dtypes: object(3)\n",
      "memory usage: 1.7+ MB\n",
      "\n",
      "                   event.time   event.name  \\\n",
      "0  2019-10-07 00:00:00.431357  advert_open   \n",
      "1  2019-10-07 00:00:01.236320    tips_show   \n",
      "2  2019-10-07 00:00:02.245341    tips_show   \n",
      "3  2019-10-07 00:00:07.039334    tips_show   \n",
      "4  2019-10-07 00:00:56.319813  advert_open   \n",
      "\n",
      "                                user.id  \n",
      "0  020292ab-89bc-4156-9acf-68bc2783f894  \n",
      "1  020292ab-89bc-4156-9acf-68bc2783f894  \n",
      "2  cf7eda61-9349-469f-ac27-e5b6f5ec475c  \n",
      "3  020292ab-89bc-4156-9acf-68bc2783f894  \n",
      "4  cf7eda61-9349-469f-ac27-e5b6f5ec475c  \n"
     ]
    }
   ],
   "source": [
    "dataset.info()\n",
    "print()\n",
    "print(dataset.head())"
   ]
  },
  {
   "cell_type": "code",
   "execution_count": 49,
   "metadata": {
    "scrolled": true
   },
   "outputs": [
    {
     "data": {
      "text/plain": [
       "min    2019-10-07 00:00:00.431357\n",
       "max    2019-11-03 23:58:12.532487\n",
       "Name: event.time, dtype: object"
      ]
     },
     "execution_count": 49,
     "metadata": {},
     "output_type": "execute_result"
    }
   ],
   "source": [
    "dataset['event.time'].agg({'max', 'min'})"
   ]
  },
  {
   "cell_type": "markdown",
   "metadata": {},
   "source": [
    "**ВЫВОДЫ**\n",
    "\n",
    "Датасет содержит данные о пользовательских сессиях за 28 дней (4 недели)."
   ]
  },
  {
   "cell_type": "code",
   "execution_count": 50,
   "metadata": {
    "scrolled": true
   },
   "outputs": [
    {
     "name": "stdout",
     "output_type": "stream",
     "text": [
      "<class 'pandas.core.frame.DataFrame'>\n",
      "RangeIndex: 4293 entries, 0 to 4292\n",
      "Data columns (total 2 columns):\n",
      " #   Column  Non-Null Count  Dtype \n",
      "---  ------  --------------  ----- \n",
      " 0   userId  4293 non-null   object\n",
      " 1   source  4293 non-null   object\n",
      "dtypes: object(2)\n",
      "memory usage: 67.2+ KB\n",
      "\n",
      "                                 userId  source\n",
      "0  020292ab-89bc-4156-9acf-68bc2783f894   other\n",
      "1  cf7eda61-9349-469f-ac27-e5b6f5ec475c  yandex\n",
      "2  8c356c42-3ba9-4cb6-80b8-3f868d0192c3  yandex\n",
      "3  d9b06b47-0f36-419b-bbb0-3533e582a6cb   other\n",
      "4  f32e1e2a-3027-4693-b793-b7b3ff274439  google\n"
     ]
    }
   ],
   "source": [
    "sources.info()\n",
    "print()\n",
    "print(sources.head())"
   ]
  },
  {
   "cell_type": "markdown",
   "metadata": {},
   "source": [
    "**ВЫВОДЫ**\n",
    "\n",
    "Датасеты содержат информацию о 74197 пользовательских сессиях и о 4293 пользователях и их источниках. Можно произвести объединение таблиц по столбцу \"идентификатор пользователя\"."
   ]
  },
  {
   "cell_type": "markdown",
   "metadata": {},
   "source": [
    "# Предобработка данных"
   ]
  },
  {
   "cell_type": "markdown",
   "metadata": {},
   "source": [
    "## Объединение таблиц"
   ]
  },
  {
   "cell_type": "code",
   "execution_count": 51,
   "metadata": {
    "scrolled": true
   },
   "outputs": [
    {
     "name": "stdout",
     "output_type": "stream",
     "text": [
      "<class 'pandas.core.frame.DataFrame'>\n",
      "Int64Index: 74197 entries, 0 to 74196\n",
      "Data columns (total 4 columns):\n",
      " #   Column      Non-Null Count  Dtype \n",
      "---  ------      --------------  ----- \n",
      " 0   event.time  74197 non-null  object\n",
      " 1   event.name  74197 non-null  object\n",
      " 2   user.id     74197 non-null  object\n",
      " 3   source      74197 non-null  object\n",
      "dtypes: object(4)\n",
      "memory usage: 2.8+ MB\n"
     ]
    }
   ],
   "source": [
    "data = dataset.merge(sources, left_on='user.id', right_on='userId', how = 'left').drop(columns='userId')\n",
    "data.info()"
   ]
  },
  {
   "cell_type": "markdown",
   "metadata": {},
   "source": [
    "**ВЫВОДЫ**\n",
    "\n",
    "Столбец `event.time` содержит некорректный тип данных."
   ]
  },
  {
   "cell_type": "markdown",
   "metadata": {},
   "source": [
    "## Единый стиль, поиск дубликатов и пропусков"
   ]
  },
  {
   "cell_type": "code",
   "execution_count": 52,
   "metadata": {},
   "outputs": [],
   "source": [
    "# Приводим названия столбцов к общепринятому стилю\n",
    "data = data.rename(columns={'event.time': 'event_time', 'event.name': 'event_name', 'user.id': 'user_id'})"
   ]
  },
  {
   "cell_type": "code",
   "execution_count": 53,
   "metadata": {},
   "outputs": [
    {
     "data": {
      "text/plain": [
       "0"
      ]
     },
     "execution_count": 53,
     "metadata": {},
     "output_type": "execute_result"
    }
   ],
   "source": [
    "data.duplicated().sum()"
   ]
  },
  {
   "cell_type": "code",
   "execution_count": 54,
   "metadata": {},
   "outputs": [
    {
     "data": {
      "text/plain": [
       "event_time    0\n",
       "event_name    0\n",
       "user_id       0\n",
       "source        0\n",
       "dtype: int64"
      ]
     },
     "execution_count": 54,
     "metadata": {},
     "output_type": "execute_result"
    }
   ],
   "source": [
    "data.isna().sum()"
   ]
  },
  {
   "cell_type": "markdown",
   "metadata": {},
   "source": [
    "**ВЫВОДЫ**\n",
    "\n",
    "Целострочные дубликаты и пропуски отсутствуют"
   ]
  },
  {
   "cell_type": "markdown",
   "metadata": {},
   "source": [
    "## Приведение данных к нужному типу"
   ]
  },
  {
   "cell_type": "markdown",
   "metadata": {},
   "source": [
    "### Приведение времени к нужному типу данных"
   ]
  },
  {
   "cell_type": "code",
   "execution_count": 55,
   "metadata": {},
   "outputs": [],
   "source": [
    "data['event_time'] = pd.to_datetime(data['event_time'], format='%Y-%m-%d %H:%M:%S.%f').round('S')"
   ]
  },
  {
   "cell_type": "markdown",
   "metadata": {},
   "source": [
    "### Повторый поиск дубликатов и их удаление"
   ]
  },
  {
   "cell_type": "code",
   "execution_count": 56,
   "metadata": {
    "scrolled": false
   },
   "outputs": [
    {
     "data": {
      "text/plain": [
       "1118"
      ]
     },
     "execution_count": 56,
     "metadata": {},
     "output_type": "execute_result"
    }
   ],
   "source": [
    "data.duplicated().sum()"
   ]
  },
  {
   "cell_type": "markdown",
   "metadata": {},
   "source": [
    "**ВЫВОДЫ**\n",
    "\n",
    "В результате округления времени событий с точностью до секунд в данных появились целострочные дубликаты."
   ]
  },
  {
   "cell_type": "code",
   "execution_count": 57,
   "metadata": {},
   "outputs": [
    {
     "data": {
      "text/plain": [
       "0.985"
      ]
     },
     "execution_count": 57,
     "metadata": {},
     "output_type": "execute_result"
    }
   ],
   "source": [
    "round(data.drop_duplicates().shape[0] / data.shape[0], 3)"
   ]
  },
  {
   "cell_type": "markdown",
   "metadata": {},
   "source": [
    "**ВЫВОДЫ**\n",
    "\n",
    "Маловероятно что пользователь делал осмысленные однотипные действия с интервалом менее 1ой секунды. Поэтому будем считатать однотипные действия пользователя с интервалом менее 1ой секунды за 1 действие. То есть выявленные дубликаты удаляем. В результате удаления дубликатов будет отброшено 1.5% данных."
   ]
  },
  {
   "cell_type": "code",
   "execution_count": 58,
   "metadata": {},
   "outputs": [],
   "source": [
    "data = data.drop_duplicates().reset_index(drop=True)"
   ]
  },
  {
   "cell_type": "markdown",
   "metadata": {},
   "source": [
    "## Установление единого значения для синонимов"
   ]
  },
  {
   "cell_type": "code",
   "execution_count": 59,
   "metadata": {},
   "outputs": [
    {
     "data": {
      "text/plain": [
       "array(['other', 'yandex', 'google'], dtype=object)"
      ]
     },
     "execution_count": 59,
     "metadata": {},
     "output_type": "execute_result"
    }
   ],
   "source": [
    "data['source'].unique()"
   ]
  },
  {
   "cell_type": "code",
   "execution_count": 60,
   "metadata": {
    "scrolled": false
   },
   "outputs": [
    {
     "data": {
      "text/plain": [
       "array(['advert_open', 'tips_show', 'map', 'contacts_show', 'search_4',\n",
       "       'search_5', 'tips_click', 'photos_show', 'search_1', 'search_2',\n",
       "       'search_3', 'favorites_add', 'contacts_call', 'search_6',\n",
       "       'search_7', 'show_contacts'], dtype=object)"
      ]
     },
     "execution_count": 60,
     "metadata": {},
     "output_type": "execute_result"
    }
   ],
   "source": [
    "data['event_name'].unique()"
   ]
  },
  {
   "cell_type": "markdown",
   "metadata": {},
   "source": [
    "**ВЫВОДЫ**\n",
    "\n",
    "Обнаружены синонимы `contacts_show` и `show_contacts`. Установим для них единое значение."
   ]
  },
  {
   "cell_type": "code",
   "execution_count": 61,
   "metadata": {
    "scrolled": true
   },
   "outputs": [
    {
     "data": {
      "text/plain": [
       "array(['advert_open', 'tips_show', 'map', 'contacts_show', 'search_4',\n",
       "       'search_5', 'tips_click', 'photos_show', 'search_1', 'search_2',\n",
       "       'search_3', 'favorites_add', 'contacts_call', 'search_6',\n",
       "       'search_7'], dtype=object)"
      ]
     },
     "execution_count": 61,
     "metadata": {},
     "output_type": "execute_result"
    }
   ],
   "source": [
    "data['event_name'] = data['event_name'].replace('show_contacts', 'contacts_show')\n",
    "data['event_name'].unique()"
   ]
  },
  {
   "cell_type": "markdown",
   "metadata": {},
   "source": [
    "**ВЫВОДЫ**\n",
    "\n",
    "Предоставленные данные позволяют провести полноценное исследование. Данные полные. Заказчику рекомендуется обеспечить единый стиль в названиях столбцов, аналогичный стилю написания действий. А также использовать вместо синонимов единое значение."
   ]
  },
  {
   "cell_type": "markdown",
   "metadata": {},
   "source": [
    "# Исследовательский анализ данных"
   ]
  },
  {
   "cell_type": "markdown",
   "metadata": {},
   "source": [
    "## Расчет метрики `retention rate`"
   ]
  },
  {
   "cell_type": "markdown",
   "metadata": {},
   "source": [
    "Произведем расчет метрик в разрезе недель с целью укрупнения и сглаживания данных о динамике метрик. Для этого создадим столбец с номером недели (использована нумерация недель с начала года)."
   ]
  },
  {
   "cell_type": "code",
   "execution_count": 62,
   "metadata": {
    "scrolled": true
   },
   "outputs": [
    {
     "data": {
      "text/html": [
       "<div>\n",
       "<style scoped>\n",
       "    .dataframe tbody tr th:only-of-type {\n",
       "        vertical-align: middle;\n",
       "    }\n",
       "\n",
       "    .dataframe tbody tr th {\n",
       "        vertical-align: top;\n",
       "    }\n",
       "\n",
       "    .dataframe thead th {\n",
       "        text-align: right;\n",
       "    }\n",
       "</style>\n",
       "<table border=\"1\" class=\"dataframe\">\n",
       "  <thead>\n",
       "    <tr style=\"text-align: right;\">\n",
       "      <th></th>\n",
       "      <th>event_time</th>\n",
       "      <th>event_name</th>\n",
       "      <th>user_id</th>\n",
       "      <th>source</th>\n",
       "      <th>first_ts</th>\n",
       "      <th>week</th>\n",
       "    </tr>\n",
       "  </thead>\n",
       "  <tbody>\n",
       "    <tr>\n",
       "      <th>0</th>\n",
       "      <td>2019-10-07 00:00:00</td>\n",
       "      <td>advert_open</td>\n",
       "      <td>020292ab-89bc-4156-9acf-68bc2783f894</td>\n",
       "      <td>other</td>\n",
       "      <td>2019-10-07 00:00:00</td>\n",
       "      <td>41</td>\n",
       "    </tr>\n",
       "    <tr>\n",
       "      <th>1</th>\n",
       "      <td>2019-10-07 00:00:01</td>\n",
       "      <td>tips_show</td>\n",
       "      <td>020292ab-89bc-4156-9acf-68bc2783f894</td>\n",
       "      <td>other</td>\n",
       "      <td>2019-10-07 00:00:00</td>\n",
       "      <td>41</td>\n",
       "    </tr>\n",
       "    <tr>\n",
       "      <th>2</th>\n",
       "      <td>2019-10-07 00:00:02</td>\n",
       "      <td>tips_show</td>\n",
       "      <td>cf7eda61-9349-469f-ac27-e5b6f5ec475c</td>\n",
       "      <td>yandex</td>\n",
       "      <td>2019-10-07 00:00:02</td>\n",
       "      <td>41</td>\n",
       "    </tr>\n",
       "    <tr>\n",
       "      <th>3</th>\n",
       "      <td>2019-10-07 00:00:07</td>\n",
       "      <td>tips_show</td>\n",
       "      <td>020292ab-89bc-4156-9acf-68bc2783f894</td>\n",
       "      <td>other</td>\n",
       "      <td>2019-10-07 00:00:00</td>\n",
       "      <td>41</td>\n",
       "    </tr>\n",
       "    <tr>\n",
       "      <th>4</th>\n",
       "      <td>2019-10-07 00:00:56</td>\n",
       "      <td>advert_open</td>\n",
       "      <td>cf7eda61-9349-469f-ac27-e5b6f5ec475c</td>\n",
       "      <td>yandex</td>\n",
       "      <td>2019-10-07 00:00:02</td>\n",
       "      <td>41</td>\n",
       "    </tr>\n",
       "  </tbody>\n",
       "</table>\n",
       "</div>"
      ],
      "text/plain": [
       "           event_time   event_name                               user_id  \\\n",
       "0 2019-10-07 00:00:00  advert_open  020292ab-89bc-4156-9acf-68bc2783f894   \n",
       "1 2019-10-07 00:00:01    tips_show  020292ab-89bc-4156-9acf-68bc2783f894   \n",
       "2 2019-10-07 00:00:02    tips_show  cf7eda61-9349-469f-ac27-e5b6f5ec475c   \n",
       "3 2019-10-07 00:00:07    tips_show  020292ab-89bc-4156-9acf-68bc2783f894   \n",
       "4 2019-10-07 00:00:56  advert_open  cf7eda61-9349-469f-ac27-e5b6f5ec475c   \n",
       "\n",
       "   source            first_ts  week  \n",
       "0   other 2019-10-07 00:00:00    41  \n",
       "1   other 2019-10-07 00:00:00    41  \n",
       "2  yandex 2019-10-07 00:00:02    41  \n",
       "3   other 2019-10-07 00:00:00    41  \n",
       "4  yandex 2019-10-07 00:00:02    41  "
      ]
     },
     "execution_count": 62,
     "metadata": {},
     "output_type": "execute_result"
    }
   ],
   "source": [
    "first_ts = data.groupby('user_id')['event_time'].min().reset_index()\n",
    "data = (\n",
    "    data.merge(first_ts, left_on='user_id', right_on='user_id', how = 'left')\n",
    "    .rename(columns={'event_time_x': 'event_time', 'event_time_y': 'first_ts'})\n",
    ")\n",
    "data['week'] = data['event_time'].dt.isocalendar().week\n",
    "data.head()"
   ]
  },
  {
   "cell_type": "code",
   "execution_count": 63,
   "metadata": {},
   "outputs": [],
   "source": [
    "def get_retention(\n",
    "    data,\n",
    "    observation_date,\n",
    "    horizon_days,\n",
    "    dimensions=[],  # новый параметр dimensions\n",
    "    ignore_horizon=False,\n",
    "):\n",
    "\n",
    "    # исключаем пользователей, не «доживших» до горизонта анализа\n",
    "    last_suitable_acquisition_date = observation_date\n",
    "    if not ignore_horizon:\n",
    "        last_suitable_acquisition_date = observation_date - timedelta(\n",
    "            days=horizon_days - 1\n",
    "        )\n",
    "    result_raw = data.query('event_time.dt.date <= @last_suitable_acquisition_date')\n",
    "\n",
    "    # собираем «сырые» данные для расчёта удержания\n",
    "    \n",
    "    pd.options.mode.chained_assignment = None\n",
    "    \n",
    "    result_raw['lifetime'] = (\n",
    "        result_raw['event_time'] - result_raw['first_ts']\n",
    "    ).dt.days\n",
    "   \n",
    "    # рассчитываем удержание\n",
    "    # новый вариант с dimensions\n",
    "    result_grouped = result_raw.pivot_table(\n",
    "        index=dimensions,  # заменили dt\n",
    "        columns='lifetime',\n",
    "        values='user_id',\n",
    "        aggfunc='nunique',\n",
    "    )\n",
    "    cohort_sizes = (\n",
    "        result_raw.groupby(dimensions)  # заменили dt\n",
    "        .agg({'user_id': 'nunique'})\n",
    "        .rename(columns={'user_id': 'cohort_size'})\n",
    "    )\n",
    "    result_grouped = cohort_sizes.merge(\n",
    "        result_grouped, on=dimensions, how='left'  # заменили dt\n",
    "    ).fillna(0)\n",
    "    result_grouped = result_grouped.div(result_grouped['cohort_size'], axis=0)\n",
    "\n",
    "    # исключаем все лайфтаймы, превышающие горизонт анализа\n",
    "    result_grouped = result_grouped[\n",
    "        ['cohort_size'] + list(range(horizon_days))\n",
    "    ]\n",
    "\n",
    "    # восстанавливаем столбец с размерами когорт\n",
    "    result_grouped['cohort_size'] = cohort_sizes\n",
    "\n",
    "    # возвращаем таблицу удержания и сырые данные\n",
    "    return result_raw, result_grouped"
   ]
  },
  {
   "cell_type": "code",
   "execution_count": 64,
   "metadata": {
    "scrolled": false
   },
   "outputs": [
    {
     "data": {
      "image/png": "[encoded data removed]",
      "text/plain": [
       "<Figure size 1080x432 with 2 Axes>"
      ]
     },
     "metadata": {},
     "output_type": "display_data"
    }
   ],
   "source": [
    "retention_raw, retention = get_retention(\n",
    "    data, data['event_time'].dt.date.max(), 7, dimensions=['week']\n",
    ")  # передаём dt в качестве параметра dimensions\n",
    "\n",
    "# строим тепловую карту\n",
    "plt.figure(figsize=(15, 6))\n",
    "sns.heatmap(retention.drop(columns=['cohort_size', 0]), annot=True, fmt='.2%')\n",
    "plt.title('Тепловая карта удержания \\n', fontsize=14)\n",
    "plt.xlabel('Дни (начиная со 2-го)')\n",
    "plt.ylabel('Недели')\n",
    "plt.show()"
   ]
  },
  {
   "cell_type": "markdown",
   "metadata": {},
   "source": [
    "**ВЫВОДЫ**\n",
    "\n",
    "Был выбран горизонт расчета метрики - 7 дней. Такой горизонт позволяет оценить динамику метрики `retention rate` за все 4 недели доступных в датасете данных.\n",
    "Лидером по удержанию пользователей является 2ая неделя, однако к 7му дню метрики 2ой и 3ей недель сравникаются.\n",
    "Худший результат по удержанию показала 1ая неделя."
   ]
  },
  {
   "cell_type": "markdown",
   "metadata": {},
   "source": [
    "## Расчет метрики \"время, проведенное в приложении\""
   ]
  },
  {
   "cell_type": "markdown",
   "metadata": {},
   "source": [
    "Для расчета метрики необходимо рассчитать продолжительность сессий пользователей. Под сессией будем понимать время между двумя действиями пользователя в приложении с учетом максимально возможной продолжительности сессии."
   ]
  },
  {
   "cell_type": "code",
   "execution_count": 65,
   "metadata": {},
   "outputs": [],
   "source": [
    "# Установливаем максимально возможную продолжительность сессии\n",
    "s_max = 300"
   ]
  },
  {
   "cell_type": "code",
   "execution_count": 66,
   "metadata": {},
   "outputs": [],
   "source": [
    "data['duration'] = (\n",
    "    (data.sort_values(['user_id', 'event_time'])['event_time'].astype('int64') / 10**9) # Перевели время в секунды\n",
    "    .iloc[::-1]\n",
    "    .rolling(2).apply(lambda x: s_max if (x.iloc[0] - x.iloc[1]) > s_max else (x.iloc[0] - x.iloc[1]))\n",
    ")"
   ]
  },
  {
   "cell_type": "code",
   "execution_count": 67,
   "metadata": {},
   "outputs": [],
   "source": [
    "# Применяем максимально возможную продолжительность сессии для последних сессий пользователей\n",
    "data['duration'] = data['duration'].fillna(s_max)\n",
    "df = data.sort_values(['user_id', 'event_time']).reset_index()\n",
    "for i in range(len(data) - 1):\n",
    "    if df.loc[i, 'user_id'] != df.loc[i+1, 'user_id']:\n",
    "        data.loc[df.loc[i, 'index'], 'duration'] = s_max"
   ]
  },
  {
   "cell_type": "code",
   "execution_count": 68,
   "metadata": {
    "scrolled": true
   },
   "outputs": [
    {
     "data": {
      "text/html": [
       "<div>\n",
       "<style scoped>\n",
       "    .dataframe tbody tr th:only-of-type {\n",
       "        vertical-align: middle;\n",
       "    }\n",
       "\n",
       "    .dataframe tbody tr th {\n",
       "        vertical-align: top;\n",
       "    }\n",
       "\n",
       "    .dataframe thead th {\n",
       "        text-align: right;\n",
       "    }\n",
       "</style>\n",
       "<table border=\"1\" class=\"dataframe\">\n",
       "  <thead>\n",
       "    <tr style=\"text-align: right;\">\n",
       "      <th></th>\n",
       "      <th>event_time</th>\n",
       "      <th>event_name</th>\n",
       "      <th>user_id</th>\n",
       "      <th>source</th>\n",
       "      <th>first_ts</th>\n",
       "      <th>week</th>\n",
       "      <th>duration</th>\n",
       "    </tr>\n",
       "  </thead>\n",
       "  <tbody>\n",
       "    <tr>\n",
       "      <th>0</th>\n",
       "      <td>2019-10-07 00:00:00</td>\n",
       "      <td>advert_open</td>\n",
       "      <td>020292ab-89bc-4156-9acf-68bc2783f894</td>\n",
       "      <td>other</td>\n",
       "      <td>2019-10-07 00:00:00</td>\n",
       "      <td>41</td>\n",
       "      <td>1.0</td>\n",
       "    </tr>\n",
       "    <tr>\n",
       "      <th>1</th>\n",
       "      <td>2019-10-07 00:00:01</td>\n",
       "      <td>tips_show</td>\n",
       "      <td>020292ab-89bc-4156-9acf-68bc2783f894</td>\n",
       "      <td>other</td>\n",
       "      <td>2019-10-07 00:00:00</td>\n",
       "      <td>41</td>\n",
       "      <td>6.0</td>\n",
       "    </tr>\n",
       "    <tr>\n",
       "      <th>2</th>\n",
       "      <td>2019-10-07 00:00:02</td>\n",
       "      <td>tips_show</td>\n",
       "      <td>cf7eda61-9349-469f-ac27-e5b6f5ec475c</td>\n",
       "      <td>yandex</td>\n",
       "      <td>2019-10-07 00:00:02</td>\n",
       "      <td>41</td>\n",
       "      <td>54.0</td>\n",
       "    </tr>\n",
       "    <tr>\n",
       "      <th>3</th>\n",
       "      <td>2019-10-07 00:00:07</td>\n",
       "      <td>tips_show</td>\n",
       "      <td>020292ab-89bc-4156-9acf-68bc2783f894</td>\n",
       "      <td>other</td>\n",
       "      <td>2019-10-07 00:00:00</td>\n",
       "      <td>41</td>\n",
       "      <td>81.0</td>\n",
       "    </tr>\n",
       "    <tr>\n",
       "      <th>4</th>\n",
       "      <td>2019-10-07 00:00:56</td>\n",
       "      <td>advert_open</td>\n",
       "      <td>cf7eda61-9349-469f-ac27-e5b6f5ec475c</td>\n",
       "      <td>yandex</td>\n",
       "      <td>2019-10-07 00:00:02</td>\n",
       "      <td>41</td>\n",
       "      <td>24.0</td>\n",
       "    </tr>\n",
       "  </tbody>\n",
       "</table>\n",
       "</div>"
      ],
      "text/plain": [
       "           event_time   event_name                               user_id  \\\n",
       "0 2019-10-07 00:00:00  advert_open  020292ab-89bc-4156-9acf-68bc2783f894   \n",
       "1 2019-10-07 00:00:01    tips_show  020292ab-89bc-4156-9acf-68bc2783f894   \n",
       "2 2019-10-07 00:00:02    tips_show  cf7eda61-9349-469f-ac27-e5b6f5ec475c   \n",
       "3 2019-10-07 00:00:07    tips_show  020292ab-89bc-4156-9acf-68bc2783f894   \n",
       "4 2019-10-07 00:00:56  advert_open  cf7eda61-9349-469f-ac27-e5b6f5ec475c   \n",
       "\n",
       "   source            first_ts  week  duration  \n",
       "0   other 2019-10-07 00:00:00    41       1.0  \n",
       "1   other 2019-10-07 00:00:00    41       6.0  \n",
       "2  yandex 2019-10-07 00:00:02    41      54.0  \n",
       "3   other 2019-10-07 00:00:00    41      81.0  \n",
       "4  yandex 2019-10-07 00:00:02    41      24.0  "
      ]
     },
     "execution_count": 68,
     "metadata": {},
     "output_type": "execute_result"
    }
   ],
   "source": [
    "data.head()"
   ]
  },
  {
   "cell_type": "markdown",
   "metadata": {},
   "source": [
    "**ВЫВОДЫ**\n",
    "\n",
    "Продолжительность сессии рассчитывается как время до следующей сессии того же пользователя. Если это время больше установленного максимально возможного времени сессии, то ставится максимально возможное время.\n",
    "Максимально возможное время сессии было выбрано 300 секунд как предполагаемо достаточное для данного вида сервисов.  "
   ]
  },
  {
   "cell_type": "code",
   "execution_count": 69,
   "metadata": {},
   "outputs": [],
   "source": [
    "df = pd.pivot_table(\n",
    "    data,\n",
    "    index='user_id',\n",
    "    values='duration',\n",
    "    aggfunc='sum'\n",
    ")\n",
    "df['duration'] = df['duration'] / 60"
   ]
  },
  {
   "cell_type": "code",
   "execution_count": 70,
   "metadata": {
    "scrolled": true
   },
   "outputs": [
    {
     "data": {
      "image/png": "[encoded data removed]",
      "text/plain": [
       "<Figure size 1080x288 with 1 Axes>"
      ]
     },
     "metadata": {},
     "output_type": "display_data"
    }
   ],
   "source": [
    "sns.set_style('dark')\n",
    "sns.set_palette('deep')\n",
    "plt.figure(figsize=(15, 4))\n",
    "sns.boxplot(data=df, x='duration')\n",
    "plt.xlim(0, 300)\n",
    "plt.xlabel('Минут')\n",
    "plt.title('Время, проведенное пользователями в приложении \\n', fontsize=14)\n",
    "plt.show()"
   ]
  },
  {
   "cell_type": "markdown",
   "metadata": {},
   "source": [
    "**ВЫВОДЫ**\n",
    "\n",
    "Время, проведенное пользователем в приложении за период исследования, не являющееся выбросом, не превышает 75 минут.\n",
    "Медианное значение метрики - примерно 20 минут."
   ]
  },
  {
   "cell_type": "code",
   "execution_count": 71,
   "metadata": {},
   "outputs": [
    {
     "data": {
      "text/plain": [
       "count    4293.000000\n",
       "mean       35.293237\n",
       "std        56.191408\n",
       "min         5.000000\n",
       "25%        12.783333\n",
       "50%        20.633333\n",
       "75%        36.583333\n",
       "max      1238.733333\n",
       "Name: duration, dtype: float64"
      ]
     },
     "execution_count": 71,
     "metadata": {},
     "output_type": "execute_result"
    }
   ],
   "source": [
    "df['duration'].describe()"
   ]
  },
  {
   "cell_type": "markdown",
   "metadata": {},
   "source": [
    "## Расчет метрики \"частота действий\""
   ]
  },
  {
   "cell_type": "markdown",
   "metadata": {},
   "source": [
    "Для возможности расчета метрики в разрезе дней недели добавим в датасет столбец \"день недели\"."
   ]
  },
  {
   "cell_type": "code",
   "execution_count": 72,
   "metadata": {},
   "outputs": [],
   "source": [
    "data['day_of_week'] = data['event_time'].apply(lambda x: x.isoweekday())"
   ]
  },
  {
   "cell_type": "code",
   "execution_count": 73,
   "metadata": {},
   "outputs": [],
   "source": [
    "df = pd.pivot_table(\n",
    "    data,\n",
    "    index=['user_id', 'day_of_week'],\n",
    "    values='event_name',\n",
    "    aggfunc='count'\n",
    ").reset_index()"
   ]
  },
  {
   "cell_type": "code",
   "execution_count": 74,
   "metadata": {
    "scrolled": false
   },
   "outputs": [
    {
     "data": {
      "image/png": "[encoded data removed]",
      "text/plain": [
       "<Figure size 1080x720 with 1 Axes>"
      ]
     },
     "metadata": {},
     "output_type": "display_data"
    }
   ],
   "source": [
    "sns.set_style('dark')\n",
    "sns.set_palette('muted')\n",
    "plt.figure(figsize=(15, 10))\n",
    "sns.boxplot(data=df, x='day_of_week', y='event_name')\n",
    "plt.ylim(0, 30)\n",
    "plt.xlabel('День недели')\n",
    "plt.ylabel('Количество действий пользователя')\n",
    "plt.title('Количество действий пользователей в приложении по дням недели \\n', fontsize=14)\n",
    "plt.show()"
   ]
  },
  {
   "cell_type": "markdown",
   "metadata": {},
   "source": [
    "**ВЫВОДЫ**\n",
    "\n",
    "В среднем пользователь совершает примерно одинаковое количество действий в приложении не зависимо от того в какой день недели он зашел в приложение."
   ]
  },
  {
   "cell_type": "code",
   "execution_count": 75,
   "metadata": {
    "scrolled": false
   },
   "outputs": [
    {
     "data": {
      "image/png": "[encoded data removed]",
      "text/plain": [
       "<Figure size 1080x360 with 1 Axes>"
      ]
     },
     "metadata": {},
     "output_type": "display_data"
    }
   ],
   "source": [
    "sns.set_style('dark')\n",
    "sns.set_palette('deep')\n",
    "plt.figure(figsize=(15, 5))\n",
    "plt.xticks(rotation = 30)\n",
    "plt.title('Частота действий в приложении по дням \\n')\n",
    "plt.xlabel('День')\n",
    "plt.ylabel('Количество действий подьзователей')\n",
    "sns.histplot(data, x='event_time', hue='day_of_week', bins=28)\n",
    "plt.show()"
   ]
  },
  {
   "cell_type": "markdown",
   "metadata": {},
   "source": [
    "**ВЫВОДЫ**\n",
    "\n",
    "По выходным дням и перед ними наблюдается уменьшение количества действий пользователей, что в совокупности с предыдущим показателем говорит об уменьшении в эти дни числа заходов пользователей в приложение."
   ]
  },
  {
   "cell_type": "markdown",
   "metadata": {},
   "source": [
    "## Расчет метрики `conversion rate`"
   ]
  },
  {
   "cell_type": "markdown",
   "metadata": {},
   "source": [
    "Для расчета метрики необходимо рассчитать время начала сессии, содержащей целевое действие. Таким действием является \"просмотр контактов\""
   ]
  },
  {
   "cell_type": "code",
   "execution_count": 76,
   "metadata": {},
   "outputs": [
    {
     "data": {
      "text/html": [
       "<div>\n",
       "<style scoped>\n",
       "    .dataframe tbody tr th:only-of-type {\n",
       "        vertical-align: middle;\n",
       "    }\n",
       "\n",
       "    .dataframe tbody tr th {\n",
       "        vertical-align: top;\n",
       "    }\n",
       "\n",
       "    .dataframe thead th {\n",
       "        text-align: right;\n",
       "    }\n",
       "</style>\n",
       "<table border=\"1\" class=\"dataframe\">\n",
       "  <thead>\n",
       "    <tr style=\"text-align: right;\">\n",
       "      <th></th>\n",
       "      <th>event_time</th>\n",
       "      <th>event_name</th>\n",
       "      <th>user_id</th>\n",
       "      <th>source</th>\n",
       "      <th>first_ts</th>\n",
       "      <th>week</th>\n",
       "      <th>duration</th>\n",
       "      <th>day_of_week</th>\n",
       "      <th>first_cont_ts</th>\n",
       "    </tr>\n",
       "  </thead>\n",
       "  <tbody>\n",
       "    <tr>\n",
       "      <th>0</th>\n",
       "      <td>2019-10-07 00:00:00</td>\n",
       "      <td>advert_open</td>\n",
       "      <td>020292ab-89bc-4156-9acf-68bc2783f894</td>\n",
       "      <td>other</td>\n",
       "      <td>2019-10-07 00:00:00</td>\n",
       "      <td>41</td>\n",
       "      <td>1.0</td>\n",
       "      <td>1</td>\n",
       "      <td>NaT</td>\n",
       "    </tr>\n",
       "    <tr>\n",
       "      <th>1</th>\n",
       "      <td>2019-10-07 00:00:01</td>\n",
       "      <td>tips_show</td>\n",
       "      <td>020292ab-89bc-4156-9acf-68bc2783f894</td>\n",
       "      <td>other</td>\n",
       "      <td>2019-10-07 00:00:00</td>\n",
       "      <td>41</td>\n",
       "      <td>6.0</td>\n",
       "      <td>1</td>\n",
       "      <td>NaT</td>\n",
       "    </tr>\n",
       "    <tr>\n",
       "      <th>2</th>\n",
       "      <td>2019-10-07 00:00:02</td>\n",
       "      <td>tips_show</td>\n",
       "      <td>cf7eda61-9349-469f-ac27-e5b6f5ec475c</td>\n",
       "      <td>yandex</td>\n",
       "      <td>2019-10-07 00:00:02</td>\n",
       "      <td>41</td>\n",
       "      <td>54.0</td>\n",
       "      <td>1</td>\n",
       "      <td>NaT</td>\n",
       "    </tr>\n",
       "    <tr>\n",
       "      <th>3</th>\n",
       "      <td>2019-10-07 00:00:07</td>\n",
       "      <td>tips_show</td>\n",
       "      <td>020292ab-89bc-4156-9acf-68bc2783f894</td>\n",
       "      <td>other</td>\n",
       "      <td>2019-10-07 00:00:00</td>\n",
       "      <td>41</td>\n",
       "      <td>81.0</td>\n",
       "      <td>1</td>\n",
       "      <td>NaT</td>\n",
       "    </tr>\n",
       "    <tr>\n",
       "      <th>4</th>\n",
       "      <td>2019-10-07 00:00:56</td>\n",
       "      <td>advert_open</td>\n",
       "      <td>cf7eda61-9349-469f-ac27-e5b6f5ec475c</td>\n",
       "      <td>yandex</td>\n",
       "      <td>2019-10-07 00:00:02</td>\n",
       "      <td>41</td>\n",
       "      <td>24.0</td>\n",
       "      <td>1</td>\n",
       "      <td>NaT</td>\n",
       "    </tr>\n",
       "  </tbody>\n",
       "</table>\n",
       "</div>"
      ],
      "text/plain": [
       "           event_time   event_name                               user_id  \\\n",
       "0 2019-10-07 00:00:00  advert_open  020292ab-89bc-4156-9acf-68bc2783f894   \n",
       "1 2019-10-07 00:00:01    tips_show  020292ab-89bc-4156-9acf-68bc2783f894   \n",
       "2 2019-10-07 00:00:02    tips_show  cf7eda61-9349-469f-ac27-e5b6f5ec475c   \n",
       "3 2019-10-07 00:00:07    tips_show  020292ab-89bc-4156-9acf-68bc2783f894   \n",
       "4 2019-10-07 00:00:56  advert_open  cf7eda61-9349-469f-ac27-e5b6f5ec475c   \n",
       "\n",
       "   source            first_ts  week  duration  day_of_week first_cont_ts  \n",
       "0   other 2019-10-07 00:00:00    41       1.0            1           NaT  \n",
       "1   other 2019-10-07 00:00:00    41       6.0            1           NaT  \n",
       "2  yandex 2019-10-07 00:00:02    41      54.0            1           NaT  \n",
       "3   other 2019-10-07 00:00:00    41      81.0            1           NaT  \n",
       "4  yandex 2019-10-07 00:00:02    41      24.0            1           NaT  "
      ]
     },
     "execution_count": 76,
     "metadata": {},
     "output_type": "execute_result"
    }
   ],
   "source": [
    "first_cont_ts = (\n",
    "    data.sort_values(by=['user_id', 'event_name', 'event_time'])\n",
    "    .groupby(['user_id', 'event_name'])\n",
    "    .agg({'event_time': 'first'})\n",
    "    .query('event_name == \"contacts_show\"')\n",
    "    .reset_index()\n",
    "    .drop('event_name', axis=1)\n",
    ")\n",
    "data = (\n",
    "    data.merge(first_cont_ts, left_on='user_id', right_on='user_id', how = 'left')\n",
    "    .rename(columns={'event_time_x': 'event_time', 'event_time_y': 'first_cont_ts'})\n",
    ")\n",
    "data.head()"
   ]
  },
  {
   "cell_type": "code",
   "execution_count": 77,
   "metadata": {},
   "outputs": [],
   "source": [
    "def get_conversion(\n",
    "    data,\n",
    "    observation_date,\n",
    "    horizon_days,\n",
    "    dimensions=[],\n",
    "    ignore_horizon=False,\n",
    "):\n",
    "\n",
    "    # исключаем пользователей, не «доживших» до горизонта анализа\n",
    "    last_suitable_acquisition_date = observation_date\n",
    "    if not ignore_horizon:\n",
    "        last_suitable_acquisition_date = observation_date - timedelta(\n",
    "            days=horizon_days - 1\n",
    "        )\n",
    "    result_raw = data.query('event_time.dt.date <= @last_suitable_acquisition_date')\n",
    "\n",
    "    # Шаг 4. Рассчитать лайфтайм для каждой конверсии\n",
    "    result_raw['lifetime'] = (\n",
    "        result_raw['first_cont_ts'] - result_raw['first_ts']\n",
    "    ).dt.days\n",
    "\n",
    "    # функция для группировки таблицы по желаемым признакам\n",
    "    def group_by_dimensions(df, dims, horizon_days):\n",
    "\n",
    "        # Шаг 5. Построить таблицу конверсии\n",
    "        result = df.pivot_table(\n",
    "            index=dims, columns='lifetime', values='user_id', aggfunc='nunique'\n",
    "        )\n",
    "\n",
    "        # Шаг 6. Посчитать сумму с накоплением для каждой строки\n",
    "        result = result.fillna(0).cumsum(axis = 1)\n",
    "\n",
    "        # Шаг 7. Вычислить размеры когорт\n",
    "        cohort_sizes = (\n",
    "            df.groupby(dims)\n",
    "            .agg({'user_id': 'nunique'})\n",
    "            .rename(columns={'user_id': 'cohort_size'})\n",
    "        )\n",
    "\n",
    "        # Шаг 8. Объединить таблицы размеров когорт и конверсии\n",
    "        result = cohort_sizes.merge(result, on=dims, how='left').fillna(0)\n",
    "\n",
    "        # Шаг 9. Разделить каждую «ячейку» в строке на размер когорты\n",
    "        result = result.div(result['cohort_size'], axis=0)\n",
    "\n",
    "        # исключаем все лайфтаймы, превышающие горизонт анализа\n",
    "        result = result[['cohort_size'] + list(range(horizon_days))]\n",
    "        # восстанавливаем размеры когорт\n",
    "        result['cohort_size'] = cohort_sizes\n",
    "        return result\n",
    "\n",
    "    # получаем таблицу конверсии\n",
    "    result_grouped = group_by_dimensions(result_raw, dimensions, horizon_days)\n",
    "\n",
    "    # получаем таблицу динамики конверсии\n",
    "    #result_in_time = group_by_dimensions(\n",
    "    #    result_raw, dimensions + ['dt'], horizon_days\n",
    "    #)\n",
    "\n",
    "    # возвращаем обе таблицы и сырые данные\n",
    "    return result_raw, result_grouped, #result_in_time"
   ]
  },
  {
   "cell_type": "code",
   "execution_count": 78,
   "metadata": {
    "scrolled": false
   },
   "outputs": [
    {
     "data": {
      "image/png": "[encoded data removed]",
      "text/plain": [
       "<Figure size 1080x432 with 2 Axes>"
      ]
     },
     "metadata": {},
     "output_type": "display_data"
    }
   ],
   "source": [
    "conversion_raw, conversion = get_conversion(\n",
    "    data, data['event_time'].dt.date.max(), 7, dimensions=['week']\n",
    ")\n",
    "\n",
    "# строим хитмэп по таблице конверсии\n",
    "plt.figure(figsize=(15, 6))\n",
    "sns.heatmap(conversion.drop(columns=['cohort_size']), annot=True, fmt='.2%')\n",
    "plt.title('Тепловая карта конверсии \\n', fontsize=14)\n",
    "plt.xlabel('Дни')\n",
    "plt.ylabel('Недели')\n",
    "plt.show()"
   ]
  },
  {
   "cell_type": "markdown",
   "metadata": {},
   "source": [
    "**ВЫВОДЫ**\n",
    "\n",
    "Был выбран горизонт расчета метрики - 7 дней. Такой горизонт позволяет оценить динамику метрики `conversion rate` за все 4 недели доступных в датасете данных.\n",
    "Показатель конверсии равномерно растет от неделе к неделе и достигает почти 30 % на седьмой день в последней неделе."
   ]
  },
  {
   "cell_type": "markdown",
   "metadata": {},
   "source": [
    "**ОБЩИЕ ВЫВОДЫ ПО РАЗДЕЛУ 4**\n",
    "\n",
    "Удержание пользователей на 7ой день в зависимости от недели составляет примерно от 0.5% до 5.0%. В первую неделю удержание было наименьшим. Среднее время, проводимое пользователями в приложении за период исследования (4 недели), составляет примерно 20 минут. В начале недели пользователи более активны (чаще заходят в приложение), чем в ее конце. Самая низкая посещаемость приложения в субботу. Конверсия пользователей в просмотр контактов на 7ой день составляет примерно до 30%. Показатель конверсии плавно улучшался с каждой последующей неделей."
   ]
  },
  {
   "cell_type": "markdown",
   "metadata": {},
   "source": [
    "# Сегментация пользователей"
   ]
  },
  {
   "cell_type": "markdown",
   "metadata": {},
   "source": [
    "Для сегментации пользователей на основании действий в приложении выберем параметр \"время, проведенное пользователем в приложении\". Распределение по сегментам произведем на основании 0.25го, 0.5го и 0.75го квартилей данного параметра. Сегменты обозначим как примерные интервалы в минутах. "
   ]
  },
  {
   "cell_type": "markdown",
   "metadata": {},
   "source": [
    "**ОБОСНОВАНИЕ СЕГМЕНТАЦИИ**\n",
    "\n",
    "Сегментация пользователей по указанному параметру позволит определить оказывает ли влияние на основные метрики то, сколько времени пользователь проводит в приложении. Если с увеличением параметра метрики будут улучшаться, то будет иметь смысл производить разработку продукта, нацеленную на улучшение этого параметра. Одновременно нужно будет обратить внимание на пользователей, которые быстро покидают приложение и выяснить причины этого явления.\n",
    "\n",
    "Можно предположить, что у пользователей, проводящих больше времени в приложении, метрики `retention rate` и `conversion rate` будут лучше, чем у тех, кто проводти мало времени в приложении.\n",
    "\n",
    "Сегментация на основании квантилей разделит пользователей на одинаковые по количеству группы, что позволит в дальнейшем использовать эти группы, как весомую целевую аудиторию для доработки продукта. "
   ]
  },
  {
   "cell_type": "code",
   "execution_count": 79,
   "metadata": {
    "scrolled": true
   },
   "outputs": [
    {
     "data": {
      "text/plain": [
       "0.25     767.0\n",
       "0.50    1238.0\n",
       "0.75    2195.0\n",
       "Name: duration, dtype: float64"
      ]
     },
     "execution_count": 79,
     "metadata": {},
     "output_type": "execute_result"
    }
   ],
   "source": [
    "df = pd.pivot_table(\n",
    "    data,\n",
    "    index='user_id',\n",
    "    values='duration',\n",
    "    aggfunc='sum'\n",
    ").reset_index()\n",
    "quant = df['duration'].quantile([0.25, 0.5, 0.75])\n",
    "quant"
   ]
  },
  {
   "cell_type": "code",
   "execution_count": 80,
   "metadata": {},
   "outputs": [],
   "source": [
    "for i in range(len(df)):\n",
    "    if df.loc[i, 'duration'] >= quant.loc[0.75]:\n",
    "        df.loc[i, 'segments'] = '45 мин и более'\n",
    "    elif df.loc[i, 'duration'] >= quant.loc[0.5]:\n",
    "        df.loc[i, 'segments'] = '21 - 44 мин'\n",
    "    elif df.loc[i, 'duration'] >= quant.loc[0.25]:\n",
    "        df.loc[i, 'segments'] = '11 - 20 мин'\n",
    "    else:\n",
    "        df.loc[i, 'segments'] = '0 - 10 мин'"
   ]
  },
  {
   "cell_type": "code",
   "execution_count": 81,
   "metadata": {},
   "outputs": [
    {
     "data": {
      "text/html": [
       "<div>\n",
       "<style scoped>\n",
       "    .dataframe tbody tr th:only-of-type {\n",
       "        vertical-align: middle;\n",
       "    }\n",
       "\n",
       "    .dataframe tbody tr th {\n",
       "        vertical-align: top;\n",
       "    }\n",
       "\n",
       "    .dataframe thead th {\n",
       "        text-align: right;\n",
       "    }\n",
       "</style>\n",
       "<table border=\"1\" class=\"dataframe\">\n",
       "  <thead>\n",
       "    <tr style=\"text-align: right;\">\n",
       "      <th></th>\n",
       "      <th>event_time</th>\n",
       "      <th>event_name</th>\n",
       "      <th>user_id</th>\n",
       "      <th>source</th>\n",
       "      <th>first_ts</th>\n",
       "      <th>week</th>\n",
       "      <th>duration</th>\n",
       "      <th>day_of_week</th>\n",
       "      <th>first_cont_ts</th>\n",
       "      <th>segments</th>\n",
       "    </tr>\n",
       "  </thead>\n",
       "  <tbody>\n",
       "    <tr>\n",
       "      <th>0</th>\n",
       "      <td>2019-10-07 00:00:00</td>\n",
       "      <td>advert_open</td>\n",
       "      <td>020292ab-89bc-4156-9acf-68bc2783f894</td>\n",
       "      <td>other</td>\n",
       "      <td>2019-10-07 00:00:00</td>\n",
       "      <td>41</td>\n",
       "      <td>1.0</td>\n",
       "      <td>1</td>\n",
       "      <td>NaT</td>\n",
       "      <td>21 - 44 мин</td>\n",
       "    </tr>\n",
       "    <tr>\n",
       "      <th>1</th>\n",
       "      <td>2019-10-07 00:00:01</td>\n",
       "      <td>tips_show</td>\n",
       "      <td>020292ab-89bc-4156-9acf-68bc2783f894</td>\n",
       "      <td>other</td>\n",
       "      <td>2019-10-07 00:00:00</td>\n",
       "      <td>41</td>\n",
       "      <td>6.0</td>\n",
       "      <td>1</td>\n",
       "      <td>NaT</td>\n",
       "      <td>21 - 44 мин</td>\n",
       "    </tr>\n",
       "    <tr>\n",
       "      <th>2</th>\n",
       "      <td>2019-10-07 00:00:02</td>\n",
       "      <td>tips_show</td>\n",
       "      <td>cf7eda61-9349-469f-ac27-e5b6f5ec475c</td>\n",
       "      <td>yandex</td>\n",
       "      <td>2019-10-07 00:00:02</td>\n",
       "      <td>41</td>\n",
       "      <td>54.0</td>\n",
       "      <td>1</td>\n",
       "      <td>NaT</td>\n",
       "      <td>45 мин и более</td>\n",
       "    </tr>\n",
       "    <tr>\n",
       "      <th>3</th>\n",
       "      <td>2019-10-07 00:00:07</td>\n",
       "      <td>tips_show</td>\n",
       "      <td>020292ab-89bc-4156-9acf-68bc2783f894</td>\n",
       "      <td>other</td>\n",
       "      <td>2019-10-07 00:00:00</td>\n",
       "      <td>41</td>\n",
       "      <td>81.0</td>\n",
       "      <td>1</td>\n",
       "      <td>NaT</td>\n",
       "      <td>21 - 44 мин</td>\n",
       "    </tr>\n",
       "    <tr>\n",
       "      <th>4</th>\n",
       "      <td>2019-10-07 00:00:56</td>\n",
       "      <td>advert_open</td>\n",
       "      <td>cf7eda61-9349-469f-ac27-e5b6f5ec475c</td>\n",
       "      <td>yandex</td>\n",
       "      <td>2019-10-07 00:00:02</td>\n",
       "      <td>41</td>\n",
       "      <td>24.0</td>\n",
       "      <td>1</td>\n",
       "      <td>NaT</td>\n",
       "      <td>45 мин и более</td>\n",
       "    </tr>\n",
       "  </tbody>\n",
       "</table>\n",
       "</div>"
      ],
      "text/plain": [
       "           event_time   event_name                               user_id  \\\n",
       "0 2019-10-07 00:00:00  advert_open  020292ab-89bc-4156-9acf-68bc2783f894   \n",
       "1 2019-10-07 00:00:01    tips_show  020292ab-89bc-4156-9acf-68bc2783f894   \n",
       "2 2019-10-07 00:00:02    tips_show  cf7eda61-9349-469f-ac27-e5b6f5ec475c   \n",
       "3 2019-10-07 00:00:07    tips_show  020292ab-89bc-4156-9acf-68bc2783f894   \n",
       "4 2019-10-07 00:00:56  advert_open  cf7eda61-9349-469f-ac27-e5b6f5ec475c   \n",
       "\n",
       "   source            first_ts  week  duration  day_of_week first_cont_ts  \\\n",
       "0   other 2019-10-07 00:00:00    41       1.0            1           NaT   \n",
       "1   other 2019-10-07 00:00:00    41       6.0            1           NaT   \n",
       "2  yandex 2019-10-07 00:00:02    41      54.0            1           NaT   \n",
       "3   other 2019-10-07 00:00:00    41      81.0            1           NaT   \n",
       "4  yandex 2019-10-07 00:00:02    41      24.0            1           NaT   \n",
       "\n",
       "         segments  \n",
       "0     21 - 44 мин  \n",
       "1     21 - 44 мин  \n",
       "2  45 мин и более  \n",
       "3     21 - 44 мин  \n",
       "4  45 мин и более  "
      ]
     },
     "execution_count": 81,
     "metadata": {},
     "output_type": "execute_result"
    }
   ],
   "source": [
    "data = data.merge(df.drop('duration', axis=1), left_on='user_id', right_on='user_id', how = 'left')\n",
    "data.head()"
   ]
  },
  {
   "cell_type": "code",
   "execution_count": 82,
   "metadata": {},
   "outputs": [
    {
     "data": {
      "text/plain": [
       "segments\n",
       "0 - 10 мин        1071\n",
       "11 - 20 мин       1074\n",
       "21 - 44 мин       1074\n",
       "45 мин и более    1074\n",
       "Name: user_id, dtype: int64"
      ]
     },
     "execution_count": 82,
     "metadata": {},
     "output_type": "execute_result"
    }
   ],
   "source": [
    "data.groupby('segments')['user_id'].nunique()"
   ]
  },
  {
   "cell_type": "markdown",
   "metadata": {},
   "source": [
    "## Расчет метрики `retention rate` по сегментам"
   ]
  },
  {
   "cell_type": "code",
   "execution_count": 83,
   "metadata": {
    "scrolled": false
   },
   "outputs": [
    {
     "data": {
      "image/png": "[encoded data removed]",
      "text/plain": [
       "<Figure size 1080x432 with 2 Axes>"
      ]
     },
     "metadata": {},
     "output_type": "display_data"
    }
   ],
   "source": [
    "retention_raw, retention = get_retention(\n",
    "    data, data['event_time'].dt.date.max(), 7, dimensions=['segments']\n",
    ")  # передаём dt в качестве параметра dimensions\n",
    "\n",
    "# строим тепловую карту\n",
    "plt.figure(figsize=(15, 6))\n",
    "sns.heatmap(retention.drop(columns=['cohort_size', 0]), annot=True, fmt='.2%')\n",
    "plt.title('Тепловая карта удержания \\n', fontsize=14)\n",
    "plt.xlabel('Дни (начиная со 2-го)')\n",
    "plt.ylabel('Время в приложении')\n",
    "plt.show()"
   ]
  },
  {
   "cell_type": "markdown",
   "metadata": {},
   "source": [
    "**ВЫВОДЫ**\n",
    "\n",
    "Имеется прямая взаимосвязь времени, проведенного пользователем на сайте, и `retention rate`. Чем больше времени пользователь проводит в приложении, тем выше у него удержание и наоборот."
   ]
  },
  {
   "cell_type": "markdown",
   "metadata": {},
   "source": [
    "## Расчет метрики `conversion rate` по сегментам"
   ]
  },
  {
   "cell_type": "code",
   "execution_count": 84,
   "metadata": {
    "scrolled": false
   },
   "outputs": [
    {
     "data": {
      "image/png": "[encoded data removed]",
      "text/plain": [
       "<Figure size 1080x432 with 2 Axes>"
      ]
     },
     "metadata": {},
     "output_type": "display_data"
    }
   ],
   "source": [
    "conversion_raw, conversion = get_conversion(\n",
    "    data, data['event_time'].dt.date.max(), 7, dimensions=['segments']\n",
    ")\n",
    "\n",
    "# строим хитмэп по таблице конверсии\n",
    "plt.figure(figsize=(15, 6))\n",
    "sns.heatmap(conversion.drop(columns=['cohort_size']), annot=True, fmt='.2%')\n",
    "plt.title('Тепловая карта конверсии \\n', fontsize=14)\n",
    "plt.xlabel('Дни')\n",
    "plt.ylabel('Время в приложении')\n",
    "plt.show()"
   ]
  },
  {
   "cell_type": "markdown",
   "metadata": {},
   "source": [
    "**ВЫВОДЫ**\n",
    "\n",
    "Имеется прямая взаимосвязь времени, проведенного пользователем на сайте, и `conversion rate`. Чем больше времени пользователь проводит в приложении, тем выше у него конверсия и наоборот."
   ]
  },
  {
   "cell_type": "markdown",
   "metadata": {},
   "source": [
    "# Проверка статистических гипотез (А / В тест)"
   ]
  },
  {
   "cell_type": "markdown",
   "metadata": {},
   "source": [
    "## Гипотеза 1: Пользователи, установившие приложение по ссылке из `google` и по ссылке из `yandex` демонстрируют разную конверсию в просмотры контактов."
   ]
  },
  {
   "cell_type": "code",
   "execution_count": 85,
   "metadata": {},
   "outputs": [
    {
     "name": "stdout",
     "output_type": "stream",
     "text": [
      "Количество одних и тех же пользователей от разных источников 0\n"
     ]
    }
   ],
   "source": [
    "print(\n",
    "    'Количество одних и тех же пользователей от разных источников',\n",
    "    data.groupby(['source', 'user_id'], as_index=False).agg({'event_name': 'count'})['user_id'].duplicated().sum()\n",
    ")"
   ]
  },
  {
   "cell_type": "code",
   "execution_count": 86,
   "metadata": {},
   "outputs": [
    {
     "name": "stdout",
     "output_type": "stream",
     "text": [
      "Распределение пользователей по источникам и событиям, общее число пользователей в источниках\n"
     ]
    },
    {
     "data": {
      "text/html": [
       "<div>\n",
       "<style scoped>\n",
       "    .dataframe tbody tr th:only-of-type {\n",
       "        vertical-align: middle;\n",
       "    }\n",
       "\n",
       "    .dataframe tbody tr th {\n",
       "        vertical-align: top;\n",
       "    }\n",
       "\n",
       "    .dataframe thead th {\n",
       "        text-align: right;\n",
       "    }\n",
       "</style>\n",
       "<table border=\"1\" class=\"dataframe\">\n",
       "  <thead>\n",
       "    <tr style=\"text-align: right;\">\n",
       "      <th>source</th>\n",
       "      <th>event_name</th>\n",
       "      <th>google</th>\n",
       "      <th>other</th>\n",
       "      <th>yandex</th>\n",
       "      <th>All</th>\n",
       "    </tr>\n",
       "  </thead>\n",
       "  <tbody>\n",
       "    <tr>\n",
       "      <th>0</th>\n",
       "      <td>All</td>\n",
       "      <td>1129</td>\n",
       "      <td>1230</td>\n",
       "      <td>1934</td>\n",
       "      <td>4293</td>\n",
       "    </tr>\n",
       "    <tr>\n",
       "      <th>1</th>\n",
       "      <td>tips_show</td>\n",
       "      <td>651</td>\n",
       "      <td>840</td>\n",
       "      <td>1310</td>\n",
       "      <td>2801</td>\n",
       "    </tr>\n",
       "    <tr>\n",
       "      <th>2</th>\n",
       "      <td>map</td>\n",
       "      <td>354</td>\n",
       "      <td>415</td>\n",
       "      <td>687</td>\n",
       "      <td>1456</td>\n",
       "    </tr>\n",
       "    <tr>\n",
       "      <th>3</th>\n",
       "      <td>photos_show</td>\n",
       "      <td>363</td>\n",
       "      <td>289</td>\n",
       "      <td>443</td>\n",
       "      <td>1095</td>\n",
       "    </tr>\n",
       "    <tr>\n",
       "      <th>4</th>\n",
       "      <td>contacts_show</td>\n",
       "      <td>275</td>\n",
       "      <td>228</td>\n",
       "      <td>478</td>\n",
       "      <td>981</td>\n",
       "    </tr>\n",
       "    <tr>\n",
       "      <th>5</th>\n",
       "      <td>search_1</td>\n",
       "      <td>305</td>\n",
       "      <td>137</td>\n",
       "      <td>345</td>\n",
       "      <td>787</td>\n",
       "    </tr>\n",
       "    <tr>\n",
       "      <th>6</th>\n",
       "      <td>advert_open</td>\n",
       "      <td>195</td>\n",
       "      <td>259</td>\n",
       "      <td>297</td>\n",
       "      <td>751</td>\n",
       "    </tr>\n",
       "    <tr>\n",
       "      <th>7</th>\n",
       "      <td>search_5</td>\n",
       "      <td>137</td>\n",
       "      <td>316</td>\n",
       "      <td>210</td>\n",
       "      <td>663</td>\n",
       "    </tr>\n",
       "    <tr>\n",
       "      <th>8</th>\n",
       "      <td>search_4</td>\n",
       "      <td>108</td>\n",
       "      <td>203</td>\n",
       "      <td>163</td>\n",
       "      <td>474</td>\n",
       "    </tr>\n",
       "    <tr>\n",
       "      <th>9</th>\n",
       "      <td>favorites_add</td>\n",
       "      <td>114</td>\n",
       "      <td>77</td>\n",
       "      <td>160</td>\n",
       "      <td>351</td>\n",
       "    </tr>\n",
       "    <tr>\n",
       "      <th>10</th>\n",
       "      <td>search_6</td>\n",
       "      <td>68</td>\n",
       "      <td>157</td>\n",
       "      <td>105</td>\n",
       "      <td>330</td>\n",
       "    </tr>\n",
       "    <tr>\n",
       "      <th>11</th>\n",
       "      <td>tips_click</td>\n",
       "      <td>71</td>\n",
       "      <td>101</td>\n",
       "      <td>150</td>\n",
       "      <td>322</td>\n",
       "    </tr>\n",
       "    <tr>\n",
       "      <th>12</th>\n",
       "      <td>search_2</td>\n",
       "      <td>67</td>\n",
       "      <td>98</td>\n",
       "      <td>77</td>\n",
       "      <td>242</td>\n",
       "    </tr>\n",
       "    <tr>\n",
       "      <th>13</th>\n",
       "      <td>contacts_call</td>\n",
       "      <td>67</td>\n",
       "      <td>54</td>\n",
       "      <td>92</td>\n",
       "      <td>213</td>\n",
       "    </tr>\n",
       "    <tr>\n",
       "      <th>14</th>\n",
       "      <td>search_3</td>\n",
       "      <td>55</td>\n",
       "      <td>92</td>\n",
       "      <td>61</td>\n",
       "      <td>208</td>\n",
       "    </tr>\n",
       "    <tr>\n",
       "      <th>15</th>\n",
       "      <td>search_7</td>\n",
       "      <td>18</td>\n",
       "      <td>83</td>\n",
       "      <td>56</td>\n",
       "      <td>157</td>\n",
       "    </tr>\n",
       "  </tbody>\n",
       "</table>\n",
       "</div>"
      ],
      "text/plain": [
       "source     event_name  google  other  yandex   All\n",
       "0                 All    1129   1230    1934  4293\n",
       "1           tips_show     651    840    1310  2801\n",
       "2                 map     354    415     687  1456\n",
       "3         photos_show     363    289     443  1095\n",
       "4       contacts_show     275    228     478   981\n",
       "5            search_1     305    137     345   787\n",
       "6         advert_open     195    259     297   751\n",
       "7            search_5     137    316     210   663\n",
       "8            search_4     108    203     163   474\n",
       "9       favorites_add     114     77     160   351\n",
       "10           search_6      68    157     105   330\n",
       "11         tips_click      71    101     150   322\n",
       "12           search_2      67     98      77   242\n",
       "13      contacts_call      67     54      92   213\n",
       "14           search_3      55     92      61   208\n",
       "15           search_7      18     83      56   157"
      ]
     },
     "execution_count": 86,
     "metadata": {},
     "output_type": "execute_result"
    }
   ],
   "source": [
    "print('Распределение пользователей по источникам и событиям, общее число пользователей в источниках')\n",
    "events_sr = (\n",
    "    data\n",
    "    .pivot_table(index='event_name', columns='source', values='user_id', aggfunc='nunique', margins=True)\n",
    "    .sort_values('All', ascending=False)\n",
    "    .reset_index()\n",
    ")\n",
    "events_sr"
   ]
  },
  {
   "cell_type": "markdown",
   "metadata": {},
   "source": [
    "**ГИПОТЕЗА**\n",
    "\n",
    "Нулевая гипотеза: Различий в долях совершения пользователями действия \"просмотр контактов\" между группами нет.\n",
    "\n",
    "Альтернативная гипотеза: Различия в долях совершения пользователями действия \"просмотр контактов\" между группами есть.\n",
    "\n",
    "Группами являются пользователи от источников: `google` и `yandex`.\n",
    "\n",
    "Устанавливаем уровень α = 0.05 (тест единичный). Для проверки гипотезы будем использовать статистически Z-критерий."
   ]
  },
  {
   "cell_type": "code",
   "execution_count": 87,
   "metadata": {},
   "outputs": [],
   "source": [
    "def hypothesis(i, a, b, events_sr):\n",
    "    alpha = 0.05\n",
    "    p1 = events_sr.iloc[i, a]/events_sr.iloc[0, a]\n",
    "    p2 = events_sr.iloc[i, b]/events_sr.iloc[0, b]\n",
    "    p_combined = (events_sr.iloc[i, a] + events_sr.iloc[i, b]) / (events_sr.iloc[0, a] + events_sr.iloc[0, b])\n",
    "    difference = p1 - p2\n",
    "    z_value = difference / mth.sqrt(p_combined * (1 - p_combined) * (1/events_sr.iloc[0, a] + 1/events_sr.iloc[0, b]))\n",
    "    distr = st.norm(0, 1)\n",
    "    p_value = (1 - distr.cdf(abs(z_value))) * 2\n",
    "    print('p_value:', p_value)\n",
    "    if p_value < alpha:\n",
    "        print('Отвергаем нулевую гипотезу: между долями есть значимая разница')\n",
    "    else:\n",
    "        print('Не получилось отвергнуть нулевую гипотезу, нет оснований считать доли разными')\n",
    "    print('Разница долей события', events_sr.iloc[i, 0], 'между группами составляет', difference)"
   ]
  },
  {
   "cell_type": "code",
   "execution_count": 88,
   "metadata": {},
   "outputs": [
    {
     "name": "stdout",
     "output_type": "stream",
     "text": [
      "p_value: 0.8244316027993777\n",
      "Не получилось отвергнуть нулевую гипотезу, нет оснований считать доли разными\n",
      "Разница долей события contacts_show между группами составляет -0.003577765096730634\n"
     ]
    }
   ],
   "source": [
    "# Проверяем гипотезы A/B-теста\n",
    "i = 4\n",
    "a = 1\n",
    "b = 3\n",
    "hypothesis(i, a, b, events_sr)"
   ]
  },
  {
   "cell_type": "markdown",
   "metadata": {},
   "source": [
    "**ВЫВОДЫ**\n",
    "\n",
    "Гипотеза о том, что пользователи, пришедшие из источников `google` и `yandex`, имеют разную конверсию в просмотр контактов, не подтвердилась. Статистически значимого отличия между группами нет."
   ]
  },
  {
   "cell_type": "markdown",
   "metadata": {},
   "source": [
    "## Гипотеза 2: Среднедневное время, проведенное пользователями в приложении по будним дням, отличается от аналогичного показателя по выходным дням."
   ]
  },
  {
   "cell_type": "markdown",
   "metadata": {},
   "source": [
    "Для проверки гипотезы добавляем в датасет столбец с признаком рабочего/выходного дня."
   ]
  },
  {
   "cell_type": "code",
   "execution_count": 89,
   "metadata": {
    "scrolled": true
   },
   "outputs": [
    {
     "data": {
      "text/html": [
       "<div>\n",
       "<style scoped>\n",
       "    .dataframe tbody tr th:only-of-type {\n",
       "        vertical-align: middle;\n",
       "    }\n",
       "\n",
       "    .dataframe tbody tr th {\n",
       "        vertical-align: top;\n",
       "    }\n",
       "\n",
       "    .dataframe thead th {\n",
       "        text-align: right;\n",
       "    }\n",
       "</style>\n",
       "<table border=\"1\" class=\"dataframe\">\n",
       "  <thead>\n",
       "    <tr style=\"text-align: right;\">\n",
       "      <th></th>\n",
       "      <th>event_time</th>\n",
       "      <th>event_name</th>\n",
       "      <th>user_id</th>\n",
       "      <th>source</th>\n",
       "      <th>first_ts</th>\n",
       "      <th>week</th>\n",
       "      <th>duration</th>\n",
       "      <th>day_of_week</th>\n",
       "      <th>first_cont_ts</th>\n",
       "      <th>segments</th>\n",
       "      <th>weekday</th>\n",
       "    </tr>\n",
       "  </thead>\n",
       "  <tbody>\n",
       "    <tr>\n",
       "      <th>0</th>\n",
       "      <td>2019-10-07 00:00:00</td>\n",
       "      <td>advert_open</td>\n",
       "      <td>020292ab-89bc-4156-9acf-68bc2783f894</td>\n",
       "      <td>other</td>\n",
       "      <td>2019-10-07 00:00:00</td>\n",
       "      <td>41</td>\n",
       "      <td>1.0</td>\n",
       "      <td>1</td>\n",
       "      <td>NaT</td>\n",
       "      <td>21 - 44 мин</td>\n",
       "      <td>weekday</td>\n",
       "    </tr>\n",
       "    <tr>\n",
       "      <th>1</th>\n",
       "      <td>2019-10-07 00:00:01</td>\n",
       "      <td>tips_show</td>\n",
       "      <td>020292ab-89bc-4156-9acf-68bc2783f894</td>\n",
       "      <td>other</td>\n",
       "      <td>2019-10-07 00:00:00</td>\n",
       "      <td>41</td>\n",
       "      <td>6.0</td>\n",
       "      <td>1</td>\n",
       "      <td>NaT</td>\n",
       "      <td>21 - 44 мин</td>\n",
       "      <td>weekday</td>\n",
       "    </tr>\n",
       "    <tr>\n",
       "      <th>2</th>\n",
       "      <td>2019-10-07 00:00:02</td>\n",
       "      <td>tips_show</td>\n",
       "      <td>cf7eda61-9349-469f-ac27-e5b6f5ec475c</td>\n",
       "      <td>yandex</td>\n",
       "      <td>2019-10-07 00:00:02</td>\n",
       "      <td>41</td>\n",
       "      <td>54.0</td>\n",
       "      <td>1</td>\n",
       "      <td>NaT</td>\n",
       "      <td>45 мин и более</td>\n",
       "      <td>weekday</td>\n",
       "    </tr>\n",
       "    <tr>\n",
       "      <th>3</th>\n",
       "      <td>2019-10-07 00:00:07</td>\n",
       "      <td>tips_show</td>\n",
       "      <td>020292ab-89bc-4156-9acf-68bc2783f894</td>\n",
       "      <td>other</td>\n",
       "      <td>2019-10-07 00:00:00</td>\n",
       "      <td>41</td>\n",
       "      <td>81.0</td>\n",
       "      <td>1</td>\n",
       "      <td>NaT</td>\n",
       "      <td>21 - 44 мин</td>\n",
       "      <td>weekday</td>\n",
       "    </tr>\n",
       "    <tr>\n",
       "      <th>4</th>\n",
       "      <td>2019-10-07 00:00:56</td>\n",
       "      <td>advert_open</td>\n",
       "      <td>cf7eda61-9349-469f-ac27-e5b6f5ec475c</td>\n",
       "      <td>yandex</td>\n",
       "      <td>2019-10-07 00:00:02</td>\n",
       "      <td>41</td>\n",
       "      <td>24.0</td>\n",
       "      <td>1</td>\n",
       "      <td>NaT</td>\n",
       "      <td>45 мин и более</td>\n",
       "      <td>weekday</td>\n",
       "    </tr>\n",
       "  </tbody>\n",
       "</table>\n",
       "</div>"
      ],
      "text/plain": [
       "           event_time   event_name                               user_id  \\\n",
       "0 2019-10-07 00:00:00  advert_open  020292ab-89bc-4156-9acf-68bc2783f894   \n",
       "1 2019-10-07 00:00:01    tips_show  020292ab-89bc-4156-9acf-68bc2783f894   \n",
       "2 2019-10-07 00:00:02    tips_show  cf7eda61-9349-469f-ac27-e5b6f5ec475c   \n",
       "3 2019-10-07 00:00:07    tips_show  020292ab-89bc-4156-9acf-68bc2783f894   \n",
       "4 2019-10-07 00:00:56  advert_open  cf7eda61-9349-469f-ac27-e5b6f5ec475c   \n",
       "\n",
       "   source            first_ts  week  duration  day_of_week first_cont_ts  \\\n",
       "0   other 2019-10-07 00:00:00    41       1.0            1           NaT   \n",
       "1   other 2019-10-07 00:00:00    41       6.0            1           NaT   \n",
       "2  yandex 2019-10-07 00:00:02    41      54.0            1           NaT   \n",
       "3   other 2019-10-07 00:00:00    41      81.0            1           NaT   \n",
       "4  yandex 2019-10-07 00:00:02    41      24.0            1           NaT   \n",
       "\n",
       "         segments  weekday  \n",
       "0     21 - 44 мин  weekday  \n",
       "1     21 - 44 мин  weekday  \n",
       "2  45 мин и более  weekday  \n",
       "3     21 - 44 мин  weekday  \n",
       "4  45 мин и более  weekday  "
      ]
     },
     "execution_count": 89,
     "metadata": {},
     "output_type": "execute_result"
    }
   ],
   "source": [
    "data['weekday'] = data['event_time'].apply(lambda x: 'weekday' if x.isoweekday() in range(6) else 'weekend')\n",
    "data.head()"
   ]
  },
  {
   "cell_type": "markdown",
   "metadata": {},
   "source": [
    "**ГИПОТЕЗА**\n",
    "\n",
    "Нулевая гипотеза: Среднедневное время, проведенное пользователями в приложении в будние и выходные дни, не отличается.\n",
    "\n",
    "Альтернативная гипотеза: Среднедневное время, проведенное пользователями в приложении в будние и выходные дни, отличается.\n",
    "\n",
    "Устанавливаем уровень α = 0.05 (тест единичный). Для проверки гипотезы будем использовать статистически критерий Манна — Уитни."
   ]
  },
  {
   "cell_type": "code",
   "execution_count": 90,
   "metadata": {},
   "outputs": [
    {
     "name": "stdout",
     "output_type": "stream",
     "text": [
      "Значение p-value 0.000\n",
      "Относительное отклонение результата (группы weekend к группе weekday) -0.180\n"
     ]
    }
   ],
   "source": [
    "print(\n",
    "    'Значение p-value',\n",
    "    '{0:.3f}'.format(st.mannwhitneyu(\n",
    "        data[data['weekday']=='weekday']\n",
    "        .groupby('user_id', as_index=False)\n",
    "        .agg({'duration': 'sum'})['duration']\n",
    "        ,\n",
    "        data[data['weekday']=='weekend']\n",
    "        .groupby('user_id', as_index=False)\n",
    "        .agg({'duration': 'sum'})['duration']\n",
    "    )[1])\n",
    ")\n",
    "print(\n",
    "    'Относительное отклонение результата (группы weekend к группе weekday)',\n",
    "    '{0:.3f}'.format(\n",
    "        data[data['weekday']=='weekend']\n",
    "        .groupby('user_id', as_index=False)\n",
    "        .agg({'duration': 'sum'})['duration']\n",
    "        .mean()\n",
    "        /\n",
    "        data[data['weekday']=='weekday']\n",
    "        .groupby('user_id', as_index=False)\n",
    "        .agg({'duration': 'sum'})['duration']\n",
    "        .mean()\n",
    "        -1)\n",
    ")"
   ]
  },
  {
   "cell_type": "markdown",
   "metadata": {},
   "source": [
    "Отвергаем нулевую гипотезу в пользу альтернативной"
   ]
  },
  {
   "cell_type": "markdown",
   "metadata": {},
   "source": [
    "**ВЫВОДЫ**\n",
    "\n",
    "Гипотеза о том, что среднедневное время, проведенное пользователями в приложении по будним дням, отличается от аналогичного показателя по выходным дням, подтвердилась. Отличие является статистически значимым. Среднедневное время нахождения пользователей в приложении в будние дни на 18% выше, чем в выходные."
   ]
  },
  {
   "cell_type": "markdown",
   "metadata": {},
   "source": [
    "# Общие результаты работы"
   ]
  },
  {
   "cell_type": "markdown",
   "metadata": {},
   "source": [
    "**ЭТАПЫ ВЫПОЛНЕННЫХ РАБОТ**\n",
    "\n",
    " * Предобработка и проверка на корректность данных. Изучили датасет на предмет формата данных, пропусков, целострочных дублей, полноты данных, корректности данных. После преобразования типа данных, были выявлены и удалены целострочные дубли.\n",
    " * Исследовательский анализ данных. Были расчитаны 4 метрики, 3 из них в разрезе по неделям исследования. Далее пользователи разделены на 4 сегмента по показателю \"время, проведенное в приложении\". Условия корректности данных соблюдены - в каждую группу попали только уникальные пользователи. Произведена оценка основных метрик: удержание и конверсия в просмотр контактов - в разрезе сегментов пользователей.\n",
    " * Анализ результатов A/B-тестов. Подготовили данные для проведения тестов в сводную таблицу. Установили уровень статистической значимости (0.05). Выбрали статистические критерии. Сформулировали нулевые и альтернативные гипотезы. В качестве сравниваемых величин выбрали конверсию (тестируемые группы: источники \"yandex\" и \"google\") и время, проведенное в приложении (тестируемые группы: посетители в будние дни и посетители в выходные дни). В первом тесте (группы yandex и google) установлено отсутствие статистически значимых различий между группами. Во втором тесте (группы будние дни и выходные дни) установлено наличие статистически значимых различий между группами.\n",
    "  \n",
    "**ОСНОВНЫЕ ВЫВОДЫ**\n",
    "\n",
    " * Между временем, проведенным пользователем в приложении, и метриками удержания и конверсии в просмотр контактов имеется прямая взаимосвязь. Чем больше времени пользователь проводит в приложении, тем лучше у него исследуемые метрики. Помимо этого выявлено, что активность пользователей в будние и выходные дни не однородна. Число посещений приложения в будние дни выше, чем в выходные. Лидером по посещаемости является понедельник, а аутсайдером - суббота.  \n",
    " * По результатам анализа A/B-тестов выявлено, что:\n",
    "     1. Нет различий в конверсии пользователей, пришедших из источников \"yandex\" и \"google\".\n",
    "     2. В будние дни пользователи проводят в приложении на 18% больше времени, чем в выходные дни.\n",
    " \n",
    "**РЕКОМЕНДАЦИИ**\n",
    "\n",
    " * Провести изыскания на предмет возможности увеличения посещаемости приложения в выходные дни (особенно субботу).\n",
    " * Изучить особенности группы пользователей, чье проведенное в приложении время минимально, с целью выявления возможных причин: техничсеские проблемы в приложении, невозможность найти нужную информацию, недостаточно удобный интерфейс и т.п.\n",
    " * Маркетологам учесть одинаковую результативность от привлечения из источников \"yandex\" и \"google\".\n",
    " * Техническим специалистам привести данные к единому формату (в названиях столбцов) и устранить синонимы в значениях (столбец \"имя события\")."
   ]
  }
 ],
 "metadata": {
  "ExecuteTimeLog": [
   {
    "duration": 432,
    "start_time": "2023-07-10T16:30:28.981Z"
   },
   {
    "duration": 207,
    "start_time": "2023-07-10T16:30:37.909Z"
   },
   {
    "duration": 20,
    "start_time": "2023-07-10T16:30:46.620Z"
   },
   {
    "duration": 12,
    "start_time": "2023-07-10T16:30:57.044Z"
   },
   {
    "duration": 39,
    "start_time": "2023-07-10T16:42:17.727Z"
   },
   {
    "duration": 51,
    "start_time": "2023-07-10T16:44:17.113Z"
   },
   {
    "duration": 19,
    "start_time": "2023-07-10T16:49:36.597Z"
   },
   {
    "duration": 7,
    "start_time": "2023-07-10T16:49:52.074Z"
   },
   {
    "duration": 39,
    "start_time": "2023-07-10T16:50:21.072Z"
   },
   {
    "duration": 17,
    "start_time": "2023-07-10T16:51:06.168Z"
   },
   {
    "duration": 71,
    "start_time": "2023-07-10T16:54:30.005Z"
   },
   {
    "duration": 26,
    "start_time": "2023-07-10T16:58:41.367Z"
   },
   {
    "duration": 60,
    "start_time": "2023-07-10T17:00:49.868Z"
   },
   {
    "duration": 17,
    "start_time": "2023-07-10T17:01:01.371Z"
   },
   {
    "duration": 16,
    "start_time": "2023-07-10T17:03:52.677Z"
   },
   {
    "duration": 25,
    "start_time": "2023-07-10T17:10:04.502Z"
   },
   {
    "duration": 17,
    "start_time": "2023-07-10T17:10:18.404Z"
   },
   {
    "duration": 102,
    "start_time": "2023-07-10T17:17:36.015Z"
   },
   {
    "duration": 20,
    "start_time": "2023-07-10T17:17:41.742Z"
   },
   {
    "duration": 46,
    "start_time": "2023-07-10T17:18:58.658Z"
   },
   {
    "duration": 34,
    "start_time": "2023-07-10T17:19:27.416Z"
   },
   {
    "duration": 37,
    "start_time": "2023-07-10T17:20:25.353Z"
   },
   {
    "duration": 30,
    "start_time": "2023-07-10T17:20:57.540Z"
   },
   {
    "duration": 30,
    "start_time": "2023-07-10T17:21:57.969Z"
   },
   {
    "duration": 3,
    "start_time": "2023-07-10T17:22:07.711Z"
   },
   {
    "duration": 208,
    "start_time": "2023-07-10T17:22:07.716Z"
   },
   {
    "duration": 20,
    "start_time": "2023-07-10T17:22:07.926Z"
   },
   {
    "duration": 15,
    "start_time": "2023-07-10T17:22:07.947Z"
   },
   {
    "duration": 56,
    "start_time": "2023-07-10T17:22:07.965Z"
   },
   {
    "duration": 7,
    "start_time": "2023-07-10T17:22:08.023Z"
   },
   {
    "duration": 44,
    "start_time": "2023-07-10T17:22:10.885Z"
   },
   {
    "duration": 53,
    "start_time": "2023-07-10T17:22:29.771Z"
   },
   {
    "duration": 3,
    "start_time": "2023-07-10T17:23:03.942Z"
   },
   {
    "duration": 238,
    "start_time": "2023-07-10T17:23:03.948Z"
   },
   {
    "duration": 18,
    "start_time": "2023-07-10T17:23:04.187Z"
   },
   {
    "duration": 25,
    "start_time": "2023-07-10T17:23:04.207Z"
   },
   {
    "duration": 40,
    "start_time": "2023-07-10T17:23:04.234Z"
   },
   {
    "duration": 5,
    "start_time": "2023-07-10T17:23:04.276Z"
   },
   {
    "duration": 49,
    "start_time": "2023-07-10T17:23:04.282Z"
   },
   {
    "duration": 20,
    "start_time": "2023-07-10T17:23:04.333Z"
   },
   {
    "duration": 43,
    "start_time": "2023-07-10T17:23:07.989Z"
   },
   {
    "duration": 9,
    "start_time": "2023-07-10T17:23:49.066Z"
   },
   {
    "duration": 17,
    "start_time": "2023-07-10T17:24:52.031Z"
   },
   {
    "duration": 74,
    "start_time": "2023-07-10T17:25:21.428Z"
   },
   {
    "duration": 9,
    "start_time": "2023-07-10T17:25:25.992Z"
   },
   {
    "duration": 17,
    "start_time": "2023-07-10T17:25:28.160Z"
   },
   {
    "duration": 17,
    "start_time": "2023-07-10T17:25:34.068Z"
   },
   {
    "duration": 46,
    "start_time": "2023-07-10T17:28:55.586Z"
   },
   {
    "duration": 34,
    "start_time": "2023-07-10T17:30:10.159Z"
   },
   {
    "duration": 39,
    "start_time": "2023-07-10T17:30:23.099Z"
   },
   {
    "duration": 702,
    "start_time": "2023-07-10T17:34:55.213Z"
   },
   {
    "duration": 1062,
    "start_time": "2023-07-10T17:38:23.620Z"
   },
   {
    "duration": 868,
    "start_time": "2023-07-10T17:38:40.292Z"
   },
   {
    "duration": 35,
    "start_time": "2023-07-10T17:38:56.667Z"
   },
   {
    "duration": 452,
    "start_time": "2023-07-10T17:44:39.728Z"
   },
   {
    "duration": 38,
    "start_time": "2023-07-10T17:44:52.956Z"
   },
   {
    "duration": 35,
    "start_time": "2023-07-10T17:45:22.119Z"
   },
   {
    "duration": 38,
    "start_time": "2023-07-10T17:46:01.428Z"
   },
   {
    "duration": 45,
    "start_time": "2023-07-10T17:46:09.338Z"
   },
   {
    "duration": 3,
    "start_time": "2023-07-10T17:46:29.845Z"
   },
   {
    "duration": 220,
    "start_time": "2023-07-10T17:46:29.850Z"
   },
   {
    "duration": 20,
    "start_time": "2023-07-10T17:46:30.072Z"
   },
   {
    "duration": 46,
    "start_time": "2023-07-10T17:46:30.094Z"
   },
   {
    "duration": 91,
    "start_time": "2023-07-10T17:46:30.142Z"
   },
   {
    "duration": 6,
    "start_time": "2023-07-10T17:46:30.235Z"
   },
   {
    "duration": 73,
    "start_time": "2023-07-10T17:46:30.243Z"
   },
   {
    "duration": 18,
    "start_time": "2023-07-10T17:46:30.318Z"
   },
   {
    "duration": 47,
    "start_time": "2023-07-10T17:46:32.660Z"
   },
   {
    "duration": 3,
    "start_time": "2023-07-10T17:51:19.182Z"
   },
   {
    "duration": 341,
    "start_time": "2023-07-10T17:51:19.187Z"
   },
   {
    "duration": 20,
    "start_time": "2023-07-10T17:51:19.530Z"
   },
   {
    "duration": 16,
    "start_time": "2023-07-10T17:51:19.552Z"
   },
   {
    "duration": 55,
    "start_time": "2023-07-10T17:51:22.462Z"
   },
   {
    "duration": 3,
    "start_time": "2023-07-10T17:51:36.689Z"
   },
   {
    "duration": 479,
    "start_time": "2023-07-10T17:51:36.694Z"
   },
   {
    "duration": 21,
    "start_time": "2023-07-10T17:51:37.175Z"
   },
   {
    "duration": 41,
    "start_time": "2023-07-10T17:51:37.199Z"
   },
   {
    "duration": 78,
    "start_time": "2023-07-10T17:51:37.242Z"
   },
   {
    "duration": 7,
    "start_time": "2023-07-10T17:51:37.322Z"
   },
   {
    "duration": 55,
    "start_time": "2023-07-10T17:51:37.331Z"
   },
   {
    "duration": 26,
    "start_time": "2023-07-10T17:51:40.527Z"
   },
   {
    "duration": 9,
    "start_time": "2023-07-10T17:51:56.520Z"
   },
   {
    "duration": 3,
    "start_time": "2023-07-10T17:53:30.016Z"
   },
   {
    "duration": 240,
    "start_time": "2023-07-10T17:53:30.021Z"
   },
   {
    "duration": 21,
    "start_time": "2023-07-10T17:53:30.263Z"
   },
   {
    "duration": 37,
    "start_time": "2023-07-10T17:53:30.286Z"
   },
   {
    "duration": 64,
    "start_time": "2023-07-10T17:53:30.325Z"
   },
   {
    "duration": 9,
    "start_time": "2023-07-10T17:53:30.391Z"
   },
   {
    "duration": 124,
    "start_time": "2023-07-10T17:53:30.402Z"
   },
   {
    "duration": 51,
    "start_time": "2023-07-10T17:53:30.528Z"
   },
   {
    "duration": 9,
    "start_time": "2023-07-10T17:53:34.145Z"
   },
   {
    "duration": 63,
    "start_time": "2023-07-10T17:54:59.719Z"
   },
   {
    "duration": 3,
    "start_time": "2023-07-10T18:06:20.182Z"
   },
   {
    "duration": 383,
    "start_time": "2023-07-10T18:06:20.187Z"
   },
   {
    "duration": 21,
    "start_time": "2023-07-10T18:06:20.572Z"
   },
   {
    "duration": 11,
    "start_time": "2023-07-10T18:06:20.595Z"
   },
   {
    "duration": 36,
    "start_time": "2023-07-10T18:06:23.882Z"
   },
   {
    "duration": 89,
    "start_time": "2023-07-10T18:06:45.681Z"
   },
   {
    "duration": 7,
    "start_time": "2023-07-10T18:06:54.994Z"
   },
   {
    "duration": 36,
    "start_time": "2023-07-10T18:06:56.336Z"
   },
   {
    "duration": 16,
    "start_time": "2023-07-10T18:06:57.650Z"
   },
   {
    "duration": 1852,
    "start_time": "2023-07-10T18:07:11.946Z"
   },
   {
    "duration": 2308,
    "start_time": "2023-07-10T18:07:31.324Z"
   },
   {
    "duration": 45,
    "start_time": "2023-07-10T18:07:45.278Z"
   },
   {
    "duration": 38,
    "start_time": "2023-07-10T18:09:24.281Z"
   },
   {
    "duration": 87,
    "start_time": "2023-07-10T18:09:30.655Z"
   },
   {
    "duration": 38,
    "start_time": "2023-07-10T18:09:46.793Z"
   },
   {
    "duration": 29,
    "start_time": "2023-07-10T18:10:00.991Z"
   },
   {
    "duration": 3,
    "start_time": "2023-07-10T18:10:40.576Z"
   },
   {
    "duration": 299,
    "start_time": "2023-07-10T18:10:40.581Z"
   },
   {
    "duration": 18,
    "start_time": "2023-07-10T18:10:40.882Z"
   },
   {
    "duration": 38,
    "start_time": "2023-07-10T18:10:40.902Z"
   },
   {
    "duration": 102,
    "start_time": "2023-07-10T18:10:40.942Z"
   },
   {
    "duration": 6,
    "start_time": "2023-07-10T18:10:41.046Z"
   },
   {
    "duration": 54,
    "start_time": "2023-07-10T18:10:41.053Z"
   },
   {
    "duration": 15,
    "start_time": "2023-07-10T18:10:41.109Z"
   },
   {
    "duration": 44,
    "start_time": "2023-07-10T18:10:41.126Z"
   },
   {
    "duration": 34,
    "start_time": "2023-07-10T18:10:44.193Z"
   },
   {
    "duration": 2,
    "start_time": "2023-07-10T18:11:26.119Z"
   },
   {
    "duration": 243,
    "start_time": "2023-07-10T18:11:26.123Z"
   },
   {
    "duration": 19,
    "start_time": "2023-07-10T18:11:26.368Z"
   },
   {
    "duration": 15,
    "start_time": "2023-07-10T18:11:26.389Z"
   },
   {
    "duration": 107,
    "start_time": "2023-07-10T18:11:26.406Z"
   },
   {
    "duration": 6,
    "start_time": "2023-07-10T18:11:26.515Z"
   },
   {
    "duration": 45,
    "start_time": "2023-07-10T18:11:26.523Z"
   },
   {
    "duration": 16,
    "start_time": "2023-07-10T18:11:26.570Z"
   },
   {
    "duration": 17,
    "start_time": "2023-07-10T18:11:26.588Z"
   },
   {
    "duration": 28,
    "start_time": "2023-07-10T18:11:37.540Z"
   },
   {
    "duration": 2,
    "start_time": "2023-07-10T18:12:26.483Z"
   },
   {
    "duration": 276,
    "start_time": "2023-07-10T18:12:26.488Z"
   },
   {
    "duration": 19,
    "start_time": "2023-07-10T18:12:26.765Z"
   },
   {
    "duration": 12,
    "start_time": "2023-07-10T18:12:26.785Z"
   },
   {
    "duration": 107,
    "start_time": "2023-07-10T18:12:26.799Z"
   },
   {
    "duration": 6,
    "start_time": "2023-07-10T18:12:26.908Z"
   },
   {
    "duration": 36,
    "start_time": "2023-07-10T18:12:26.916Z"
   },
   {
    "duration": 15,
    "start_time": "2023-07-10T18:12:26.955Z"
   },
   {
    "duration": 30,
    "start_time": "2023-07-10T18:12:26.972Z"
   },
   {
    "duration": 27,
    "start_time": "2023-07-10T18:12:30.058Z"
   },
   {
    "duration": 35,
    "start_time": "2023-07-10T18:15:33.324Z"
   },
   {
    "duration": 3,
    "start_time": "2023-07-10T18:18:12.191Z"
   },
   {
    "duration": 277,
    "start_time": "2023-07-10T18:18:12.196Z"
   },
   {
    "duration": 20,
    "start_time": "2023-07-10T18:18:12.474Z"
   },
   {
    "duration": 10,
    "start_time": "2023-07-10T18:18:12.496Z"
   },
   {
    "duration": 103,
    "start_time": "2023-07-10T18:18:12.509Z"
   },
   {
    "duration": 6,
    "start_time": "2023-07-10T18:18:12.613Z"
   },
   {
    "duration": 38,
    "start_time": "2023-07-10T18:18:12.621Z"
   },
   {
    "duration": 14,
    "start_time": "2023-07-10T18:18:12.661Z"
   },
   {
    "duration": 45,
    "start_time": "2023-07-10T18:18:14.840Z"
   },
   {
    "duration": 33,
    "start_time": "2023-07-10T18:18:40.643Z"
   },
   {
    "duration": 4,
    "start_time": "2023-07-10T18:23:03.086Z"
   },
   {
    "duration": 322,
    "start_time": "2023-07-10T18:23:03.092Z"
   },
   {
    "duration": 18,
    "start_time": "2023-07-10T18:23:03.415Z"
   },
   {
    "duration": 11,
    "start_time": "2023-07-10T18:23:03.435Z"
   },
   {
    "duration": 104,
    "start_time": "2023-07-10T18:23:03.448Z"
   },
   {
    "duration": 5,
    "start_time": "2023-07-10T18:23:03.554Z"
   },
   {
    "duration": 50,
    "start_time": "2023-07-10T18:23:03.561Z"
   },
   {
    "duration": 16,
    "start_time": "2023-07-10T18:23:03.613Z"
   },
   {
    "duration": 25,
    "start_time": "2023-07-10T18:23:05.585Z"
   },
   {
    "duration": 27,
    "start_time": "2023-07-10T18:25:06.605Z"
   },
   {
    "duration": 3,
    "start_time": "2023-07-10T18:33:58.209Z"
   },
   {
    "duration": 8,
    "start_time": "2023-07-10T18:34:41.723Z"
   },
   {
    "duration": 37,
    "start_time": "2023-07-10T18:34:58.892Z"
   },
   {
    "duration": 31,
    "start_time": "2023-07-10T18:35:29.424Z"
   },
   {
    "duration": 44,
    "start_time": "2023-07-10T18:35:38.847Z"
   },
   {
    "duration": 33,
    "start_time": "2023-07-10T18:36:45.209Z"
   },
   {
    "duration": 36,
    "start_time": "2023-07-10T18:36:55.094Z"
   },
   {
    "duration": 37,
    "start_time": "2023-07-10T18:37:10.388Z"
   },
   {
    "duration": 32,
    "start_time": "2023-07-10T18:37:40.099Z"
   },
   {
    "duration": 33,
    "start_time": "2023-07-10T18:39:06.014Z"
   },
   {
    "duration": 7,
    "start_time": "2023-07-10T18:42:31.258Z"
   },
   {
    "duration": 9,
    "start_time": "2023-07-10T18:42:48.989Z"
   },
   {
    "duration": 8,
    "start_time": "2023-07-10T18:43:52.814Z"
   },
   {
    "duration": 5,
    "start_time": "2023-07-10T18:53:27.485Z"
   },
   {
    "duration": 13,
    "start_time": "2023-07-10T18:53:36.798Z"
   },
   {
    "duration": 447,
    "start_time": "2023-07-11T07:38:47.124Z"
   },
   {
    "duration": 308,
    "start_time": "2023-07-11T07:38:47.573Z"
   },
   {
    "duration": 30,
    "start_time": "2023-07-11T07:38:47.883Z"
   },
   {
    "duration": 90,
    "start_time": "2023-07-11T07:38:47.915Z"
   },
   {
    "duration": 52,
    "start_time": "2023-07-11T07:38:51.820Z"
   },
   {
    "duration": 3,
    "start_time": "2023-07-11T07:39:40.344Z"
   },
   {
    "duration": 325,
    "start_time": "2023-07-11T07:39:40.348Z"
   },
   {
    "duration": 20,
    "start_time": "2023-07-11T07:39:40.675Z"
   },
   {
    "duration": 14,
    "start_time": "2023-07-11T07:39:40.699Z"
   },
   {
    "duration": 52,
    "start_time": "2023-07-11T07:39:40.715Z"
   },
   {
    "duration": 6,
    "start_time": "2023-07-11T07:39:40.769Z"
   },
   {
    "duration": 48,
    "start_time": "2023-07-11T07:39:40.777Z"
   },
   {
    "duration": 30,
    "start_time": "2023-07-11T07:39:40.827Z"
   },
   {
    "duration": 30,
    "start_time": "2023-07-11T07:39:40.859Z"
   },
   {
    "duration": 31,
    "start_time": "2023-07-11T07:39:43.723Z"
   },
   {
    "duration": 30,
    "start_time": "2023-07-11T07:39:46.360Z"
   },
   {
    "duration": 31,
    "start_time": "2023-07-11T07:39:48.699Z"
   },
   {
    "duration": 7,
    "start_time": "2023-07-11T07:39:56.259Z"
   },
   {
    "duration": 8,
    "start_time": "2023-07-11T07:39:58.595Z"
   },
   {
    "duration": 11,
    "start_time": "2023-07-11T07:40:02.412Z"
   },
   {
    "duration": 17,
    "start_time": "2023-07-11T07:58:08.858Z"
   },
   {
    "duration": 359,
    "start_time": "2023-07-11T11:33:12.119Z"
   },
   {
    "duration": 233,
    "start_time": "2023-07-11T11:33:12.480Z"
   },
   {
    "duration": 22,
    "start_time": "2023-07-11T11:33:12.714Z"
   },
   {
    "duration": 79,
    "start_time": "2023-07-11T11:33:12.738Z"
   },
   {
    "duration": 67,
    "start_time": "2023-07-11T11:33:12.819Z"
   },
   {
    "duration": 19,
    "start_time": "2023-07-11T11:33:12.887Z"
   },
   {
    "duration": 92,
    "start_time": "2023-07-11T11:33:12.907Z"
   },
   {
    "duration": 23,
    "start_time": "2023-07-11T11:33:13.001Z"
   },
   {
    "duration": 43,
    "start_time": "2023-07-11T11:33:13.025Z"
   },
   {
    "duration": 25,
    "start_time": "2023-07-11T11:33:13.071Z"
   },
   {
    "duration": 35,
    "start_time": "2023-07-11T11:33:13.098Z"
   },
   {
    "duration": 57,
    "start_time": "2023-07-11T11:33:13.136Z"
   },
   {
    "duration": 15,
    "start_time": "2023-07-11T11:33:13.195Z"
   },
   {
    "duration": 42,
    "start_time": "2023-07-11T11:33:13.212Z"
   },
   {
    "duration": 28,
    "start_time": "2023-07-11T11:33:13.256Z"
   },
   {
    "duration": 24,
    "start_time": "2023-07-11T11:33:22.129Z"
   },
   {
    "duration": 80,
    "start_time": "2023-07-11T11:35:11.930Z"
   },
   {
    "duration": 2238,
    "start_time": "2023-07-11T11:35:35.597Z"
   },
   {
    "duration": 41,
    "start_time": "2023-07-11T11:36:36.297Z"
   },
   {
    "duration": 3,
    "start_time": "2023-07-11T11:37:39.557Z"
   },
   {
    "duration": 377,
    "start_time": "2023-07-11T11:37:39.562Z"
   },
   {
    "duration": 21,
    "start_time": "2023-07-11T11:37:39.941Z"
   },
   {
    "duration": 18,
    "start_time": "2023-07-11T11:37:39.965Z"
   },
   {
    "duration": 120,
    "start_time": "2023-07-11T11:37:39.985Z"
   },
   {
    "duration": 7,
    "start_time": "2023-07-11T11:37:40.107Z"
   },
   {
    "duration": 69,
    "start_time": "2023-07-11T11:37:40.115Z"
   },
   {
    "duration": 17,
    "start_time": "2023-07-11T11:37:40.186Z"
   },
   {
    "duration": 75,
    "start_time": "2023-07-11T11:37:40.205Z"
   },
   {
    "duration": 47,
    "start_time": "2023-07-11T11:37:40.282Z"
   },
   {
    "duration": 28,
    "start_time": "2023-07-11T11:37:40.331Z"
   },
   {
    "duration": 27,
    "start_time": "2023-07-11T11:37:40.361Z"
   },
   {
    "duration": 7,
    "start_time": "2023-07-11T11:37:40.390Z"
   },
   {
    "duration": 24,
    "start_time": "2023-07-11T11:37:40.399Z"
   },
   {
    "duration": 30,
    "start_time": "2023-07-11T11:37:40.425Z"
   },
   {
    "duration": 35,
    "start_time": "2023-07-11T11:37:42.161Z"
   },
   {
    "duration": 16,
    "start_time": "2023-07-11T11:42:42.853Z"
   },
   {
    "duration": 4,
    "start_time": "2023-07-11T11:45:16.626Z"
   },
   {
    "duration": 377,
    "start_time": "2023-07-11T11:45:16.632Z"
   },
   {
    "duration": 28,
    "start_time": "2023-07-11T11:45:17.011Z"
   },
   {
    "duration": 39,
    "start_time": "2023-07-11T11:45:17.041Z"
   },
   {
    "duration": 79,
    "start_time": "2023-07-11T11:45:17.082Z"
   },
   {
    "duration": 6,
    "start_time": "2023-07-11T11:45:17.163Z"
   },
   {
    "duration": 64,
    "start_time": "2023-07-11T11:45:17.171Z"
   },
   {
    "duration": 20,
    "start_time": "2023-07-11T11:45:17.238Z"
   },
   {
    "duration": 30,
    "start_time": "2023-07-11T11:45:17.260Z"
   },
   {
    "duration": 29,
    "start_time": "2023-07-11T11:45:17.293Z"
   },
   {
    "duration": 26,
    "start_time": "2023-07-11T11:45:17.324Z"
   },
   {
    "duration": 44,
    "start_time": "2023-07-11T11:45:17.352Z"
   },
   {
    "duration": 8,
    "start_time": "2023-07-11T11:45:17.397Z"
   },
   {
    "duration": 20,
    "start_time": "2023-07-11T11:45:17.406Z"
   },
   {
    "duration": 16,
    "start_time": "2023-07-11T11:45:17.428Z"
   },
   {
    "duration": 36,
    "start_time": "2023-07-11T11:45:19.701Z"
   },
   {
    "duration": 36,
    "start_time": "2023-07-11T11:50:05.285Z"
   },
   {
    "duration": 3,
    "start_time": "2023-07-11T11:53:36.818Z"
   },
   {
    "duration": 300,
    "start_time": "2023-07-11T11:53:36.823Z"
   },
   {
    "duration": 30,
    "start_time": "2023-07-11T11:53:37.125Z"
   },
   {
    "duration": 35,
    "start_time": "2023-07-11T11:53:37.158Z"
   },
   {
    "duration": 63,
    "start_time": "2023-07-11T11:53:37.195Z"
   },
   {
    "duration": 6,
    "start_time": "2023-07-11T11:53:37.260Z"
   },
   {
    "duration": 45,
    "start_time": "2023-07-11T11:53:37.268Z"
   },
   {
    "duration": 16,
    "start_time": "2023-07-11T11:53:37.315Z"
   },
   {
    "duration": 60,
    "start_time": "2023-07-11T11:53:37.332Z"
   },
   {
    "duration": 56,
    "start_time": "2023-07-11T11:53:37.394Z"
   },
   {
    "duration": 51,
    "start_time": "2023-07-11T11:53:37.451Z"
   },
   {
    "duration": 26,
    "start_time": "2023-07-11T11:53:37.503Z"
   },
   {
    "duration": 9,
    "start_time": "2023-07-11T11:53:37.530Z"
   },
   {
    "duration": 30,
    "start_time": "2023-07-11T11:53:37.540Z"
   },
   {
    "duration": 31,
    "start_time": "2023-07-11T11:53:37.572Z"
   },
   {
    "duration": 39,
    "start_time": "2023-07-11T11:53:39.237Z"
   },
   {
    "duration": 41,
    "start_time": "2023-07-11T11:57:28.884Z"
   },
   {
    "duration": 52,
    "start_time": "2023-07-11T11:57:41.783Z"
   },
   {
    "duration": 3,
    "start_time": "2023-07-11T11:59:02.095Z"
   },
   {
    "duration": 305,
    "start_time": "2023-07-11T11:59:02.100Z"
   },
   {
    "duration": 20,
    "start_time": "2023-07-11T11:59:02.407Z"
   },
   {
    "duration": 56,
    "start_time": "2023-07-11T11:59:02.429Z"
   },
   {
    "duration": 63,
    "start_time": "2023-07-11T11:59:02.488Z"
   },
   {
    "duration": 70,
    "start_time": "2023-07-11T11:59:02.552Z"
   },
   {
    "duration": 51,
    "start_time": "2023-07-11T11:59:02.624Z"
   },
   {
    "duration": 16,
    "start_time": "2023-07-11T11:59:02.677Z"
   },
   {
    "duration": 22,
    "start_time": "2023-07-11T11:59:02.801Z"
   },
   {
    "duration": 25,
    "start_time": "2023-07-11T11:59:02.825Z"
   },
   {
    "duration": 48,
    "start_time": "2023-07-11T11:59:02.851Z"
   },
   {
    "duration": 26,
    "start_time": "2023-07-11T11:59:02.901Z"
   },
   {
    "duration": 7,
    "start_time": "2023-07-11T11:59:02.929Z"
   },
   {
    "duration": 16,
    "start_time": "2023-07-11T11:59:02.937Z"
   },
   {
    "duration": 35,
    "start_time": "2023-07-11T11:59:02.954Z"
   },
   {
    "duration": 43,
    "start_time": "2023-07-11T11:59:04.884Z"
   },
   {
    "duration": 6,
    "start_time": "2023-07-11T12:18:58.652Z"
   },
   {
    "duration": 29,
    "start_time": "2023-07-11T12:23:07.052Z"
   },
   {
    "duration": 38,
    "start_time": "2023-07-11T12:24:09.095Z"
   },
   {
    "duration": 924,
    "start_time": "2023-07-11T12:24:55.194Z"
   },
   {
    "duration": 308,
    "start_time": "2023-07-11T12:24:56.120Z"
   },
   {
    "duration": 24,
    "start_time": "2023-07-11T12:24:56.431Z"
   },
   {
    "duration": 13,
    "start_time": "2023-07-11T12:24:56.458Z"
   },
   {
    "duration": 60,
    "start_time": "2023-07-11T12:24:56.474Z"
   },
   {
    "duration": 7,
    "start_time": "2023-07-11T12:24:56.536Z"
   },
   {
    "duration": 44,
    "start_time": "2023-07-11T12:24:56.545Z"
   },
   {
    "duration": 16,
    "start_time": "2023-07-11T12:24:56.590Z"
   },
   {
    "duration": 22,
    "start_time": "2023-07-11T12:24:56.607Z"
   },
   {
    "duration": 26,
    "start_time": "2023-07-11T12:24:56.631Z"
   },
   {
    "duration": 37,
    "start_time": "2023-07-11T12:24:56.659Z"
   },
   {
    "duration": 23,
    "start_time": "2023-07-11T12:24:56.698Z"
   },
   {
    "duration": 7,
    "start_time": "2023-07-11T12:24:56.722Z"
   },
   {
    "duration": 11,
    "start_time": "2023-07-11T12:24:56.732Z"
   },
   {
    "duration": 34,
    "start_time": "2023-07-11T12:24:56.744Z"
   },
   {
    "duration": 43,
    "start_time": "2023-07-11T12:24:56.779Z"
   },
   {
    "duration": 6,
    "start_time": "2023-07-11T12:24:56.824Z"
   },
   {
    "duration": 191,
    "start_time": "2023-07-11T12:25:04.554Z"
   },
   {
    "duration": 152,
    "start_time": "2023-07-11T12:26:24.381Z"
   },
   {
    "duration": 590,
    "start_time": "2023-07-11T12:28:39.944Z"
   },
   {
    "duration": 3,
    "start_time": "2023-07-11T12:30:11.100Z"
   },
   {
    "duration": 314,
    "start_time": "2023-07-11T12:30:11.106Z"
   },
   {
    "duration": 23,
    "start_time": "2023-07-11T12:30:11.422Z"
   },
   {
    "duration": 39,
    "start_time": "2023-07-11T12:30:11.447Z"
   },
   {
    "duration": 81,
    "start_time": "2023-07-11T12:30:11.488Z"
   },
   {
    "duration": 6,
    "start_time": "2023-07-11T12:30:11.571Z"
   },
   {
    "duration": 56,
    "start_time": "2023-07-11T12:30:11.579Z"
   },
   {
    "duration": 29,
    "start_time": "2023-07-11T12:30:11.637Z"
   },
   {
    "duration": 38,
    "start_time": "2023-07-11T12:30:11.668Z"
   },
   {
    "duration": 34,
    "start_time": "2023-07-11T12:30:11.707Z"
   },
   {
    "duration": 31,
    "start_time": "2023-07-11T12:30:11.743Z"
   },
   {
    "duration": 42,
    "start_time": "2023-07-11T12:30:11.776Z"
   },
   {
    "duration": 9,
    "start_time": "2023-07-11T12:30:11.820Z"
   },
   {
    "duration": 22,
    "start_time": "2023-07-11T12:30:11.831Z"
   },
   {
    "duration": 25,
    "start_time": "2023-07-11T12:30:11.855Z"
   },
   {
    "duration": 55,
    "start_time": "2023-07-11T12:30:11.883Z"
   },
   {
    "duration": 6,
    "start_time": "2023-07-11T12:30:11.940Z"
   },
   {
    "duration": 497,
    "start_time": "2023-07-11T12:30:13.654Z"
   },
   {
    "duration": 3,
    "start_time": "2023-07-11T12:31:58.394Z"
   },
   {
    "duration": 475,
    "start_time": "2023-07-11T12:31:58.399Z"
   },
   {
    "duration": 20,
    "start_time": "2023-07-11T12:31:58.875Z"
   },
   {
    "duration": 12,
    "start_time": "2023-07-11T12:31:58.896Z"
   },
   {
    "duration": 65,
    "start_time": "2023-07-11T12:31:58.910Z"
   },
   {
    "duration": 6,
    "start_time": "2023-07-11T12:31:58.977Z"
   },
   {
    "duration": 53,
    "start_time": "2023-07-11T12:31:58.985Z"
   },
   {
    "duration": 16,
    "start_time": "2023-07-11T12:31:59.039Z"
   },
   {
    "duration": 44,
    "start_time": "2023-07-11T12:31:59.057Z"
   },
   {
    "duration": 45,
    "start_time": "2023-07-11T12:31:59.103Z"
   },
   {
    "duration": 39,
    "start_time": "2023-07-11T12:31:59.150Z"
   },
   {
    "duration": 31,
    "start_time": "2023-07-11T12:31:59.191Z"
   },
   {
    "duration": 11,
    "start_time": "2023-07-11T12:31:59.224Z"
   },
   {
    "duration": 31,
    "start_time": "2023-07-11T12:31:59.238Z"
   },
   {
    "duration": 36,
    "start_time": "2023-07-11T12:31:59.275Z"
   },
   {
    "duration": 47,
    "start_time": "2023-07-11T12:31:59.313Z"
   },
   {
    "duration": 8,
    "start_time": "2023-07-11T12:31:59.363Z"
   },
   {
    "duration": 137,
    "start_time": "2023-07-11T12:32:00.855Z"
   },
   {
    "duration": 3,
    "start_time": "2023-07-11T12:33:21.449Z"
   },
   {
    "duration": 395,
    "start_time": "2023-07-11T12:33:21.455Z"
   },
   {
    "duration": 20,
    "start_time": "2023-07-11T12:33:21.852Z"
   },
   {
    "duration": 52,
    "start_time": "2023-07-11T12:33:21.874Z"
   },
   {
    "duration": 60,
    "start_time": "2023-07-11T12:33:21.927Z"
   },
   {
    "duration": 5,
    "start_time": "2023-07-11T12:33:21.989Z"
   },
   {
    "duration": 57,
    "start_time": "2023-07-11T12:33:21.996Z"
   },
   {
    "duration": 21,
    "start_time": "2023-07-11T12:33:22.055Z"
   },
   {
    "duration": 58,
    "start_time": "2023-07-11T12:33:22.078Z"
   },
   {
    "duration": 49,
    "start_time": "2023-07-11T12:33:22.139Z"
   },
   {
    "duration": 28,
    "start_time": "2023-07-11T12:33:22.190Z"
   },
   {
    "duration": 27,
    "start_time": "2023-07-11T12:33:22.219Z"
   },
   {
    "duration": 27,
    "start_time": "2023-07-11T12:33:22.248Z"
   },
   {
    "duration": 9,
    "start_time": "2023-07-11T12:33:22.277Z"
   },
   {
    "duration": 23,
    "start_time": "2023-07-11T12:33:22.287Z"
   },
   {
    "duration": 58,
    "start_time": "2023-07-11T12:33:22.312Z"
   },
   {
    "duration": 86,
    "start_time": "2023-07-11T12:33:26.663Z"
   },
   {
    "duration": 5,
    "start_time": "2023-07-11T12:33:53.767Z"
   },
   {
    "duration": 480,
    "start_time": "2023-07-11T12:33:58.122Z"
   },
   {
    "duration": 5,
    "start_time": "2023-07-11T12:38:18.591Z"
   },
   {
    "duration": 465,
    "start_time": "2023-07-11T12:38:22.360Z"
   },
   {
    "duration": 5,
    "start_time": "2023-07-11T12:39:25.175Z"
   },
   {
    "duration": 765,
    "start_time": "2023-07-11T12:39:29.883Z"
   },
   {
    "duration": 7,
    "start_time": "2023-07-11T12:42:21.642Z"
   },
   {
    "duration": 1449,
    "start_time": "2023-07-11T12:42:24.791Z"
   },
   {
    "duration": 3,
    "start_time": "2023-07-11T12:42:45.099Z"
   },
   {
    "duration": 436,
    "start_time": "2023-07-11T12:42:45.104Z"
   },
   {
    "duration": 18,
    "start_time": "2023-07-11T12:42:45.542Z"
   },
   {
    "duration": 27,
    "start_time": "2023-07-11T12:42:45.562Z"
   },
   {
    "duration": 65,
    "start_time": "2023-07-11T12:42:45.591Z"
   },
   {
    "duration": 6,
    "start_time": "2023-07-11T12:42:45.657Z"
   },
   {
    "duration": 59,
    "start_time": "2023-07-11T12:42:45.665Z"
   },
   {
    "duration": 17,
    "start_time": "2023-07-11T12:42:45.725Z"
   },
   {
    "duration": 45,
    "start_time": "2023-07-11T12:42:45.743Z"
   },
   {
    "duration": 45,
    "start_time": "2023-07-11T12:42:45.789Z"
   },
   {
    "duration": 27,
    "start_time": "2023-07-11T12:42:45.835Z"
   },
   {
    "duration": 27,
    "start_time": "2023-07-11T12:42:45.864Z"
   },
   {
    "duration": 7,
    "start_time": "2023-07-11T12:42:45.893Z"
   },
   {
    "duration": 34,
    "start_time": "2023-07-11T12:42:45.902Z"
   },
   {
    "duration": 16,
    "start_time": "2023-07-11T12:42:45.937Z"
   },
   {
    "duration": 58,
    "start_time": "2023-07-11T12:42:45.954Z"
   },
   {
    "duration": 6,
    "start_time": "2023-07-11T12:42:46.014Z"
   },
   {
    "duration": 1707,
    "start_time": "2023-07-11T12:42:47.555Z"
   },
   {
    "duration": 6,
    "start_time": "2023-07-11T12:43:18.099Z"
   },
   {
    "duration": 504,
    "start_time": "2023-07-11T12:43:21.658Z"
   },
   {
    "duration": 6,
    "start_time": "2023-07-11T12:48:16.009Z"
   },
   {
    "duration": 741,
    "start_time": "2023-07-11T12:48:19.685Z"
   },
   {
    "duration": 6,
    "start_time": "2023-07-11T12:56:47.620Z"
   },
   {
    "duration": 430,
    "start_time": "2023-07-11T12:56:50.500Z"
   },
   {
    "duration": 69,
    "start_time": "2023-07-11T12:57:32.489Z"
   },
   {
    "duration": 441,
    "start_time": "2023-07-11T12:57:34.819Z"
   },
   {
    "duration": 5,
    "start_time": "2023-07-11T13:04:38.446Z"
   },
   {
    "duration": 68,
    "start_time": "2023-07-11T13:04:41.260Z"
   },
   {
    "duration": 3,
    "start_time": "2023-07-11T13:04:55.311Z"
   },
   {
    "duration": 406,
    "start_time": "2023-07-11T13:04:55.316Z"
   },
   {
    "duration": 25,
    "start_time": "2023-07-11T13:04:55.724Z"
   },
   {
    "duration": 31,
    "start_time": "2023-07-11T13:04:55.751Z"
   },
   {
    "duration": 43,
    "start_time": "2023-07-11T13:04:55.784Z"
   },
   {
    "duration": 5,
    "start_time": "2023-07-11T13:04:55.829Z"
   },
   {
    "duration": 47,
    "start_time": "2023-07-11T13:04:55.835Z"
   },
   {
    "duration": 16,
    "start_time": "2023-07-11T13:04:55.883Z"
   },
   {
    "duration": 27,
    "start_time": "2023-07-11T13:04:55.900Z"
   },
   {
    "duration": 23,
    "start_time": "2023-07-11T13:04:55.928Z"
   },
   {
    "duration": 39,
    "start_time": "2023-07-11T13:04:55.953Z"
   },
   {
    "duration": 24,
    "start_time": "2023-07-11T13:04:55.994Z"
   },
   {
    "duration": 6,
    "start_time": "2023-07-11T13:04:56.020Z"
   },
   {
    "duration": 9,
    "start_time": "2023-07-11T13:04:56.029Z"
   },
   {
    "duration": 40,
    "start_time": "2023-07-11T13:04:56.040Z"
   },
   {
    "duration": 41,
    "start_time": "2023-07-11T13:04:56.082Z"
   },
   {
    "duration": 5,
    "start_time": "2023-07-11T13:04:57.844Z"
   },
   {
    "duration": 74,
    "start_time": "2023-07-11T13:05:00.172Z"
   },
   {
    "duration": 6,
    "start_time": "2023-07-11T13:06:59.701Z"
   },
   {
    "duration": 435,
    "start_time": "2023-07-11T13:07:02.724Z"
   },
   {
    "duration": 7,
    "start_time": "2023-07-11T13:10:05.333Z"
   },
   {
    "duration": 77,
    "start_time": "2023-07-11T13:10:08.093Z"
   },
   {
    "duration": 6,
    "start_time": "2023-07-11T13:10:47.818Z"
   },
   {
    "duration": 421,
    "start_time": "2023-07-11T13:10:50.208Z"
   },
   {
    "duration": 8,
    "start_time": "2023-07-11T13:11:57.255Z"
   },
   {
    "duration": 424,
    "start_time": "2023-07-11T13:11:59.513Z"
   },
   {
    "duration": 5,
    "start_time": "2023-07-11T13:12:06.285Z"
   },
   {
    "duration": 1010,
    "start_time": "2023-07-11T13:12:06.293Z"
   },
   {
    "duration": 20,
    "start_time": "2023-07-11T13:12:07.305Z"
   },
   {
    "duration": 14,
    "start_time": "2023-07-11T13:12:07.327Z"
   },
   {
    "duration": 46,
    "start_time": "2023-07-11T13:12:07.343Z"
   },
   {
    "duration": 6,
    "start_time": "2023-07-11T13:12:07.390Z"
   },
   {
    "duration": 43,
    "start_time": "2023-07-11T13:12:07.397Z"
   },
   {
    "duration": 23,
    "start_time": "2023-07-11T13:12:07.441Z"
   },
   {
    "duration": 29,
    "start_time": "2023-07-11T13:12:07.478Z"
   },
   {
    "duration": 37,
    "start_time": "2023-07-11T13:12:07.509Z"
   },
   {
    "duration": 25,
    "start_time": "2023-07-11T13:12:07.547Z"
   },
   {
    "duration": 24,
    "start_time": "2023-07-11T13:12:07.573Z"
   },
   {
    "duration": 7,
    "start_time": "2023-07-11T13:12:07.599Z"
   },
   {
    "duration": 24,
    "start_time": "2023-07-11T13:12:07.607Z"
   },
   {
    "duration": 23,
    "start_time": "2023-07-11T13:12:07.632Z"
   },
   {
    "duration": 52,
    "start_time": "2023-07-11T13:12:07.656Z"
   },
   {
    "duration": 7,
    "start_time": "2023-07-11T13:12:07.709Z"
   },
   {
    "duration": 452,
    "start_time": "2023-07-11T13:12:09.502Z"
   },
   {
    "duration": 6,
    "start_time": "2023-07-11T13:13:08.004Z"
   },
   {
    "duration": 1519,
    "start_time": "2023-07-11T13:13:10.607Z"
   },
   {
    "duration": 4,
    "start_time": "2023-07-11T13:13:40.207Z"
   },
   {
    "duration": 262,
    "start_time": "2023-07-11T13:13:40.213Z"
   },
   {
    "duration": 19,
    "start_time": "2023-07-11T13:13:40.477Z"
   },
   {
    "duration": 11,
    "start_time": "2023-07-11T13:13:40.498Z"
   },
   {
    "duration": 46,
    "start_time": "2023-07-11T13:13:40.511Z"
   },
   {
    "duration": 19,
    "start_time": "2023-07-11T13:13:40.559Z"
   },
   {
    "duration": 37,
    "start_time": "2023-07-11T13:13:40.580Z"
   },
   {
    "duration": 16,
    "start_time": "2023-07-11T13:13:40.618Z"
   },
   {
    "duration": 27,
    "start_time": "2023-07-11T13:13:40.635Z"
   },
   {
    "duration": 36,
    "start_time": "2023-07-11T13:13:40.664Z"
   },
   {
    "duration": 29,
    "start_time": "2023-07-11T13:13:40.703Z"
   },
   {
    "duration": 24,
    "start_time": "2023-07-11T13:13:40.733Z"
   },
   {
    "duration": 18,
    "start_time": "2023-07-11T13:13:40.759Z"
   },
   {
    "duration": 26,
    "start_time": "2023-07-11T13:13:40.779Z"
   },
   {
    "duration": 17,
    "start_time": "2023-07-11T13:13:40.806Z"
   },
   {
    "duration": 50,
    "start_time": "2023-07-11T13:13:40.825Z"
   },
   {
    "duration": 6,
    "start_time": "2023-07-11T13:13:40.876Z"
   },
   {
    "duration": 1452,
    "start_time": "2023-07-11T13:13:44.109Z"
   },
   {
    "duration": 7,
    "start_time": "2023-07-11T13:14:19.001Z"
   },
   {
    "duration": 428,
    "start_time": "2023-07-11T13:14:21.426Z"
   },
   {
    "duration": 450,
    "start_time": "2023-07-11T13:15:14.159Z"
   },
   {
    "duration": 407,
    "start_time": "2023-07-11T13:16:02.798Z"
   },
   {
    "duration": 452,
    "start_time": "2023-07-11T13:16:16.857Z"
   },
   {
    "duration": 5,
    "start_time": "2023-07-11T13:16:50.092Z"
   },
   {
    "duration": 3,
    "start_time": "2023-07-11T18:57:14.441Z"
   },
   {
    "duration": 268,
    "start_time": "2023-07-11T18:57:14.447Z"
   },
   {
    "duration": 20,
    "start_time": "2023-07-11T18:57:14.716Z"
   },
   {
    "duration": 12,
    "start_time": "2023-07-11T18:57:14.737Z"
   },
   {
    "duration": 83,
    "start_time": "2023-07-11T18:57:14.752Z"
   },
   {
    "duration": 7,
    "start_time": "2023-07-11T18:57:14.837Z"
   },
   {
    "duration": 64,
    "start_time": "2023-07-11T18:57:14.846Z"
   },
   {
    "duration": 31,
    "start_time": "2023-07-11T18:57:14.912Z"
   },
   {
    "duration": 37,
    "start_time": "2023-07-11T18:57:14.944Z"
   },
   {
    "duration": 36,
    "start_time": "2023-07-11T18:57:14.982Z"
   },
   {
    "duration": 65,
    "start_time": "2023-07-11T18:57:15.020Z"
   },
   {
    "duration": 37,
    "start_time": "2023-07-11T18:57:15.087Z"
   },
   {
    "duration": 9,
    "start_time": "2023-07-11T18:57:15.126Z"
   },
   {
    "duration": 24,
    "start_time": "2023-07-11T18:57:15.140Z"
   },
   {
    "duration": 47,
    "start_time": "2023-07-11T18:57:15.166Z"
   },
   {
    "duration": 177,
    "start_time": "2023-07-11T18:57:15.215Z"
   },
   {
    "duration": 6,
    "start_time": "2023-07-11T18:57:15.394Z"
   },
   {
    "duration": 474,
    "start_time": "2023-07-11T18:57:15.401Z"
   },
   {
    "duration": 91,
    "start_time": "2023-07-11T18:57:21.067Z"
   },
   {
    "duration": 21,
    "start_time": "2023-07-11T18:58:03.597Z"
   },
   {
    "duration": 10898,
    "start_time": "2023-07-11T18:58:26.642Z"
   },
   {
    "duration": 665,
    "start_time": "2023-07-11T19:34:14.984Z"
   },
   {
    "duration": 274,
    "start_time": "2023-07-11T19:34:47.156Z"
   },
   {
    "duration": 23,
    "start_time": "2023-07-11T19:35:57.645Z"
   },
   {
    "duration": 24,
    "start_time": "2023-07-11T19:37:03.558Z"
   },
   {
    "duration": 22761,
    "start_time": "2023-07-11T19:42:34.463Z"
   },
   {
    "duration": 5,
    "start_time": "2023-07-11T19:43:29.533Z"
   },
   {
    "duration": 48,
    "start_time": "2023-07-11T19:52:26.988Z"
   },
   {
    "duration": 3,
    "start_time": "2023-07-11T19:57:15.465Z"
   },
   {
    "duration": 426,
    "start_time": "2023-07-11T19:57:15.470Z"
   },
   {
    "duration": 20,
    "start_time": "2023-07-11T19:57:15.898Z"
   },
   {
    "duration": 10,
    "start_time": "2023-07-11T19:57:15.920Z"
   },
   {
    "duration": 47,
    "start_time": "2023-07-11T19:57:15.932Z"
   },
   {
    "duration": 7,
    "start_time": "2023-07-11T19:57:15.981Z"
   },
   {
    "duration": 50,
    "start_time": "2023-07-11T19:57:15.990Z"
   },
   {
    "duration": 35,
    "start_time": "2023-07-11T19:57:16.041Z"
   },
   {
    "duration": 31,
    "start_time": "2023-07-11T19:57:16.079Z"
   },
   {
    "duration": 25,
    "start_time": "2023-07-11T19:57:16.112Z"
   },
   {
    "duration": 38,
    "start_time": "2023-07-11T19:57:16.138Z"
   },
   {
    "duration": 32,
    "start_time": "2023-07-11T19:57:16.178Z"
   },
   {
    "duration": 7,
    "start_time": "2023-07-11T19:57:16.211Z"
   },
   {
    "duration": 14,
    "start_time": "2023-07-11T19:57:16.220Z"
   },
   {
    "duration": 22,
    "start_time": "2023-07-11T19:57:16.235Z"
   },
   {
    "duration": 92,
    "start_time": "2023-07-11T19:57:16.258Z"
   },
   {
    "duration": 8,
    "start_time": "2023-07-11T19:57:16.352Z"
   },
   {
    "duration": 494,
    "start_time": "2023-07-11T19:57:16.362Z"
   },
   {
    "duration": 15,
    "start_time": "2023-07-11T19:57:22.305Z"
   },
   {
    "duration": 92,
    "start_time": "2023-07-11T20:02:31.636Z"
   },
   {
    "duration": 104,
    "start_time": "2023-07-11T20:03:36.197Z"
   },
   {
    "duration": 849,
    "start_time": "2023-07-11T20:04:22.234Z"
   },
   {
    "duration": 559,
    "start_time": "2023-07-11T20:04:39.738Z"
   },
   {
    "duration": 258,
    "start_time": "2023-07-11T20:06:08.187Z"
   },
   {
    "duration": 5,
    "start_time": "2023-07-11T20:06:26.778Z"
   },
   {
    "duration": 117,
    "start_time": "2023-07-11T20:07:12.419Z"
   },
   {
    "duration": 15,
    "start_time": "2023-07-11T20:07:19.965Z"
   },
   {
    "duration": 21,
    "start_time": "2023-07-11T20:07:42.583Z"
   },
   {
    "duration": 19,
    "start_time": "2023-07-11T20:08:15.982Z"
   },
   {
    "duration": 14,
    "start_time": "2023-07-11T20:09:58.377Z"
   },
   {
    "duration": 18,
    "start_time": "2023-07-11T20:10:42.980Z"
   },
   {
    "duration": 4,
    "start_time": "2023-07-11T20:11:05.789Z"
   },
   {
    "duration": 320,
    "start_time": "2023-07-11T20:11:05.795Z"
   },
   {
    "duration": 19,
    "start_time": "2023-07-11T20:11:06.117Z"
   },
   {
    "duration": 32,
    "start_time": "2023-07-11T20:11:06.138Z"
   },
   {
    "duration": 44,
    "start_time": "2023-07-11T20:11:06.172Z"
   },
   {
    "duration": 5,
    "start_time": "2023-07-11T20:11:06.218Z"
   },
   {
    "duration": 51,
    "start_time": "2023-07-11T20:11:06.224Z"
   },
   {
    "duration": 26,
    "start_time": "2023-07-11T20:11:06.277Z"
   },
   {
    "duration": 42,
    "start_time": "2023-07-11T20:11:06.305Z"
   },
   {
    "duration": 79,
    "start_time": "2023-07-11T20:11:06.350Z"
   },
   {
    "duration": 26,
    "start_time": "2023-07-11T20:11:06.431Z"
   },
   {
    "duration": 26,
    "start_time": "2023-07-11T20:11:06.459Z"
   },
   {
    "duration": 7,
    "start_time": "2023-07-11T20:11:06.487Z"
   },
   {
    "duration": 8,
    "start_time": "2023-07-11T20:11:06.496Z"
   },
   {
    "duration": 10,
    "start_time": "2023-07-11T20:11:06.506Z"
   },
   {
    "duration": 71,
    "start_time": "2023-07-11T20:11:06.518Z"
   },
   {
    "duration": 8,
    "start_time": "2023-07-11T20:11:06.591Z"
   },
   {
    "duration": 453,
    "start_time": "2023-07-11T20:11:06.601Z"
   },
   {
    "duration": 16,
    "start_time": "2023-07-11T20:11:10.100Z"
   },
   {
    "duration": 8,
    "start_time": "2023-07-11T20:16:56.434Z"
   },
   {
    "duration": 12,
    "start_time": "2023-07-11T20:17:18.214Z"
   },
   {
    "duration": 11,
    "start_time": "2023-07-11T20:17:44.206Z"
   },
   {
    "duration": 17,
    "start_time": "2023-07-11T20:17:55.256Z"
   },
   {
    "duration": 14,
    "start_time": "2023-07-11T20:18:34.735Z"
   },
   {
    "duration": 8,
    "start_time": "2023-07-11T20:20:55.848Z"
   },
   {
    "duration": 8,
    "start_time": "2023-07-11T20:21:31.039Z"
   },
   {
    "duration": 11,
    "start_time": "2023-07-11T20:21:47.118Z"
   },
   {
    "duration": 2763,
    "start_time": "2023-07-11T20:24:14.216Z"
   },
   {
    "duration": 5,
    "start_time": "2023-07-11T20:24:21.551Z"
   },
   {
    "duration": 3,
    "start_time": "2023-07-11T20:25:09.291Z"
   },
   {
    "duration": 395,
    "start_time": "2023-07-11T20:25:09.296Z"
   },
   {
    "duration": 18,
    "start_time": "2023-07-11T20:25:09.693Z"
   },
   {
    "duration": 17,
    "start_time": "2023-07-11T20:25:09.713Z"
   },
   {
    "duration": 56,
    "start_time": "2023-07-11T20:25:09.731Z"
   },
   {
    "duration": 5,
    "start_time": "2023-07-11T20:25:09.789Z"
   },
   {
    "duration": 51,
    "start_time": "2023-07-11T20:25:09.795Z"
   },
   {
    "duration": 15,
    "start_time": "2023-07-11T20:25:09.848Z"
   },
   {
    "duration": 26,
    "start_time": "2023-07-11T20:25:09.865Z"
   },
   {
    "duration": 34,
    "start_time": "2023-07-11T20:25:09.893Z"
   },
   {
    "duration": 23,
    "start_time": "2023-07-11T20:25:09.929Z"
   },
   {
    "duration": 41,
    "start_time": "2023-07-11T20:25:09.954Z"
   },
   {
    "duration": 7,
    "start_time": "2023-07-11T20:25:09.996Z"
   },
   {
    "duration": 50,
    "start_time": "2023-07-11T20:25:10.005Z"
   },
   {
    "duration": 35,
    "start_time": "2023-07-11T20:25:10.056Z"
   },
   {
    "duration": 75,
    "start_time": "2023-07-11T20:25:10.092Z"
   },
   {
    "duration": 5,
    "start_time": "2023-07-11T20:25:10.169Z"
   },
   {
    "duration": 460,
    "start_time": "2023-07-11T20:25:10.176Z"
   },
   {
    "duration": 2707,
    "start_time": "2023-07-11T20:25:16.744Z"
   },
   {
    "duration": 5,
    "start_time": "2023-07-11T20:25:23.528Z"
   },
   {
    "duration": 10,
    "start_time": "2023-07-11T20:25:37.496Z"
   },
   {
    "duration": 10,
    "start_time": "2023-07-11T20:27:12.001Z"
   },
   {
    "duration": 10,
    "start_time": "2023-07-11T20:28:27.306Z"
   },
   {
    "duration": 9,
    "start_time": "2023-07-11T20:29:35.049Z"
   },
   {
    "duration": 9,
    "start_time": "2023-07-11T20:31:51.355Z"
   },
   {
    "duration": 6,
    "start_time": "2023-07-11T20:35:18.927Z"
   },
   {
    "duration": 18,
    "start_time": "2023-07-11T20:37:16.845Z"
   },
   {
    "duration": 92,
    "start_time": "2023-07-11T20:37:45.435Z"
   },
   {
    "duration": 6,
    "start_time": "2023-07-11T20:37:54.170Z"
   },
   {
    "duration": 5,
    "start_time": "2023-07-11T20:38:55.548Z"
   },
   {
    "duration": 92,
    "start_time": "2023-07-11T20:40:57.676Z"
   },
   {
    "duration": 2670,
    "start_time": "2023-07-11T20:41:36.893Z"
   },
   {
    "duration": 6,
    "start_time": "2023-07-11T20:41:56.485Z"
   },
   {
    "duration": 412,
    "start_time": "2023-07-11T20:44:45.820Z"
   },
   {
    "duration": 2650,
    "start_time": "2023-07-11T20:45:32.790Z"
   },
   {
    "duration": 6,
    "start_time": "2023-07-11T20:45:48.309Z"
   },
   {
    "duration": 2758,
    "start_time": "2023-07-11T20:47:01.230Z"
   },
   {
    "duration": 5,
    "start_time": "2023-07-11T20:47:06.676Z"
   },
   {
    "duration": 428,
    "start_time": "2023-07-11T20:47:34.350Z"
   },
   {
    "duration": 3,
    "start_time": "2023-07-11T20:47:44.787Z"
   },
   {
    "duration": 572,
    "start_time": "2023-07-11T20:47:44.793Z"
   },
   {
    "duration": 22,
    "start_time": "2023-07-11T20:47:45.366Z"
   },
   {
    "duration": 16,
    "start_time": "2023-07-11T20:47:45.390Z"
   },
   {
    "duration": 47,
    "start_time": "2023-07-11T20:47:45.408Z"
   },
   {
    "duration": 19,
    "start_time": "2023-07-11T20:47:45.456Z"
   },
   {
    "duration": 52,
    "start_time": "2023-07-11T20:47:45.478Z"
   },
   {
    "duration": 27,
    "start_time": "2023-07-11T20:47:45.532Z"
   },
   {
    "duration": 29,
    "start_time": "2023-07-11T20:47:45.562Z"
   },
   {
    "duration": 37,
    "start_time": "2023-07-11T20:47:45.593Z"
   },
   {
    "duration": 44,
    "start_time": "2023-07-11T20:47:45.632Z"
   },
   {
    "duration": 26,
    "start_time": "2023-07-11T20:47:45.678Z"
   },
   {
    "duration": 7,
    "start_time": "2023-07-11T20:47:45.706Z"
   },
   {
    "duration": 9,
    "start_time": "2023-07-11T20:47:45.716Z"
   },
   {
    "duration": 11,
    "start_time": "2023-07-11T20:47:45.727Z"
   },
   {
    "duration": 74,
    "start_time": "2023-07-11T20:47:45.740Z"
   },
   {
    "duration": 5,
    "start_time": "2023-07-11T20:47:45.816Z"
   },
   {
    "duration": 506,
    "start_time": "2023-07-11T20:47:45.823Z"
   },
   {
    "duration": 2863,
    "start_time": "2023-07-11T20:47:49.634Z"
   },
   {
    "duration": 6,
    "start_time": "2023-07-11T20:47:53.363Z"
   },
   {
    "duration": 3,
    "start_time": "2023-07-11T20:57:17.964Z"
   },
   {
    "duration": 333,
    "start_time": "2023-07-11T20:57:17.968Z"
   },
   {
    "duration": 17,
    "start_time": "2023-07-11T20:57:18.303Z"
   },
   {
    "duration": 11,
    "start_time": "2023-07-11T20:57:18.322Z"
   },
   {
    "duration": 45,
    "start_time": "2023-07-11T20:57:18.335Z"
   },
   {
    "duration": 5,
    "start_time": "2023-07-11T20:57:18.382Z"
   },
   {
    "duration": 36,
    "start_time": "2023-07-11T20:57:18.389Z"
   },
   {
    "duration": 16,
    "start_time": "2023-07-11T20:57:18.426Z"
   },
   {
    "duration": 41,
    "start_time": "2023-07-11T20:57:18.443Z"
   },
   {
    "duration": 25,
    "start_time": "2023-07-11T20:57:18.486Z"
   },
   {
    "duration": 26,
    "start_time": "2023-07-11T20:57:18.513Z"
   },
   {
    "duration": 46,
    "start_time": "2023-07-11T20:57:18.540Z"
   },
   {
    "duration": 7,
    "start_time": "2023-07-11T20:57:18.588Z"
   },
   {
    "duration": 11,
    "start_time": "2023-07-11T20:57:18.596Z"
   },
   {
    "duration": 13,
    "start_time": "2023-07-11T20:57:18.608Z"
   },
   {
    "duration": 58,
    "start_time": "2023-07-11T20:57:18.622Z"
   },
   {
    "duration": 6,
    "start_time": "2023-07-11T20:57:18.682Z"
   },
   {
    "duration": 437,
    "start_time": "2023-07-11T20:57:18.689Z"
   },
   {
    "duration": 120,
    "start_time": "2023-07-11T20:57:21.858Z"
   },
   {
    "duration": 2,
    "start_time": "2023-07-11T21:00:44.600Z"
   },
   {
    "duration": 340,
    "start_time": "2023-07-11T21:00:44.604Z"
   },
   {
    "duration": 18,
    "start_time": "2023-07-11T21:00:44.946Z"
   },
   {
    "duration": 17,
    "start_time": "2023-07-11T21:00:44.965Z"
   },
   {
    "duration": 54,
    "start_time": "2023-07-11T21:00:44.984Z"
   },
   {
    "duration": 6,
    "start_time": "2023-07-11T21:00:45.040Z"
   },
   {
    "duration": 71,
    "start_time": "2023-07-11T21:00:45.048Z"
   },
   {
    "duration": 16,
    "start_time": "2023-07-11T21:00:45.121Z"
   },
   {
    "duration": 23,
    "start_time": "2023-07-11T21:00:45.138Z"
   },
   {
    "duration": 27,
    "start_time": "2023-07-11T21:00:45.162Z"
   },
   {
    "duration": 28,
    "start_time": "2023-07-11T21:00:45.191Z"
   },
   {
    "duration": 33,
    "start_time": "2023-07-11T21:00:45.222Z"
   },
   {
    "duration": 19,
    "start_time": "2023-07-11T21:00:45.257Z"
   },
   {
    "duration": 7,
    "start_time": "2023-07-11T21:00:45.278Z"
   },
   {
    "duration": 12,
    "start_time": "2023-07-11T21:00:45.286Z"
   },
   {
    "duration": 42,
    "start_time": "2023-07-11T21:00:45.300Z"
   },
   {
    "duration": 6,
    "start_time": "2023-07-11T21:00:45.344Z"
   },
   {
    "duration": 481,
    "start_time": "2023-07-11T21:00:45.351Z"
   },
   {
    "duration": 5,
    "start_time": "2023-07-11T21:00:48.245Z"
   },
   {
    "duration": 2714,
    "start_time": "2023-07-11T21:01:06.087Z"
   },
   {
    "duration": 5,
    "start_time": "2023-07-11T21:01:12.432Z"
   },
   {
    "duration": 40,
    "start_time": "2023-07-11T21:02:17.137Z"
   },
   {
    "duration": 43,
    "start_time": "2023-07-11T21:04:12.239Z"
   },
   {
    "duration": 44,
    "start_time": "2023-07-11T21:04:28.084Z"
   },
   {
    "duration": 49,
    "start_time": "2023-07-11T21:04:40.699Z"
   },
   {
    "duration": 60,
    "start_time": "2023-07-11T21:13:15.629Z"
   },
   {
    "duration": 41,
    "start_time": "2023-07-11T21:15:46.686Z"
   },
   {
    "duration": 38,
    "start_time": "2023-07-11T21:16:07.483Z"
   },
   {
    "duration": 46,
    "start_time": "2023-07-11T21:31:48.703Z"
   },
   {
    "duration": 49,
    "start_time": "2023-07-11T21:34:40.463Z"
   },
   {
    "duration": 49,
    "start_time": "2023-07-11T21:37:28.992Z"
   },
   {
    "duration": 2694,
    "start_time": "2023-07-11T21:42:15.289Z"
   },
   {
    "duration": 2335,
    "start_time": "2023-07-11T21:43:40.203Z"
   },
   {
    "duration": 1419,
    "start_time": "2023-07-11T21:44:25.027Z"
   },
   {
    "duration": 5,
    "start_time": "2023-07-11T21:44:37.648Z"
   },
   {
    "duration": 2474,
    "start_time": "2023-07-11T21:44:49.041Z"
   },
   {
    "duration": 14,
    "start_time": "2023-07-11T21:45:12.217Z"
   },
   {
    "duration": 4,
    "start_time": "2023-07-11T21:45:20.393Z"
   },
   {
    "duration": 2502,
    "start_time": "2023-07-11T21:45:51.297Z"
   },
   {
    "duration": 6,
    "start_time": "2023-07-11T21:46:12.697Z"
   },
   {
    "duration": 13,
    "start_time": "2023-07-11T21:46:30.792Z"
   },
   {
    "duration": 13,
    "start_time": "2023-07-11T21:46:52.541Z"
   },
   {
    "duration": 17,
    "start_time": "2023-07-11T21:47:13.530Z"
   },
   {
    "duration": 2447,
    "start_time": "2023-07-11T21:48:46.428Z"
   },
   {
    "duration": 16,
    "start_time": "2023-07-11T21:48:51.314Z"
   },
   {
    "duration": 16,
    "start_time": "2023-07-11T21:50:33.157Z"
   },
   {
    "duration": 11,
    "start_time": "2023-07-11T21:51:14.025Z"
   },
   {
    "duration": 1497,
    "start_time": "2023-07-12T13:45:20.433Z"
   },
   {
    "duration": 271,
    "start_time": "2023-07-12T13:45:21.932Z"
   },
   {
    "duration": 24,
    "start_time": "2023-07-12T13:45:22.205Z"
   },
   {
    "duration": 17,
    "start_time": "2023-07-12T13:45:22.231Z"
   },
   {
    "duration": 69,
    "start_time": "2023-07-12T13:45:22.250Z"
   },
   {
    "duration": 6,
    "start_time": "2023-07-12T13:45:22.321Z"
   },
   {
    "duration": 62,
    "start_time": "2023-07-12T13:45:22.329Z"
   },
   {
    "duration": 15,
    "start_time": "2023-07-12T13:45:22.394Z"
   },
   {
    "duration": 29,
    "start_time": "2023-07-12T13:45:22.411Z"
   },
   {
    "duration": 45,
    "start_time": "2023-07-12T13:45:22.443Z"
   },
   {
    "duration": 30,
    "start_time": "2023-07-12T13:45:22.490Z"
   },
   {
    "duration": 55,
    "start_time": "2023-07-12T13:45:22.523Z"
   },
   {
    "duration": 9,
    "start_time": "2023-07-12T13:45:22.580Z"
   },
   {
    "duration": 24,
    "start_time": "2023-07-12T13:45:22.591Z"
   },
   {
    "duration": 12,
    "start_time": "2023-07-12T13:45:22.619Z"
   },
   {
    "duration": 79,
    "start_time": "2023-07-12T13:45:22.633Z"
   },
   {
    "duration": 7,
    "start_time": "2023-07-12T13:45:22.714Z"
   },
   {
    "duration": 629,
    "start_time": "2023-07-12T13:45:22.724Z"
   },
   {
    "duration": 3353,
    "start_time": "2023-07-12T13:45:23.355Z"
   },
   {
    "duration": 2873,
    "start_time": "2023-07-12T13:45:26.710Z"
   },
   {
    "duration": 20,
    "start_time": "2023-07-12T13:45:29.585Z"
   },
   {
    "duration": 54,
    "start_time": "2023-07-12T13:56:06.155Z"
   },
   {
    "duration": 114,
    "start_time": "2023-07-12T13:57:09.543Z"
   },
   {
    "duration": 24,
    "start_time": "2023-07-12T14:12:15.334Z"
   },
   {
    "duration": 29,
    "start_time": "2023-07-12T14:12:34.609Z"
   },
   {
    "duration": 23,
    "start_time": "2023-07-12T14:13:06.738Z"
   },
   {
    "duration": 10,
    "start_time": "2023-07-12T14:13:30.218Z"
   },
   {
    "duration": 151,
    "start_time": "2023-07-12T14:13:55.962Z"
   },
   {
    "duration": 146,
    "start_time": "2023-07-12T14:15:10.961Z"
   },
   {
    "duration": 39,
    "start_time": "2023-07-12T14:16:23.666Z"
   },
   {
    "duration": 110,
    "start_time": "2023-07-12T14:16:46.025Z"
   },
   {
    "duration": 108,
    "start_time": "2023-07-12T14:17:06.696Z"
   },
   {
    "duration": 117,
    "start_time": "2023-07-12T14:19:11.398Z"
   },
   {
    "duration": 120,
    "start_time": "2023-07-12T14:19:22.906Z"
   },
   {
    "duration": 227,
    "start_time": "2023-07-12T14:19:29.946Z"
   },
   {
    "duration": 125,
    "start_time": "2023-07-12T14:19:41.163Z"
   },
   {
    "duration": 130,
    "start_time": "2023-07-12T14:20:31.331Z"
   },
   {
    "duration": 127,
    "start_time": "2023-07-12T14:21:20.426Z"
   },
   {
    "duration": 4,
    "start_time": "2023-07-12T14:21:44.062Z"
   },
   {
    "duration": 434,
    "start_time": "2023-07-12T14:21:44.073Z"
   },
   {
    "duration": 21,
    "start_time": "2023-07-12T14:21:44.509Z"
   },
   {
    "duration": 21,
    "start_time": "2023-07-12T14:21:44.532Z"
   },
   {
    "duration": 78,
    "start_time": "2023-07-12T14:21:44.555Z"
   },
   {
    "duration": 7,
    "start_time": "2023-07-12T14:21:44.635Z"
   },
   {
    "duration": 49,
    "start_time": "2023-07-12T14:21:44.644Z"
   },
   {
    "duration": 20,
    "start_time": "2023-07-12T14:21:44.698Z"
   },
   {
    "duration": 34,
    "start_time": "2023-07-12T14:21:44.720Z"
   },
   {
    "duration": 54,
    "start_time": "2023-07-12T14:21:44.756Z"
   },
   {
    "duration": 35,
    "start_time": "2023-07-12T14:21:44.812Z"
   },
   {
    "duration": 57,
    "start_time": "2023-07-12T14:21:44.851Z"
   },
   {
    "duration": 12,
    "start_time": "2023-07-12T14:21:44.910Z"
   },
   {
    "duration": 24,
    "start_time": "2023-07-12T14:21:44.925Z"
   },
   {
    "duration": 37,
    "start_time": "2023-07-12T14:21:44.952Z"
   },
   {
    "duration": 60,
    "start_time": "2023-07-12T14:21:44.991Z"
   },
   {
    "duration": 7,
    "start_time": "2023-07-12T14:21:45.054Z"
   },
   {
    "duration": 553,
    "start_time": "2023-07-12T14:21:45.063Z"
   },
   {
    "duration": 3559,
    "start_time": "2023-07-12T14:21:51.420Z"
   },
   {
    "duration": 3116,
    "start_time": "2023-07-12T14:21:56.207Z"
   },
   {
    "duration": 18,
    "start_time": "2023-07-12T14:21:59.563Z"
   },
   {
    "duration": 21,
    "start_time": "2023-07-12T14:22:14.239Z"
   },
   {
    "duration": 29,
    "start_time": "2023-07-12T14:22:30.793Z"
   },
   {
    "duration": 123,
    "start_time": "2023-07-12T14:22:33.302Z"
   },
   {
    "duration": 177,
    "start_time": "2023-07-12T14:25:38.708Z"
   },
   {
    "duration": 180,
    "start_time": "2023-07-12T14:26:05.261Z"
   },
   {
    "duration": 176,
    "start_time": "2023-07-12T14:27:19.533Z"
   },
   {
    "duration": 197,
    "start_time": "2023-07-12T14:27:43.621Z"
   },
   {
    "duration": 190,
    "start_time": "2023-07-12T14:28:29.269Z"
   },
   {
    "duration": 296,
    "start_time": "2023-07-12T14:28:39.221Z"
   },
   {
    "duration": 190,
    "start_time": "2023-07-12T14:28:45.261Z"
   },
   {
    "duration": 17,
    "start_time": "2023-07-12T14:29:33.796Z"
   },
   {
    "duration": 166,
    "start_time": "2023-07-12T14:30:43.300Z"
   },
   {
    "duration": 171,
    "start_time": "2023-07-12T14:30:55.201Z"
   },
   {
    "duration": 24,
    "start_time": "2023-07-12T14:32:48.625Z"
   },
   {
    "duration": 168,
    "start_time": "2023-07-12T14:34:17.709Z"
   },
   {
    "duration": 165,
    "start_time": "2023-07-12T14:34:40.699Z"
   },
   {
    "duration": 207,
    "start_time": "2023-07-12T14:35:23.408Z"
   },
   {
    "duration": 186,
    "start_time": "2023-07-12T14:36:58.141Z"
   },
   {
    "duration": 61,
    "start_time": "2023-07-12T16:12:05.218Z"
   },
   {
    "duration": 130,
    "start_time": "2023-07-12T16:13:46.544Z"
   },
   {
    "duration": 95,
    "start_time": "2023-07-12T16:13:57.047Z"
   },
   {
    "duration": 122,
    "start_time": "2023-07-12T16:14:07.546Z"
   },
   {
    "duration": 4,
    "start_time": "2023-07-12T16:14:34.658Z"
   },
   {
    "duration": 340,
    "start_time": "2023-07-12T16:14:34.664Z"
   },
   {
    "duration": 21,
    "start_time": "2023-07-12T16:14:35.006Z"
   },
   {
    "duration": 13,
    "start_time": "2023-07-12T16:14:35.030Z"
   },
   {
    "duration": 68,
    "start_time": "2023-07-12T16:14:35.044Z"
   },
   {
    "duration": 9,
    "start_time": "2023-07-12T16:14:35.113Z"
   },
   {
    "duration": 62,
    "start_time": "2023-07-12T16:14:35.124Z"
   },
   {
    "duration": 17,
    "start_time": "2023-07-12T16:14:35.188Z"
   },
   {
    "duration": 24,
    "start_time": "2023-07-12T16:14:35.207Z"
   },
   {
    "duration": 62,
    "start_time": "2023-07-12T16:14:35.234Z"
   },
   {
    "duration": 34,
    "start_time": "2023-07-12T16:14:35.298Z"
   },
   {
    "duration": 62,
    "start_time": "2023-07-12T16:14:35.334Z"
   },
   {
    "duration": 10,
    "start_time": "2023-07-12T16:14:35.398Z"
   },
   {
    "duration": 11,
    "start_time": "2023-07-12T16:14:35.410Z"
   },
   {
    "duration": 41,
    "start_time": "2023-07-12T16:14:35.423Z"
   },
   {
    "duration": 60,
    "start_time": "2023-07-12T16:14:35.466Z"
   },
   {
    "duration": 7,
    "start_time": "2023-07-12T16:14:35.528Z"
   },
   {
    "duration": 565,
    "start_time": "2023-07-12T16:14:35.537Z"
   },
   {
    "duration": 3273,
    "start_time": "2023-07-12T16:14:36.104Z"
   },
   {
    "duration": 2943,
    "start_time": "2023-07-12T16:14:39.381Z"
   },
   {
    "duration": 13,
    "start_time": "2023-07-12T16:14:42.326Z"
   },
   {
    "duration": 43,
    "start_time": "2023-07-12T16:14:42.341Z"
   },
   {
    "duration": 171,
    "start_time": "2023-07-12T16:14:42.386Z"
   },
   {
    "duration": 33,
    "start_time": "2023-07-12T16:14:42.559Z"
   },
   {
    "duration": 173,
    "start_time": "2023-07-12T16:14:42.594Z"
   },
   {
    "duration": 97,
    "start_time": "2023-07-12T16:14:46.034Z"
   },
   {
    "duration": 86,
    "start_time": "2023-07-12T16:16:05.884Z"
   },
   {
    "duration": 2045,
    "start_time": "2023-07-12T16:17:13.297Z"
   },
   {
    "duration": 2028,
    "start_time": "2023-07-12T16:17:31.899Z"
   },
   {
    "duration": 88,
    "start_time": "2023-07-12T16:18:31.583Z"
   },
   {
    "duration": 185,
    "start_time": "2023-07-12T16:18:39.505Z"
   },
   {
    "duration": 83,
    "start_time": "2023-07-12T16:19:29.146Z"
   },
   {
    "duration": 116,
    "start_time": "2023-07-12T16:19:44.403Z"
   },
   {
    "duration": 91,
    "start_time": "2023-07-12T16:19:55.938Z"
   },
   {
    "duration": 91,
    "start_time": "2023-07-12T16:20:02.302Z"
   },
   {
    "duration": 3,
    "start_time": "2023-07-12T16:20:32.295Z"
   },
   {
    "duration": 595,
    "start_time": "2023-07-12T16:20:32.301Z"
   },
   {
    "duration": 21,
    "start_time": "2023-07-12T16:20:32.898Z"
   },
   {
    "duration": 39,
    "start_time": "2023-07-12T16:20:32.921Z"
   },
   {
    "duration": 68,
    "start_time": "2023-07-12T16:20:32.963Z"
   },
   {
    "duration": 6,
    "start_time": "2023-07-12T16:20:33.033Z"
   },
   {
    "duration": 48,
    "start_time": "2023-07-12T16:20:33.041Z"
   },
   {
    "duration": 19,
    "start_time": "2023-07-12T16:20:33.091Z"
   },
   {
    "duration": 38,
    "start_time": "2023-07-12T16:20:33.113Z"
   },
   {
    "duration": 63,
    "start_time": "2023-07-12T16:20:33.153Z"
   },
   {
    "duration": 35,
    "start_time": "2023-07-12T16:20:33.219Z"
   },
   {
    "duration": 45,
    "start_time": "2023-07-12T16:20:33.257Z"
   },
   {
    "duration": 8,
    "start_time": "2023-07-12T16:20:33.304Z"
   },
   {
    "duration": 12,
    "start_time": "2023-07-12T16:20:33.315Z"
   },
   {
    "duration": 14,
    "start_time": "2023-07-12T16:20:33.329Z"
   },
   {
    "duration": 72,
    "start_time": "2023-07-12T16:20:33.345Z"
   },
   {
    "duration": 7,
    "start_time": "2023-07-12T16:20:33.419Z"
   },
   {
    "duration": 568,
    "start_time": "2023-07-12T16:20:33.427Z"
   },
   {
    "duration": 3272,
    "start_time": "2023-07-12T16:20:33.998Z"
   },
   {
    "duration": 2992,
    "start_time": "2023-07-12T16:20:37.272Z"
   },
   {
    "duration": 18,
    "start_time": "2023-07-12T16:20:40.266Z"
   },
   {
    "duration": 28,
    "start_time": "2023-07-12T16:20:40.286Z"
   },
   {
    "duration": 178,
    "start_time": "2023-07-12T16:20:40.316Z"
   },
   {
    "duration": 26,
    "start_time": "2023-07-12T16:20:40.496Z"
   },
   {
    "duration": 186,
    "start_time": "2023-07-12T16:20:40.524Z"
   },
   {
    "duration": 105,
    "start_time": "2023-07-12T16:20:48.384Z"
   },
   {
    "duration": 3,
    "start_time": "2023-07-12T16:21:42.117Z"
   },
   {
    "duration": 372,
    "start_time": "2023-07-12T16:21:42.122Z"
   },
   {
    "duration": 19,
    "start_time": "2023-07-12T16:21:42.495Z"
   },
   {
    "duration": 12,
    "start_time": "2023-07-12T16:21:42.516Z"
   },
   {
    "duration": 58,
    "start_time": "2023-07-12T16:21:42.529Z"
   },
   {
    "duration": 6,
    "start_time": "2023-07-12T16:21:42.589Z"
   },
   {
    "duration": 42,
    "start_time": "2023-07-12T16:21:42.597Z"
   },
   {
    "duration": 43,
    "start_time": "2023-07-12T16:21:42.642Z"
   },
   {
    "duration": 26,
    "start_time": "2023-07-12T16:21:42.687Z"
   },
   {
    "duration": 28,
    "start_time": "2023-07-12T16:21:42.716Z"
   },
   {
    "duration": 46,
    "start_time": "2023-07-12T16:21:42.746Z"
   },
   {
    "duration": 32,
    "start_time": "2023-07-12T16:21:42.794Z"
   },
   {
    "duration": 10,
    "start_time": "2023-07-12T16:21:42.828Z"
   },
   {
    "duration": 45,
    "start_time": "2023-07-12T16:21:42.839Z"
   },
   {
    "duration": 15,
    "start_time": "2023-07-12T16:21:42.886Z"
   },
   {
    "duration": 68,
    "start_time": "2023-07-12T16:21:42.903Z"
   },
   {
    "duration": 10,
    "start_time": "2023-07-12T16:21:42.973Z"
   },
   {
    "duration": 512,
    "start_time": "2023-07-12T16:21:42.985Z"
   },
   {
    "duration": 3297,
    "start_time": "2023-07-12T16:21:43.499Z"
   },
   {
    "duration": 2958,
    "start_time": "2023-07-12T16:21:46.798Z"
   },
   {
    "duration": 27,
    "start_time": "2023-07-12T16:21:49.759Z"
   },
   {
    "duration": 24,
    "start_time": "2023-07-12T16:21:49.789Z"
   },
   {
    "duration": 182,
    "start_time": "2023-07-12T16:21:49.814Z"
   },
   {
    "duration": 23,
    "start_time": "2023-07-12T16:21:49.997Z"
   },
   {
    "duration": 180,
    "start_time": "2023-07-12T16:21:50.022Z"
   },
   {
    "duration": 103,
    "start_time": "2023-07-12T16:21:57.994Z"
   },
   {
    "duration": 13,
    "start_time": "2023-07-12T16:24:05.473Z"
   },
   {
    "duration": 13,
    "start_time": "2023-07-12T16:25:45.802Z"
   },
   {
    "duration": 4,
    "start_time": "2023-07-12T16:31:24.547Z"
   },
   {
    "duration": 490,
    "start_time": "2023-07-12T16:31:24.554Z"
   },
   {
    "duration": 24,
    "start_time": "2023-07-12T16:31:25.046Z"
   },
   {
    "duration": 29,
    "start_time": "2023-07-12T16:31:25.077Z"
   },
   {
    "duration": 49,
    "start_time": "2023-07-12T16:31:25.114Z"
   },
   {
    "duration": 13,
    "start_time": "2023-07-12T16:31:25.166Z"
   },
   {
    "duration": 63,
    "start_time": "2023-07-12T16:31:25.190Z"
   },
   {
    "duration": 33,
    "start_time": "2023-07-12T16:31:25.255Z"
   },
   {
    "duration": 33,
    "start_time": "2023-07-12T16:31:25.290Z"
   },
   {
    "duration": 30,
    "start_time": "2023-07-12T16:31:25.326Z"
   },
   {
    "duration": 52,
    "start_time": "2023-07-12T16:31:25.358Z"
   },
   {
    "duration": 33,
    "start_time": "2023-07-12T16:31:25.412Z"
   },
   {
    "duration": 22,
    "start_time": "2023-07-12T16:31:25.448Z"
   },
   {
    "duration": 12,
    "start_time": "2023-07-12T16:31:25.473Z"
   },
   {
    "duration": 27,
    "start_time": "2023-07-12T16:31:25.487Z"
   },
   {
    "duration": 66,
    "start_time": "2023-07-12T16:31:25.516Z"
   },
   {
    "duration": 8,
    "start_time": "2023-07-12T16:31:25.584Z"
   },
   {
    "duration": 630,
    "start_time": "2023-07-12T16:31:25.593Z"
   },
   {
    "duration": 3914,
    "start_time": "2023-07-12T16:31:26.226Z"
   },
   {
    "duration": 3283,
    "start_time": "2023-07-12T16:31:30.142Z"
   },
   {
    "duration": 15,
    "start_time": "2023-07-12T16:31:33.428Z"
   },
   {
    "duration": 43,
    "start_time": "2023-07-12T16:31:33.445Z"
   },
   {
    "duration": 220,
    "start_time": "2023-07-12T16:31:33.504Z"
   },
   {
    "duration": 27,
    "start_time": "2023-07-12T16:31:33.726Z"
   },
   {
    "duration": 263,
    "start_time": "2023-07-12T16:31:33.755Z"
   },
   {
    "duration": 109,
    "start_time": "2023-07-12T16:31:38.220Z"
   },
   {
    "duration": 20,
    "start_time": "2023-07-12T16:41:47.762Z"
   },
   {
    "duration": 151,
    "start_time": "2023-07-12T16:47:13.330Z"
   },
   {
    "duration": 7,
    "start_time": "2023-07-12T16:47:33.598Z"
   },
   {
    "duration": 134,
    "start_time": "2023-07-12T16:47:36.002Z"
   },
   {
    "duration": 10,
    "start_time": "2023-07-12T16:49:09.049Z"
   },
   {
    "duration": 159,
    "start_time": "2023-07-12T16:49:11.732Z"
   },
   {
    "duration": 613,
    "start_time": "2023-07-12T16:50:26.218Z"
   },
   {
    "duration": 705,
    "start_time": "2023-07-12T16:52:18.600Z"
   },
   {
    "duration": 543,
    "start_time": "2023-07-12T16:53:17.698Z"
   },
   {
    "duration": 4,
    "start_time": "2023-07-12T17:19:33.792Z"
   },
   {
    "duration": 411,
    "start_time": "2023-07-12T17:19:33.802Z"
   },
   {
    "duration": 35,
    "start_time": "2023-07-12T17:19:34.216Z"
   },
   {
    "duration": 24,
    "start_time": "2023-07-12T17:19:34.253Z"
   },
   {
    "duration": 54,
    "start_time": "2023-07-12T17:19:34.281Z"
   },
   {
    "duration": 8,
    "start_time": "2023-07-12T17:19:34.338Z"
   },
   {
    "duration": 75,
    "start_time": "2023-07-12T17:19:34.349Z"
   },
   {
    "duration": 23,
    "start_time": "2023-07-12T17:19:34.427Z"
   },
   {
    "duration": 63,
    "start_time": "2023-07-12T17:19:34.452Z"
   },
   {
    "duration": 37,
    "start_time": "2023-07-12T17:19:34.517Z"
   },
   {
    "duration": 39,
    "start_time": "2023-07-12T17:19:34.556Z"
   },
   {
    "duration": 34,
    "start_time": "2023-07-12T17:19:34.597Z"
   },
   {
    "duration": 12,
    "start_time": "2023-07-12T17:19:34.633Z"
   },
   {
    "duration": 36,
    "start_time": "2023-07-12T17:19:34.647Z"
   },
   {
    "duration": 12,
    "start_time": "2023-07-12T17:19:34.691Z"
   },
   {
    "duration": 70,
    "start_time": "2023-07-12T17:19:34.705Z"
   },
   {
    "duration": 13,
    "start_time": "2023-07-12T17:19:34.781Z"
   },
   {
    "duration": 606,
    "start_time": "2023-07-12T17:19:34.796Z"
   },
   {
    "duration": 3379,
    "start_time": "2023-07-12T17:19:35.404Z"
   },
   {
    "duration": 3040,
    "start_time": "2023-07-12T17:19:38.785Z"
   },
   {
    "duration": 15,
    "start_time": "2023-07-12T17:19:41.826Z"
   },
   {
    "duration": 43,
    "start_time": "2023-07-12T17:19:41.844Z"
   },
   {
    "duration": 209,
    "start_time": "2023-07-12T17:19:41.890Z"
   },
   {
    "duration": 27,
    "start_time": "2023-07-12T17:19:42.103Z"
   },
   {
    "duration": 203,
    "start_time": "2023-07-12T17:19:42.133Z"
   },
   {
    "duration": 168,
    "start_time": "2023-07-12T17:19:42.338Z"
   },
   {
    "duration": 9,
    "start_time": "2023-07-12T17:19:42.509Z"
   },
   {
    "duration": 596,
    "start_time": "2023-07-12T17:19:42.520Z"
   },
   {
    "duration": 17,
    "start_time": "2023-07-12T17:23:59.742Z"
   },
   {
    "duration": 32,
    "start_time": "2023-07-12T17:26:04.087Z"
   },
   {
    "duration": 506,
    "start_time": "2023-07-12T17:27:29.168Z"
   },
   {
    "duration": 553,
    "start_time": "2023-07-12T17:27:55.945Z"
   },
   {
    "duration": 516,
    "start_time": "2023-07-12T17:29:08.104Z"
   },
   {
    "duration": 3,
    "start_time": "2023-07-12T17:36:45.639Z"
   },
   {
    "duration": 407,
    "start_time": "2023-07-12T17:36:45.645Z"
   },
   {
    "duration": 28,
    "start_time": "2023-07-12T17:36:46.054Z"
   },
   {
    "duration": 20,
    "start_time": "2023-07-12T17:36:46.085Z"
   },
   {
    "duration": 77,
    "start_time": "2023-07-12T17:36:46.108Z"
   },
   {
    "duration": 9,
    "start_time": "2023-07-12T17:36:46.188Z"
   },
   {
    "duration": 87,
    "start_time": "2023-07-12T17:36:46.199Z"
   },
   {
    "duration": 19,
    "start_time": "2023-07-12T17:36:46.289Z"
   },
   {
    "duration": 25,
    "start_time": "2023-07-12T17:36:46.310Z"
   },
   {
    "duration": 57,
    "start_time": "2023-07-12T17:36:46.337Z"
   },
   {
    "duration": 34,
    "start_time": "2023-07-12T17:36:46.397Z"
   },
   {
    "duration": 46,
    "start_time": "2023-07-12T17:36:46.433Z"
   },
   {
    "duration": 8,
    "start_time": "2023-07-12T17:36:46.484Z"
   },
   {
    "duration": 17,
    "start_time": "2023-07-12T17:36:46.494Z"
   },
   {
    "duration": 20,
    "start_time": "2023-07-12T17:36:46.513Z"
   },
   {
    "duration": 62,
    "start_time": "2023-07-12T17:36:46.535Z"
   },
   {
    "duration": 7,
    "start_time": "2023-07-12T17:36:46.599Z"
   },
   {
    "duration": 581,
    "start_time": "2023-07-12T17:36:46.608Z"
   },
   {
    "duration": 3348,
    "start_time": "2023-07-12T17:36:47.191Z"
   },
   {
    "duration": 2958,
    "start_time": "2023-07-12T17:36:50.541Z"
   },
   {
    "duration": 14,
    "start_time": "2023-07-12T17:36:53.501Z"
   },
   {
    "duration": 63,
    "start_time": "2023-07-12T17:36:53.517Z"
   },
   {
    "duration": 167,
    "start_time": "2023-07-12T17:36:53.582Z"
   },
   {
    "duration": 36,
    "start_time": "2023-07-12T17:36:53.751Z"
   },
   {
    "duration": 367,
    "start_time": "2023-07-12T17:36:53.788Z"
   },
   {
    "duration": 159,
    "start_time": "2023-07-12T17:36:54.157Z"
   },
   {
    "duration": 10,
    "start_time": "2023-07-12T17:36:54.318Z"
   },
   {
    "duration": 618,
    "start_time": "2023-07-12T17:36:54.330Z"
   },
   {
    "duration": 53,
    "start_time": "2023-07-12T20:14:07.530Z"
   },
   {
    "duration": 1438,
    "start_time": "2023-07-12T20:14:20.949Z"
   },
   {
    "duration": 299,
    "start_time": "2023-07-12T20:14:22.390Z"
   },
   {
    "duration": 26,
    "start_time": "2023-07-12T20:14:22.690Z"
   },
   {
    "duration": 17,
    "start_time": "2023-07-12T20:14:22.718Z"
   },
   {
    "duration": 55,
    "start_time": "2023-07-12T20:14:22.739Z"
   },
   {
    "duration": 6,
    "start_time": "2023-07-12T20:14:22.795Z"
   },
   {
    "duration": 39,
    "start_time": "2023-07-12T20:14:22.802Z"
   },
   {
    "duration": 25,
    "start_time": "2023-07-12T20:14:22.843Z"
   },
   {
    "duration": 24,
    "start_time": "2023-07-12T20:14:22.869Z"
   },
   {
    "duration": 26,
    "start_time": "2023-07-12T20:14:22.895Z"
   },
   {
    "duration": 53,
    "start_time": "2023-07-12T20:14:22.922Z"
   },
   {
    "duration": 29,
    "start_time": "2023-07-12T20:14:22.976Z"
   },
   {
    "duration": 9,
    "start_time": "2023-07-12T20:14:23.007Z"
   },
   {
    "duration": 10,
    "start_time": "2023-07-12T20:14:23.018Z"
   },
   {
    "duration": 35,
    "start_time": "2023-07-12T20:14:23.029Z"
   },
   {
    "duration": 51,
    "start_time": "2023-07-12T20:14:23.066Z"
   },
   {
    "duration": 7,
    "start_time": "2023-07-12T20:14:23.119Z"
   },
   {
    "duration": 604,
    "start_time": "2023-07-12T20:14:23.128Z"
   },
   {
    "duration": 3163,
    "start_time": "2023-07-12T20:14:23.734Z"
   },
   {
    "duration": 2862,
    "start_time": "2023-07-12T20:14:26.899Z"
   },
   {
    "duration": 14,
    "start_time": "2023-07-12T20:14:29.763Z"
   },
   {
    "duration": 26,
    "start_time": "2023-07-12T20:14:29.779Z"
   },
   {
    "duration": 192,
    "start_time": "2023-07-12T20:14:29.806Z"
   },
   {
    "duration": 23,
    "start_time": "2023-07-12T20:14:30.000Z"
   },
   {
    "duration": 181,
    "start_time": "2023-07-12T20:14:30.025Z"
   },
   {
    "duration": 109,
    "start_time": "2023-07-12T20:14:30.208Z"
   },
   {
    "duration": 7,
    "start_time": "2023-07-12T20:14:30.319Z"
   },
   {
    "duration": 550,
    "start_time": "2023-07-12T20:14:30.328Z"
   },
   {
    "duration": 25,
    "start_time": "2023-07-12T20:14:36.248Z"
   },
   {
    "duration": 22,
    "start_time": "2023-07-12T20:15:20.691Z"
   },
   {
    "duration": 25,
    "start_time": "2023-07-12T20:15:30.199Z"
   },
   {
    "duration": 28,
    "start_time": "2023-07-12T20:15:56.875Z"
   },
   {
    "duration": 26,
    "start_time": "2023-07-12T20:16:38.256Z"
   },
   {
    "duration": 112,
    "start_time": "2023-07-12T20:34:14.882Z"
   },
   {
    "duration": 114,
    "start_time": "2023-07-12T20:35:17.068Z"
   },
   {
    "duration": 110,
    "start_time": "2023-07-12T20:36:02.900Z"
   },
   {
    "duration": 187,
    "start_time": "2023-07-12T20:37:00.850Z"
   },
   {
    "duration": 110,
    "start_time": "2023-07-12T20:46:50.488Z"
   },
   {
    "duration": 102,
    "start_time": "2023-07-12T20:47:20.430Z"
   },
   {
    "duration": 1783,
    "start_time": "2023-07-12T20:47:45.786Z"
   },
   {
    "duration": 1807,
    "start_time": "2023-07-12T20:48:50.760Z"
   },
   {
    "duration": 1863,
    "start_time": "2023-07-12T20:49:13.326Z"
   },
   {
    "duration": 33,
    "start_time": "2023-07-12T20:49:47.257Z"
   },
   {
    "duration": 28,
    "start_time": "2023-07-12T20:52:25.551Z"
   },
   {
    "duration": 1767,
    "start_time": "2023-07-12T20:52:53.011Z"
   },
   {
    "duration": 30,
    "start_time": "2023-07-12T20:53:03.496Z"
   },
   {
    "duration": 1868,
    "start_time": "2023-07-12T20:53:30.111Z"
   },
   {
    "duration": 1875,
    "start_time": "2023-07-12T20:53:59.825Z"
   },
   {
    "duration": 3,
    "start_time": "2023-07-12T20:55:07.091Z"
   },
   {
    "duration": 286,
    "start_time": "2023-07-12T20:55:07.096Z"
   },
   {
    "duration": 31,
    "start_time": "2023-07-12T20:55:07.387Z"
   },
   {
    "duration": 34,
    "start_time": "2023-07-12T20:55:07.420Z"
   },
   {
    "duration": 63,
    "start_time": "2023-07-12T20:55:07.457Z"
   },
   {
    "duration": 7,
    "start_time": "2023-07-12T20:55:07.521Z"
   },
   {
    "duration": 58,
    "start_time": "2023-07-12T20:55:07.529Z"
   },
   {
    "duration": 17,
    "start_time": "2023-07-12T20:55:07.588Z"
   },
   {
    "duration": 32,
    "start_time": "2023-07-12T20:55:07.607Z"
   },
   {
    "duration": 52,
    "start_time": "2023-07-12T20:55:07.641Z"
   },
   {
    "duration": 27,
    "start_time": "2023-07-12T20:55:07.695Z"
   },
   {
    "duration": 37,
    "start_time": "2023-07-12T20:55:07.725Z"
   },
   {
    "duration": 7,
    "start_time": "2023-07-12T20:55:07.769Z"
   },
   {
    "duration": 9,
    "start_time": "2023-07-12T20:55:07.780Z"
   },
   {
    "duration": 27,
    "start_time": "2023-07-12T20:55:07.791Z"
   },
   {
    "duration": 65,
    "start_time": "2023-07-12T20:55:07.820Z"
   },
   {
    "duration": 6,
    "start_time": "2023-07-12T20:55:07.886Z"
   },
   {
    "duration": 543,
    "start_time": "2023-07-12T20:55:07.894Z"
   },
   {
    "duration": 3185,
    "start_time": "2023-07-12T20:55:08.439Z"
   },
   {
    "duration": 2902,
    "start_time": "2023-07-12T20:55:11.625Z"
   },
   {
    "duration": 12,
    "start_time": "2023-07-12T20:55:14.529Z"
   },
   {
    "duration": 30,
    "start_time": "2023-07-12T20:55:14.555Z"
   },
   {
    "duration": 194,
    "start_time": "2023-07-12T20:55:14.587Z"
   },
   {
    "duration": 22,
    "start_time": "2023-07-12T20:55:14.783Z"
   },
   {
    "duration": 284,
    "start_time": "2023-07-12T20:55:14.807Z"
   },
   {
    "duration": 111,
    "start_time": "2023-07-12T20:55:15.092Z"
   },
   {
    "duration": 7,
    "start_time": "2023-07-12T20:55:15.205Z"
   },
   {
    "duration": 583,
    "start_time": "2023-07-12T20:55:15.214Z"
   },
   {
    "duration": 1878,
    "start_time": "2023-07-12T20:55:18.498Z"
   },
   {
    "duration": 1849,
    "start_time": "2023-07-12T20:58:50.412Z"
   },
   {
    "duration": 35,
    "start_time": "2023-07-12T20:59:35.042Z"
   },
   {
    "duration": 27,
    "start_time": "2023-07-12T21:00:15.769Z"
   },
   {
    "duration": 1838,
    "start_time": "2023-07-12T21:00:41.190Z"
   },
   {
    "duration": 24,
    "start_time": "2023-07-12T21:00:49.435Z"
   },
   {
    "duration": 22,
    "start_time": "2023-07-12T21:01:09.194Z"
   },
   {
    "duration": 1772,
    "start_time": "2023-07-12T21:01:33.485Z"
   },
   {
    "duration": 11,
    "start_time": "2023-07-12T21:04:04.836Z"
   },
   {
    "duration": 1278,
    "start_time": "2023-07-12T21:04:31.139Z"
   },
   {
    "duration": 1342,
    "start_time": "2023-07-12T21:04:44.319Z"
   },
   {
    "duration": 14,
    "start_time": "2023-07-12T21:04:50.634Z"
   },
   {
    "duration": 1336,
    "start_time": "2023-07-12T21:10:06.740Z"
   },
   {
    "duration": 14,
    "start_time": "2023-07-12T21:10:10.110Z"
   },
   {
    "duration": 1273,
    "start_time": "2023-07-12T21:11:34.014Z"
   },
   {
    "duration": 13,
    "start_time": "2023-07-12T21:11:38.338Z"
   },
   {
    "duration": 5,
    "start_time": "2023-07-12T21:12:28.140Z"
   },
   {
    "duration": 4,
    "start_time": "2023-07-12T21:13:44.053Z"
   },
   {
    "duration": 4,
    "start_time": "2023-07-12T21:14:20.038Z"
   },
   {
    "duration": 3,
    "start_time": "2023-07-12T21:14:58.734Z"
   },
   {
    "duration": 245,
    "start_time": "2023-07-12T21:14:58.740Z"
   },
   {
    "duration": 20,
    "start_time": "2023-07-12T21:14:58.987Z"
   },
   {
    "duration": 32,
    "start_time": "2023-07-12T21:14:59.009Z"
   },
   {
    "duration": 71,
    "start_time": "2023-07-12T21:14:59.044Z"
   },
   {
    "duration": 6,
    "start_time": "2023-07-12T21:14:59.118Z"
   },
   {
    "duration": 61,
    "start_time": "2023-07-12T21:14:59.126Z"
   },
   {
    "duration": 16,
    "start_time": "2023-07-12T21:14:59.189Z"
   },
   {
    "duration": 44,
    "start_time": "2023-07-12T21:14:59.207Z"
   },
   {
    "duration": 45,
    "start_time": "2023-07-12T21:14:59.252Z"
   },
   {
    "duration": 36,
    "start_time": "2023-07-12T21:14:59.299Z"
   },
   {
    "duration": 28,
    "start_time": "2023-07-12T21:14:59.336Z"
   },
   {
    "duration": 8,
    "start_time": "2023-07-12T21:14:59.366Z"
   },
   {
    "duration": 35,
    "start_time": "2023-07-12T21:14:59.378Z"
   },
   {
    "duration": 31,
    "start_time": "2023-07-12T21:14:59.416Z"
   },
   {
    "duration": 59,
    "start_time": "2023-07-12T21:14:59.449Z"
   },
   {
    "duration": 6,
    "start_time": "2023-07-12T21:14:59.510Z"
   },
   {
    "duration": 540,
    "start_time": "2023-07-12T21:14:59.518Z"
   },
   {
    "duration": 2965,
    "start_time": "2023-07-12T21:15:00.060Z"
   },
   {
    "duration": 2750,
    "start_time": "2023-07-12T21:15:03.027Z"
   },
   {
    "duration": 12,
    "start_time": "2023-07-12T21:15:05.779Z"
   },
   {
    "duration": 24,
    "start_time": "2023-07-12T21:15:05.793Z"
   },
   {
    "duration": 181,
    "start_time": "2023-07-12T21:15:05.819Z"
   },
   {
    "duration": 22,
    "start_time": "2023-07-12T21:15:06.002Z"
   },
   {
    "duration": 167,
    "start_time": "2023-07-12T21:15:06.026Z"
   },
   {
    "duration": 98,
    "start_time": "2023-07-12T21:15:06.195Z"
   },
   {
    "duration": 6,
    "start_time": "2023-07-12T21:15:06.295Z"
   },
   {
    "duration": 569,
    "start_time": "2023-07-12T21:15:06.303Z"
   },
   {
    "duration": 1317,
    "start_time": "2023-07-12T21:15:10.645Z"
   },
   {
    "duration": 14,
    "start_time": "2023-07-12T21:15:14.851Z"
   },
   {
    "duration": 4,
    "start_time": "2023-07-12T21:15:38.611Z"
   },
   {
    "duration": 1675,
    "start_time": "2023-07-12T21:20:45.173Z"
   },
   {
    "duration": 12,
    "start_time": "2023-07-12T21:20:49.103Z"
   },
   {
    "duration": 24,
    "start_time": "2023-07-12T21:24:37.710Z"
   },
   {
    "duration": 1626,
    "start_time": "2023-07-12T21:24:41.662Z"
   },
   {
    "duration": 13,
    "start_time": "2023-07-12T21:27:26.011Z"
   },
   {
    "duration": 37,
    "start_time": "2023-07-12T21:30:12.306Z"
   },
   {
    "duration": 36,
    "start_time": "2023-07-12T21:30:50.911Z"
   },
   {
    "duration": 4,
    "start_time": "2023-07-12T21:31:53.223Z"
   },
   {
    "duration": 262,
    "start_time": "2023-07-12T21:31:53.228Z"
   },
   {
    "duration": 22,
    "start_time": "2023-07-12T21:31:53.492Z"
   },
   {
    "duration": 27,
    "start_time": "2023-07-12T21:31:53.515Z"
   },
   {
    "duration": 64,
    "start_time": "2023-07-12T21:31:53.544Z"
   },
   {
    "duration": 6,
    "start_time": "2023-07-12T21:31:53.611Z"
   },
   {
    "duration": 41,
    "start_time": "2023-07-12T21:31:53.619Z"
   },
   {
    "duration": 17,
    "start_time": "2023-07-12T21:31:53.661Z"
   },
   {
    "duration": 27,
    "start_time": "2023-07-12T21:31:53.680Z"
   },
   {
    "duration": 46,
    "start_time": "2023-07-12T21:31:53.709Z"
   },
   {
    "duration": 30,
    "start_time": "2023-07-12T21:31:53.756Z"
   },
   {
    "duration": 30,
    "start_time": "2023-07-12T21:31:53.788Z"
   },
   {
    "duration": 8,
    "start_time": "2023-07-12T21:31:53.819Z"
   },
   {
    "duration": 30,
    "start_time": "2023-07-12T21:31:53.830Z"
   },
   {
    "duration": 17,
    "start_time": "2023-07-12T21:31:53.862Z"
   },
   {
    "duration": 45,
    "start_time": "2023-07-12T21:31:53.880Z"
   },
   {
    "duration": 6,
    "start_time": "2023-07-12T21:31:53.927Z"
   },
   {
    "duration": 539,
    "start_time": "2023-07-12T21:31:53.934Z"
   },
   {
    "duration": 3030,
    "start_time": "2023-07-12T21:31:54.475Z"
   },
   {
    "duration": 2801,
    "start_time": "2023-07-12T21:31:57.507Z"
   },
   {
    "duration": 12,
    "start_time": "2023-07-12T21:32:00.310Z"
   },
   {
    "duration": 40,
    "start_time": "2023-07-12T21:32:00.324Z"
   },
   {
    "duration": 178,
    "start_time": "2023-07-12T21:32:00.365Z"
   },
   {
    "duration": 26,
    "start_time": "2023-07-12T21:32:00.545Z"
   },
   {
    "duration": 164,
    "start_time": "2023-07-12T21:32:00.573Z"
   },
   {
    "duration": 99,
    "start_time": "2023-07-12T21:32:00.739Z"
   },
   {
    "duration": 16,
    "start_time": "2023-07-12T21:32:00.840Z"
   },
   {
    "duration": 686,
    "start_time": "2023-07-12T21:32:00.858Z"
   },
   {
    "duration": 28,
    "start_time": "2023-07-12T21:32:01.546Z"
   },
   {
    "duration": 1633,
    "start_time": "2023-07-12T21:32:01.576Z"
   },
   {
    "duration": 34,
    "start_time": "2023-07-12T21:32:05.623Z"
   },
   {
    "duration": 1288,
    "start_time": "2023-07-13T10:01:07.111Z"
   },
   {
    "duration": 273,
    "start_time": "2023-07-13T10:01:08.402Z"
   },
   {
    "duration": 20,
    "start_time": "2023-07-13T10:01:08.677Z"
   },
   {
    "duration": 16,
    "start_time": "2023-07-13T10:01:08.699Z"
   },
   {
    "duration": 54,
    "start_time": "2023-07-13T10:01:08.718Z"
   },
   {
    "duration": 6,
    "start_time": "2023-07-13T10:01:08.774Z"
   },
   {
    "duration": 73,
    "start_time": "2023-07-13T10:01:08.781Z"
   },
   {
    "duration": 17,
    "start_time": "2023-07-13T10:01:08.857Z"
   },
   {
    "duration": 36,
    "start_time": "2023-07-13T10:01:08.876Z"
   },
   {
    "duration": 26,
    "start_time": "2023-07-13T10:01:08.914Z"
   },
   {
    "duration": 39,
    "start_time": "2023-07-13T10:01:08.942Z"
   },
   {
    "duration": 25,
    "start_time": "2023-07-13T10:01:08.982Z"
   },
   {
    "duration": 7,
    "start_time": "2023-07-13T10:01:09.009Z"
   },
   {
    "duration": 8,
    "start_time": "2023-07-13T10:01:09.018Z"
   },
   {
    "duration": 40,
    "start_time": "2023-07-13T10:01:09.027Z"
   },
   {
    "duration": 48,
    "start_time": "2023-07-13T10:01:09.069Z"
   },
   {
    "duration": 6,
    "start_time": "2023-07-13T10:01:09.120Z"
   },
   {
    "duration": 539,
    "start_time": "2023-07-13T10:01:09.128Z"
   },
   {
    "duration": 2713,
    "start_time": "2023-07-13T10:01:09.669Z"
   },
   {
    "duration": 2630,
    "start_time": "2023-07-13T10:01:12.384Z"
   },
   {
    "duration": 13,
    "start_time": "2023-07-13T10:01:15.017Z"
   },
   {
    "duration": 101,
    "start_time": "2023-07-13T10:01:15.032Z"
   },
   {
    "duration": 153,
    "start_time": "2023-07-13T10:01:15.134Z"
   },
   {
    "duration": 20,
    "start_time": "2023-07-13T10:01:15.289Z"
   },
   {
    "duration": 159,
    "start_time": "2023-07-13T10:01:15.311Z"
   },
   {
    "duration": 106,
    "start_time": "2023-07-13T10:01:15.471Z"
   },
   {
    "duration": 7,
    "start_time": "2023-07-13T10:01:15.579Z"
   },
   {
    "duration": 480,
    "start_time": "2023-07-13T10:01:15.587Z"
   },
   {
    "duration": 25,
    "start_time": "2023-07-13T10:01:16.069Z"
   },
   {
    "duration": 1503,
    "start_time": "2023-07-13T10:01:16.096Z"
   },
   {
    "duration": 32,
    "start_time": "2023-07-13T10:01:17.601Z"
   },
   {
    "duration": 458,
    "start_time": "2023-07-13T10:02:36.574Z"
   },
   {
    "duration": 1447,
    "start_time": "2023-07-13T10:06:43.041Z"
   },
   {
    "duration": 40,
    "start_time": "2023-07-13T10:07:01.557Z"
   },
   {
    "duration": 158,
    "start_time": "2023-07-13T10:07:11.931Z"
   },
   {
    "duration": 3,
    "start_time": "2023-07-13T10:07:31.659Z"
   },
   {
    "duration": 267,
    "start_time": "2023-07-13T10:07:31.664Z"
   },
   {
    "duration": 17,
    "start_time": "2023-07-13T10:07:31.934Z"
   },
   {
    "duration": 30,
    "start_time": "2023-07-13T10:07:31.953Z"
   },
   {
    "duration": 62,
    "start_time": "2023-07-13T10:07:31.986Z"
   },
   {
    "duration": 7,
    "start_time": "2023-07-13T10:07:32.050Z"
   },
   {
    "duration": 47,
    "start_time": "2023-07-13T10:07:32.059Z"
   },
   {
    "duration": 13,
    "start_time": "2023-07-13T10:07:32.108Z"
   },
   {
    "duration": 26,
    "start_time": "2023-07-13T10:07:32.122Z"
   },
   {
    "duration": 61,
    "start_time": "2023-07-13T10:07:32.149Z"
   },
   {
    "duration": 50,
    "start_time": "2023-07-13T10:07:32.213Z"
   },
   {
    "duration": 28,
    "start_time": "2023-07-13T10:07:32.265Z"
   },
   {
    "duration": 9,
    "start_time": "2023-07-13T10:07:32.295Z"
   },
   {
    "duration": 19,
    "start_time": "2023-07-13T10:07:32.306Z"
   },
   {
    "duration": 30,
    "start_time": "2023-07-13T10:07:32.327Z"
   },
   {
    "duration": 96,
    "start_time": "2023-07-13T10:07:32.359Z"
   },
   {
    "duration": 5,
    "start_time": "2023-07-13T10:07:32.458Z"
   },
   {
    "duration": 473,
    "start_time": "2023-07-13T10:07:32.465Z"
   },
   {
    "duration": 2716,
    "start_time": "2023-07-13T10:07:32.940Z"
   },
   {
    "duration": 2702,
    "start_time": "2023-07-13T10:07:35.658Z"
   },
   {
    "duration": 14,
    "start_time": "2023-07-13T10:07:38.362Z"
   },
   {
    "duration": 28,
    "start_time": "2023-07-13T10:07:38.379Z"
   },
   {
    "duration": 173,
    "start_time": "2023-07-13T10:07:38.408Z"
   },
   {
    "duration": 20,
    "start_time": "2023-07-13T10:07:38.583Z"
   },
   {
    "duration": 156,
    "start_time": "2023-07-13T10:07:38.604Z"
   },
   {
    "duration": 113,
    "start_time": "2023-07-13T10:07:38.762Z"
   },
   {
    "duration": 9,
    "start_time": "2023-07-13T10:07:38.878Z"
   },
   {
    "duration": 471,
    "start_time": "2023-07-13T10:07:38.889Z"
   },
   {
    "duration": 25,
    "start_time": "2023-07-13T10:07:39.364Z"
   },
   {
    "duration": 1481,
    "start_time": "2023-07-13T10:07:39.391Z"
   },
   {
    "duration": 31,
    "start_time": "2023-07-13T10:07:44.609Z"
   },
   {
    "duration": 465,
    "start_time": "2023-07-13T10:07:50.319Z"
   },
   {
    "duration": 475,
    "start_time": "2023-07-13T10:11:42.853Z"
   },
   {
    "duration": 1368,
    "start_time": "2023-07-15T18:07:49.673Z"
   },
   {
    "duration": 355,
    "start_time": "2023-07-15T18:07:51.043Z"
   },
   {
    "duration": 21,
    "start_time": "2023-07-15T18:07:51.400Z"
   },
   {
    "duration": 12,
    "start_time": "2023-07-15T18:07:51.422Z"
   },
   {
    "duration": 49,
    "start_time": "2023-07-15T18:07:51.436Z"
   },
   {
    "duration": 21,
    "start_time": "2023-07-15T18:07:51.487Z"
   },
   {
    "duration": 36,
    "start_time": "2023-07-15T18:07:51.510Z"
   },
   {
    "duration": 14,
    "start_time": "2023-07-15T18:07:51.548Z"
   },
   {
    "duration": 46,
    "start_time": "2023-07-15T18:07:51.563Z"
   },
   {
    "duration": 25,
    "start_time": "2023-07-15T18:07:51.611Z"
   },
   {
    "duration": 28,
    "start_time": "2023-07-15T18:07:51.638Z"
   },
   {
    "duration": 52,
    "start_time": "2023-07-15T18:07:51.668Z"
   },
   {
    "duration": 9,
    "start_time": "2023-07-15T18:07:51.722Z"
   },
   {
    "duration": 19,
    "start_time": "2023-07-15T18:07:51.734Z"
   },
   {
    "duration": 33,
    "start_time": "2023-07-15T18:07:51.754Z"
   },
   {
    "duration": 62,
    "start_time": "2023-07-15T18:07:51.789Z"
   },
   {
    "duration": 6,
    "start_time": "2023-07-15T18:07:51.853Z"
   },
   {
    "duration": 560,
    "start_time": "2023-07-15T18:07:51.861Z"
   },
   {
    "duration": 2723,
    "start_time": "2023-07-15T18:07:52.423Z"
   },
   {
    "duration": 2607,
    "start_time": "2023-07-15T18:07:55.148Z"
   },
   {
    "duration": 12,
    "start_time": "2023-07-15T18:07:57.757Z"
   },
   {
    "duration": 51,
    "start_time": "2023-07-15T18:07:57.770Z"
   },
   {
    "duration": 158,
    "start_time": "2023-07-15T18:07:57.823Z"
   },
   {
    "duration": 33,
    "start_time": "2023-07-15T18:07:57.983Z"
   },
   {
    "duration": 158,
    "start_time": "2023-07-15T18:07:58.018Z"
   },
   {
    "duration": 97,
    "start_time": "2023-07-15T18:07:58.178Z"
   },
   {
    "duration": 7,
    "start_time": "2023-07-15T18:07:58.276Z"
   },
   {
    "duration": 535,
    "start_time": "2023-07-15T18:07:58.285Z"
   },
   {
    "duration": 28,
    "start_time": "2023-07-15T18:07:58.822Z"
   },
   {
    "duration": 1651,
    "start_time": "2023-07-15T18:07:58.851Z"
   },
   {
    "duration": 39,
    "start_time": "2023-07-15T18:08:00.504Z"
   },
   {
    "duration": 582,
    "start_time": "2023-07-15T18:08:00.545Z"
   },
   {
    "duration": 506,
    "start_time": "2023-07-15T18:08:01.130Z"
   },
   {
    "duration": 25,
    "start_time": "2023-07-15T18:08:01.638Z"
   },
   {
    "duration": 23,
    "start_time": "2023-07-15T18:21:14.516Z"
   },
   {
    "duration": 24,
    "start_time": "2023-07-15T18:21:36.514Z"
   },
   {
    "duration": 26,
    "start_time": "2023-07-15T18:24:37.328Z"
   },
   {
    "duration": 29,
    "start_time": "2023-07-15T18:25:06.589Z"
   },
   {
    "duration": 26,
    "start_time": "2023-07-15T18:25:54.665Z"
   },
   {
    "duration": 124,
    "start_time": "2023-07-15T18:28:51.890Z"
   },
   {
    "duration": 29,
    "start_time": "2023-07-15T18:29:49.489Z"
   },
   {
    "duration": 27,
    "start_time": "2023-07-15T18:31:17.996Z"
   },
   {
    "duration": 23,
    "start_time": "2023-07-15T18:31:34.604Z"
   },
   {
    "duration": 25,
    "start_time": "2023-07-15T18:31:49.618Z"
   },
   {
    "duration": 28,
    "start_time": "2023-07-15T18:34:57.723Z"
   },
   {
    "duration": 26,
    "start_time": "2023-07-15T18:35:33.067Z"
   },
   {
    "duration": 290,
    "start_time": "2023-07-15T18:47:00.646Z"
   },
   {
    "duration": 5,
    "start_time": "2023-07-15T18:48:41.014Z"
   },
   {
    "duration": 31,
    "start_time": "2023-07-15T18:49:21.285Z"
   },
   {
    "duration": 39,
    "start_time": "2023-07-15T18:49:57.590Z"
   },
   {
    "duration": 10,
    "start_time": "2023-07-15T18:50:33.489Z"
   },
   {
    "duration": 37,
    "start_time": "2023-07-15T18:50:58.328Z"
   },
   {
    "duration": 32,
    "start_time": "2023-07-15T18:51:18.502Z"
   },
   {
    "duration": 25,
    "start_time": "2023-07-15T18:53:15.145Z"
   },
   {
    "duration": 33,
    "start_time": "2023-07-15T18:57:15.383Z"
   },
   {
    "duration": 126,
    "start_time": "2023-07-15T19:05:18.181Z"
   },
   {
    "duration": 2533,
    "start_time": "2023-07-15T19:05:25.818Z"
   },
   {
    "duration": 31,
    "start_time": "2023-07-15T19:07:18.507Z"
   },
   {
    "duration": 1735,
    "start_time": "2023-07-15T19:07:48.437Z"
   },
   {
    "duration": 34,
    "start_time": "2023-07-15T19:08:11.994Z"
   },
   {
    "duration": 29,
    "start_time": "2023-07-15T19:08:24.922Z"
   },
   {
    "duration": 29,
    "start_time": "2023-07-15T19:08:42.299Z"
   },
   {
    "duration": 27,
    "start_time": "2023-07-15T19:14:31.534Z"
   },
   {
    "duration": 38,
    "start_time": "2023-07-15T19:24:45.222Z"
   },
   {
    "duration": 44,
    "start_time": "2023-07-15T19:25:12.351Z"
   },
   {
    "duration": 122,
    "start_time": "2023-07-15T19:31:30.246Z"
   },
   {
    "duration": 116,
    "start_time": "2023-07-15T19:32:43.480Z"
   },
   {
    "duration": 115,
    "start_time": "2023-07-15T19:33:01.808Z"
   },
   {
    "duration": 121,
    "start_time": "2023-07-15T19:33:23.805Z"
   },
   {
    "duration": 56,
    "start_time": "2023-07-16T07:04:56.443Z"
   },
   {
    "duration": 1499,
    "start_time": "2023-07-16T07:05:12.853Z"
   },
   {
    "duration": 335,
    "start_time": "2023-07-16T07:05:14.354Z"
   },
   {
    "duration": 36,
    "start_time": "2023-07-16T07:05:14.692Z"
   },
   {
    "duration": 26,
    "start_time": "2023-07-16T07:05:14.731Z"
   },
   {
    "duration": 58,
    "start_time": "2023-07-16T07:05:14.759Z"
   },
   {
    "duration": 6,
    "start_time": "2023-07-16T07:05:14.819Z"
   },
   {
    "duration": 53,
    "start_time": "2023-07-16T07:05:14.827Z"
   },
   {
    "duration": 27,
    "start_time": "2023-07-16T07:05:14.883Z"
   },
   {
    "duration": 57,
    "start_time": "2023-07-16T07:05:14.912Z"
   },
   {
    "duration": 47,
    "start_time": "2023-07-16T07:05:14.973Z"
   },
   {
    "duration": 46,
    "start_time": "2023-07-16T07:05:15.022Z"
   },
   {
    "duration": 38,
    "start_time": "2023-07-16T07:05:15.069Z"
   },
   {
    "duration": 9,
    "start_time": "2023-07-16T07:05:15.109Z"
   },
   {
    "duration": 17,
    "start_time": "2023-07-16T07:05:15.120Z"
   },
   {
    "duration": 23,
    "start_time": "2023-07-16T07:05:15.138Z"
   },
   {
    "duration": 59,
    "start_time": "2023-07-16T07:05:15.163Z"
   },
   {
    "duration": 12,
    "start_time": "2023-07-16T07:05:15.224Z"
   },
   {
    "duration": 583,
    "start_time": "2023-07-16T07:05:15.238Z"
   },
   {
    "duration": 3085,
    "start_time": "2023-07-16T07:05:15.823Z"
   },
   {
    "duration": 2597,
    "start_time": "2023-07-16T07:05:18.910Z"
   },
   {
    "duration": 12,
    "start_time": "2023-07-16T07:05:21.508Z"
   },
   {
    "duration": 43,
    "start_time": "2023-07-16T07:05:21.522Z"
   },
   {
    "duration": 166,
    "start_time": "2023-07-16T07:05:21.567Z"
   },
   {
    "duration": 31,
    "start_time": "2023-07-16T07:05:21.735Z"
   },
   {
    "duration": 158,
    "start_time": "2023-07-16T07:05:21.768Z"
   },
   {
    "duration": 112,
    "start_time": "2023-07-16T07:05:21.928Z"
   },
   {
    "duration": 8,
    "start_time": "2023-07-16T07:05:22.042Z"
   },
   {
    "duration": 517,
    "start_time": "2023-07-16T07:05:22.062Z"
   },
   {
    "duration": 31,
    "start_time": "2023-07-16T07:05:22.581Z"
   },
   {
    "duration": 1717,
    "start_time": "2023-07-16T07:05:22.613Z"
   },
   {
    "duration": 47,
    "start_time": "2023-07-16T07:05:24.332Z"
   },
   {
    "duration": 556,
    "start_time": "2023-07-16T07:05:24.381Z"
   },
   {
    "duration": 573,
    "start_time": "2023-07-16T07:05:24.939Z"
   },
   {
    "duration": 26,
    "start_time": "2023-07-16T07:05:25.513Z"
   },
   {
    "duration": 285,
    "start_time": "2023-07-16T07:05:25.541Z"
   },
   {
    "duration": 122,
    "start_time": "2023-07-16T07:06:35.986Z"
   },
   {
    "duration": 171,
    "start_time": "2023-07-16T07:06:48.898Z"
   },
   {
    "duration": 111,
    "start_time": "2023-07-16T07:12:03.389Z"
   },
   {
    "duration": 9,
    "start_time": "2023-07-16T07:16:27.204Z"
   },
   {
    "duration": 7,
    "start_time": "2023-07-16T07:18:15.971Z"
   },
   {
    "duration": 15,
    "start_time": "2023-07-16T07:19:50.755Z"
   },
   {
    "duration": 10,
    "start_time": "2023-07-16T07:19:56.243Z"
   },
   {
    "duration": 10,
    "start_time": "2023-07-16T07:20:15.776Z"
   },
   {
    "duration": 14,
    "start_time": "2023-07-16T07:20:44.890Z"
   },
   {
    "duration": 6,
    "start_time": "2023-07-16T07:21:08.868Z"
   },
   {
    "duration": 16,
    "start_time": "2023-07-16T07:21:11.075Z"
   },
   {
    "duration": 4,
    "start_time": "2023-07-16T07:21:39.788Z"
   },
   {
    "duration": 18,
    "start_time": "2023-07-16T07:21:44.203Z"
   },
   {
    "duration": 3,
    "start_time": "2023-07-16T07:22:03.371Z"
   },
   {
    "duration": 6,
    "start_time": "2023-07-16T07:22:07.738Z"
   },
   {
    "duration": 8,
    "start_time": "2023-07-16T07:22:37.286Z"
   },
   {
    "duration": 8,
    "start_time": "2023-07-16T07:22:40.051Z"
   },
   {
    "duration": 154,
    "start_time": "2023-07-16T07:28:15.188Z"
   },
   {
    "duration": 6,
    "start_time": "2023-07-16T07:29:27.805Z"
   },
   {
    "duration": 6,
    "start_time": "2023-07-16T07:29:30.439Z"
   },
   {
    "duration": 13,
    "start_time": "2023-07-16T07:35:44.726Z"
   },
   {
    "duration": 75,
    "start_time": "2023-07-16T07:36:32.183Z"
   },
   {
    "duration": 12,
    "start_time": "2023-07-16T07:38:29.213Z"
   },
   {
    "duration": 128,
    "start_time": "2023-07-16T07:45:46.575Z"
   },
   {
    "duration": 286,
    "start_time": "2023-07-16T07:48:29.897Z"
   },
   {
    "duration": 288,
    "start_time": "2023-07-16T07:48:42.914Z"
   },
   {
    "duration": 3,
    "start_time": "2023-07-16T07:49:04.506Z"
   },
   {
    "duration": 5,
    "start_time": "2023-07-16T07:49:34.617Z"
   },
   {
    "duration": 313,
    "start_time": "2023-07-16T07:50:00.684Z"
   },
   {
    "duration": 4,
    "start_time": "2023-07-16T07:50:25.489Z"
   },
   {
    "duration": 4,
    "start_time": "2023-07-16T07:50:36.712Z"
   },
   {
    "duration": 246,
    "start_time": "2023-07-16T07:52:26.018Z"
   },
   {
    "duration": 4,
    "start_time": "2023-07-16T07:53:24.801Z"
   },
   {
    "duration": 284,
    "start_time": "2023-07-16T07:54:04.369Z"
   },
   {
    "duration": 275,
    "start_time": "2023-07-16T08:02:22.484Z"
   },
   {
    "duration": 302,
    "start_time": "2023-07-16T08:02:34.747Z"
   },
   {
    "duration": 275,
    "start_time": "2023-07-16T08:02:56.491Z"
   },
   {
    "duration": 216,
    "start_time": "2023-07-16T08:03:12.363Z"
   },
   {
    "duration": 268,
    "start_time": "2023-07-16T08:03:50.844Z"
   },
   {
    "duration": 85,
    "start_time": "2023-07-16T08:09:00.659Z"
   },
   {
    "duration": 71,
    "start_time": "2023-07-16T08:09:24.572Z"
   },
   {
    "duration": 49,
    "start_time": "2023-07-16T08:12:26.080Z"
   },
   {
    "duration": 120,
    "start_time": "2023-07-16T08:14:51.184Z"
   },
   {
    "duration": 25,
    "start_time": "2023-07-16T08:15:09.170Z"
   },
   {
    "duration": 44,
    "start_time": "2023-07-16T08:18:15.016Z"
   },
   {
    "duration": 26,
    "start_time": "2023-07-16T08:19:01.078Z"
   },
   {
    "duration": 4,
    "start_time": "2023-07-16T08:57:50.435Z"
   },
   {
    "duration": 305,
    "start_time": "2023-07-16T08:57:50.441Z"
   },
   {
    "duration": 21,
    "start_time": "2023-07-16T08:57:50.748Z"
   },
   {
    "duration": 30,
    "start_time": "2023-07-16T08:57:50.771Z"
   },
   {
    "duration": 61,
    "start_time": "2023-07-16T08:57:50.804Z"
   },
   {
    "duration": 6,
    "start_time": "2023-07-16T08:57:50.867Z"
   },
   {
    "duration": 54,
    "start_time": "2023-07-16T08:57:50.875Z"
   },
   {
    "duration": 29,
    "start_time": "2023-07-16T08:57:50.931Z"
   },
   {
    "duration": 52,
    "start_time": "2023-07-16T08:57:50.962Z"
   },
   {
    "duration": 55,
    "start_time": "2023-07-16T08:57:51.016Z"
   },
   {
    "duration": 31,
    "start_time": "2023-07-16T08:57:51.073Z"
   },
   {
    "duration": 38,
    "start_time": "2023-07-16T08:57:51.105Z"
   },
   {
    "duration": 8,
    "start_time": "2023-07-16T08:57:51.160Z"
   },
   {
    "duration": 29,
    "start_time": "2023-07-16T08:57:51.172Z"
   },
   {
    "duration": 17,
    "start_time": "2023-07-16T08:57:51.204Z"
   },
   {
    "duration": 71,
    "start_time": "2023-07-16T08:57:51.223Z"
   },
   {
    "duration": 7,
    "start_time": "2023-07-16T08:57:51.296Z"
   },
   {
    "duration": 544,
    "start_time": "2023-07-16T08:57:51.305Z"
   },
   {
    "duration": 3141,
    "start_time": "2023-07-16T08:58:07.709Z"
   },
   {
    "duration": 2726,
    "start_time": "2023-07-16T08:58:14.446Z"
   },
   {
    "duration": 12,
    "start_time": "2023-07-16T08:58:19.382Z"
   },
   {
    "duration": 3313,
    "start_time": "2023-07-16T09:00:21.846Z"
   },
   {
    "duration": 2797,
    "start_time": "2023-07-16T09:00:27.462Z"
   },
   {
    "duration": 12,
    "start_time": "2023-07-16T09:00:33.944Z"
   },
   {
    "duration": 2855,
    "start_time": "2023-07-16T09:10:24.641Z"
   },
   {
    "duration": 18,
    "start_time": "2023-07-16T09:10:31.282Z"
   },
   {
    "duration": 4,
    "start_time": "2023-07-16T09:11:11.772Z"
   },
   {
    "duration": 348,
    "start_time": "2023-07-16T09:11:11.778Z"
   },
   {
    "duration": 32,
    "start_time": "2023-07-16T09:11:12.129Z"
   },
   {
    "duration": 21,
    "start_time": "2023-07-16T09:11:12.163Z"
   },
   {
    "duration": 94,
    "start_time": "2023-07-16T09:11:12.187Z"
   },
   {
    "duration": 8,
    "start_time": "2023-07-16T09:11:12.283Z"
   },
   {
    "duration": 67,
    "start_time": "2023-07-16T09:11:12.293Z"
   },
   {
    "duration": 40,
    "start_time": "2023-07-16T09:11:12.362Z"
   },
   {
    "duration": 35,
    "start_time": "2023-07-16T09:11:12.405Z"
   },
   {
    "duration": 38,
    "start_time": "2023-07-16T09:11:12.443Z"
   },
   {
    "duration": 33,
    "start_time": "2023-07-16T09:11:12.483Z"
   },
   {
    "duration": 72,
    "start_time": "2023-07-16T09:11:12.518Z"
   },
   {
    "duration": 12,
    "start_time": "2023-07-16T09:11:12.592Z"
   },
   {
    "duration": 10,
    "start_time": "2023-07-16T09:11:12.608Z"
   },
   {
    "duration": 12,
    "start_time": "2023-07-16T09:11:12.620Z"
   },
   {
    "duration": 67,
    "start_time": "2023-07-16T09:11:12.659Z"
   },
   {
    "duration": 7,
    "start_time": "2023-07-16T09:11:12.728Z"
   },
   {
    "duration": 596,
    "start_time": "2023-07-16T09:11:12.737Z"
   },
   {
    "duration": 3388,
    "start_time": "2023-07-16T09:11:13.336Z"
   },
   {
    "duration": 2853,
    "start_time": "2023-07-16T09:11:16.726Z"
   },
   {
    "duration": 14,
    "start_time": "2023-07-16T09:11:21.937Z"
   },
   {
    "duration": 4,
    "start_time": "2023-07-16T09:12:04.744Z"
   },
   {
    "duration": 327,
    "start_time": "2023-07-16T09:12:04.750Z"
   },
   {
    "duration": 22,
    "start_time": "2023-07-16T09:12:05.078Z"
   },
   {
    "duration": 17,
    "start_time": "2023-07-16T09:12:05.102Z"
   },
   {
    "duration": 56,
    "start_time": "2023-07-16T09:12:05.122Z"
   },
   {
    "duration": 8,
    "start_time": "2023-07-16T09:12:05.180Z"
   },
   {
    "duration": 40,
    "start_time": "2023-07-16T09:12:05.190Z"
   },
   {
    "duration": 32,
    "start_time": "2023-07-16T09:12:05.232Z"
   },
   {
    "duration": 36,
    "start_time": "2023-07-16T09:12:05.265Z"
   },
   {
    "duration": 36,
    "start_time": "2023-07-16T09:12:05.303Z"
   },
   {
    "duration": 50,
    "start_time": "2023-07-16T09:12:05.358Z"
   },
   {
    "duration": 31,
    "start_time": "2023-07-16T09:12:05.410Z"
   },
   {
    "duration": 22,
    "start_time": "2023-07-16T09:12:05.443Z"
   },
   {
    "duration": 23,
    "start_time": "2023-07-16T09:12:05.470Z"
   },
   {
    "duration": 14,
    "start_time": "2023-07-16T09:12:05.494Z"
   },
   {
    "duration": 69,
    "start_time": "2023-07-16T09:12:05.510Z"
   },
   {
    "duration": 6,
    "start_time": "2023-07-16T09:12:05.581Z"
   },
   {
    "duration": 528,
    "start_time": "2023-07-16T09:12:05.589Z"
   },
   {
    "duration": 3161,
    "start_time": "2023-07-16T09:12:06.120Z"
   },
   {
    "duration": 2981,
    "start_time": "2023-07-16T09:12:09.283Z"
   },
   {
    "duration": 12,
    "start_time": "2023-07-16T09:12:12.266Z"
   },
   {
    "duration": 22,
    "start_time": "2023-07-16T09:12:12.280Z"
   },
   {
    "duration": 180,
    "start_time": "2023-07-16T09:12:12.304Z"
   },
   {
    "duration": 21,
    "start_time": "2023-07-16T09:12:12.486Z"
   },
   {
    "duration": 177,
    "start_time": "2023-07-16T09:12:12.509Z"
   },
   {
    "duration": 112,
    "start_time": "2023-07-16T09:12:12.688Z"
   },
   {
    "duration": 7,
    "start_time": "2023-07-16T09:12:12.802Z"
   },
   {
    "duration": 567,
    "start_time": "2023-07-16T09:12:12.811Z"
   },
   {
    "duration": 29,
    "start_time": "2023-07-16T09:12:13.380Z"
   },
   {
    "duration": 1830,
    "start_time": "2023-07-16T09:12:13.411Z"
   },
   {
    "duration": 44,
    "start_time": "2023-07-16T09:12:15.243Z"
   },
   {
    "duration": 553,
    "start_time": "2023-07-16T09:12:15.289Z"
   },
   {
    "duration": 556,
    "start_time": "2023-07-16T09:12:15.844Z"
   },
   {
    "duration": 31,
    "start_time": "2023-07-16T09:12:16.403Z"
   },
   {
    "duration": 159,
    "start_time": "2023-07-16T09:12:16.436Z"
   },
   {
    "duration": 6,
    "start_time": "2023-07-16T09:12:16.597Z"
   },
   {
    "duration": 20,
    "start_time": "2023-07-16T09:12:16.604Z"
   },
   {
    "duration": 327,
    "start_time": "2023-07-16T09:12:16.626Z"
   },
   {
    "duration": 32,
    "start_time": "2023-07-16T09:12:16.955Z"
   },
   {
    "duration": 3,
    "start_time": "2023-07-16T09:19:32.550Z"
   },
   {
    "duration": 296,
    "start_time": "2023-07-16T09:19:32.555Z"
   },
   {
    "duration": 31,
    "start_time": "2023-07-16T09:19:32.853Z"
   },
   {
    "duration": 11,
    "start_time": "2023-07-16T09:19:32.886Z"
   },
   {
    "duration": 63,
    "start_time": "2023-07-16T09:19:32.899Z"
   },
   {
    "duration": 11,
    "start_time": "2023-07-16T09:19:32.965Z"
   },
   {
    "duration": 36,
    "start_time": "2023-07-16T09:19:32.978Z"
   },
   {
    "duration": 45,
    "start_time": "2023-07-16T09:19:33.016Z"
   },
   {
    "duration": 32,
    "start_time": "2023-07-16T09:19:33.064Z"
   },
   {
    "duration": 35,
    "start_time": "2023-07-16T09:19:33.098Z"
   },
   {
    "duration": 49,
    "start_time": "2023-07-16T09:19:33.135Z"
   },
   {
    "duration": 32,
    "start_time": "2023-07-16T09:19:33.186Z"
   },
   {
    "duration": 8,
    "start_time": "2023-07-16T09:19:33.219Z"
   },
   {
    "duration": 41,
    "start_time": "2023-07-16T09:19:33.228Z"
   },
   {
    "duration": 18,
    "start_time": "2023-07-16T09:19:33.271Z"
   },
   {
    "duration": 90,
    "start_time": "2023-07-16T09:19:33.291Z"
   },
   {
    "duration": 7,
    "start_time": "2023-07-16T09:19:33.383Z"
   },
   {
    "duration": 552,
    "start_time": "2023-07-16T09:19:33.392Z"
   },
   {
    "duration": 3576,
    "start_time": "2023-07-16T09:19:33.945Z"
   },
   {
    "duration": 3013,
    "start_time": "2023-07-16T09:19:37.523Z"
   },
   {
    "duration": 12,
    "start_time": "2023-07-16T09:19:40.538Z"
   },
   {
    "duration": 41,
    "start_time": "2023-07-16T09:19:40.559Z"
   },
   {
    "duration": 195,
    "start_time": "2023-07-16T09:19:40.602Z"
   },
   {
    "duration": 22,
    "start_time": "2023-07-16T09:19:40.800Z"
   },
   {
    "duration": 201,
    "start_time": "2023-07-16T09:19:40.824Z"
   },
   {
    "duration": 115,
    "start_time": "2023-07-16T09:19:41.027Z"
   },
   {
    "duration": 8,
    "start_time": "2023-07-16T09:19:41.144Z"
   },
   {
    "duration": 575,
    "start_time": "2023-07-16T09:19:41.153Z"
   },
   {
    "duration": 49,
    "start_time": "2023-07-16T09:19:41.730Z"
   },
   {
    "duration": 1828,
    "start_time": "2023-07-16T09:19:41.782Z"
   },
   {
    "duration": 32,
    "start_time": "2023-07-16T09:19:43.612Z"
   },
   {
    "duration": 566,
    "start_time": "2023-07-16T09:19:43.645Z"
   },
   {
    "duration": 633,
    "start_time": "2023-07-16T09:19:44.213Z"
   },
   {
    "duration": 45,
    "start_time": "2023-07-16T09:19:44.848Z"
   },
   {
    "duration": 155,
    "start_time": "2023-07-16T09:19:44.895Z"
   },
   {
    "duration": 8,
    "start_time": "2023-07-16T09:19:45.059Z"
   },
   {
    "duration": 56,
    "start_time": "2023-07-16T09:19:45.069Z"
   },
   {
    "duration": 387,
    "start_time": "2023-07-16T09:19:45.127Z"
   },
   {
    "duration": 29,
    "start_time": "2023-07-16T09:19:45.516Z"
   },
   {
    "duration": 27,
    "start_time": "2023-07-16T09:20:31.202Z"
   },
   {
    "duration": 4,
    "start_time": "2023-07-16T09:22:43.577Z"
   },
   {
    "duration": 260,
    "start_time": "2023-07-16T09:22:43.584Z"
   },
   {
    "duration": 29,
    "start_time": "2023-07-16T09:22:43.846Z"
   },
   {
    "duration": 25,
    "start_time": "2023-07-16T09:22:43.878Z"
   },
   {
    "duration": 56,
    "start_time": "2023-07-16T09:22:43.905Z"
   },
   {
    "duration": 16,
    "start_time": "2023-07-16T09:22:43.964Z"
   },
   {
    "duration": 44,
    "start_time": "2023-07-16T09:22:43.983Z"
   },
   {
    "duration": 63,
    "start_time": "2023-07-16T09:22:44.030Z"
   },
   {
    "duration": 36,
    "start_time": "2023-07-16T09:22:44.095Z"
   },
   {
    "duration": 49,
    "start_time": "2023-07-16T09:22:44.135Z"
   },
   {
    "duration": 37,
    "start_time": "2023-07-16T09:22:44.186Z"
   },
   {
    "duration": 59,
    "start_time": "2023-07-16T09:22:44.225Z"
   },
   {
    "duration": 14,
    "start_time": "2023-07-16T09:22:44.286Z"
   },
   {
    "duration": 12,
    "start_time": "2023-07-16T09:22:44.302Z"
   },
   {
    "duration": 18,
    "start_time": "2023-07-16T09:22:44.317Z"
   },
   {
    "duration": 79,
    "start_time": "2023-07-16T09:22:44.363Z"
   },
   {
    "duration": 20,
    "start_time": "2023-07-16T09:22:44.444Z"
   },
   {
    "duration": 548,
    "start_time": "2023-07-16T09:22:44.465Z"
   },
   {
    "duration": 3558,
    "start_time": "2023-07-16T09:22:45.015Z"
   },
   {
    "duration": 3101,
    "start_time": "2023-07-16T09:22:48.580Z"
   },
   {
    "duration": 20,
    "start_time": "2023-07-16T09:22:51.682Z"
   },
   {
    "duration": 29,
    "start_time": "2023-07-16T09:22:51.704Z"
   },
   {
    "duration": 181,
    "start_time": "2023-07-16T09:22:51.735Z"
   },
   {
    "duration": 22,
    "start_time": "2023-07-16T09:22:51.919Z"
   },
   {
    "duration": 194,
    "start_time": "2023-07-16T09:22:51.943Z"
   },
   {
    "duration": 113,
    "start_time": "2023-07-16T09:22:52.139Z"
   },
   {
    "duration": 13,
    "start_time": "2023-07-16T09:22:52.254Z"
   },
   {
    "duration": 554,
    "start_time": "2023-07-16T09:22:52.273Z"
   },
   {
    "duration": 44,
    "start_time": "2023-07-16T09:22:52.829Z"
   },
   {
    "duration": 1983,
    "start_time": "2023-07-16T09:22:52.876Z"
   },
   {
    "duration": 42,
    "start_time": "2023-07-16T09:22:54.864Z"
   },
   {
    "duration": 593,
    "start_time": "2023-07-16T09:22:54.908Z"
   },
   {
    "duration": 562,
    "start_time": "2023-07-16T09:22:55.503Z"
   },
   {
    "duration": 29,
    "start_time": "2023-07-16T09:22:56.068Z"
   },
   {
    "duration": 146,
    "start_time": "2023-07-16T09:22:56.099Z"
   },
   {
    "duration": 12,
    "start_time": "2023-07-16T09:22:56.247Z"
   },
   {
    "duration": 14,
    "start_time": "2023-07-16T09:22:56.261Z"
   },
   {
    "duration": 310,
    "start_time": "2023-07-16T09:22:56.277Z"
   },
   {
    "duration": 29,
    "start_time": "2023-07-16T09:22:56.589Z"
   },
   {
    "duration": 4,
    "start_time": "2023-07-16T09:24:27.737Z"
   },
   {
    "duration": 268,
    "start_time": "2023-07-16T09:24:27.744Z"
   },
   {
    "duration": 24,
    "start_time": "2023-07-16T09:24:28.013Z"
   },
   {
    "duration": 14,
    "start_time": "2023-07-16T09:24:28.039Z"
   },
   {
    "duration": 69,
    "start_time": "2023-07-16T09:24:28.056Z"
   },
   {
    "duration": 10,
    "start_time": "2023-07-16T09:24:28.128Z"
   },
   {
    "duration": 55,
    "start_time": "2023-07-16T09:24:28.140Z"
   },
   {
    "duration": 16,
    "start_time": "2023-07-16T09:24:28.197Z"
   },
   {
    "duration": 24,
    "start_time": "2023-07-16T09:24:28.214Z"
   },
   {
    "duration": 54,
    "start_time": "2023-07-16T09:24:28.239Z"
   },
   {
    "duration": 29,
    "start_time": "2023-07-16T09:24:28.295Z"
   },
   {
    "duration": 41,
    "start_time": "2023-07-16T09:24:28.325Z"
   },
   {
    "duration": 12,
    "start_time": "2023-07-16T09:24:28.368Z"
   },
   {
    "duration": 8,
    "start_time": "2023-07-16T09:24:28.385Z"
   },
   {
    "duration": 13,
    "start_time": "2023-07-16T09:24:28.394Z"
   },
   {
    "duration": 79,
    "start_time": "2023-07-16T09:24:28.409Z"
   },
   {
    "duration": 7,
    "start_time": "2023-07-16T09:24:28.489Z"
   },
   {
    "duration": 551,
    "start_time": "2023-07-16T09:24:28.498Z"
   },
   {
    "duration": 3454,
    "start_time": "2023-07-16T09:24:29.052Z"
   },
   {
    "duration": 3133,
    "start_time": "2023-07-16T09:24:32.508Z"
   },
   {
    "duration": 30,
    "start_time": "2023-07-16T09:24:35.642Z"
   },
   {
    "duration": 40,
    "start_time": "2023-07-16T09:24:35.674Z"
   },
   {
    "duration": 183,
    "start_time": "2023-07-16T09:24:35.716Z"
   },
   {
    "duration": 22,
    "start_time": "2023-07-16T09:24:35.900Z"
   },
   {
    "duration": 199,
    "start_time": "2023-07-16T09:24:35.925Z"
   },
   {
    "duration": 115,
    "start_time": "2023-07-16T09:24:36.125Z"
   },
   {
    "duration": 6,
    "start_time": "2023-07-16T09:24:36.242Z"
   },
   {
    "duration": 571,
    "start_time": "2023-07-16T09:24:36.250Z"
   },
   {
    "duration": 26,
    "start_time": "2023-07-16T09:24:36.822Z"
   },
   {
    "duration": 1861,
    "start_time": "2023-07-16T09:24:36.860Z"
   },
   {
    "duration": 48,
    "start_time": "2023-07-16T09:24:38.723Z"
   },
   {
    "duration": 549,
    "start_time": "2023-07-16T09:24:38.774Z"
   },
   {
    "duration": 589,
    "start_time": "2023-07-16T09:24:39.326Z"
   },
   {
    "duration": 27,
    "start_time": "2023-07-16T09:24:39.918Z"
   },
   {
    "duration": 171,
    "start_time": "2023-07-16T09:24:39.959Z"
   },
   {
    "duration": 6,
    "start_time": "2023-07-16T09:24:40.131Z"
   },
   {
    "duration": 13,
    "start_time": "2023-07-16T09:24:40.138Z"
   },
   {
    "duration": 357,
    "start_time": "2023-07-16T09:24:40.153Z"
   },
   {
    "duration": 26,
    "start_time": "2023-07-16T09:24:40.512Z"
   },
   {
    "duration": 14,
    "start_time": "2023-07-16T09:25:41.317Z"
   },
   {
    "duration": 6,
    "start_time": "2023-07-16T09:33:57.453Z"
   },
   {
    "duration": 4,
    "start_time": "2023-07-16T09:35:07.995Z"
   },
   {
    "duration": 560,
    "start_time": "2023-07-16T09:35:08.001Z"
   },
   {
    "duration": 23,
    "start_time": "2023-07-16T09:35:08.563Z"
   },
   {
    "duration": 11,
    "start_time": "2023-07-16T09:35:08.589Z"
   },
   {
    "duration": 60,
    "start_time": "2023-07-16T09:35:08.601Z"
   },
   {
    "duration": 8,
    "start_time": "2023-07-16T09:35:08.663Z"
   },
   {
    "duration": 41,
    "start_time": "2023-07-16T09:35:08.673Z"
   },
   {
    "duration": 16,
    "start_time": "2023-07-16T09:35:08.715Z"
   },
   {
    "duration": 50,
    "start_time": "2023-07-16T09:35:08.733Z"
   },
   {
    "duration": 27,
    "start_time": "2023-07-16T09:35:08.786Z"
   },
   {
    "duration": 47,
    "start_time": "2023-07-16T09:35:08.814Z"
   },
   {
    "duration": 33,
    "start_time": "2023-07-16T09:35:08.863Z"
   },
   {
    "duration": 8,
    "start_time": "2023-07-16T09:35:08.897Z"
   },
   {
    "duration": 9,
    "start_time": "2023-07-16T09:35:08.907Z"
   },
   {
    "duration": 14,
    "start_time": "2023-07-16T09:35:08.918Z"
   },
   {
    "duration": 53,
    "start_time": "2023-07-16T09:35:08.959Z"
   },
   {
    "duration": 6,
    "start_time": "2023-07-16T09:35:09.014Z"
   },
   {
    "duration": 558,
    "start_time": "2023-07-16T09:35:09.021Z"
   },
   {
    "duration": 3060,
    "start_time": "2023-07-16T09:35:09.581Z"
   },
   {
    "duration": 3017,
    "start_time": "2023-07-16T09:35:12.656Z"
   },
   {
    "duration": 6,
    "start_time": "2023-07-16T09:35:15.675Z"
   },
   {
    "duration": 24,
    "start_time": "2023-07-16T09:35:56.639Z"
   },
   {
    "duration": 6,
    "start_time": "2023-07-16T09:36:50.573Z"
   },
   {
    "duration": 3,
    "start_time": "2023-07-16T09:38:57.269Z"
   },
   {
    "duration": 372,
    "start_time": "2023-07-16T09:38:57.294Z"
   },
   {
    "duration": 19,
    "start_time": "2023-07-16T09:38:57.668Z"
   },
   {
    "duration": 11,
    "start_time": "2023-07-16T09:38:57.689Z"
   },
   {
    "duration": 64,
    "start_time": "2023-07-16T09:38:57.702Z"
   },
   {
    "duration": 6,
    "start_time": "2023-07-16T09:38:57.769Z"
   },
   {
    "duration": 69,
    "start_time": "2023-07-16T09:38:57.776Z"
   },
   {
    "duration": 17,
    "start_time": "2023-07-16T09:38:57.846Z"
   },
   {
    "duration": 30,
    "start_time": "2023-07-16T09:38:57.865Z"
   },
   {
    "duration": 27,
    "start_time": "2023-07-16T09:38:57.897Z"
   },
   {
    "duration": 50,
    "start_time": "2023-07-16T09:38:57.926Z"
   },
   {
    "duration": 45,
    "start_time": "2023-07-16T09:38:57.977Z"
   },
   {
    "duration": 33,
    "start_time": "2023-07-16T09:38:58.026Z"
   },
   {
    "duration": 12,
    "start_time": "2023-07-16T09:38:58.062Z"
   },
   {
    "duration": 17,
    "start_time": "2023-07-16T09:38:58.079Z"
   },
   {
    "duration": 90,
    "start_time": "2023-07-16T09:38:58.099Z"
   },
   {
    "duration": 7,
    "start_time": "2023-07-16T09:38:58.191Z"
   },
   {
    "duration": 559,
    "start_time": "2023-07-16T09:38:58.201Z"
   },
   {
    "duration": 3314,
    "start_time": "2023-07-16T09:38:58.762Z"
   },
   {
    "duration": 3325,
    "start_time": "2023-07-16T09:39:02.084Z"
   },
   {
    "duration": 6,
    "start_time": "2023-07-16T09:39:07.587Z"
   },
   {
    "duration": 2907,
    "start_time": "2023-07-16T09:39:24.587Z"
   },
   {
    "duration": 6,
    "start_time": "2023-07-16T09:39:30.992Z"
   },
   {
    "duration": 35,
    "start_time": "2023-07-16T09:39:33.368Z"
   },
   {
    "duration": 7,
    "start_time": "2023-07-16T09:40:39.847Z"
   },
   {
    "duration": 29,
    "start_time": "2023-07-16T09:40:42.087Z"
   },
   {
    "duration": 13,
    "start_time": "2023-07-16T09:41:19.126Z"
   },
   {
    "duration": 4,
    "start_time": "2023-07-16T09:41:39.170Z"
   },
   {
    "duration": 252,
    "start_time": "2023-07-16T09:41:39.176Z"
   },
   {
    "duration": 20,
    "start_time": "2023-07-16T09:41:39.429Z"
   },
   {
    "duration": 12,
    "start_time": "2023-07-16T09:41:39.451Z"
   },
   {
    "duration": 47,
    "start_time": "2023-07-16T09:41:39.465Z"
   },
   {
    "duration": 6,
    "start_time": "2023-07-16T09:41:39.514Z"
   },
   {
    "duration": 77,
    "start_time": "2023-07-16T09:41:39.521Z"
   },
   {
    "duration": 15,
    "start_time": "2023-07-16T09:41:39.600Z"
   },
   {
    "duration": 25,
    "start_time": "2023-07-16T09:41:39.619Z"
   },
   {
    "duration": 27,
    "start_time": "2023-07-16T09:41:39.660Z"
   },
   {
    "duration": 30,
    "start_time": "2023-07-16T09:41:39.689Z"
   },
   {
    "duration": 52,
    "start_time": "2023-07-16T09:41:39.721Z"
   },
   {
    "duration": 8,
    "start_time": "2023-07-16T09:41:39.775Z"
   },
   {
    "duration": 13,
    "start_time": "2023-07-16T09:41:39.785Z"
   },
   {
    "duration": 13,
    "start_time": "2023-07-16T09:41:39.800Z"
   },
   {
    "duration": 78,
    "start_time": "2023-07-16T09:41:39.815Z"
   },
   {
    "duration": 6,
    "start_time": "2023-07-16T09:41:39.895Z"
   },
   {
    "duration": 491,
    "start_time": "2023-07-16T09:41:39.903Z"
   },
   {
    "duration": 2882,
    "start_time": "2023-07-16T09:41:40.396Z"
   },
   {
    "duration": 2846,
    "start_time": "2023-07-16T09:41:43.280Z"
   },
   {
    "duration": 13,
    "start_time": "2023-07-16T09:41:46.129Z"
   },
   {
    "duration": 36,
    "start_time": "2023-07-16T09:41:46.144Z"
   },
   {
    "duration": 156,
    "start_time": "2023-07-16T09:41:46.182Z"
   },
   {
    "duration": 34,
    "start_time": "2023-07-16T09:41:46.342Z"
   },
   {
    "duration": 251,
    "start_time": "2023-07-16T09:41:46.378Z"
   },
   {
    "duration": 105,
    "start_time": "2023-07-16T09:41:46.631Z"
   },
   {
    "duration": 6,
    "start_time": "2023-07-16T09:41:46.739Z"
   },
   {
    "duration": 538,
    "start_time": "2023-07-16T09:41:46.747Z"
   },
   {
    "duration": 26,
    "start_time": "2023-07-16T09:41:47.287Z"
   },
   {
    "duration": 1720,
    "start_time": "2023-07-16T09:41:47.314Z"
   },
   {
    "duration": 54,
    "start_time": "2023-07-16T09:41:49.036Z"
   },
   {
    "duration": 518,
    "start_time": "2023-07-16T09:41:49.092Z"
   },
   {
    "duration": 565,
    "start_time": "2023-07-16T09:41:49.611Z"
   },
   {
    "duration": 41,
    "start_time": "2023-07-16T09:41:50.178Z"
   },
   {
    "duration": 139,
    "start_time": "2023-07-16T09:41:50.221Z"
   },
   {
    "duration": 7,
    "start_time": "2023-07-16T09:41:50.362Z"
   },
   {
    "duration": 14,
    "start_time": "2023-07-16T09:41:50.372Z"
   },
   {
    "duration": 302,
    "start_time": "2023-07-16T09:41:50.388Z"
   },
   {
    "duration": 28,
    "start_time": "2023-07-16T09:41:50.693Z"
   },
   {
    "duration": 1727,
    "start_time": "2023-07-16T12:21:06.331Z"
   },
   {
    "duration": 725,
    "start_time": "2023-07-16T12:21:08.060Z"
   },
   {
    "duration": 33,
    "start_time": "2023-07-16T12:21:08.788Z"
   },
   {
    "duration": 21,
    "start_time": "2023-07-16T12:21:08.824Z"
   },
   {
    "duration": 109,
    "start_time": "2023-07-16T12:21:08.848Z"
   },
   {
    "duration": 10,
    "start_time": "2023-07-16T12:21:08.959Z"
   },
   {
    "duration": 176,
    "start_time": "2023-07-16T12:21:08.971Z"
   },
   {
    "duration": 26,
    "start_time": "2023-07-16T12:21:09.150Z"
   },
   {
    "duration": 77,
    "start_time": "2023-07-16T12:21:09.178Z"
   },
   {
    "duration": 71,
    "start_time": "2023-07-16T12:21:09.259Z"
   },
   {
    "duration": 38,
    "start_time": "2023-07-16T12:21:09.332Z"
   },
   {
    "duration": 40,
    "start_time": "2023-07-16T12:21:09.372Z"
   },
   {
    "duration": 8,
    "start_time": "2023-07-16T12:21:09.414Z"
   },
   {
    "duration": 19,
    "start_time": "2023-07-16T12:21:09.423Z"
   },
   {
    "duration": 32,
    "start_time": "2023-07-16T12:21:09.444Z"
   },
   {
    "duration": 71,
    "start_time": "2023-07-16T12:21:09.477Z"
   },
   {
    "duration": 16,
    "start_time": "2023-07-16T12:21:09.550Z"
   },
   {
    "duration": 636,
    "start_time": "2023-07-16T12:21:09.574Z"
   },
   {
    "duration": 3808,
    "start_time": "2023-07-16T12:21:10.212Z"
   },
   {
    "duration": 3445,
    "start_time": "2023-07-16T12:21:14.025Z"
   },
   {
    "duration": 23,
    "start_time": "2023-07-16T12:21:17.472Z"
   },
   {
    "duration": 40,
    "start_time": "2023-07-16T12:21:17.497Z"
   },
   {
    "duration": 232,
    "start_time": "2023-07-16T12:21:17.539Z"
   },
   {
    "duration": 34,
    "start_time": "2023-07-16T12:21:17.773Z"
   },
   {
    "duration": 218,
    "start_time": "2023-07-16T12:21:17.810Z"
   },
   {
    "duration": 161,
    "start_time": "2023-07-16T12:21:18.031Z"
   },
   {
    "duration": 13,
    "start_time": "2023-07-16T12:21:18.195Z"
   },
   {
    "duration": 655,
    "start_time": "2023-07-16T12:21:18.212Z"
   },
   {
    "duration": 34,
    "start_time": "2023-07-16T12:21:18.869Z"
   },
   {
    "duration": 1946,
    "start_time": "2023-07-16T12:21:18.905Z"
   },
   {
    "duration": 44,
    "start_time": "2023-07-16T12:21:20.854Z"
   },
   {
    "duration": 643,
    "start_time": "2023-07-16T12:21:20.901Z"
   },
   {
    "duration": 578,
    "start_time": "2023-07-16T12:21:21.553Z"
   },
   {
    "duration": 55,
    "start_time": "2023-07-16T12:21:22.133Z"
   },
   {
    "duration": 151,
    "start_time": "2023-07-16T12:21:22.191Z"
   },
   {
    "duration": 17,
    "start_time": "2023-07-16T12:21:22.345Z"
   },
   {
    "duration": 166,
    "start_time": "2023-07-16T12:21:22.365Z"
   },
   {
    "duration": 476,
    "start_time": "2023-07-16T12:21:22.534Z"
   },
   {
    "duration": 28,
    "start_time": "2023-07-16T12:21:23.012Z"
   },
   {
    "duration": 102,
    "start_time": "2023-07-16T13:42:08.021Z"
   },
   {
    "duration": 29,
    "start_time": "2023-07-16T13:42:18.053Z"
   },
   {
    "duration": 303,
    "start_time": "2023-07-16T14:09:46.050Z"
   },
   {
    "duration": 303,
    "start_time": "2023-07-16T14:11:20.094Z"
   },
   {
    "duration": 300,
    "start_time": "2023-07-16T14:13:13.595Z"
   },
   {
    "duration": 84,
    "start_time": "2023-07-16T14:27:26.116Z"
   },
   {
    "duration": 109,
    "start_time": "2023-07-16T14:28:28.302Z"
   },
   {
    "duration": 76,
    "start_time": "2023-07-16T14:28:48.805Z"
   },
   {
    "duration": 97,
    "start_time": "2023-07-16T14:29:28.506Z"
   },
   {
    "duration": 55,
    "start_time": "2023-07-16T14:30:19.414Z"
   },
   {
    "duration": 46,
    "start_time": "2023-07-16T14:30:52.432Z"
   },
   {
    "duration": 28,
    "start_time": "2023-07-16T14:32:08.958Z"
   },
   {
    "duration": 26,
    "start_time": "2023-07-16T14:32:53.605Z"
   },
   {
    "duration": 41,
    "start_time": "2023-07-16T14:33:40.557Z"
   },
   {
    "duration": 68,
    "start_time": "2023-07-16T14:34:32.068Z"
   },
   {
    "duration": 217,
    "start_time": "2023-07-16T14:40:20.749Z"
   },
   {
    "duration": 57,
    "start_time": "2023-07-16T14:42:14.664Z"
   },
   {
    "duration": 55,
    "start_time": "2023-07-16T14:42:50.631Z"
   },
   {
    "duration": 3,
    "start_time": "2023-07-16T14:46:34.320Z"
   },
   {
    "duration": 376,
    "start_time": "2023-07-16T14:46:34.325Z"
   },
   {
    "duration": 20,
    "start_time": "2023-07-16T14:46:34.703Z"
   },
   {
    "duration": 20,
    "start_time": "2023-07-16T14:46:34.725Z"
   },
   {
    "duration": 56,
    "start_time": "2023-07-16T14:46:34.748Z"
   },
   {
    "duration": 7,
    "start_time": "2023-07-16T14:46:34.806Z"
   },
   {
    "duration": 56,
    "start_time": "2023-07-16T14:46:34.815Z"
   },
   {
    "duration": 15,
    "start_time": "2023-07-16T14:46:34.873Z"
   },
   {
    "duration": 24,
    "start_time": "2023-07-16T14:46:34.890Z"
   },
   {
    "duration": 51,
    "start_time": "2023-07-16T14:46:34.916Z"
   },
   {
    "duration": 34,
    "start_time": "2023-07-16T14:46:34.969Z"
   },
   {
    "duration": 47,
    "start_time": "2023-07-16T14:46:35.005Z"
   },
   {
    "duration": 11,
    "start_time": "2023-07-16T14:46:35.059Z"
   },
   {
    "duration": 12,
    "start_time": "2023-07-16T14:46:35.072Z"
   },
   {
    "duration": 23,
    "start_time": "2023-07-16T14:46:35.087Z"
   },
   {
    "duration": 85,
    "start_time": "2023-07-16T14:46:35.112Z"
   },
   {
    "duration": 6,
    "start_time": "2023-07-16T14:46:35.199Z"
   },
   {
    "duration": 548,
    "start_time": "2023-07-16T14:46:35.207Z"
   },
   {
    "duration": 2,
    "start_time": "2023-07-16T14:46:35.757Z"
   },
   {
    "duration": 3186,
    "start_time": "2023-07-16T14:46:35.763Z"
   },
   {
    "duration": 2906,
    "start_time": "2023-07-16T14:46:38.952Z"
   },
   {
    "duration": 15,
    "start_time": "2023-07-16T14:46:41.860Z"
   },
   {
    "duration": 28,
    "start_time": "2023-07-16T14:46:41.878Z"
   },
   {
    "duration": 184,
    "start_time": "2023-07-16T14:46:41.908Z"
   },
   {
    "duration": 23,
    "start_time": "2023-07-16T14:46:42.095Z"
   },
   {
    "duration": 204,
    "start_time": "2023-07-16T14:46:42.120Z"
   },
   {
    "duration": 109,
    "start_time": "2023-07-16T14:46:42.326Z"
   },
   {
    "duration": 7,
    "start_time": "2023-07-16T14:46:42.437Z"
   },
   {
    "duration": 525,
    "start_time": "2023-07-16T14:46:42.451Z"
   },
   {
    "duration": 26,
    "start_time": "2023-07-16T14:46:42.978Z"
   },
   {
    "duration": 1707,
    "start_time": "2023-07-16T14:46:43.005Z"
   },
   {
    "duration": 46,
    "start_time": "2023-07-16T14:46:44.713Z"
   },
   {
    "duration": 519,
    "start_time": "2023-07-16T14:46:44.761Z"
   },
   {
    "duration": 565,
    "start_time": "2023-07-16T14:46:45.281Z"
   },
   {
    "duration": 34,
    "start_time": "2023-07-16T14:46:45.848Z"
   },
   {
    "duration": 138,
    "start_time": "2023-07-16T14:46:45.884Z"
   },
   {
    "duration": 6,
    "start_time": "2023-07-16T14:46:46.026Z"
   },
   {
    "duration": 22,
    "start_time": "2023-07-16T14:46:46.033Z"
   },
   {
    "duration": 361,
    "start_time": "2023-07-16T14:46:46.057Z"
   },
   {
    "duration": 93,
    "start_time": "2023-07-16T14:46:46.419Z"
   },
   {
    "duration": 1241,
    "start_time": "2023-07-17T10:17:11.336Z"
   },
   {
    "duration": 231,
    "start_time": "2023-07-17T10:17:12.578Z"
   },
   {
    "duration": 18,
    "start_time": "2023-07-17T10:17:12.810Z"
   },
   {
    "duration": 10,
    "start_time": "2023-07-17T10:17:12.830Z"
   },
   {
    "duration": 38,
    "start_time": "2023-07-17T10:17:12.841Z"
   },
   {
    "duration": 20,
    "start_time": "2023-07-17T10:17:12.880Z"
   },
   {
    "duration": 34,
    "start_time": "2023-07-17T10:17:12.901Z"
   },
   {
    "duration": 12,
    "start_time": "2023-07-17T10:17:12.936Z"
   },
   {
    "duration": 21,
    "start_time": "2023-07-17T10:17:12.950Z"
   },
   {
    "duration": 39,
    "start_time": "2023-07-17T10:17:12.973Z"
   },
   {
    "duration": 24,
    "start_time": "2023-07-17T10:17:31.818Z"
   },
   {
    "duration": 13,
    "start_time": "2023-07-17T10:33:09.684Z"
   },
   {
    "duration": 3,
    "start_time": "2023-07-17T10:49:01.094Z"
   },
   {
    "duration": 475,
    "start_time": "2023-07-17T10:49:01.099Z"
   },
   {
    "duration": 17,
    "start_time": "2023-07-17T10:49:01.575Z"
   },
   {
    "duration": 55,
    "start_time": "2023-07-17T10:49:01.594Z"
   },
   {
    "duration": 61,
    "start_time": "2023-07-17T10:49:01.650Z"
   },
   {
    "duration": 56,
    "start_time": "2023-07-17T10:49:01.713Z"
   },
   {
    "duration": 21,
    "start_time": "2023-07-17T10:49:01.770Z"
   },
   {
    "duration": 98,
    "start_time": "2023-07-17T10:49:01.793Z"
   },
   {
    "duration": 21,
    "start_time": "2023-07-17T10:49:01.893Z"
   },
   {
    "duration": 53,
    "start_time": "2023-07-17T10:49:01.916Z"
   },
   {
    "duration": 79,
    "start_time": "2023-07-17T10:49:01.970Z"
   },
   {
    "duration": 35,
    "start_time": "2023-07-17T10:49:02.050Z"
   },
   {
    "duration": 48,
    "start_time": "2023-07-17T10:49:02.087Z"
   },
   {
    "duration": 8,
    "start_time": "2023-07-17T10:49:02.136Z"
   },
   {
    "duration": 45,
    "start_time": "2023-07-17T10:49:02.146Z"
   },
   {
    "duration": 33,
    "start_time": "2023-07-17T10:49:02.193Z"
   },
   {
    "duration": 106,
    "start_time": "2023-07-17T10:49:02.228Z"
   },
   {
    "duration": 41,
    "start_time": "2023-07-17T10:49:02.336Z"
   },
   {
    "duration": 431,
    "start_time": "2023-07-17T10:49:09.357Z"
   },
   {
    "duration": 404,
    "start_time": "2023-07-17T10:49:27.558Z"
   },
   {
    "duration": 3,
    "start_time": "2023-07-17T10:50:17.414Z"
   },
   {
    "duration": 279,
    "start_time": "2023-07-17T10:50:17.419Z"
   },
   {
    "duration": 18,
    "start_time": "2023-07-17T10:50:17.700Z"
   },
   {
    "duration": 34,
    "start_time": "2023-07-17T10:50:17.719Z"
   },
   {
    "duration": 35,
    "start_time": "2023-07-17T10:50:17.756Z"
   },
   {
    "duration": 58,
    "start_time": "2023-07-17T10:50:17.793Z"
   },
   {
    "duration": 6,
    "start_time": "2023-07-17T10:50:17.852Z"
   },
   {
    "duration": 54,
    "start_time": "2023-07-17T10:50:17.859Z"
   },
   {
    "duration": 13,
    "start_time": "2023-07-17T10:50:17.914Z"
   },
   {
    "duration": 34,
    "start_time": "2023-07-17T10:50:17.928Z"
   },
   {
    "duration": 24,
    "start_time": "2023-07-17T10:50:17.963Z"
   },
   {
    "duration": 31,
    "start_time": "2023-07-17T10:50:17.989Z"
   },
   {
    "duration": 25,
    "start_time": "2023-07-17T10:50:18.022Z"
   },
   {
    "duration": 7,
    "start_time": "2023-07-17T10:50:18.048Z"
   },
   {
    "duration": 9,
    "start_time": "2023-07-17T10:50:18.057Z"
   },
   {
    "duration": 33,
    "start_time": "2023-07-17T10:50:18.067Z"
   },
   {
    "duration": 42,
    "start_time": "2023-07-17T10:50:18.102Z"
   },
   {
    "duration": 5,
    "start_time": "2023-07-17T10:50:18.145Z"
   },
   {
    "duration": 443,
    "start_time": "2023-07-17T10:50:18.152Z"
   },
   {
    "duration": 2,
    "start_time": "2023-07-17T10:50:18.597Z"
   },
   {
    "duration": 3247,
    "start_time": "2023-07-17T10:50:18.601Z"
   },
   {
    "duration": 2383,
    "start_time": "2023-07-17T10:50:21.850Z"
   },
   {
    "duration": 10,
    "start_time": "2023-07-17T10:50:24.234Z"
   },
   {
    "duration": 37,
    "start_time": "2023-07-17T10:50:24.246Z"
   },
   {
    "duration": 125,
    "start_time": "2023-07-17T10:50:30.716Z"
   },
   {
    "duration": 17,
    "start_time": "2023-07-17T10:54:42.426Z"
   },
   {
    "duration": 10,
    "start_time": "2023-07-17T10:55:00.196Z"
   },
   {
    "duration": 2,
    "start_time": "2023-07-17T11:31:29.173Z"
   },
   {
    "duration": 271,
    "start_time": "2023-07-17T11:31:29.177Z"
   },
   {
    "duration": 16,
    "start_time": "2023-07-17T11:31:29.450Z"
   },
   {
    "duration": 30,
    "start_time": "2023-07-17T11:31:29.467Z"
   },
   {
    "duration": 26,
    "start_time": "2023-07-17T11:31:29.499Z"
   },
   {
    "duration": 44,
    "start_time": "2023-07-17T11:31:29.527Z"
   },
   {
    "duration": 4,
    "start_time": "2023-07-17T11:31:29.573Z"
   },
   {
    "duration": 34,
    "start_time": "2023-07-17T11:31:29.579Z"
   },
   {
    "duration": 13,
    "start_time": "2023-07-17T11:31:29.614Z"
   },
   {
    "duration": 25,
    "start_time": "2023-07-17T11:31:29.628Z"
   },
   {
    "duration": 27,
    "start_time": "2023-07-17T11:31:29.655Z"
   },
   {
    "duration": 30,
    "start_time": "2023-07-17T11:31:29.684Z"
   },
   {
    "duration": 24,
    "start_time": "2023-07-17T11:31:29.716Z"
   },
   {
    "duration": 6,
    "start_time": "2023-07-17T11:31:29.742Z"
   },
   {
    "duration": 16,
    "start_time": "2023-07-17T11:31:29.750Z"
   },
   {
    "duration": 19,
    "start_time": "2023-07-17T11:31:29.767Z"
   },
   {
    "duration": 43,
    "start_time": "2023-07-17T11:31:29.787Z"
   },
   {
    "duration": 5,
    "start_time": "2023-07-17T11:31:29.832Z"
   },
   {
    "duration": 447,
    "start_time": "2023-07-17T11:31:29.838Z"
   },
   {
    "duration": 3,
    "start_time": "2023-07-17T11:31:30.286Z"
   },
   {
    "duration": 3019,
    "start_time": "2023-07-17T11:31:30.290Z"
   },
   {
    "duration": 2313,
    "start_time": "2023-07-17T11:31:33.311Z"
   },
   {
    "duration": 10,
    "start_time": "2023-07-17T11:31:35.625Z"
   },
   {
    "duration": 31,
    "start_time": "2023-07-17T11:31:35.636Z"
   },
   {
    "duration": 131,
    "start_time": "2023-07-17T11:31:35.668Z"
   },
   {
    "duration": 19,
    "start_time": "2023-07-17T11:31:35.801Z"
   },
   {
    "duration": 202,
    "start_time": "2023-07-17T11:31:35.821Z"
   },
   {
    "duration": 104,
    "start_time": "2023-07-17T11:31:36.025Z"
   },
   {
    "duration": 8,
    "start_time": "2023-07-17T11:31:36.132Z"
   },
   {
    "duration": 149,
    "start_time": "2023-07-17T11:31:39.604Z"
   },
   {
    "duration": 486,
    "start_time": "2023-07-17T11:32:45.965Z"
   },
   {
    "duration": 3,
    "start_time": "2023-07-17T11:46:04.658Z"
   },
   {
    "duration": 372,
    "start_time": "2023-07-17T11:46:04.663Z"
   },
   {
    "duration": 16,
    "start_time": "2023-07-17T11:46:05.037Z"
   },
   {
    "duration": 15,
    "start_time": "2023-07-17T11:46:05.054Z"
   },
   {
    "duration": 10,
    "start_time": "2023-07-17T11:46:05.070Z"
   },
   {
    "duration": 60,
    "start_time": "2023-07-17T11:46:05.081Z"
   },
   {
    "duration": 4,
    "start_time": "2023-07-17T11:46:05.142Z"
   },
   {
    "duration": 49,
    "start_time": "2023-07-17T11:46:05.147Z"
   },
   {
    "duration": 14,
    "start_time": "2023-07-17T11:46:05.198Z"
   },
   {
    "duration": 30,
    "start_time": "2023-07-17T11:46:05.213Z"
   },
   {
    "duration": 37,
    "start_time": "2023-07-17T11:46:05.245Z"
   },
   {
    "duration": 25,
    "start_time": "2023-07-17T11:46:05.283Z"
   },
   {
    "duration": 28,
    "start_time": "2023-07-17T11:46:05.309Z"
   },
   {
    "duration": 9,
    "start_time": "2023-07-17T11:46:05.339Z"
   },
   {
    "duration": 13,
    "start_time": "2023-07-17T11:46:05.349Z"
   },
   {
    "duration": 68,
    "start_time": "2023-07-17T11:46:05.363Z"
   },
   {
    "duration": 44,
    "start_time": "2023-07-17T11:46:05.432Z"
   },
   {
    "duration": 5,
    "start_time": "2023-07-17T11:46:05.478Z"
   },
   {
    "duration": 463,
    "start_time": "2023-07-17T11:46:05.485Z"
   },
   {
    "duration": 3,
    "start_time": "2023-07-17T11:46:05.949Z"
   },
   {
    "duration": 2988,
    "start_time": "2023-07-17T11:46:05.953Z"
   },
   {
    "duration": 2255,
    "start_time": "2023-07-17T11:46:08.942Z"
   },
   {
    "duration": 10,
    "start_time": "2023-07-17T11:46:11.199Z"
   },
   {
    "duration": 23,
    "start_time": "2023-07-17T11:46:11.211Z"
   },
   {
    "duration": 133,
    "start_time": "2023-07-17T11:46:11.235Z"
   },
   {
    "duration": 29,
    "start_time": "2023-07-17T11:46:11.370Z"
   },
   {
    "duration": 134,
    "start_time": "2023-07-17T11:46:11.401Z"
   },
   {
    "duration": 102,
    "start_time": "2023-07-17T11:46:11.537Z"
   },
   {
    "duration": 7,
    "start_time": "2023-07-17T11:46:11.641Z"
   },
   {
    "duration": 533,
    "start_time": "2023-07-17T11:46:11.650Z"
   },
   {
    "duration": 31,
    "start_time": "2023-07-17T11:46:12.185Z"
   },
   {
    "duration": 1295,
    "start_time": "2023-07-17T11:46:12.218Z"
   },
   {
    "duration": 25,
    "start_time": "2023-07-17T11:46:13.514Z"
   },
   {
    "duration": 418,
    "start_time": "2023-07-17T11:46:23.352Z"
   },
   {
    "duration": 427,
    "start_time": "2023-07-17T11:56:22.613Z"
   },
   {
    "duration": 432,
    "start_time": "2023-07-17T11:57:23.028Z"
   },
   {
    "duration": 1047,
    "start_time": "2023-07-17T13:08:10.409Z"
   },
   {
    "duration": 276,
    "start_time": "2023-07-17T13:08:11.458Z"
   },
   {
    "duration": 20,
    "start_time": "2023-07-17T13:08:11.736Z"
   },
   {
    "duration": 13,
    "start_time": "2023-07-17T13:08:11.758Z"
   },
   {
    "duration": 14,
    "start_time": "2023-07-17T13:08:11.774Z"
   },
   {
    "duration": 47,
    "start_time": "2023-07-17T13:08:11.789Z"
   },
   {
    "duration": 5,
    "start_time": "2023-07-17T13:08:11.838Z"
   },
   {
    "duration": 42,
    "start_time": "2023-07-17T13:08:11.845Z"
   },
   {
    "duration": 18,
    "start_time": "2023-07-17T13:08:11.889Z"
   },
   {
    "duration": 20,
    "start_time": "2023-07-17T13:08:11.909Z"
   },
   {
    "duration": 22,
    "start_time": "2023-07-17T13:08:11.931Z"
   },
   {
    "duration": 24,
    "start_time": "2023-07-17T13:08:11.954Z"
   },
   {
    "duration": 43,
    "start_time": "2023-07-17T13:08:11.979Z"
   },
   {
    "duration": 6,
    "start_time": "2023-07-17T13:08:12.025Z"
   },
   {
    "duration": 10,
    "start_time": "2023-07-17T13:08:12.032Z"
   },
   {
    "duration": 14,
    "start_time": "2023-07-17T13:08:12.044Z"
   },
   {
    "duration": 55,
    "start_time": "2023-07-17T13:08:12.059Z"
   },
   {
    "duration": 5,
    "start_time": "2023-07-17T13:08:12.116Z"
   },
   {
    "duration": 461,
    "start_time": "2023-07-17T13:08:12.122Z"
   },
   {
    "duration": 2,
    "start_time": "2023-07-17T13:08:12.585Z"
   },
   {
    "duration": 2831,
    "start_time": "2023-07-17T13:08:12.589Z"
   },
   {
    "duration": 2278,
    "start_time": "2023-07-17T13:08:15.421Z"
   },
   {
    "duration": 11,
    "start_time": "2023-07-17T13:08:17.700Z"
   },
   {
    "duration": 39,
    "start_time": "2023-07-17T13:08:17.712Z"
   },
   {
    "duration": 134,
    "start_time": "2023-07-17T13:08:17.753Z"
   },
   {
    "duration": 20,
    "start_time": "2023-07-17T13:08:17.889Z"
   },
   {
    "duration": 135,
    "start_time": "2023-07-17T13:08:17.911Z"
   },
   {
    "duration": 99,
    "start_time": "2023-07-17T13:08:18.047Z"
   },
   {
    "duration": 7,
    "start_time": "2023-07-17T13:08:18.147Z"
   },
   {
    "duration": 498,
    "start_time": "2023-07-17T13:08:18.155Z"
   },
   {
    "duration": 22,
    "start_time": "2023-07-17T13:08:18.654Z"
   },
   {
    "duration": 1228,
    "start_time": "2023-07-17T13:08:18.677Z"
   },
   {
    "duration": 27,
    "start_time": "2023-07-17T13:08:19.907Z"
   },
   {
    "duration": 408,
    "start_time": "2023-07-17T13:08:19.936Z"
   },
   {
    "duration": 419,
    "start_time": "2023-07-17T13:08:20.345Z"
   },
   {
    "duration": 33,
    "start_time": "2023-07-17T13:08:20.766Z"
   },
   {
    "duration": 103,
    "start_time": "2023-07-17T13:08:20.801Z"
   },
   {
    "duration": 4,
    "start_time": "2023-07-17T13:08:20.906Z"
   },
   {
    "duration": 21,
    "start_time": "2023-07-17T13:08:20.911Z"
   },
   {
    "duration": 265,
    "start_time": "2023-07-17T13:08:20.933Z"
   },
   {
    "duration": 61,
    "start_time": "2023-07-17T13:08:21.203Z"
   },
   {
    "duration": 1013,
    "start_time": "2023-07-17T13:12:06.052Z"
   },
   {
    "duration": 349,
    "start_time": "2023-07-17T13:12:07.067Z"
   },
   {
    "duration": 17,
    "start_time": "2023-07-17T13:12:07.418Z"
   },
   {
    "duration": 29,
    "start_time": "2023-07-17T13:12:07.436Z"
   },
   {
    "duration": 17,
    "start_time": "2023-07-17T13:12:07.467Z"
   },
   {
    "duration": 56,
    "start_time": "2023-07-17T13:12:07.486Z"
   },
   {
    "duration": 4,
    "start_time": "2023-07-17T13:12:07.543Z"
   },
   {
    "duration": 38,
    "start_time": "2023-07-17T13:12:07.549Z"
   },
   {
    "duration": 12,
    "start_time": "2023-07-17T13:12:07.588Z"
   },
   {
    "duration": 20,
    "start_time": "2023-07-17T13:12:07.601Z"
   },
   {
    "duration": 38,
    "start_time": "2023-07-17T13:12:07.623Z"
   },
   {
    "duration": 25,
    "start_time": "2023-07-17T13:12:07.662Z"
   },
   {
    "duration": 26,
    "start_time": "2023-07-17T13:12:07.688Z"
   },
   {
    "duration": 7,
    "start_time": "2023-07-17T13:12:07.716Z"
   },
   {
    "duration": 12,
    "start_time": "2023-07-17T13:12:07.724Z"
   },
   {
    "duration": 12,
    "start_time": "2023-07-17T13:12:07.738Z"
   },
   {
    "duration": 48,
    "start_time": "2023-07-17T13:12:07.752Z"
   },
   {
    "duration": 5,
    "start_time": "2023-07-17T13:12:07.802Z"
   },
   {
    "duration": 453,
    "start_time": "2023-07-17T13:12:07.808Z"
   },
   {
    "duration": 3,
    "start_time": "2023-07-17T13:12:08.262Z"
   },
   {
    "duration": 2719,
    "start_time": "2023-07-17T13:12:08.266Z"
   },
   {
    "duration": 2122,
    "start_time": "2023-07-17T13:12:10.986Z"
   },
   {
    "duration": 10,
    "start_time": "2023-07-17T13:12:13.110Z"
   },
   {
    "duration": 30,
    "start_time": "2023-07-17T13:12:13.121Z"
   },
   {
    "duration": 126,
    "start_time": "2023-07-17T13:12:13.152Z"
   },
   {
    "duration": 24,
    "start_time": "2023-07-17T13:12:13.280Z"
   },
   {
    "duration": 129,
    "start_time": "2023-07-17T13:12:13.306Z"
   },
   {
    "duration": 90,
    "start_time": "2023-07-17T13:12:13.437Z"
   },
   {
    "duration": 6,
    "start_time": "2023-07-17T13:12:13.530Z"
   },
   {
    "duration": 442,
    "start_time": "2023-07-17T13:12:13.538Z"
   },
   {
    "duration": 27,
    "start_time": "2023-07-17T13:12:13.981Z"
   },
   {
    "duration": 1083,
    "start_time": "2023-07-17T13:12:14.010Z"
   },
   {
    "duration": 26,
    "start_time": "2023-07-17T13:12:15.094Z"
   },
   {
    "duration": 429,
    "start_time": "2023-07-17T13:12:15.122Z"
   },
   {
    "duration": 414,
    "start_time": "2023-07-17T13:12:15.552Z"
   },
   {
    "duration": 41,
    "start_time": "2023-07-17T13:12:15.968Z"
   },
   {
    "duration": 147,
    "start_time": "2023-07-17T13:12:16.010Z"
   },
   {
    "duration": 5,
    "start_time": "2023-07-17T13:12:16.159Z"
   },
   {
    "duration": 32,
    "start_time": "2023-07-17T13:12:16.166Z"
   },
   {
    "duration": 253,
    "start_time": "2023-07-17T13:12:16.199Z"
   },
   {
    "duration": 67,
    "start_time": "2023-07-17T13:12:16.455Z"
   },
   {
    "duration": 1077,
    "start_time": "2023-07-17T13:17:18.904Z"
   },
   {
    "duration": 248,
    "start_time": "2023-07-17T13:17:19.983Z"
   },
   {
    "duration": 19,
    "start_time": "2023-07-17T13:17:20.233Z"
   },
   {
    "duration": 35,
    "start_time": "2023-07-17T13:17:20.253Z"
   },
   {
    "duration": 15,
    "start_time": "2023-07-17T13:17:20.290Z"
   },
   {
    "duration": 57,
    "start_time": "2023-07-17T13:17:20.307Z"
   },
   {
    "duration": 5,
    "start_time": "2023-07-17T13:17:20.365Z"
   },
   {
    "duration": 37,
    "start_time": "2023-07-17T13:17:20.371Z"
   },
   {
    "duration": 13,
    "start_time": "2023-07-17T13:17:20.410Z"
   },
   {
    "duration": 27,
    "start_time": "2023-07-17T13:17:20.426Z"
   },
   {
    "duration": 39,
    "start_time": "2023-07-17T13:17:20.455Z"
   },
   {
    "duration": 25,
    "start_time": "2023-07-17T13:17:20.496Z"
   },
   {
    "duration": 25,
    "start_time": "2023-07-17T13:17:20.522Z"
   },
   {
    "duration": 7,
    "start_time": "2023-07-17T13:17:20.548Z"
   },
   {
    "duration": 10,
    "start_time": "2023-07-17T13:17:20.557Z"
   },
   {
    "duration": 33,
    "start_time": "2023-07-17T13:17:20.568Z"
   },
   {
    "duration": 42,
    "start_time": "2023-07-17T13:17:20.603Z"
   },
   {
    "duration": 5,
    "start_time": "2023-07-17T13:17:20.647Z"
   },
   {
    "duration": 482,
    "start_time": "2023-07-17T13:17:20.654Z"
   },
   {
    "duration": 2,
    "start_time": "2023-07-17T13:17:21.138Z"
   },
   {
    "duration": 2933,
    "start_time": "2023-07-17T13:17:21.141Z"
   },
   {
    "duration": 2303,
    "start_time": "2023-07-17T13:17:24.075Z"
   },
   {
    "duration": 10,
    "start_time": "2023-07-17T13:17:26.379Z"
   },
   {
    "duration": 27,
    "start_time": "2023-07-17T13:17:26.390Z"
   },
   {
    "duration": 128,
    "start_time": "2023-07-17T13:17:26.418Z"
   },
   {
    "duration": 18,
    "start_time": "2023-07-17T13:17:26.548Z"
   },
   {
    "duration": 130,
    "start_time": "2023-07-17T13:17:26.567Z"
   },
   {
    "duration": 73,
    "start_time": "2023-07-17T13:17:26.700Z"
   },
   {
    "duration": 5,
    "start_time": "2023-07-17T13:17:26.774Z"
   },
   {
    "duration": 467,
    "start_time": "2023-07-17T13:17:26.781Z"
   },
   {
    "duration": 22,
    "start_time": "2023-07-17T13:17:27.249Z"
   },
   {
    "duration": 1159,
    "start_time": "2023-07-17T13:17:27.273Z"
   },
   {
    "duration": 25,
    "start_time": "2023-07-17T13:17:28.433Z"
   },
   {
    "duration": 438,
    "start_time": "2023-07-17T13:17:28.459Z"
   },
   {
    "duration": 440,
    "start_time": "2023-07-17T13:17:28.898Z"
   },
   {
    "duration": 22,
    "start_time": "2023-07-17T13:17:29.339Z"
   },
   {
    "duration": 116,
    "start_time": "2023-07-17T13:17:29.362Z"
   },
   {
    "duration": 6,
    "start_time": "2023-07-17T13:17:29.479Z"
   },
   {
    "duration": 16,
    "start_time": "2023-07-17T13:17:29.486Z"
   },
   {
    "duration": 251,
    "start_time": "2023-07-17T13:17:29.504Z"
   },
   {
    "duration": 66,
    "start_time": "2023-07-17T13:17:29.756Z"
   },
   {
    "duration": 1232,
    "start_time": "2023-07-17T13:36:46.858Z"
   },
   {
    "duration": 487,
    "start_time": "2023-07-17T13:36:48.092Z"
   },
   {
    "duration": 22,
    "start_time": "2023-07-17T13:36:48.580Z"
   },
   {
    "duration": 18,
    "start_time": "2023-07-17T13:36:48.603Z"
   },
   {
    "duration": 20,
    "start_time": "2023-07-17T13:36:48.623Z"
   },
   {
    "duration": 57,
    "start_time": "2023-07-17T13:36:48.644Z"
   },
   {
    "duration": 5,
    "start_time": "2023-07-17T13:36:48.703Z"
   },
   {
    "duration": 53,
    "start_time": "2023-07-17T13:36:48.710Z"
   },
   {
    "duration": 15,
    "start_time": "2023-07-17T13:36:48.764Z"
   },
   {
    "duration": 28,
    "start_time": "2023-07-17T13:36:48.781Z"
   },
   {
    "duration": 26,
    "start_time": "2023-07-17T13:36:48.812Z"
   },
   {
    "duration": 47,
    "start_time": "2023-07-17T13:36:48.839Z"
   },
   {
    "duration": 28,
    "start_time": "2023-07-17T13:36:48.888Z"
   },
   {
    "duration": 8,
    "start_time": "2023-07-17T13:36:48.919Z"
   },
   {
    "duration": 35,
    "start_time": "2023-07-17T13:36:48.929Z"
   },
   {
    "duration": 13,
    "start_time": "2023-07-17T13:36:48.966Z"
   },
   {
    "duration": 54,
    "start_time": "2023-07-17T13:36:48.981Z"
   },
   {
    "duration": 27,
    "start_time": "2023-07-17T13:36:49.037Z"
   },
   {
    "duration": 495,
    "start_time": "2023-07-17T13:36:49.066Z"
   },
   {
    "duration": 3,
    "start_time": "2023-07-17T13:36:49.563Z"
   },
   {
    "duration": 2886,
    "start_time": "2023-07-17T13:36:49.568Z"
   },
   {
    "duration": 2746,
    "start_time": "2023-07-17T13:36:52.456Z"
   },
   {
    "duration": 13,
    "start_time": "2023-07-17T13:36:55.204Z"
   },
   {
    "duration": 40,
    "start_time": "2023-07-17T13:36:55.219Z"
   },
   {
    "duration": 174,
    "start_time": "2023-07-17T13:36:55.261Z"
   },
   {
    "duration": 29,
    "start_time": "2023-07-17T13:36:55.437Z"
   },
   {
    "duration": 171,
    "start_time": "2023-07-17T13:36:55.468Z"
   },
   {
    "duration": 96,
    "start_time": "2023-07-17T13:36:55.641Z"
   },
   {
    "duration": 20,
    "start_time": "2023-07-17T13:36:55.739Z"
   },
   {
    "duration": 521,
    "start_time": "2023-07-17T13:36:55.761Z"
   },
   {
    "duration": 26,
    "start_time": "2023-07-17T13:36:56.284Z"
   },
   {
    "duration": 1520,
    "start_time": "2023-07-17T13:36:56.312Z"
   },
   {
    "duration": 39,
    "start_time": "2023-07-17T13:36:57.834Z"
   },
   {
    "duration": 475,
    "start_time": "2023-07-17T13:36:57.875Z"
   },
   {
    "duration": 499,
    "start_time": "2023-07-17T13:36:58.352Z"
   },
   {
    "duration": 28,
    "start_time": "2023-07-17T13:36:58.858Z"
   },
   {
    "duration": 126,
    "start_time": "2023-07-17T13:36:58.888Z"
   },
   {
    "duration": 6,
    "start_time": "2023-07-17T13:36:59.017Z"
   },
   {
    "duration": 10,
    "start_time": "2023-07-17T13:36:59.025Z"
   },
   {
    "duration": 295,
    "start_time": "2023-07-17T13:36:59.036Z"
   },
   {
    "duration": 77,
    "start_time": "2023-07-17T13:36:59.334Z"
   },
   {
    "duration": 11,
    "start_time": "2023-07-17T13:49:01.402Z"
   },
   {
    "duration": 23,
    "start_time": "2023-07-17T13:54:08.275Z"
   },
   {
    "duration": 1405,
    "start_time": "2023-07-18T09:45:06.990Z"
   },
   {
    "duration": 505,
    "start_time": "2023-07-18T09:45:08.396Z"
   },
   {
    "duration": 31,
    "start_time": "2023-07-18T09:45:08.902Z"
   },
   {
    "duration": 33,
    "start_time": "2023-07-18T09:45:08.935Z"
   },
   {
    "duration": 13,
    "start_time": "2023-07-18T09:45:08.970Z"
   },
   {
    "duration": 60,
    "start_time": "2023-07-18T09:45:08.984Z"
   },
   {
    "duration": 5,
    "start_time": "2023-07-18T09:45:09.046Z"
   },
   {
    "duration": 54,
    "start_time": "2023-07-18T09:45:09.053Z"
   },
   {
    "duration": 31,
    "start_time": "2023-07-18T09:45:09.108Z"
   },
   {
    "duration": 29,
    "start_time": "2023-07-18T09:45:09.142Z"
   },
   {
    "duration": 26,
    "start_time": "2023-07-18T09:45:09.173Z"
   },
   {
    "duration": 38,
    "start_time": "2023-07-18T09:45:09.201Z"
   },
   {
    "duration": 28,
    "start_time": "2023-07-18T09:45:09.241Z"
   },
   {
    "duration": 8,
    "start_time": "2023-07-18T09:45:09.271Z"
   },
   {
    "duration": 32,
    "start_time": "2023-07-18T09:45:09.280Z"
   },
   {
    "duration": 16,
    "start_time": "2023-07-18T09:45:09.313Z"
   },
   {
    "duration": 58,
    "start_time": "2023-07-18T09:45:09.331Z"
   },
   {
    "duration": 8,
    "start_time": "2023-07-18T09:45:09.392Z"
   },
   {
    "duration": 582,
    "start_time": "2023-07-18T09:45:09.401Z"
   },
   {
    "duration": 2,
    "start_time": "2023-07-18T09:45:09.984Z"
   },
   {
    "duration": 3069,
    "start_time": "2023-07-18T09:45:09.988Z"
   },
   {
    "duration": 2530,
    "start_time": "2023-07-18T09:45:13.058Z"
   },
   {
    "duration": 15,
    "start_time": "2023-07-18T09:45:15.591Z"
   },
   {
    "duration": 69,
    "start_time": "2023-07-18T09:45:15.608Z"
   },
   {
    "duration": 169,
    "start_time": "2023-07-18T09:45:15.679Z"
   },
   {
    "duration": 9,
    "start_time": "2023-07-18T09:45:15.850Z"
   },
   {
    "duration": 119,
    "start_time": "2023-07-18T09:45:22.337Z"
   },
   {
    "duration": 11,
    "start_time": "2023-07-18T09:46:12.555Z"
   },
   {
    "duration": 15,
    "start_time": "2023-07-18T09:47:24.332Z"
   },
   {
    "duration": 8,
    "start_time": "2023-07-18T09:47:45.939Z"
   },
   {
    "duration": 10,
    "start_time": "2023-07-18T09:49:38.103Z"
   },
   {
    "duration": 21,
    "start_time": "2023-07-18T09:49:44.955Z"
   },
   {
    "duration": 20,
    "start_time": "2023-07-18T09:51:09.164Z"
   },
   {
    "duration": 8,
    "start_time": "2023-07-18T09:54:43.349Z"
   },
   {
    "duration": 20,
    "start_time": "2023-07-18T09:54:50.917Z"
   },
   {
    "duration": 311,
    "start_time": "2023-07-18T09:55:45.598Z"
   },
   {
    "duration": 270,
    "start_time": "2023-07-18T09:56:38.311Z"
   },
   {
    "duration": 9,
    "start_time": "2023-07-18T09:57:03.388Z"
   },
   {
    "duration": 30,
    "start_time": "2023-07-18T09:59:05.887Z"
   },
   {
    "duration": 21,
    "start_time": "2023-07-18T09:59:45.958Z"
   },
   {
    "duration": 64,
    "start_time": "2023-07-18T10:00:56.614Z"
   },
   {
    "duration": 23,
    "start_time": "2023-07-18T10:14:32.078Z"
   },
   {
    "duration": 44,
    "start_time": "2023-07-18T10:14:44.068Z"
   },
   {
    "duration": 34,
    "start_time": "2023-07-18T10:17:56.441Z"
   },
   {
    "duration": 153,
    "start_time": "2023-07-18T10:18:17.831Z"
   },
   {
    "duration": 55,
    "start_time": "2023-07-18T10:18:25.891Z"
   },
   {
    "duration": 15,
    "start_time": "2023-07-18T10:18:29.098Z"
   },
   {
    "duration": 25,
    "start_time": "2023-07-18T10:19:02.659Z"
   },
   {
    "duration": 54,
    "start_time": "2023-07-18T10:19:07.089Z"
   },
   {
    "duration": 16,
    "start_time": "2023-07-18T10:19:33.406Z"
   },
   {
    "duration": 53,
    "start_time": "2023-07-18T10:21:45.286Z"
   },
   {
    "duration": 24,
    "start_time": "2023-07-18T10:22:22.914Z"
   },
   {
    "duration": 179,
    "start_time": "2023-07-18T10:39:25.818Z"
   },
   {
    "duration": 36,
    "start_time": "2023-07-18T10:39:48.097Z"
   },
   {
    "duration": 3175,
    "start_time": "2023-07-18T10:41:08.090Z"
   },
   {
    "duration": 126,
    "start_time": "2023-07-18T10:42:16.351Z"
   },
   {
    "duration": 142,
    "start_time": "2023-07-18T10:42:48.538Z"
   },
   {
    "duration": 3275,
    "start_time": "2023-07-18T10:44:11.830Z"
   },
   {
    "duration": 31,
    "start_time": "2023-07-18T10:44:52.439Z"
   },
   {
    "duration": 14,
    "start_time": "2023-07-18T10:45:04.535Z"
   },
   {
    "duration": 47,
    "start_time": "2023-07-18T10:45:50.009Z"
   },
   {
    "duration": 264,
    "start_time": "2023-07-18T10:46:42.802Z"
   },
   {
    "duration": 211,
    "start_time": "2023-07-18T10:47:15.067Z"
   },
   {
    "duration": 232,
    "start_time": "2023-07-18T10:47:51.550Z"
   },
   {
    "duration": 209,
    "start_time": "2023-07-18T10:48:06.452Z"
   },
   {
    "duration": 333,
    "start_time": "2023-07-18T10:48:43.852Z"
   },
   {
    "duration": 262,
    "start_time": "2023-07-18T10:48:55.436Z"
   },
   {
    "duration": 239,
    "start_time": "2023-07-18T10:49:32.884Z"
   },
   {
    "duration": 242,
    "start_time": "2023-07-18T10:49:47.063Z"
   },
   {
    "duration": 230,
    "start_time": "2023-07-18T10:50:04.648Z"
   },
   {
    "duration": 42,
    "start_time": "2023-07-18T10:50:29.911Z"
   },
   {
    "duration": 247,
    "start_time": "2023-07-18T10:50:32.487Z"
   },
   {
    "duration": 244,
    "start_time": "2023-07-18T10:54:44.113Z"
   },
   {
    "duration": 221,
    "start_time": "2023-07-18T10:55:45.548Z"
   },
   {
    "duration": 234,
    "start_time": "2023-07-18T10:56:10.553Z"
   },
   {
    "duration": 324,
    "start_time": "2023-07-18T11:05:26.829Z"
   },
   {
    "duration": 293,
    "start_time": "2023-07-18T11:05:54.843Z"
   },
   {
    "duration": 427,
    "start_time": "2023-07-18T11:06:40.484Z"
   },
   {
    "duration": 279,
    "start_time": "2023-07-18T11:07:15.796Z"
   },
   {
    "duration": 29,
    "start_time": "2023-07-18T11:07:24.780Z"
   },
   {
    "duration": 28,
    "start_time": "2023-07-18T11:08:40.788Z"
   },
   {
    "duration": 300,
    "start_time": "2023-07-18T11:08:44.856Z"
   },
   {
    "duration": 302,
    "start_time": "2023-07-18T11:09:17.068Z"
   },
   {
    "duration": 227,
    "start_time": "2023-07-18T11:16:30.167Z"
   },
   {
    "duration": 188,
    "start_time": "2023-07-18T11:18:03.886Z"
   },
   {
    "duration": 180,
    "start_time": "2023-07-18T11:19:23.835Z"
   },
   {
    "duration": 234,
    "start_time": "2023-07-18T11:19:38.158Z"
   },
   {
    "duration": 6,
    "start_time": "2023-07-18T11:22:13.176Z"
   },
   {
    "duration": 214,
    "start_time": "2023-07-18T11:22:16.015Z"
   },
   {
    "duration": 5,
    "start_time": "2023-07-18T11:23:22.494Z"
   },
   {
    "duration": 224,
    "start_time": "2023-07-18T11:23:24.067Z"
   },
   {
    "duration": 10,
    "start_time": "2023-07-18T11:23:41.901Z"
   },
   {
    "duration": 10,
    "start_time": "2023-07-18T11:24:14.481Z"
   },
   {
    "duration": 223,
    "start_time": "2023-07-18T11:24:19.565Z"
   },
   {
    "duration": 317,
    "start_time": "2023-07-18T11:25:06.602Z"
   },
   {
    "duration": 14,
    "start_time": "2023-07-18T11:25:27.544Z"
   },
   {
    "duration": 204,
    "start_time": "2023-07-18T11:25:31.036Z"
   },
   {
    "duration": 222,
    "start_time": "2023-07-18T11:26:35.635Z"
   },
   {
    "duration": 10,
    "start_time": "2023-07-18T11:27:10.768Z"
   },
   {
    "duration": 229,
    "start_time": "2023-07-18T11:27:38.051Z"
   },
   {
    "duration": 228,
    "start_time": "2023-07-18T11:27:56.443Z"
   },
   {
    "duration": 13,
    "start_time": "2023-07-18T11:28:23.959Z"
   },
   {
    "duration": 168,
    "start_time": "2023-07-18T11:28:30.841Z"
   },
   {
    "duration": 14,
    "start_time": "2023-07-18T11:29:47.055Z"
   },
   {
    "duration": 239,
    "start_time": "2023-07-18T11:30:40.453Z"
   },
   {
    "duration": 192,
    "start_time": "2023-07-18T11:31:04.765Z"
   },
   {
    "duration": 296,
    "start_time": "2023-07-18T11:33:26.066Z"
   },
   {
    "duration": 268,
    "start_time": "2023-07-18T11:33:53.110Z"
   },
   {
    "duration": 338,
    "start_time": "2023-07-18T11:34:13.316Z"
   },
   {
    "duration": 229,
    "start_time": "2023-07-18T11:34:46.811Z"
   },
   {
    "duration": 257,
    "start_time": "2023-07-18T11:35:02.658Z"
   },
   {
    "duration": 282,
    "start_time": "2023-07-18T11:37:17.251Z"
   },
   {
    "duration": 282,
    "start_time": "2023-07-18T11:37:28.594Z"
   },
   {
    "duration": 316,
    "start_time": "2023-07-18T11:39:31.451Z"
   },
   {
    "duration": 133,
    "start_time": "2023-07-18T11:41:50.735Z"
   },
   {
    "duration": 353,
    "start_time": "2023-07-18T11:41:57.227Z"
   },
   {
    "duration": 157,
    "start_time": "2023-07-18T11:49:44.390Z"
   },
   {
    "duration": 1191,
    "start_time": "2023-07-18T11:51:18.567Z"
   },
   {
    "duration": 2677,
    "start_time": "2023-07-18T11:52:42.569Z"
   },
   {
    "duration": 1918,
    "start_time": "2023-07-18T11:54:08.759Z"
   },
   {
    "duration": 2100,
    "start_time": "2023-07-18T11:56:30.569Z"
   },
   {
    "duration": 2138,
    "start_time": "2023-07-18T11:59:05.334Z"
   },
   {
    "duration": 238,
    "start_time": "2023-07-18T12:05:00.402Z"
   },
   {
    "duration": 261,
    "start_time": "2023-07-18T12:05:16.295Z"
   },
   {
    "duration": 1352,
    "start_time": "2023-07-18T12:05:27.260Z"
   },
   {
    "duration": 497,
    "start_time": "2023-07-18T12:06:49.508Z"
   },
   {
    "duration": 823,
    "start_time": "2023-07-18T12:07:45.082Z"
   },
   {
    "duration": 766,
    "start_time": "2023-07-18T12:08:36.780Z"
   },
   {
    "duration": 655,
    "start_time": "2023-07-18T12:08:53.282Z"
   },
   {
    "duration": 727,
    "start_time": "2023-07-18T12:10:43.489Z"
   },
   {
    "duration": 467,
    "start_time": "2023-07-18T12:12:46.692Z"
   },
   {
    "duration": 810,
    "start_time": "2023-07-18T12:13:04.909Z"
   },
   {
    "duration": 470,
    "start_time": "2023-07-18T12:13:26.491Z"
   },
   {
    "duration": 585,
    "start_time": "2023-07-18T12:13:36.900Z"
   },
   {
    "duration": 785,
    "start_time": "2023-07-18T12:15:24.982Z"
   },
   {
    "duration": 406,
    "start_time": "2023-07-18T12:16:23.561Z"
   },
   {
    "duration": 533,
    "start_time": "2023-07-18T12:17:10.152Z"
   },
   {
    "duration": 613,
    "start_time": "2023-07-18T12:17:20.054Z"
   },
   {
    "duration": 3,
    "start_time": "2023-07-18T12:18:03.833Z"
   },
   {
    "duration": 710,
    "start_time": "2023-07-18T12:18:13.342Z"
   },
   {
    "duration": 659,
    "start_time": "2023-07-18T12:35:30.354Z"
   },
   {
    "duration": 243,
    "start_time": "2023-07-18T12:35:41.951Z"
   },
   {
    "duration": 25,
    "start_time": "2023-07-18T12:36:06.882Z"
   },
   {
    "duration": 246,
    "start_time": "2023-07-18T12:36:08.899Z"
   },
   {
    "duration": 790,
    "start_time": "2023-07-18T12:36:32.357Z"
   },
   {
    "duration": 658,
    "start_time": "2023-07-18T12:36:50.777Z"
   },
   {
    "duration": 1470,
    "start_time": "2023-07-18T16:13:48.070Z"
   },
   {
    "duration": 237,
    "start_time": "2023-07-18T16:13:49.543Z"
   },
   {
    "duration": 22,
    "start_time": "2023-07-18T16:13:49.782Z"
   },
   {
    "duration": 41,
    "start_time": "2023-07-18T16:13:49.806Z"
   },
   {
    "duration": 18,
    "start_time": "2023-07-18T16:13:49.849Z"
   },
   {
    "duration": 67,
    "start_time": "2023-07-18T16:13:49.868Z"
   },
   {
    "duration": 6,
    "start_time": "2023-07-18T16:13:49.937Z"
   },
   {
    "duration": 47,
    "start_time": "2023-07-18T16:13:49.944Z"
   },
   {
    "duration": 38,
    "start_time": "2023-07-18T16:13:49.993Z"
   },
   {
    "duration": 36,
    "start_time": "2023-07-18T16:13:50.034Z"
   },
   {
    "duration": 51,
    "start_time": "2023-07-18T16:13:50.072Z"
   },
   {
    "duration": 32,
    "start_time": "2023-07-18T16:13:50.125Z"
   },
   {
    "duration": 30,
    "start_time": "2023-07-18T16:13:50.159Z"
   },
   {
    "duration": 29,
    "start_time": "2023-07-18T16:13:50.191Z"
   },
   {
    "duration": 25,
    "start_time": "2023-07-18T16:13:50.222Z"
   },
   {
    "duration": 43,
    "start_time": "2023-07-18T16:13:50.249Z"
   },
   {
    "duration": 58,
    "start_time": "2023-07-18T16:13:50.293Z"
   },
   {
    "duration": 6,
    "start_time": "2023-07-18T16:13:50.353Z"
   },
   {
    "duration": 599,
    "start_time": "2023-07-18T16:13:50.361Z"
   },
   {
    "duration": 2,
    "start_time": "2023-07-18T16:13:50.963Z"
   },
   {
    "duration": 3308,
    "start_time": "2023-07-18T16:13:50.967Z"
   },
   {
    "duration": 2907,
    "start_time": "2023-07-18T16:13:54.277Z"
   },
   {
    "duration": 13,
    "start_time": "2023-07-18T16:13:57.186Z"
   },
   {
    "duration": 92,
    "start_time": "2023-07-18T16:13:57.200Z"
   },
   {
    "duration": 192,
    "start_time": "2023-07-18T16:13:57.294Z"
   },
   {
    "duration": 29,
    "start_time": "2023-07-18T16:13:57.488Z"
   },
   {
    "duration": 301,
    "start_time": "2023-07-18T16:13:57.523Z"
   },
   {
    "duration": 28,
    "start_time": "2023-07-18T16:13:57.828Z"
   },
   {
    "duration": 289,
    "start_time": "2023-07-18T16:13:57.858Z"
   },
   {
    "duration": 854,
    "start_time": "2023-07-18T16:13:58.149Z"
   },
   {
    "duration": 119,
    "start_time": "2023-07-18T16:13:59.005Z"
   },
   {
    "duration": 108,
    "start_time": "2023-07-18T16:13:59.126Z"
   },
   {
    "duration": 600,
    "start_time": "2023-07-18T16:13:59.236Z"
   },
   {
    "duration": 26,
    "start_time": "2023-07-18T16:13:59.839Z"
   },
   {
    "duration": 1653,
    "start_time": "2023-07-18T16:13:59.868Z"
   },
   {
    "duration": 36,
    "start_time": "2023-07-18T16:14:01.525Z"
   },
   {
    "duration": 88,
    "start_time": "2023-07-18T16:14:01.564Z"
   },
   {
    "duration": 553,
    "start_time": "2023-07-18T16:14:01.654Z"
   },
   {
    "duration": 553,
    "start_time": "2023-07-18T16:14:02.208Z"
   },
   {
    "duration": 28,
    "start_time": "2023-07-18T16:14:02.763Z"
   },
   {
    "duration": 357,
    "start_time": "2023-07-18T16:14:02.793Z"
   },
   {
    "duration": 5,
    "start_time": "2023-07-18T16:14:03.152Z"
   },
   {
    "duration": 73,
    "start_time": "2023-07-18T16:14:03.159Z"
   },
   {
    "duration": 365,
    "start_time": "2023-07-18T16:14:03.234Z"
   },
   {
    "duration": 81,
    "start_time": "2023-07-18T16:14:03.600Z"
   },
   {
    "duration": 4,
    "start_time": "2023-07-18T19:16:47.389Z"
   },
   {
    "duration": 425,
    "start_time": "2023-07-18T19:16:47.395Z"
   },
   {
    "duration": 26,
    "start_time": "2023-07-18T19:16:47.823Z"
   },
   {
    "duration": 31,
    "start_time": "2023-07-18T19:16:47.851Z"
   },
   {
    "duration": 29,
    "start_time": "2023-07-18T19:16:47.883Z"
   },
   {
    "duration": 59,
    "start_time": "2023-07-18T19:16:47.914Z"
   },
   {
    "duration": 7,
    "start_time": "2023-07-18T19:16:47.975Z"
   },
   {
    "duration": 74,
    "start_time": "2023-07-18T19:16:47.984Z"
   },
   {
    "duration": 17,
    "start_time": "2023-07-18T19:16:48.060Z"
   },
   {
    "duration": 39,
    "start_time": "2023-07-18T19:16:48.079Z"
   },
   {
    "duration": 51,
    "start_time": "2023-07-18T19:16:48.120Z"
   },
   {
    "duration": 36,
    "start_time": "2023-07-18T19:16:48.173Z"
   },
   {
    "duration": 29,
    "start_time": "2023-07-18T19:16:48.211Z"
   },
   {
    "duration": 14,
    "start_time": "2023-07-18T19:16:48.241Z"
   },
   {
    "duration": 53,
    "start_time": "2023-07-18T19:16:48.257Z"
   },
   {
    "duration": 39,
    "start_time": "2023-07-18T19:16:48.312Z"
   },
   {
    "duration": 79,
    "start_time": "2023-07-18T19:16:48.353Z"
   },
   {
    "duration": 6,
    "start_time": "2023-07-18T19:16:48.434Z"
   },
   {
    "duration": 505,
    "start_time": "2023-07-18T19:16:48.442Z"
   },
   {
    "duration": 3,
    "start_time": "2023-07-18T19:16:48.949Z"
   },
   {
    "duration": 3044,
    "start_time": "2023-07-18T19:16:48.953Z"
   },
   {
    "duration": 2791,
    "start_time": "2023-07-18T19:16:51.999Z"
   },
   {
    "duration": 12,
    "start_time": "2023-07-18T19:16:54.792Z"
   },
   {
    "duration": 116,
    "start_time": "2023-07-18T19:16:54.810Z"
   },
   {
    "duration": 271,
    "start_time": "2023-07-18T19:16:54.928Z"
   },
   {
    "duration": 13,
    "start_time": "2023-07-18T19:16:55.201Z"
   },
   {
    "duration": 310,
    "start_time": "2023-07-18T19:16:55.216Z"
   },
   {
    "duration": 29,
    "start_time": "2023-07-18T19:16:55.528Z"
   },
   {
    "duration": 300,
    "start_time": "2023-07-18T19:16:55.559Z"
   },
   {
    "duration": 833,
    "start_time": "2023-07-18T19:16:55.862Z"
   },
   {
    "duration": 104,
    "start_time": "2023-07-18T19:16:56.698Z"
   },
   {
    "duration": 7,
    "start_time": "2023-07-18T19:16:56.809Z"
   },
   {
    "duration": 594,
    "start_time": "2023-07-18T19:16:56.818Z"
   },
   {
    "duration": 26,
    "start_time": "2023-07-18T19:16:57.413Z"
   },
   {
    "duration": 1561,
    "start_time": "2023-07-18T19:16:57.440Z"
   },
   {
    "duration": 37,
    "start_time": "2023-07-18T19:16:59.003Z"
   },
   {
    "duration": 40,
    "start_time": "2023-07-18T19:16:59.041Z"
   },
   {
    "duration": 549,
    "start_time": "2023-07-18T19:16:59.082Z"
   },
   {
    "duration": 639,
    "start_time": "2023-07-18T19:16:59.633Z"
   },
   {
    "duration": 34,
    "start_time": "2023-07-18T19:17:00.274Z"
   },
   {
    "duration": 178,
    "start_time": "2023-07-18T19:17:00.310Z"
   },
   {
    "duration": 8,
    "start_time": "2023-07-18T19:17:00.490Z"
   },
   {
    "duration": 65,
    "start_time": "2023-07-18T19:17:00.500Z"
   },
   {
    "duration": 253,
    "start_time": "2023-07-18T19:17:00.567Z"
   },
   {
    "duration": 90,
    "start_time": "2023-07-18T19:17:00.822Z"
   },
   {
    "duration": 1117,
    "start_time": "2023-07-18T19:17:22.763Z"
   }
  ],
  "kernelspec": {
   "display_name": "Python 3 (ipykernel)",
   "language": "python",
   "name": "python3"
  },
  "language_info": {
   "codemirror_mode": {
    "name": "ipython",
    "version": 3
   },
   "file_extension": ".py",
   "mimetype": "text/x-python",
   "name": "python",
   "nbconvert_exporter": "python",
   "pygments_lexer": "ipython3",
   "version": "3.11.3"
  },
  "toc": {
   "base_numbering": 1,
   "nav_menu": {},
   "number_sections": true,
   "sideBar": true,
   "skip_h1_title": true,
   "title_cell": "Table of Contents",
   "title_sidebar": "Contents",
   "toc_cell": false,
   "toc_position": {},
   "toc_section_display": true,
   "toc_window_display": false
  }
 },
 "nbformat": 4,
 "nbformat_minor": 2
}
